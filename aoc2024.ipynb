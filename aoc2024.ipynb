{
 "cells": [
  {
   "cell_type": "markdown",
   "metadata": {},
   "source": [
    "# AOC 2024\n",
    "\n",
    "Welcome to the Advent of Code 2024!"
   ]
  },
  {
   "cell_type": "markdown",
   "metadata": {},
   "source": [
    "## Basic configuration\n",
    "\n"
   ]
  },
  {
   "cell_type": "code",
   "execution_count": null,
   "metadata": {},
   "outputs": [],
   "source": [
    "! pip install -U pip advent-of-code-data numpy pandas networkx matplotlib scipy"
   ]
  },
  {
   "cell_type": "code",
   "execution_count": null,
   "metadata": {},
   "outputs": [],
   "source": [
    "import os\n",
    "\n",
    "os.environ['AOC_SESSION'] = open('session.txt').read().strip()"
   ]
  },
  {
   "cell_type": "code",
   "execution_count": null,
   "metadata": {},
   "outputs": [],
   "source": [
    "from aocd.models import Puzzle\n",
    "from collections import Counter, defaultdict, deque\n",
    "from helpers.functions import create_grid\n",
    "from itertools import chain, product, combinations, permutations, zip_longest\n",
    "from numpy.typing import ArrayLike\n",
    "from pprint import pprint\n",
    "from queue import PriorityQueue\n",
    "from scipy import sparse\n",
    "from statistics import median\n",
    "from typing import Callable, Dict, Iterator, Mapping, Tuple\n",
    "from IPython.display import display, clear_output\n",
    "import copy\n",
    "import functools\n",
    "import math\n",
    "import operator\n",
    "import networkx as nx\n",
    "import numpy as np\n",
    "import pandas as pd\n",
    "import sys\n",
    "import re\n",
    "import time"
   ]
  },
  {
   "cell_type": "markdown",
   "metadata": {},
   "source": [
    "## Day 25\n",
    "https://adventofcode.com/2024/day/25"
   ]
  },
  {
   "cell_type": "code",
   "execution_count": null,
   "metadata": {},
   "outputs": [],
   "source": [
    "puzzle = Puzzle(year=2024, day=25)\n",
    "input_data = \"\"\"#####\n",
    ".####\n",
    ".####\n",
    ".####\n",
    ".#.#.\n",
    ".#...\n",
    ".....\n",
    "\n",
    "#####\n",
    "##.##\n",
    ".#.##\n",
    "...##\n",
    "...#.\n",
    "...#.\n",
    ".....\n",
    "\n",
    ".....\n",
    "#....\n",
    "#....\n",
    "#...#\n",
    "#.#.#\n",
    "#.###\n",
    "#####\n",
    "\n",
    ".....\n",
    ".....\n",
    "#.#..\n",
    "###..\n",
    "###.#\n",
    "###.#\n",
    "#####\n",
    "\n",
    ".....\n",
    ".....\n",
    ".....\n",
    "#....\n",
    "#.#..\n",
    "#.#.#\n",
    "#####\"\"\"\n",
    "\n",
    "DEBUG = False\n",
    "\n",
    "data = input_data if DEBUG else puzzle.input_data"
   ]
  },
  {
   "cell_type": "markdown",
   "metadata": {},
   "source": [
    "### Part 1"
   ]
  },
  {
   "cell_type": "code",
   "execution_count": null,
   "metadata": {},
   "outputs": [],
   "source": [
    "def add_lock(lines):\n",
    "    lines = lines.splitlines()\n",
    "    results = defaultdict(lambda: None)\n",
    "    \n",
    "    for nb, line in enumerate(lines[1:]):\n",
    "        for col in range(5):\n",
    "            if results[col] is None and line[col] == \".\":\n",
    "                results[col] = nb\n",
    "    return list(results.values())\n",
    "\n",
    "def add_key(lines):\n",
    "    lines = lines.splitlines()\n",
    "    lines = lines[::-1]\n",
    "    results = defaultdict(lambda: None)\n",
    "    \n",
    "    for nb, line in enumerate(lines[1:]):\n",
    "        for col in range(5):\n",
    "            if results[col] is None and line[col] == \".\":\n",
    "                results[col] = nb\n",
    "    return list(results.values())"
   ]
  },
  {
   "cell_type": "code",
   "execution_count": null,
   "metadata": {},
   "outputs": [],
   "source": [
    "locks = []\n",
    "keys = []\n",
    "\n",
    "for line in data.split(\"\\n\\n\"):\n",
    "    if line.startswith(\"#####\\n\"):\n",
    "        locks.append(add_lock(line))\n",
    "    else:\n",
    "        keys.append(add_key(line))\n"
   ]
  },
  {
   "cell_type": "code",
   "execution_count": null,
   "metadata": {},
   "outputs": [],
   "source": [
    "total = 0\n",
    "\n",
    "for lock in locks:\n",
    "    \n",
    "    for key in keys:\n",
    "        if all([x[0] + x[1] <= 5 for x in zip(lock, key)]):\n",
    "            total += 1\n",
    "        \n",
    "if DEBUG:\n",
    "    print(total)\n",
    "else:\n",
    "    puzzle.answer_a = total"
   ]
  },
  {
   "cell_type": "markdown",
   "metadata": {},
   "source": [
    "## Day 24\n",
    "https://adventofcode.com/2024/day/24"
   ]
  },
  {
   "cell_type": "code",
   "execution_count": null,
   "metadata": {},
   "outputs": [],
   "source": [
    "puzzle = Puzzle(year=2024, day=24)\n",
    "\n",
    "input_data = \"\"\"x00: 1\n",
    "x01: 1\n",
    "x02: 1\n",
    "y00: 0\n",
    "y01: 1\n",
    "y02: 0\n",
    "\n",
    "x00 AND y00 -> z00\n",
    "x01 XOR y01 -> z01\n",
    "x02 OR y02 -> z02\"\"\"\n",
    "\n",
    "input_data = \"\"\"x00: 1\n",
    "x01: 0\n",
    "x02: 1\n",
    "x03: 1\n",
    "x04: 0\n",
    "y00: 1\n",
    "y01: 1\n",
    "y02: 1\n",
    "y03: 1\n",
    "y04: 1\n",
    "\n",
    "ntg XOR fgs -> mjb\n",
    "y02 OR x01 -> tnw\n",
    "kwq OR kpj -> z05\n",
    "x00 OR x03 -> fst\n",
    "tgd XOR rvg -> z01\n",
    "vdt OR tnw -> bfw\n",
    "bfw AND frj -> z10\n",
    "ffh OR nrd -> bqk\n",
    "y00 AND y03 -> djm\n",
    "y03 OR y00 -> psh\n",
    "bqk OR frj -> z08\n",
    "tnw OR fst -> frj\n",
    "gnj AND tgd -> z11\n",
    "bfw XOR mjb -> z00\n",
    "x03 OR x00 -> vdt\n",
    "gnj AND wpb -> z02\n",
    "x04 AND y00 -> kjc\n",
    "djm OR pbm -> qhw\n",
    "nrd AND vdt -> hwm\n",
    "kjc AND fst -> rvg\n",
    "y04 OR y02 -> fgs\n",
    "y01 AND x02 -> pbm\n",
    "ntg OR kjc -> kwq\n",
    "psh XOR fgs -> tgd\n",
    "qhw XOR tgd -> z09\n",
    "pbm OR djm -> kpj\n",
    "x03 XOR y03 -> ffh\n",
    "x00 XOR y04 -> ntg\n",
    "bfw OR bqk -> z06\n",
    "nrd XOR fgs -> wpb\n",
    "frj XOR qhw -> z04\n",
    "bqk OR frj -> z07\n",
    "y03 OR x01 -> nrd\n",
    "hwm AND bqk -> z03\n",
    "tgd XOR rvg -> z12\n",
    "tnw OR pbm -> gnj\"\"\"\n",
    "\n",
    "DEBUG = False\n",
    "\n",
    "data = puzzle.input_data.replace(\" -> z07\", \" -> XXX\")\n",
    "data = data.replace(\" -> nqk\", \" -> z07\")\n",
    "data = data.replace(\" -> XXX\", \" -> nqk\")\n",
    "\n",
    "data = data.replace(\" -> fgt\", \" -> XXX\")\n",
    "data = data.replace(\" -> pcp\", \" -> fgt\")\n",
    "data = data.replace(\" -> XXX\", \" -> pcp\")\n",
    "\n",
    "data = data.replace(\" -> z24\", \" -> XXX\")\n",
    "data = data.replace(\" -> fpq\", \" -> z24\")\n",
    "data = data.replace(\" -> XXX\", \" -> fpq\")\n",
    "\n",
    "data = data.replace(\" -> z32\", \" -> XXX\")\n",
    "data = data.replace(\" -> srn\", \" -> z32\")\n",
    "data = data.replace(\" -> XXX\", \" -> srn\")\n",
    "\n",
    "# data = input_data if DEBUG else puzzle.input_data"
   ]
  },
  {
   "cell_type": "markdown",
   "metadata": {},
   "source": [
    "### Part 1"
   ]
  },
  {
   "cell_type": "code",
   "execution_count": null,
   "metadata": {},
   "outputs": [],
   "source": [
    "@functools.lru_cache\n",
    "def operation(op, lit1, lit2):\n",
    "    if op == \"AND\":\n",
    "        return lit1 & lit2\n",
    "    elif op == \"XOR\":\n",
    "        return lit1 ^ lit2\n",
    "    elif op == \"OR\":\n",
    "        return lit1 | lit2\n",
    "    else:\n",
    "        raise ValueError((op, lit1, lit2))"
   ]
  },
  {
   "cell_type": "code",
   "execution_count": null,
   "metadata": {},
   "outputs": [],
   "source": [
    "inputs, rules_str = data.split(\"\\n\\n\")\n",
    "signals = defaultdict(lambda: None)\n",
    "rules = defaultdict(None)\n",
    "\n",
    "for line in inputs.splitlines():\n",
    "    signal, value = line.split(\": \")\n",
    "    signals[signal] = int(value)\n",
    "    \n",
    "for line in rules_str.splitlines():\n",
    "    m = re.match(r\"([\\w\\d]+) (\\w+) ([\\w\\d]+) -> ([\\w\\d]+)\", line)\n",
    "    lit1, op, lit2, res = m.groups()\n",
    "    rules[res] = (op, lit1, lit2)\n",
    "\n",
    "while rules:\n",
    "    # print(\"S\", signals)\n",
    "    # print(\"R\", rules)\n",
    "    # print()\n",
    "\n",
    "    cp_rules = copy.deepcopy(rules)\n",
    "    \n",
    "    for res, rule in cp_rules.items():\n",
    "        if signals[res] is not None:\n",
    "            continue\n",
    "            \n",
    "        op, lit1, lit2 = rule\n",
    "\n",
    "        if isinstance(lit1, str) and signals[lit1] is not None:\n",
    "            rules[res] = (op, signals[lit1], lit2)\n",
    "            \n",
    "        op, lit1, lit2 = rules[res]\n",
    "\n",
    "        if isinstance(lit2, str) and signals[lit2] is not None:\n",
    "            rules[res] = (op, lit1, signals[lit2])\n",
    "            \n",
    "        if isinstance(rules[res][1], int) and isinstance(rules[res][2], int):\n",
    "            signals[res] = operation(*rules[res])\n",
    "            del rules[res]\n",
    "    \n",
    "sorted_z = sorted([x for x in signals.items() if x[0].startswith(\"z\")], key=lambda x: x[0], reverse=True)\n",
    "z_dec = int(\"\".join([str(zi[1]) for zi in sorted_z]), 2)\n",
    "\n",
    "if DEBUG:\n",
    "    print(z_dec)\n",
    "else:\n",
    "    puzzle.answer_a = z_dec"
   ]
  },
  {
   "cell_type": "markdown",
   "metadata": {},
   "source": [
    "### Part 2"
   ]
  },
  {
   "cell_type": "code",
   "execution_count": null,
   "metadata": {},
   "outputs": [],
   "source": [
    "inputs, rules_str = data.split(\"\\n\\n\")\n",
    "signals = defaultdict(lambda: None)\n",
    "rules = defaultdict(None)\n",
    "\n",
    "for line in inputs.splitlines():\n",
    "    signal, value = line.split(\": \")\n",
    "    signals[signal] = int(value)\n",
    "    \n",
    "for line in rules_str.splitlines():\n",
    "    m = re.match(r\"([\\w\\d]+) (\\w+) ([\\w\\d]+) -> ([\\w\\d]+)\", line)\n",
    "    lit1, op, lit2, res = m.groups()\n",
    "    rules[res] = (op, lit1, lit2)\n",
    "    \n",
    "    \n",
    "# Trying to match :\n",
    "#     - xor_i = xi^yi, \n",
    "#     - and_i = xi&yi,\n",
    "#     - tmp_and_i = tmp_or_i-1 & xor_i-1,\n",
    "#     - tmp_or_i = tmp_and_i | and_i-1,\n",
    "#     - z_i = tmp_or_i ^ xor_i\n",
    "\n",
    "xors = defaultdict(str)\n",
    "ands = defaultdict(str)\n",
    "\n",
    "cp_rules = copy.deepcopy(rules)\n",
    "for res, rule in cp_rules.items():\n",
    "    op, lit1, lit2 = rule\n",
    "    \n",
    "    re_m = re.match(r\"[xy](\\d\\d)[xy](\\d\\d)\", f\"{lit1}{lit2}\")\n",
    "    \n",
    "    if re_m:\n",
    "        idx = re_m.group(1)\n",
    "        \n",
    "        if op == \"XOR\":\n",
    "            xors[int(idx)] = (res, rule)\n",
    "            del rules[res]\n",
    "            \n",
    "        elif op == \"AND\":\n",
    "            ands[int(idx)] = (res, rule)\n",
    "            del rules[res]"
   ]
  },
  {
   "cell_type": "code",
   "execution_count": null,
   "metadata": {},
   "outputs": [],
   "source": [
    "# Trying to match :\n",
    "#     - xor_i = xi^yi, \n",
    "#     - and_i = xi&yi,\n",
    "#     - tmp_and_i = tmp_or_i-1 & xor_i-1,\n",
    "#     - tmp_or_i = tmp_and_i | and_i-1,\n",
    "#     - z_i = tmp_or_i ^ xor_i\n",
    "\n",
    "\n",
    "tmp_ands = defaultdict(str)\n",
    "tmp_ors = defaultdict(str)\n",
    "zs = defaultdict(str)\n",
    "\n",
    "for i in range(2, 46):\n",
    "    breaked = False\n",
    "    for res, rule in rules.items():\n",
    "        op, lit1, lit2 = rule\n",
    "        \n",
    "        if op == \"AND\":\n",
    "            if (i == 2 and {lit1, lit2} == {ands[0][0], xors[i - 1][0]}) or (i>2 and {lit1, lit2} == {tmp_ors[i - 1][0], xors[i - 1][0]}):\n",
    "                print(rule)\n",
    "                tmp_ands[i] = (res, rule)\n",
    "                breaked = True\n",
    "                break\n",
    "\n",
    "    if breaked:\n",
    "        del rules[res]\n",
    "    else:\n",
    "        print(\"did not break\")\n",
    "    breaked = False\n",
    "    \n",
    "    for res, rule in rules.items():\n",
    "        op, lit1, lit2 = rule\n",
    "        \n",
    "        if op == \"OR\" and {lit1, lit2} == {ands[i - 1][0], tmp_ands[i][0]}:\n",
    "            print(rule)\n",
    "            tmp_ors[i] = (res, rule)\n",
    "            breaked = True\n",
    "            break\n",
    "    \n",
    "    if breaked:\n",
    "        del rules[res]\n",
    "    else:\n",
    "        print(\"did not break\")\n",
    "    breaked = False\n",
    "    \n",
    "    for res, rule in rules.items():\n",
    "        op, lit1, lit2 = rule\n",
    "        \n",
    "        if op == \"XOR\" and {lit1, lit2} == {tmp_ors[i][0], xors[i][0]}:\n",
    "            print(rule)\n",
    "            zs[i] = (res, rule)\n",
    "            breaked = True\n",
    "            break\n",
    "            \n",
    "    if breaked:\n",
    "        del rules[res]\n",
    "    else:\n",
    "        print(\"did not break\")\n",
    "    breaked = False"
   ]
  },
  {
   "cell_type": "code",
   "execution_count": null,
   "metadata": {},
   "outputs": [],
   "source": [
    "puzzle.answer_b = \",\".join(sorted([\"pcp\", \"fgt\", \"nqk\", \"z07\", \"z24\", \"fpq\", \"srn\", \"z32\"]))"
   ]
  },
  {
   "cell_type": "markdown",
   "metadata": {},
   "source": [
    "## Day 23\n",
    "https://adventofcode.com/2024/day/23"
   ]
  },
  {
   "cell_type": "code",
   "execution_count": null,
   "metadata": {},
   "outputs": [],
   "source": [
    "puzzle = Puzzle(year=2024, day=23)\n",
    "input_data = \"\"\"\"\"\"\n",
    "\n",
    "DEBUG = False\n",
    "data = input_data if DEBUG else puzzle.input_data"
   ]
  },
  {
   "cell_type": "markdown",
   "metadata": {},
   "source": [
    "### Part 1"
   ]
  },
  {
   "cell_type": "code",
   "execution_count": null,
   "metadata": {},
   "outputs": [],
   "source": [
    "G = nx.Graph()\n",
    "\n",
    "for line in data.splitlines():\n",
    "    nodes = line.split(\"-\")\n",
    "    \n",
    "    for n in nodes:\n",
    "        G.add_node(n)\n",
    "    \n",
    "    G.add_edge(*nodes)"
   ]
  },
  {
   "cell_type": "code",
   "execution_count": null,
   "metadata": {},
   "outputs": [],
   "source": [
    "total = 0\n",
    "nodes_with_t = [node for node in G.nodes if node.startswith(\"t\")]\n",
    "\n",
    "for clique in nx.enumerate_all_cliques(G):\n",
    "    if len(clique) == 3 and any([c in nodes_with_t for c in clique]):\n",
    "        total += 1\n",
    "\n",
    "puzzle.answer_a = total"
   ]
  },
  {
   "cell_type": "markdown",
   "metadata": {},
   "source": [
    "### Part 2"
   ]
  },
  {
   "cell_type": "code",
   "execution_count": null,
   "metadata": {},
   "outputs": [],
   "source": [
    "puzzle.answer_b = \",\".join(sorted(clique))"
   ]
  },
  {
   "cell_type": "markdown",
   "metadata": {},
   "source": [
    "## Day 22\n",
    "https://adventofcode.com/2024/day/22"
   ]
  },
  {
   "cell_type": "code",
   "execution_count": null,
   "metadata": {},
   "outputs": [],
   "source": [
    "puzzle = Puzzle(year=2024, day=22)\n",
    "input_data = \"\"\"1\n",
    "10\n",
    "100\n",
    "2024\"\"\"\n",
    "\n",
    "input_data = \"\"\"1\n",
    "2\n",
    "3\n",
    "2024\"\"\"\n",
    "\n",
    "DEBUG = True\n",
    "data = input_data if DEBUG else puzzle.input_data"
   ]
  },
  {
   "cell_type": "markdown",
   "metadata": {},
   "source": [
    "### Part 1"
   ]
  },
  {
   "cell_type": "code",
   "execution_count": null,
   "metadata": {},
   "outputs": [],
   "source": [
    "@functools.lru_cache(maxsize=10000000)\n",
    "def step1(secret):\n",
    "    return prune(mix(secret * 64, secret))\n",
    "    \n",
    "@functools.lru_cache(maxsize=10000000)\n",
    "def step2(secret):\n",
    "    return prune(mix(secret // 32, secret))\n",
    "\n",
    "@functools.lru_cache(maxsize=10000000)\n",
    "def step3(secret):\n",
    "    return prune(mix(secret * 2048, secret))\n",
    "\n",
    "@functools.lru_cache(maxsize=10000000)\n",
    "def mix(value, secret):\n",
    "    return value ^ secret\n",
    "\n",
    "@functools.lru_cache(maxsize=10000000)\n",
    "def prune(secret):\n",
    "    return secret % 16777216"
   ]
  },
  {
   "cell_type": "code",
   "execution_count": null,
   "metadata": {},
   "outputs": [],
   "source": [
    "total = 0\n",
    "\n",
    "for secret in data.splitlines():\n",
    "    secret = int(secret)\n",
    "    for x in range(2000):\n",
    "        secret = step3(step2(step1(secret)))\n",
    "    total += secret\n",
    "    \n",
    "if DEBUG:\n",
    "    print(total)\n",
    "else:\n",
    "    puzzle.answer_a = total"
   ]
  },
  {
   "cell_type": "markdown",
   "metadata": {},
   "source": [
    "### Part 2"
   ]
  },
  {
   "cell_type": "code",
   "execution_count": null,
   "metadata": {},
   "outputs": [],
   "source": [
    "sequences = []\n",
    "top_scores = defaultdict(list)\n",
    "\n",
    "for secret in data.splitlines():\n",
    "    secret = int(secret)\n",
    "    sequence = [secret % 10]\n",
    "    \n",
    "    for x in range(2000):\n",
    "        secret = step3(step2(step1(secret)))\n",
    "        sequence.append(secret % 10)\n",
    "    \n",
    "    sequences.append([x[1] - x[0] for x in zip(sequence[:-1], sequence[1:])])\n",
    "    \n",
    "    # print(sequences[-1])\n",
    "    \n",
    "    top_score_here = {}\n",
    "    for i in range(0, 1997):\n",
    "        if tuple(sequences[-1][i:i+4]) not in top_score_here:\n",
    "            top_score_here[tuple(sequences[-1][i:i+4])] = sequence[i+4]\n",
    "        \n",
    "    for k, v in top_score_here.items():\n",
    "        top_scores[k].append(v)\n",
    "        \n",
    "    # print(top_score_here)\n",
    "    \n",
    "total = {}\n",
    "for k, v in top_scores.items():\n",
    "    total[k] = sum(v)\n",
    "    \n",
    "sorted(total.items(), key=lambda x: x[1], reverse=True)"
   ]
  },
  {
   "cell_type": "markdown",
   "metadata": {},
   "source": [
    "## Day 21\n",
    "https://adventofcode.com/2024/day/21"
   ]
  },
  {
   "cell_type": "code",
   "execution_count": null,
   "metadata": {},
   "outputs": [],
   "source": [
    "puzzle = Puzzle(year=2024, day=21)\n",
    "input_data = \"\"\"029A\n",
    "980A\n",
    "179A\n",
    "456A\n",
    "379A\"\"\"\n",
    "\n",
    "DEBUG = False\n",
    "data = input_data if DEBUG else puzzle.input_data"
   ]
  },
  {
   "cell_type": "code",
   "execution_count": null,
   "metadata": {},
   "outputs": [],
   "source": [
    "G_num = nx.grid_2d_graph(4, 3) # 789, 456, 123, x0A\n",
    "G_dir = nx.grid_2d_graph(2, 3) # x^A, <v>\n",
    "\n",
    "G_num.remove_node((3, 0))\n",
    "G_dir.remove_node((0, 0))\n",
    "\n",
    "NUM = {\n",
    "    \"7\": (0, 0),\n",
    "    \"8\": (0, 1),\n",
    "    \"9\": (0, 2),\n",
    "    \"4\": (1, 0),\n",
    "    \"5\": (1, 1),\n",
    "    \"6\": (1, 2),\n",
    "    \"1\": (2, 0),\n",
    "    \"2\": (2, 1),\n",
    "    \"3\": (2, 2),\n",
    "    \"0\": (3, 1),\n",
    "    \"A\": (3, 2),\n",
    "}\n",
    "\n",
    "DIR = {\n",
    "    \"^\": (0, 1),\n",
    "    \"A\": (0, 2),\n",
    "    \"<\": (1, 0),\n",
    "    \"v\": (1, 1),\n",
    "    \">\": (1, 2),\n",
    "}"
   ]
  },
  {
   "cell_type": "markdown",
   "metadata": {},
   "source": [
    "### Part 1"
   ]
  },
  {
   "cell_type": "code",
   "execution_count": null,
   "metadata": {},
   "outputs": [],
   "source": [
    "@functools.lru_cache(maxsize=10000)\n",
    "def find_all_paths_for_robot(graph, robot_source, robot_dest, display=\"\"):\n",
    "    # print(\"F\", robot_source, robot_dest, display)\n",
    "    for path in nx.all_shortest_paths(graph, robot_source, robot_dest):\n",
    "        # print(\"P\", path, display)\n",
    "        yield path\n",
    "    \n",
    "@functools.lru_cache(maxsize=10000)\n",
    "def movements_for_paths(paths):\n",
    "    movements = []\n",
    "    for path in paths:\n",
    "        movement = []\n",
    "        for before, after in zip(path[:-1], path[1:]):\n",
    "            dr, dc = (after[0] - before[0], after[1] - before[1])\n",
    "            \n",
    "            if (dr, dc) == (1, 0):\n",
    "                movement.append(\"v\")\n",
    "            elif (dr, dc) == (-1, 0):\n",
    "                movement.append(\"^\")\n",
    "            elif (dr, dc) == (0, 1):\n",
    "                movement.append(\">\")\n",
    "            elif (dr, dc) == (0, -1):\n",
    "                movement.append(\"<\")\n",
    "            else:\n",
    "                raise ValueError((dr, dc))\n",
    "        \n",
    "        movements.append(movement + [\"A\"])\n",
    "    return movements\n",
    "\n",
    "\n",
    "def move_robot(symb, alphabet, initial_pos, graph, display=\"\"):\n",
    "    \n",
    "    # print(\"D\", alphabet[symb], display)\n",
    "    \n",
    "    paths_robot = find_all_paths_for_robot(graph, initial_pos, alphabet[symb], display=display)\n",
    "    movements_next = movements_for_paths(paths_robot)\n",
    "    \n",
    "    \n",
    "    return movements_next\n",
    "\n",
    "@functools.lru_cache(maxsize=10000)\n",
    "def find_shortest_sequence1(value):\n",
    "    \n",
    "    robot1_pos = (3, 2)\n",
    "    robot2_pos = (0, 2)\n",
    "    robot3_pos = (0, 2)\n",
    "    \n",
    "    final_seq = []\n",
    "    r3_seq = []\n",
    "    \n",
    "    for char in value:\n",
    "        print(char)\n",
    "        \n",
    "        movements_r2 = move_robot(char, NUM, robot1_pos, G_num, \"1->2\")\n",
    "        print(\"1->2\", movements_r2)\n",
    "        \n",
    "        all_r2_seqs = []\n",
    "        for movmts_r2 in movements_r2:\n",
    "            aggregated_mvmt_r2 = []\n",
    "            best_r3_at_r2_level = []\n",
    "\n",
    "            for char2 in movmts_r2:\n",
    "                movements_r3 = move_robot(char2, DIR, robot2_pos, G_dir, \"2->3\")\n",
    "                print(\"\\t2->3\", movements_r3)\n",
    "\n",
    "                all_r3_seqs = []\n",
    "                for movmts_r3 in movements_r3:\n",
    "                    aggregated_mvmt_r3 = []\n",
    "                    \n",
    "                    for char3 in movmts_r3:\n",
    "                        movements_you = move_robot(char3, DIR, robot3_pos, G_dir, \"3->U\")\n",
    "                        print(\"\\t\\t3->U\", movements_you)\n",
    "                        aggregated_mvmt_r3 += movements_you[0]\n",
    "\n",
    "                        robot3_pos = DIR[char3]\n",
    "                    \n",
    "                    all_r3_seqs.append(aggregated_mvmt_r3)   \n",
    "                    print(\"\\t\\t\", \"-\" * 50)\n",
    "                \n",
    "                r3_idx, smallest_r3_seq = sorted(enumerate(all_r3_seqs), key=lambda x: len(x[1]))[0]\n",
    "                \n",
    "                best_r3_at_r2_level += smallest_r3_seq\n",
    "                print(\"\\t\\tX\", smallest_r3_seq)\n",
    "                \n",
    "                aggregated_mvmt_r2 += movements_r3[r3_idx]\n",
    "                       \n",
    "                robot2_pos = DIR[char2]\n",
    "                \n",
    "            all_r2_seqs.append((aggregated_mvmt_r2, best_r3_at_r2_level))\n",
    "            print(\"\\tA\", all_r2_seqs)\n",
    "            \n",
    "            print(\"\\t\", \"-\" * 50)\n",
    "        smallest_r2_seq = sorted(all_r2_seqs, key=lambda x: len(x[1]))[0]\n",
    "        print(\"*\", smallest_r2_seq[1])\n",
    "        final_seq += smallest_r2_seq[1]\n",
    "\n",
    "        robot1_pos = NUM[char]\n",
    "\n",
    "    return final_seq\n",
    "\n",
    "    \n",
    "def complexity(value):\n",
    "    sequence = find_shortest_sequence1(value)\n",
    "    print(value, len(sequence), sequence)\n",
    "    return int(value[:-1]) * len(sequence)"
   ]
  },
  {
   "cell_type": "code",
   "execution_count": null,
   "metadata": {},
   "outputs": [],
   "source": [
    "total = 0\n",
    "for line in data.splitlines():\n",
    "    total += complexity(line)\n",
    "    \n",
    "if DEBUG:\n",
    "    print(total)\n",
    "else:\n",
    "    puzzle.answer_a = total"
   ]
  },
  {
   "cell_type": "markdown",
   "metadata": {},
   "source": [
    "### Part 2"
   ]
  },
  {
   "cell_type": "code",
   "execution_count": null,
   "metadata": {},
   "outputs": [],
   "source": [
    "# OMG, this one was heavy !!!\n",
    "# Took me a long time to figure out the best path algorithm, first I tried all combinations but it does not fit\n",
    "# Quite rapidly I understood that we needed to avoid spliting the same movements (but I deleted this code out of anger... RIP)\n",
    "# Then it came naturally that caching would help recompute the same movements again and again\n",
    "# Plus I grouped symbols from an A to the next since that helped me get rid of storing the positions of the 25 robots\n",
    "# However, I sticked to BFS for a very long time and it was too big to have depth 22 in memory for a single digit\n",
    "# Later I tried removing some caching but not all and that did nothing different\n",
    "# FINALLY I moved to DFS and noticed that storing length was enough !!!\n",
    "\n",
    "\n",
    "@functools.lru_cache(maxsize=10000)\n",
    "def find_movements_for_next_robot(source_char, text, is_num):\n",
    "    \n",
    "    total_movements = []\n",
    "    \n",
    "    for char in text:\n",
    "        if is_num:\n",
    "            paths = nx.shortest_path(G_num, NUM[source_char], NUM[char])\n",
    "        else:\n",
    "            paths = nx.shortest_path(G_dir, DIR[source_char], DIR[char])\n",
    "\n",
    "        all_movements = []\n",
    "        \n",
    "        for path in paths:\n",
    "            movements = []\n",
    "\n",
    "            for before, after in zip(path[:-1], path[1:]):\n",
    "                dr, dc = (after[0] - before[0], after[1] - before[1])\n",
    "\n",
    "                if (dr, dc) == (1, 0):\n",
    "                    movements.append(\"v\")\n",
    "                elif (dr, dc) == (-1, 0):\n",
    "                    movements.append(\"^\")\n",
    "                elif (dr, dc) == (0, 1):\n",
    "                    movements.append(\">\")\n",
    "                elif (dr, dc) == (0, -1):\n",
    "                    movements.append(\"<\")\n",
    "                else:\n",
    "                    raise ValueError((dr, dc))\n",
    "                    \n",
    "            all_movements.append(movements + [\"A\"])\n",
    "        total_movements.append(all_movements)\n",
    "        source_char = char\n",
    "\n",
    "    return [list(chain(*p)) for p in product(*total_movements)]"
   ]
  },
  {
   "cell_type": "code",
   "execution_count": null,
   "metadata": {},
   "outputs": [],
   "source": [
    "@functools.lru_cache(maxsize=10000)\n",
    "def find_movements_for_next_robot(source_char, text, is_num):\n",
    "    \n",
    "    total_movements = []\n",
    "    \n",
    "    for char in text:\n",
    "        if is_num:\n",
    "            paths = nx.all_shortest_paths(G_num, NUM[source_char], NUM[char])\n",
    "        else:\n",
    "            paths = nx.all_shortest_paths(G_dir, DIR[source_char], DIR[char])\n",
    "\n",
    "        all_movements = []\n",
    "        \n",
    "        for path in paths:\n",
    "            movements = []\n",
    "\n",
    "            for before, after in zip(path[:-1], path[1:]):\n",
    "                dr, dc = (after[0] - before[0], after[1] - before[1])\n",
    "\n",
    "                if (dr, dc) == (1, 0):\n",
    "                    movements.append(\"v\")\n",
    "                elif (dr, dc) == (-1, 0):\n",
    "                    movements.append(\"^\")\n",
    "                elif (dr, dc) == (0, 1):\n",
    "                    movements.append(\">\")\n",
    "                elif (dr, dc) == (0, -1):\n",
    "                    movements.append(\"<\")\n",
    "                else:\n",
    "                    raise ValueError((dr, dc))\n",
    "                    \n",
    "            all_movements.append(movements + [\"A\"])\n",
    "        total_movements.append(all_movements)\n",
    "        source_char = char\n",
    "\n",
    "    return [list(chain(*p)) for p in product(*total_movements)]"
   ]
  },
  {
   "cell_type": "code",
   "execution_count": null,
   "metadata": {},
   "outputs": [],
   "source": [
    "def compute_next_movements(robots_pos, value, i):\n",
    "    \n",
    "    movements_next = []\n",
    "    \n",
    "    for char in value:\n",
    "        # print(char)\n",
    "        if i == 0:\n",
    "            movements_next += find_movements_for_next_robot(G_num, robots_pos[i], NUM[char])\n",
    "            robots_pos[i] = NUM[char]\n",
    "        else:\n",
    "            movements_next += find_movements_for_next_robot(G_dir, robots_pos[i], DIR[char])\n",
    "            robots_pos[i] = DIR[char]\n",
    "\n",
    "    return robots_pos, \"\".join(movements_next)"
   ]
  },
  {
   "cell_type": "code",
   "execution_count": null,
   "metadata": {},
   "outputs": [],
   "source": [
    "def complexity(value):\n",
    "\n",
    "    nb_robots = 3\n",
    "    sequence = value\n",
    "    robots_pos = [NUM[\"A\"]] + [DIR[\"A\"]] * nb_robots\n",
    "\n",
    "    for i in range(nb_robots):\n",
    "        print(sequence)\n",
    "        robots_pos, sequence = compute_next_movements(robots_pos, sequence, i)\n",
    "    \n",
    "    print(value, len(sequence), sequence)\n",
    "    return int(value[:-1]) * len(sequence)"
   ]
  },
  {
   "cell_type": "code",
   "execution_count": null,
   "metadata": {},
   "outputs": [],
   "source": [
    "def compute_complexity(length, line):\n",
    "    return int(line[:-1]) * length"
   ]
  },
  {
   "cell_type": "code",
   "execution_count": null,
   "metadata": {},
   "outputs": [],
   "source": [
    "total = 0\n",
    "for line in data.splitlines():\n",
    "    num_robot_pos = \"A\"\n",
    "    length = 0\n",
    "    \n",
    "    for c in line:\n",
    "        print(c)\n",
    "        paths = find_movements_for_next_robot(num_robot_pos, c, is_num=True)\n",
    "        num_robot_pos = c\n",
    "        \n",
    "        for i in range(25):\n",
    "            print(\"\\t\", i, len(paths))\n",
    "            # print(i, paths)\n",
    "            # print([len(p) for p in paths])\n",
    "            # print()\n",
    "            next_paths = []\n",
    "            for path in paths:\n",
    "                path_pieces = []\n",
    "                pieces = \"\".join(path).split(\"A\")\n",
    "                for piece in pieces[:-1]:\n",
    "                    # print(piece, \"A\")\n",
    "                    path_pieces.append(find_movements_for_next_robot(\"A\", f\"{piece}A\", is_num=False))\n",
    "                    # print(find_movements_for_next_robot(\"A\", f\"{piece}A\", is_num=False))\n",
    "                # print(path_pieces)\n",
    "                # print([list(chain(*p)) for p in product(*path_pieces)])\n",
    "                # print()\n",
    "                next_paths += [list(chain(*p)) for p in product(*path_pieces)]\n",
    "\n",
    "            min_length = sorted([len(p) for p in next_paths])[0]\n",
    "            paths = {\"\".join(p) for p in next_paths if len(p) == min_length}\n",
    "            paths = [list(p) for p in paths]\n",
    "            # print([len(p) for p in next_paths])\n",
    "            \n",
    "        # print(i+1, paths)\n",
    "        length += sorted([len(p) for p in paths])[0]\n",
    "\n",
    "    total += compute_complexity(length, line)\n",
    "    print()\n",
    "\n",
    "if DEBUG:\n",
    "    print(total)\n",
    "else:\n",
    "    puzzle.answer_b = total"
   ]
  },
  {
   "cell_type": "code",
   "execution_count": null,
   "metadata": {},
   "outputs": [],
   "source": [
    "# New attempt with the path algorithm but still BFS\n",
    "\n",
    "@functools.lru_cache(maxsize=50)\n",
    "def find_movements_for_next_robot(source_char, char, is_num):\n",
    "    \n",
    "    if is_num:\n",
    "        path = nx.shortest_path(G_num, NUM[source_char], NUM[char])\n",
    "    else:\n",
    "        path = nx.shortest_path(G_dir, DIR[source_char], DIR[char])\n",
    "\n",
    "    movements = []\n",
    "\n",
    "    for before, after in zip(path[:-1], path[1:]):\n",
    "        dr, dc = (after[0] - before[0], after[1] - before[1])\n",
    "\n",
    "        if (dr, dc) == (1, 0):\n",
    "            movements.append(\"v\")\n",
    "        elif (dr, dc) == (-1, 0):\n",
    "            movements.append(\"^\")\n",
    "        elif (dr, dc) == (0, 1):\n",
    "            movements.append(\">\")\n",
    "        elif (dr, dc) == (0, -1):\n",
    "            movements.append(\"<\")\n",
    "        else:\n",
    "            raise ValueError((dr, dc))\n",
    "\n",
    "    c = Counter(movements)\n",
    "    \n",
    "    # \"<\" before \"^\" before \"v\" before \">\" except missing corners !\n",
    "    if (is_num and (c[\"<\"] == 2 or (c[\"<\"] == 1 and source_char == \"0\"))) or (not is_num and (c[\"<\"] == 2 or (c[\"<\"] == 1 and source_char == \"^\"))):\n",
    "        # do < at the end because of missing corner\n",
    "            return \"^\" * c[\"^\"] + c[\"v\"] * \"v\" + \"<\" * c[\"<\"] + \"A\"\n",
    "            \n",
    "    if is_num and (c[\"v\"] == 3 or (c[\"v\"] == 2 and source_char == \"4\") or (c[\"v\"] == 1 and source_char == \"1\")):\n",
    "        # do v at the end because of missing corner\n",
    "        return \"<\" * c[\"<\"] + c[\">\"] * \">\" + c[\"v\"] * \"v\" + \"A\"\n",
    "            \n",
    "    if not is_num and c[\"^\"] == 1 and source_char == \"<\":\n",
    "        # do ^ at the end because of missing corner\n",
    "        return \"<\" * c[\"<\"] + c[\">\"] * \">\" + c[\"^\"] * \"^\" + \"A\"\n",
    "             \n",
    "    return \"<\" * c[\"<\"] + \"^\" * c[\"^\"] + c[\"v\"] * \"v\" + c[\">\"] * \">\" + \"A\""
   ]
  },
  {
   "cell_type": "code",
   "execution_count": null,
   "metadata": {},
   "outputs": [],
   "source": [
    "def get_next_word(word):\n",
    "    total_next_path = \"\"\n",
    "    dir_robot_pos = \"A\"\n",
    "    \n",
    "    for c in word:\n",
    "        total_next_path += find_movements_for_next_robot(dir_robot_pos, c, is_num=False)\n",
    "        dir_robot_pos = c\n",
    "    \n",
    "    return total_next_path"
   ]
  },
  {
   "cell_type": "code",
   "execution_count": null,
   "metadata": {},
   "outputs": [],
   "source": [
    "def get_next_path(path):\n",
    "    words = [f\"{p}A\" for p in path[:-1].split(\"A\")]\n",
    "    \n",
    "    total_next_path = \"\"\n",
    "    \n",
    "    for word in words:\n",
    "        total_next_path += get_next_word(word)\n",
    "    \n",
    "    return total_next_path"
   ]
  },
  {
   "cell_type": "code",
   "execution_count": null,
   "metadata": {},
   "outputs": [],
   "source": [
    "total = 0\n",
    "for line in data.splitlines():\n",
    "    num_robot_pos = \"A\"\n",
    "    length = 0\n",
    "    \n",
    "    for c in line:\n",
    "        print(c)\n",
    "        path = find_movements_for_next_robot(num_robot_pos, c, is_num=True)\n",
    "        num_robot_pos = c\n",
    "        \n",
    "        for i in range(25):\n",
    "            print(\"\\t\", i)\n",
    "            path = get_next_path(path)\n",
    "\n",
    "        length += len(path)\n",
    "    total += compute_complexity(length, line)\n",
    "    # print(len(path))\n",
    "\n",
    "if DEBUG:\n",
    "    print(total)\n",
    "else:\n",
    "    puzzle.answer_b = total"
   ]
  },
  {
   "cell_type": "code",
   "execution_count": null,
   "metadata": {},
   "outputs": [],
   "source": [
    "## DFS with len only !\n",
    "\n",
    "@functools.lru_cache(maxsize=5000)\n",
    "def find_movements_for_next_robot(source_char, char, is_num):\n",
    "    \n",
    "    if is_num:\n",
    "        path = nx.shortest_path(G_num, NUM[source_char], NUM[char])\n",
    "    else:\n",
    "        path = nx.shortest_path(G_dir, DIR[source_char], DIR[char])\n",
    "\n",
    "    movements = []\n",
    "\n",
    "    for before, after in zip(path[:-1], path[1:]):\n",
    "        dr, dc = (after[0] - before[0], after[1] - before[1])\n",
    "\n",
    "        if (dr, dc) == (1, 0):\n",
    "            movements.append(\"v\")\n",
    "        elif (dr, dc) == (-1, 0):\n",
    "            movements.append(\"^\")\n",
    "        elif (dr, dc) == (0, 1):\n",
    "            movements.append(\">\")\n",
    "        elif (dr, dc) == (0, -1):\n",
    "            movements.append(\"<\")\n",
    "        else:\n",
    "            raise ValueError((dr, dc))\n",
    "\n",
    "    c = Counter(movements)\n",
    "    \n",
    "    # \"<\" before \"^\" before \"v\" before \">\" except missing corners !\n",
    "    if (is_num and source_char in [\"0\", \"A\"] and char in [\"1\", \"4\", \"7\"]) or (not is_num and source_char in [\"^\", \"A\"] and char == \"<\"):\n",
    "        # do < at the end because of missing corner\n",
    "            return \"^\" * c[\"^\"] + c[\"v\"] * \"v\" + \"<\" * c[\"<\"]\n",
    "            \n",
    "    if is_num and source_char in [\"1\", \"4\", \"7\"] and char in [\"0\", \"A\"]:\n",
    "        # do v at the end because of missing corner\n",
    "        return \"<\" * c[\"<\"] + c[\">\"] * \">\" + c[\"v\"] * \"v\"\n",
    "            \n",
    "    if not is_num and source_char == \"<\" and char in [\"^\", \"A\"]:\n",
    "        # do ^ at the end because of missing corner\n",
    "        return \"<\" * c[\"<\"] + c[\">\"] * \">\" + c[\"^\"] * \"^\"\n",
    "             \n",
    "    return \"<\" * c[\"<\"] + \"^\" * c[\"^\"] + c[\"v\"] * \"v\" + c[\">\"] * \">\"\n",
    "\n",
    "\n",
    "@functools.lru_cache(maxsize=5000)\n",
    "def computation(source, target, depth):\n",
    "    \n",
    "    path = find_movements_for_next_robot(source, target, depth == 0)\n",
    "    \n",
    "    if depth == 25:\n",
    "        return len(path) + 1\n",
    "    \n",
    "    return sum([computation(s, t, depth + 1) for s, t in zip(\"A\" + path, path + \"A\")])\n",
    "\n",
    "\n",
    "def compute_complexity(length, line):\n",
    "    return int(line[:-1]) * length"
   ]
  },
  {
   "cell_type": "code",
   "execution_count": null,
   "metadata": {},
   "outputs": [],
   "source": [
    "total = 0\n",
    "for line in data.splitlines():\n",
    "    num_robot_pos = \"A\"\n",
    "    length = 0\n",
    "    \n",
    "    for c in line:\n",
    "        calc = computation(num_robot_pos, c, 0)\n",
    "        print(c, calc)\n",
    "        length += calc\n",
    "        num_robot_pos = c\n",
    "\n",
    "    complexity = compute_complexity(length, line)\n",
    "    total += complexity\n",
    "    print(complexity)\n",
    "\n",
    "if DEBUG:\n",
    "    print(total)\n",
    "else:\n",
    "    puzzle.answer_b = total"
   ]
  },
  {
   "cell_type": "markdown",
   "metadata": {},
   "source": [
    "## Day 20\n",
    "https://adventofcode.com/2024/day/20"
   ]
  },
  {
   "cell_type": "code",
   "execution_count": null,
   "metadata": {},
   "outputs": [],
   "source": [
    "puzzle = Puzzle(year=2024, day=20)\n",
    "input_data = \"\"\"###############\n",
    "#...#...#.....#\n",
    "#.#.#.#.#.###.#\n",
    "#S#...#.#.#...#\n",
    "#######.#.#.###\n",
    "#######.#.#...#\n",
    "#######.#.###.#\n",
    "###..E#...#...#\n",
    "###.#######.###\n",
    "#...###...#...#\n",
    "#.#####.#.###.#\n",
    "#.#...#.#.#...#\n",
    "#.#.#.#.#.#.###\n",
    "#...#...#...###\n",
    "###############\"\"\"\n",
    "\n",
    "DEBUG = False\n",
    "data = input_data if DEBUG else puzzle.input_data"
   ]
  },
  {
   "cell_type": "markdown",
   "metadata": {},
   "source": [
    "### Part 1"
   ]
  },
  {
   "cell_type": "code",
   "execution_count": null,
   "metadata": {},
   "outputs": [],
   "source": [
    "G = nx.Graph()\n",
    "\n",
    "init_grid = defaultdict(lambda: defaultdict(str))\n",
    "init_pos = None\n",
    "exit_pos = None\n",
    "SYMBOLES = [0, 1, 2, 3]\n",
    "\n",
    "for row_idx, line in enumerate(data.splitlines()):\n",
    "    for col_idx, val in enumerate(line):        \n",
    "        if val in [\"S\", \"E\"]:\n",
    "            \n",
    "            if val == \"S\":\n",
    "                init_pos = (row_idx, col_idx)\n",
    "            else:\n",
    "                exit_pos = (row_idx, col_idx)\n",
    "            val = \".\"\n",
    "                \n",
    "        if val == \".\":\n",
    "            init_grid[row_idx][col_idx] = \".\"\n",
    "            \n",
    "            G.add_node((row_idx, col_idx))\n",
    "            \n",
    "            for dr, dc in [(-1, 0), (0, -1)]:\n",
    "                if init_grid[row_idx + dr][col_idx + dc] == \".\":\n",
    "                    G.add_edge((row_idx, col_idx), (row_idx + dr, col_idx + dc), weight=1)"
   ]
  },
  {
   "cell_type": "code",
   "execution_count": null,
   "metadata": {},
   "outputs": [],
   "source": [
    "shortest = nx.shortest_path(G, init_pos, exit_pos, \"weight\")\n",
    "\n",
    "distance_to = {init_pos: {}, exit_pos: {}}\n",
    "N = len(shortest) - 1\n",
    "\n",
    "DELTA = 2\n",
    "LIMIT = 1 if DEBUG else 100\n",
    "\n",
    "for idx, node in enumerate(shortest):\n",
    "    distance_to[init_pos][node] = idx\n",
    "    distance_to[exit_pos][node] = N - idx\n",
    "    \n",
    "\n",
    "c = Counter()\n",
    "for node in shortest:\n",
    "    for dr in range(-DELTA, DELTA+1):\n",
    "        for dc in range(-DELTA+abs(dr), DELTA-abs(dr)+1):\n",
    "            if init_grid[node[0] + dr][node[1] + dc] == \".\":\n",
    "                gain = N - distance_to[init_pos][node] - distance_to[exit_pos][(node[0] + dr, node[1] + dc)] - abs(dr) - abs(dc)\n",
    "                # print(node, (node[0] + dr, node[1] + dc), gain)\n",
    "                if gain >= LIMIT:\n",
    "                    c[gain] += 1\n",
    "    \n",
    "if DEBUG:\n",
    "    print(sum(c.values()))\n",
    "else:\n",
    "    puzzle.answer_a = sum(c.values())"
   ]
  },
  {
   "cell_type": "code",
   "execution_count": null,
   "metadata": {},
   "outputs": [],
   "source": [
    "## Too slow !\n",
    "\n",
    "shortest = nx.shortest_path_length(G, init_pos, exit_pos, \"weight\")\n",
    "malus = 10 ** (1 + math.ceil(math.log10(shortest)))\n",
    "\n",
    "grid = copy.deepcopy(init_grid)\n",
    "\n",
    "for row_idx, line in grid.items():\n",
    "    for col_idx, val in line.items():        \n",
    "                \n",
    "        if val == \".\":\n",
    "            \n",
    "            for dr, dc in [(-1, 0), (0, -1)]:\n",
    "                if init_grid[row_idx + dr][col_idx + dc] == \"\" and init_grid[row_idx + 2 * dr][col_idx + 2 * dc] == \".\":\n",
    "                    G.add_edge((row_idx, col_idx), (row_idx + 2*dr, col_idx + 2*dc), weight=malus)\n",
    "                    \n",
    "paths_gains = Counter()\n",
    "\n",
    "for path in nx.shortest_simple_paths(G, init_pos, exit_pos, \"weight\"):\n",
    "    N = nx.path_weight(G, path, \"weight\")\n",
    "    \n",
    "    if N > malus + shortest - 99:\n",
    "        break\n",
    "    \n",
    "    if N > shortest:\n",
    "        print(N)\n",
    "        paths_gains[shortest - N + malus] += 1"
   ]
  },
  {
   "cell_type": "markdown",
   "metadata": {},
   "source": [
    "### Part 2"
   ]
  },
  {
   "cell_type": "code",
   "execution_count": null,
   "metadata": {},
   "outputs": [],
   "source": [
    "shortest = nx.shortest_path(G, init_pos, exit_pos, \"weight\")\n",
    "\n",
    "distance_to = {init_pos: {}, exit_pos: {}}\n",
    "N = len(shortest) - 1\n",
    "\n",
    "DELTA = 20\n",
    "LIMIT = 1 if DEBUG else 100\n",
    "\n",
    "for idx, node in enumerate(shortest):\n",
    "    distance_to[init_pos][node] = idx\n",
    "    distance_to[exit_pos][node] = N - idx\n",
    "    \n",
    "\n",
    "c = Counter()\n",
    "for node in shortest:\n",
    "    for dr in range(-DELTA, DELTA+1):\n",
    "        for dc in range(-DELTA+abs(dr), DELTA-abs(dr)+1):\n",
    "            if init_grid[node[0] + dr][node[1] + dc] == \".\":\n",
    "                gain = N - distance_to[init_pos][node] - distance_to[exit_pos][(node[0] + dr, node[1] + dc)] - abs(dr) - abs(dc)\n",
    "                # print(node, (node[0] + dr, node[1] + dc), gain)\n",
    "                if gain >= LIMIT:\n",
    "                    c[gain] += 1\n",
    "    \n",
    "if DEBUG:\n",
    "    print(sum(c.values()))\n",
    "else:\n",
    "    puzzle.answer_b = sum(c.values())"
   ]
  },
  {
   "cell_type": "markdown",
   "metadata": {},
   "source": [
    "## Day 19\n",
    "\n",
    "https://adventofcode.com/2024/day/19"
   ]
  },
  {
   "cell_type": "code",
   "execution_count": null,
   "metadata": {},
   "outputs": [],
   "source": [
    "puzzle = Puzzle(year=2024, day=19)\n",
    "\n",
    "input_data = \"\"\"r, wr, b, g, bwu, rb, gb, br\n",
    "\n",
    "brwrr\n",
    "bggr\n",
    "gbbr\n",
    "rrbgbr\n",
    "ubwu\n",
    "bwurrg\n",
    "brgr\n",
    "bbrgwb\"\"\"\n",
    "DEBUG = False\n",
    "data = input_data if DEBUG else puzzle.input_data"
   ]
  },
  {
   "cell_type": "code",
   "execution_count": null,
   "metadata": {},
   "outputs": [],
   "source": [
    "patterns, designs = data.split(\"\\n\\n\")\n",
    "patterns = patterns.split(\", \")\n",
    "designs = designs.splitlines()\n",
    "\n",
    "max_pattern_size = max([len(p) for p in patterns])"
   ]
  },
  {
   "cell_type": "markdown",
   "metadata": {},
   "source": [
    "### Part 1"
   ]
  },
  {
   "cell_type": "code",
   "execution_count": null,
   "metadata": {},
   "outputs": [],
   "source": [
    "valid_designs = set()\n",
    "\n",
    "for design in designs:\n",
    "    \n",
    "    possible_cuts = {design}\n",
    "    done_with_design = False\n",
    "    \n",
    "    while possible_cuts:\n",
    "        next_possible_cuts = set()\n",
    "        for cut in possible_cuts:\n",
    "            # print(cut, done_with_design)\n",
    "            if done_with_design:\n",
    "                break\n",
    "\n",
    "            for substr in range(1, max_pattern_size + 1):\n",
    "                # print(cut[:substr], end=\": \")\n",
    "                if cut[:substr] in patterns:\n",
    "                    # print(\"YES\")\n",
    "                    if cut[substr:] == \"\":\n",
    "                        valid_designs.add(design)\n",
    "                        done_with_design = True\n",
    "                    else:\n",
    "                        next_possible_cuts.add(cut[substr:])\n",
    "                # else:\n",
    "                    # print(\"NO\")\n",
    "\n",
    "        possible_cuts = copy.deepcopy(next_possible_cuts)\n",
    "        # print(possible_cuts)\n",
    "if DEBUG:\n",
    "    print(len(valid_designs))\n",
    "else:\n",
    "    puzzle.answer_a = len(valid_designs)"
   ]
  },
  {
   "cell_type": "markdown",
   "metadata": {},
   "source": [
    "### Part 2"
   ]
  },
  {
   "cell_type": "code",
   "execution_count": null,
   "metadata": {},
   "outputs": [],
   "source": [
    "@functools.lru_cache(maxsize=300000)\n",
    "def all_patterns(design):\n",
    "    \n",
    "    if design == \"\":\n",
    "        return 1\n",
    "    \n",
    "    possibles = []\n",
    "    for pattern in patterns:\n",
    "        if design.startswith(pattern):\n",
    "            N = len(pattern)\n",
    "            possibles.append(all_patterns(design[N:]))\n",
    "    \n",
    "    print(possibles)\n",
    "    return sum(possibles)"
   ]
  },
  {
   "cell_type": "code",
   "execution_count": null,
   "metadata": {},
   "outputs": [],
   "source": [
    "patterns"
   ]
  },
  {
   "cell_type": "code",
   "execution_count": null,
   "metadata": {},
   "outputs": [],
   "source": [
    "total = 0\n",
    "for design in designs:\n",
    "    total += all_patterns(design)\n",
    "    \n",
    "if DEBUG:\n",
    "    print(total)\n",
    "else:\n",
    "    puzzle.answer_b = total"
   ]
  },
  {
   "cell_type": "code",
   "execution_count": null,
   "metadata": {},
   "outputs": [],
   "source": [
    "valid_designs = set()\n",
    "\n",
    "for design in designs:\n",
    "    \n",
    "    possible_cuts = {(design, ())}  # (remaining, actual_split)\n",
    "    done_with_design = False\n",
    "    \n",
    "    while possible_cuts:\n",
    "        next_possible_cuts = set()\n",
    "        for cut in possible_cuts:\n",
    "            remaining, actual = cut\n",
    "            \n",
    "            # print(cut)\n",
    "\n",
    "            for substr in range(1, max_pattern_size + 1):\n",
    "                # print(remaining[:substr], end=\": \")\n",
    "                if remaining[:substr] in patterns:\n",
    "                    # print(\"YES\")\n",
    "                    if remaining[substr:] == \"\":\n",
    "                        valid_designs.add(tuple(list(actual) + [remaining]))\n",
    "                    else:\n",
    "                        next_possible_cuts.add((remaining[substr:], tuple(list(actual) + [remaining[:substr]])))\n",
    "                # else:\n",
    "                    # print(\"NO\")\n",
    "\n",
    "        possible_cuts = copy.deepcopy(next_possible_cuts)\n",
    "        # print(possible_cuts)\n",
    "if DEBUG:\n",
    "    print(len(valid_designs))\n",
    "else:\n",
    "    puzzle.answer_b = len(valid_designs)"
   ]
  },
  {
   "cell_type": "code",
   "execution_count": null,
   "metadata": {},
   "outputs": [],
   "source": [
    "puzzle.answer_b = len(valid_designs)"
   ]
  },
  {
   "cell_type": "markdown",
   "metadata": {},
   "source": [
    "## Day 18\n",
    "https://adventofcode.com/2024/day/18"
   ]
  },
  {
   "cell_type": "code",
   "execution_count": null,
   "metadata": {},
   "outputs": [],
   "source": [
    "puzzle = Puzzle(year=2024, day=18)\n",
    "# X: col_idx, Y: row_idx\n",
    "input_data = \"\"\"5,4  \n",
    "4,2\n",
    "4,5\n",
    "3,0\n",
    "2,1\n",
    "6,3\n",
    "2,4\n",
    "1,5\n",
    "0,6\n",
    "3,3\n",
    "2,6\n",
    "5,1\n",
    "1,2\n",
    "5,5\n",
    "2,5\n",
    "6,5\n",
    "1,4\n",
    "0,4\n",
    "6,4\n",
    "1,1\n",
    "6,1\n",
    "1,0\n",
    "0,5\n",
    "1,6\n",
    "2,0\"\"\"\n",
    "DEBUG = False\n",
    "data = input_data if DEBUG else puzzle.input_data"
   ]
  },
  {
   "cell_type": "markdown",
   "metadata": {},
   "source": [
    "### Part 1"
   ]
  },
  {
   "cell_type": "code",
   "execution_count": null,
   "metadata": {},
   "outputs": [],
   "source": [
    "exit = (70, 70)\n",
    "position = (0, 0)\n",
    "grid = defaultdict(str)\n",
    "for r,c in product(range(71), repeat=2):\n",
    "    grid[r, c] = \".\"\n",
    "    \n",
    "for line in data.splitlines()[:1024]:\n",
    "    col_idx , row_idx = [int(x) for x in line.split(\",\")]\n",
    "    grid[row_idx, col_idx] = \"#\""
   ]
  },
  {
   "cell_type": "code",
   "execution_count": null,
   "metadata": {},
   "outputs": [],
   "source": [
    "distance = defaultdict(lambda: -1)\n",
    "distance[exit] = 0\n",
    "\n",
    "queue = [(70, 70)]\n",
    "\n",
    "while queue:\n",
    "    row, col = queue.pop(0)    \n",
    "    \n",
    "    for dr, dc in [(0, 1), (1, 0), (0, -1), (-1, 0)]:\n",
    "        next_pos = (row + dr, col + dc)\n",
    "        if grid[next_pos] == \".\":\n",
    "            \n",
    "            if distance[next_pos] == -1:\n",
    "                distance[next_pos] = distance[row, col] + 1\n",
    "                queue.append(next_pos)\n",
    "                \n",
    "            elif distance[next_pos] > distance[row, col] + 1:\n",
    "                distance[next_pos] = distance[row, col] + 1\n",
    "                \n",
    "puzzle.answer_a = distance[0, 0]"
   ]
  },
  {
   "cell_type": "markdown",
   "metadata": {},
   "source": [
    "### Part 2"
   ]
  },
  {
   "cell_type": "code",
   "execution_count": null,
   "metadata": {},
   "outputs": [],
   "source": [
    "G = nx.Graph()\n",
    "size = 7 if DEBUG else 71\n",
    "\n",
    "for x, y in product(range(size), repeat=2):\n",
    "    G.add_node((x,y))\n",
    "    \n",
    "    for dx, dy in [(0, -1), (-1, 0)]:\n",
    "        if 0 <= x+dx < size and 0 <= y+dy < size:\n",
    "            G.add_edge((x, y), (x+dx, y+dy))\n",
    "            \n",
    "for line in data.splitlines():\n",
    "    x, y = [int(x) for x in line.split(\",\")]\n",
    "    \n",
    "    G.remove_node((x, y))\n",
    "    \n",
    "    if (size-1, size-1) not in nx.node_connected_component(G, (0,0)):\n",
    "        if DEBUG:\n",
    "            print(f\"{x},{y}\")\n",
    "        else:\n",
    "            puzzle.answer_b = f\"{x},{y}\"\n",
    "        break"
   ]
  },
  {
   "cell_type": "markdown",
   "metadata": {},
   "source": [
    "## Day 17\n",
    "https://adventofcode.com/2024/day/17"
   ]
  },
  {
   "cell_type": "code",
   "execution_count": null,
   "metadata": {},
   "outputs": [],
   "source": [
    "puzzle = Puzzle(year=2024, day=17)\n",
    "input_data = \"\"\"Register A: 2024\n",
    "Register B: 0\n",
    "Register C: 0\n",
    "\n",
    "Program: 0,3,5,4,3,0\"\"\"\n",
    "\n",
    "# for part B\n",
    "input_data = \"\"\"Register A: 2024\n",
    "Register B: 0\n",
    "Register C: 0\n",
    "\n",
    "Program: 3,6,7,0,5,7,3,1,4\"\"\"\n",
    "DEBUG = False\n",
    "data = input_data if DEBUG else puzzle.input_data"
   ]
  },
  {
   "cell_type": "code",
   "execution_count": null,
   "metadata": {},
   "outputs": [],
   "source": [
    "for idx, line in enumerate(data.splitlines()):\n",
    "    if idx == 0:\n",
    "        a = int(line[12:])\n",
    "    elif idx == 1:\n",
    "        b = int(line[12:])\n",
    "    elif idx == 2:\n",
    "        c = int(line[12:])\n",
    "    elif idx == 4:\n",
    "        init_program = [int(p) for p in line[9:].split(\",\")]"
   ]
  },
  {
   "cell_type": "markdown",
   "metadata": {},
   "source": [
    "### Part 1"
   ]
  },
  {
   "cell_type": "code",
   "execution_count": null,
   "metadata": {},
   "outputs": [],
   "source": [
    "def operations(index, registry):\n",
    "    opcode = init_program[index]\n",
    "    operand = init_program[index + 1]\n",
    "    \n",
    "    if opcode == 0:\n",
    "        registry[4] //= 2 ** registry[operand]\n",
    "        \n",
    "    elif opcode == 1:\n",
    "        registry[5] ^= operand\n",
    "        \n",
    "    elif opcode == 2:\n",
    "        registry[5] = registry[operand] % 8\n",
    "        \n",
    "    elif opcode == 3:\n",
    "        if registry[4]:\n",
    "            return operand, registry, \"\"\n",
    "    \n",
    "    elif opcode == 4:\n",
    "        registry[5] ^= registry[6]\n",
    "        \n",
    "    elif opcode == 5:\n",
    "        return index + 2, registry, str(registry[operand] % 8)\n",
    "        \n",
    "    elif opcode == 6:\n",
    "        registry[5] = registry[4] // (2 ** registry[operand])\n",
    "        \n",
    "    elif opcode == 7:\n",
    "        registry[6] = registry[4] // (2 ** registry[operand])\n",
    "        \n",
    "    return index + 2, registry, \"\""
   ]
  },
  {
   "cell_type": "code",
   "execution_count": null,
   "metadata": {},
   "outputs": [],
   "source": [
    "index = 0\n",
    "registry = [0, 1, 2, 3, a, b, c]\n",
    "outputs = []\n",
    "\n",
    "try:\n",
    "    while True:\n",
    "        index, registry, output = operations(index, registry)\n",
    "\n",
    "        if output:\n",
    "            outputs.append(output)\n",
    "except IndexError as e:\n",
    "    if DEBUG:\n",
    "        print(\",\".join(outputs))\n",
    "    else:\n",
    "        puzzle.answer_a = \",\".join(outputs)"
   ]
  },
  {
   "cell_type": "markdown",
   "metadata": {},
   "source": [
    "### Part 2"
   ]
  },
  {
   "cell_type": "code",
   "execution_count": null,
   "metadata": {},
   "outputs": [],
   "source": [
    "## Brute force, lol no ! (solution is in 2^48)\n",
    "a_reg = 0\n",
    "\n",
    "while True:\n",
    "    index = 0\n",
    "    registry = [0, 1, 2, 3, a_reg, b, c]\n",
    "    outputs = []\n",
    "    \n",
    "    try:\n",
    "        while True:\n",
    "            index, registry, output = operations(index, registry)\n",
    "    \n",
    "            if output:\n",
    "                if program[len(outputs)] == int(output):\n",
    "                    outputs.append(int(output))\n",
    "                else:\n",
    "                    break\n",
    "        \n",
    "    except IndexError as e:\n",
    "        if outputs == program:\n",
    "            if DEBUG:\n",
    "                print(a_reg)\n",
    "            else:\n",
    "                puzzle.answer_b = a_reg\n",
    "            break\n",
    "    finally:\n",
    "        a_reg += 1"
   ]
  },
  {
   "cell_type": "code",
   "execution_count": null,
   "metadata": {},
   "outputs": [],
   "source": [
    "def constrained_set(constraint):\n",
    "    counter = Counter(constraint)\n",
    "    nb_x = counter[\"x\"]\n",
    "    \n",
    "    for possibility in product([0, 1], repeat=nb_x):\n",
    "        total = 0\n",
    "        idx = 0\n",
    "        for c in constraint:\n",
    "            if c == \"x\":\n",
    "                total += possibility[idx]\n",
    "                idx += 1\n",
    "            else:\n",
    "                total += int(c)\n",
    "            total *= 2\n",
    "            \n",
    "        yield total // 2"
   ]
  },
  {
   "cell_type": "code",
   "execution_count": null,
   "metadata": {},
   "outputs": [],
   "source": [
    "# reversed engineer program and reverse computed the binary strings then output the smallest valid candidate\n",
    "\n",
    "program = copy.deepcopy(init_program)\n",
    "print(program)\n",
    "\n",
    "possibilities = [[\"xxx\"]]  # start by saying it can be any string of size 3\n",
    "\n",
    "while program:\n",
    "    v = program.pop(0)\n",
    "    # print(\"V=\", v, \": \", possibilities)    \n",
    "    \n",
    "    new_possibilities = []\n",
    "    for poss in possibilities:\n",
    "    \n",
    "        constraint = poss[-1]\n",
    "        this_constraint, next_constraint = constraint[:3], constraint[3:]\n",
    "        \n",
    "        # print(\"P\", poss, this_constraint, next_constraint)\n",
    "        \n",
    "        for a in constrained_set(this_constraint[::-1]):            \n",
    "            b = a ^ 1\n",
    "            output = '{0:03b}'.format(a ^ 4 ^ v)\n",
    "            a_bin = '{0:03b}'.format(a)\n",
    "            new_constraint = \"x\" * max(0, b-3) + output[::-1]\n",
    "            \n",
    "            # print(a, a ^ 4 ^ v, a_bin, new_constraint, b)\n",
    "            \n",
    "            if b < 3:\n",
    "                rev_a_bin = a_bin[::-1]\n",
    "                if rev_a_bin[b:] != new_constraint[:3-b]:\n",
    "                    # print(\"DISRESPECT\")\n",
    "                    continue\n",
    "                    \n",
    "                new_constraint = new_constraint[3-b:]\n",
    "                            \n",
    "            if new_constraint == next_constraint == \"\":\n",
    "                combined_constraint = \"xxx\"\n",
    "            else:\n",
    "                combined_constraint = \"\"\n",
    "\n",
    "                for c1, c2 in zip_longest(new_constraint, next_constraint):\n",
    "                    if c1 is None:\n",
    "                        combined_constraint += c2\n",
    "                    elif c2 is None:\n",
    "                        combined_constraint += c1\n",
    "                    elif c1 == \"x\":\n",
    "                        combined_constraint += c2\n",
    "                    elif c2 == \"x\":\n",
    "                        combined_constraint += c1\n",
    "                    elif c1 == c2:\n",
    "                        combined_constraint += c1\n",
    "                    else:\n",
    "                        combined_constraint = \"\"\n",
    "                        break\n",
    "                        \n",
    "            if combined_constraint:\n",
    "                combined_constraint += \"x\" * max(0, 3 - len(combined_constraint))\n",
    "                # print(combined_constraint)\n",
    "                new_possibilities.append(poss[:-1] + [a_bin, combined_constraint])\n",
    "            # else:\n",
    "                # print(\"COMBINED DISRESPECT\")\n",
    "\n",
    "                \n",
    "            \n",
    "    possibilities = new_possibilities"
   ]
  },
  {
   "cell_type": "code",
   "execution_count": null,
   "metadata": {},
   "outputs": [],
   "source": [
    "results = set()\n",
    "\n",
    "for poss in new_possibilities:\n",
    "    poss_str = \"\".join(poss[::-1])\n",
    "    poss_nox = poss_str.replace(\"x\", \"0\")\n",
    "    poss_striped = poss_nox.lstrip(\"0\")\n",
    "\n",
    "    if len(poss_striped) > 3 * (len(init_program) - 1):\n",
    "        results.add(int(poss_striped, 2))\n",
    "        \n",
    "puzzle.answer_b = sorted(results)[0]"
   ]
  },
  {
   "cell_type": "markdown",
   "metadata": {},
   "source": [
    "## Day 16\n",
    "https://adventofcode.com/2024/day/16"
   ]
  },
  {
   "cell_type": "code",
   "execution_count": null,
   "metadata": {},
   "outputs": [],
   "source": [
    "puzzle = Puzzle(year=2024, day=16)\n",
    "input_data = \"\"\"###############\n",
    "#.......#....E#\n",
    "#.#.###.#.###.#\n",
    "#.....#.#...#.#\n",
    "#.###.#####.#.#\n",
    "#.#.#.......#.#\n",
    "#.#.#####.###.#\n",
    "#...........#.#\n",
    "###.#.#####.#.#\n",
    "#...#.....#.#.#\n",
    "#.#.#.###.#.#.#\n",
    "#.....#...#.#.#\n",
    "#.###.#.#.#.#.#\n",
    "#S..#.....#...#\n",
    "###############\"\"\"\n",
    "\n",
    "input_data = \"\"\"#################\n",
    "#...#...#...#..E#\n",
    "#.#.#.#.#.#.#.#.#\n",
    "#.#.#.#...#...#.#\n",
    "#.#.#.#.###.#.#.#\n",
    "#...#.#.#.....#.#\n",
    "#.#.#.#.#.#####.#\n",
    "#.#...#.#.#.....#\n",
    "#.#.#####.#.###.#\n",
    "#.#.#.......#...#\n",
    "#.#.###.#####.###\n",
    "#.#.#...#.....#.#\n",
    "#.#.#.#####.###.#\n",
    "#.#.#.........#.#\n",
    "#.#.#.#########.#\n",
    "#S#.............#\n",
    "#################\"\"\"\n",
    "DEBUG = False\n",
    "data = input_data if DEBUG else puzzle.input_data"
   ]
  },
  {
   "cell_type": "markdown",
   "metadata": {},
   "source": [
    "### Part 1"
   ]
  },
  {
   "cell_type": "code",
   "execution_count": null,
   "metadata": {},
   "outputs": [],
   "source": [
    "G = nx.Graph()\n",
    "\n",
    "init_grid = defaultdict(lambda: defaultdict(str))\n",
    "init_pos = None\n",
    "exit_pos = None\n",
    "SYMBOLES = [0, 1, 2, 3]\n",
    "\n",
    "for row_idx, line in enumerate(data.splitlines()):\n",
    "    for col_idx, val in enumerate(line):        \n",
    "        if val in [\"S\", \"E\"]:\n",
    "            \n",
    "            if val == \"S\":\n",
    "                init_pos = (row_idx, col_idx)\n",
    "            else:\n",
    "                exit_pos = (row_idx, col_idx)\n",
    "            val = \".\"\n",
    "                \n",
    "        if val == \".\":\n",
    "            init_grid[row_idx, col_idx] = \".\"\n",
    "            \n",
    "            for symb in SYMBOLES:\n",
    "                G.add_node((row_idx, col_idx, symb))\n",
    "\n",
    "            for s1, s2 in combinations(SYMBOLES, r=2):\n",
    "                weight = 2000 if (s1 - s2) % 4 == 2 else 1000\n",
    "                G.add_edge((row_idx, col_idx, s1), (row_idx, col_idx, s2), weight=weight)\n",
    "            \n",
    "            \n",
    "            for symb, (dr, dc) in enumerate([(-1, 0), (0, 1), (1, 0), (0, -1)]):\n",
    "                if init_grid[row_idx + dr, col_idx + dc] == \".\":\n",
    "                    G.add_edge((row_idx, col_idx, symb), (row_idx + dr, col_idx + dc, symb), weight=1)\n",
    "                "
   ]
  },
  {
   "cell_type": "code",
   "execution_count": null,
   "metadata": {},
   "outputs": [],
   "source": [
    "distances = {\n",
    "    orient: nx.shortest_path_length(G, (init_pos[0], init_pos[1], 1), (exit_pos[0], exit_pos[1], orient), \"weight\")\n",
    "    for orient in range(4)\n",
    "}\n",
    "\n",
    "puzzle.answer_a = min(distances.values())"
   ]
  },
  {
   "cell_type": "markdown",
   "metadata": {},
   "source": [
    "### Part 2"
   ]
  },
  {
   "cell_type": "code",
   "execution_count": null,
   "metadata": {},
   "outputs": [],
   "source": [
    "best_orient = sorted(distances.items(), key=lambda i: i[1])[0][0]\n",
    "\n",
    "good_seats = set()\n",
    "\n",
    "for path in nx.all_shortest_paths(G, (init_pos[0], init_pos[1], 1), (exit_pos[0], exit_pos[1], best_orient), \"weight\"):\n",
    "    for node in path:\n",
    "        good_seats.add((node[0], node[1]))\n",
    "\n",
    "puzzle.answer_b = len(good_seats)"
   ]
  },
  {
   "cell_type": "markdown",
   "metadata": {},
   "source": [
    "## Day 15\n",
    "https://adventofcode.com/2024/day/15"
   ]
  },
  {
   "cell_type": "code",
   "execution_count": null,
   "metadata": {},
   "outputs": [],
   "source": [
    "puzzle = Puzzle(year=2024, day=15)\n",
    "input_data = \"\"\"########\n",
    "#..O.O.#\n",
    "##@.O..#\n",
    "#...O..#\n",
    "#.#.O..#\n",
    "#...O..#\n",
    "#......#\n",
    "########\n",
    "\n",
    "<^^>>>vv<v>>v<<\"\"\"\n",
    "\n",
    "input_data = \"\"\"#######\n",
    "#...#.#\n",
    "#.....#\n",
    "#..OO@#\n",
    "#..O..#\n",
    "#.....#\n",
    "#######\n",
    "\n",
    "<vv<<^^<<^^\"\"\"\n",
    "\n",
    "input_data = \"\"\"##########\n",
    "#..O..O.O#\n",
    "#......O.#\n",
    "#.OO..O.O#\n",
    "#..O@..O.#\n",
    "#O#..O...#\n",
    "#O..O..O.#\n",
    "#.OO.O.OO#\n",
    "#....O...#\n",
    "##########\n",
    "\n",
    "<vv>^<v^>v>^vv^v>v<>v^v<v<^vv<<<^><<><>>v<vvv<>^v^>^<<<><<v<<<v^vv^v>^\n",
    "vvv<<^>^v^^><<>>><>^<<><^vv^^<>vvv<>><^^v>^>vv<>v<<<<v<^v>^<^^>>>^<v<v\n",
    "><>vv>v^v^<>><>>>><^^>vv>v<^^^>>v^v^<^^>v^^>v^<^v>v<>>v^v^<v>v^^<^^vv<\n",
    "<<v<^>>^^^^>>>v^<>vvv^><v<<<>^^^vv^<vvv>^>v<^^^^v<>^>vvvv><>>v^<<^^^^^\n",
    "^><^><>>><>^^<<^^v>>><^<v>^<vv>>v>>>^v><>^v><<<<v>>v<v<v>vvv>^<><<>^><\n",
    "^>><>^v<><^vvv<^^<><v<<<<<><^v<<<><<<^^<v<^^^><^>>^<v^><<<^>>^v<v^v<v^\n",
    ">^>>^v>vv>^<<^v<>><<><<v<<v><>v<^vv<<<>^^v^>^^>>><<^v>>v^v><^^>>^<>vv^\n",
    "<><^^>^^^<><vvvvv^v<v<<>^v<v>v<<^><<><<><<<^^<<<^<<>><<><^^^>^^<>^>v<>\n",
    "^^>vv<^v^v<vv>^<><v<^v>^^^>>>^^vvv^>vvv<>>>^<^>>>>>^<<^v>^vvv<>^<><<v>\n",
    "v^^>>><<^^<>>^v^<v^vv<>v^<<>^<^v^v><^<<<><<^<v><v<>vv>>v><v^<vv<>v^<<^\"\"\"\n",
    "\n",
    "DEBUG = False\n",
    "data = input_data if DEBUG else puzzle.input_data"
   ]
  },
  {
   "cell_type": "code",
   "execution_count": null,
   "metadata": {},
   "outputs": [],
   "source": [
    "def print_grid(grid, robot):\n",
    "    grid[robot[0]][robot[1]] = \"@\"\n",
    "    for row in grid.values():\n",
    "        print(\"\".join(row.values()))\n",
    "    grid[robot[0]][robot[1]] = \".\""
   ]
  },
  {
   "cell_type": "code",
   "execution_count": null,
   "metadata": {},
   "outputs": [],
   "source": [
    "def compute(grid):\n",
    "\n",
    "    total = 0\n",
    "\n",
    "    for row_idx, row in grid.items():\n",
    "        for col_idx, val in row.items():\n",
    "            if val in [\"O\", \"[\"]:\n",
    "                total += row_idx * 100 + col_idx\n",
    "                \n",
    "    return total"
   ]
  },
  {
   "cell_type": "code",
   "execution_count": null,
   "metadata": {},
   "outputs": [],
   "source": [
    "DELTA = {\n",
    "    \"<\" : (0, -1),\n",
    "    \">\" : (0, 1),\n",
    "    \"^\" : (-1, 0),\n",
    "    \"v\" : (1, 0),\n",
    "}"
   ]
  },
  {
   "cell_type": "markdown",
   "metadata": {},
   "source": [
    "### Part 1"
   ]
  },
  {
   "cell_type": "code",
   "execution_count": null,
   "metadata": {},
   "outputs": [],
   "source": [
    "init_grid = defaultdict(lambda: defaultdict(str))\n",
    "init_robot = None\n",
    "\n",
    "grid_str, movements_str = data.split(\"\\n\\n\")\n",
    "for row_idx, line in enumerate(grid_str.splitlines()):\n",
    "    for col_idx, val in enumerate(line):        \n",
    "        if val == \"@\":\n",
    "            init_robot = (row_idx, col_idx)\n",
    "            val = \".\"\n",
    "            \n",
    "        init_grid[row_idx][col_idx] = val\n",
    "\n",
    "movements = \"\".join(list(movements_str.splitlines()))"
   ]
  },
  {
   "cell_type": "code",
   "execution_count": null,
   "metadata": {},
   "outputs": [],
   "source": [
    "def move_box(grid, box_pos, move):\n",
    "    \n",
    "    ri, ci = box_pos\n",
    "    \n",
    "    nb_boxes = 1\n",
    "    \n",
    "    while True:\n",
    "        next_pos = (ri + nb_boxes * DELTA[move][0], ci + nb_boxes * DELTA[move][1])\n",
    "        next_item = grid[next_pos[0]][next_pos[1]]\n",
    "        \n",
    "        if next_item == \".\":\n",
    "            grid[ri][ci] = \".\"\n",
    "            for bi in range(nb_boxes):\n",
    "                pos = (ri + (bi + 1) * DELTA[move][0], ci + (bi + 1) * DELTA[move][1])\n",
    "                # print(pos)\n",
    "                grid[pos[0]][pos[1]] = \"O\"\n",
    "                # print_grid(grid)\n",
    "            return True, grid  # move and grid changed\n",
    "            \n",
    "        elif next_item == \"O\":\n",
    "            nb_boxes += 1\n",
    "        \n",
    "        elif next_item == \"#\":\n",
    "            return False, grid  # did not move, no grid change\n",
    "            \n",
    "        else:\n",
    "            raise ValueError(next_item)"
   ]
  },
  {
   "cell_type": "code",
   "execution_count": null,
   "metadata": {},
   "outputs": [],
   "source": [
    "grid = copy.deepcopy(init_grid)\n",
    "robot = init_robot\n",
    "\n",
    "for move in movements:\n",
    "    # print_grid(grid, robot)\n",
    "    # print()\n",
    "    # print(\"M\", move)\n",
    "    new_robot = (robot[0] + DELTA[move][0], robot[1] + DELTA[move][1])\n",
    "    # print(new_robot)\n",
    "    \n",
    "    if grid[new_robot[0]][new_robot[1]] == \".\":\n",
    "        robot = new_robot\n",
    "        \n",
    "    elif grid[new_robot[0]][new_robot[1]] == \"#\":\n",
    "        continue\n",
    "        \n",
    "    elif grid[new_robot[0]][new_robot[1]] == \"O\":\n",
    "        moved, grid = move_box(grid, new_robot, move)\n",
    "        if moved:\n",
    "            # print(moved)\n",
    "            robot = new_robot\n",
    "        \n",
    "    else:\n",
    "        raise ValueError(new_robot, grid[new_robot[0]][new_robot[1]])"
   ]
  },
  {
   "cell_type": "code",
   "execution_count": null,
   "metadata": {},
   "outputs": [],
   "source": [
    "if DEBUG:\n",
    "    print(compute(grid))\n",
    "else:\n",
    "    puzzle.answer_a = compute(grid)"
   ]
  },
  {
   "cell_type": "markdown",
   "metadata": {},
   "source": [
    "### Part 2"
   ]
  },
  {
   "cell_type": "code",
   "execution_count": null,
   "metadata": {},
   "outputs": [],
   "source": [
    "init_grid = defaultdict(lambda: defaultdict(str))\n",
    "init_robot = None\n",
    "\n",
    "grid_str, movements_str = data.split(\"\\n\\n\")\n",
    "for row_idx, line in enumerate(grid_str.splitlines()):\n",
    "    for col_idx, val in enumerate(line):        \n",
    "        if val == \"@\":\n",
    "            init_robot = (row_idx, 2 * col_idx)\n",
    "            val = \".\"\n",
    "        \n",
    "        if val == \"O\":\n",
    "            init_grid[row_idx][2 * col_idx] = \"[\"\n",
    "            init_grid[row_idx][2 * col_idx + 1] = \"]\"\n",
    "        else:\n",
    "            init_grid[row_idx][2 * col_idx] = val\n",
    "            init_grid[row_idx][2 * col_idx + 1] = val\n",
    "\n",
    "movements = \"\".join(list(movements_str.splitlines()))"
   ]
  },
  {
   "cell_type": "code",
   "execution_count": null,
   "metadata": {},
   "outputs": [],
   "source": [
    "print_grid(init_grid, init_robot)"
   ]
  },
  {
   "cell_type": "code",
   "execution_count": null,
   "metadata": {},
   "outputs": [],
   "source": [
    "def move_box2(grid, box_pos, move):\n",
    "    \n",
    "    ri, ci = box_pos\n",
    "    init_box = grid[ri][ci]\n",
    "    \n",
    "    if move in [\"<\", \">\"]:\n",
    "        nb_boxes = 1\n",
    "\n",
    "        while True:\n",
    "            next_pos = (ri, ci + 2 * nb_boxes * DELTA[move][1])\n",
    "            next_item = grid[next_pos[0]][next_pos[1]]\n",
    "        \n",
    "            if next_item == \".\":\n",
    "                grid[ri][ci] = \".\"\n",
    "                for bi in range(nb_boxes):\n",
    "                    pos = (ri, ci + (2 * bi + 1) * DELTA[move][1])\n",
    "                    # print(pos)\n",
    "                    grid[pos[0]][pos[1]] = init_box\n",
    "                    grid[pos[0]][pos[1] + DELTA[move][1]] = \"]\" if init_box == \"[\" else \"[\"\n",
    "                    # print_grid(grid)\n",
    "\n",
    "                return True, grid  # move and grid changed\n",
    "\n",
    "            elif next_item in [\"[\", \"]\"]:\n",
    "                nb_boxes += 1\n",
    "\n",
    "            elif next_item == \"#\":\n",
    "                return False, grid  # did not move, no grid change\n",
    "            \n",
    "            else:\n",
    "                raise ValueError(next_item)\n",
    "        \n",
    "    else:\n",
    "        cols_to_check = defaultdict(set)\n",
    "        cols_to_check[ci] = {(ri, init_box)}\n",
    "        cols_to_check[ci + (1 if init_box == \"[\" else -1)] = {(ri, \"]\" if init_box == \"[\" else \"[\")}\n",
    "        \n",
    "        while True:\n",
    "            # print(cols_to_check)\n",
    "            all_solved = True\n",
    "            \n",
    "            for col_idx, col in copy.deepcopy(cols_to_check).items():\n",
    "                sorted_col = sorted(col, key=lambda x: x[0], reverse=move == \"^\")\n",
    "                \n",
    "                next_ri = sorted_col[-1][0] + DELTA[move][0]\n",
    "                next_item = grid[next_ri][col_idx]\n",
    "                # print(next_ri, next_item)\n",
    "                \n",
    "                if sorted_col[-1][1] == \".\":\n",
    "                    continue\n",
    "                    # cols_to_check[col_idx].add((next_ri, next_item))\n",
    "\n",
    "                elif sorted_col[-1][1] in [\"[\", \"]\"]:\n",
    "                    all_solved = False\n",
    "\n",
    "                    if next_item in [\".\", \"[\", \"]\"]:\n",
    "                        cols_to_check[col_idx].add((next_ri, next_item))\n",
    "                        \n",
    "                        if next_item == \"[\":\n",
    "                            cols_to_check[col_idx + 1].add((next_ri, \"]\"))\n",
    "                        elif next_item == \"]\":\n",
    "                            cols_to_check[col_idx - 1].add((next_ri, \"[\"))\n",
    "                    else:\n",
    "                        return False, grid\n",
    "\n",
    "                else:\n",
    "                    # continue\n",
    "                    raise ValueError(col)\n",
    "\n",
    "            if all_solved:\n",
    "                for col_idx, col in cols_to_check.items():\n",
    "                    sorted_col = sorted(col, key=lambda x: x[0], reverse=move == \"v\")\n",
    "                    \n",
    "                    # print(col_idx, sorted_col)\n",
    "\n",
    "                    for ri, val in sorted_col[1:]:\n",
    "                        if val != \".\":\n",
    "                            grid[ri][col_idx] = \".\"  # will most likely be remodified by next line on next ri\n",
    "                            grid[ri + (1 if move == \"v\" else -1)][col_idx] = val\n",
    "                    grid[ri][col_idx] = \".\"\n",
    "\n",
    "                return True, grid            "
   ]
  },
  {
   "cell_type": "code",
   "execution_count": null,
   "metadata": {},
   "outputs": [],
   "source": [
    "grid = copy.deepcopy(init_grid)\n",
    "robot = init_robot\n",
    "\n",
    "for mi, move in enumerate(movements):\n",
    "    \n",
    "    # print_grid(grid, robot)\n",
    "    # print()\n",
    "    # print(\"M\", mi, move)\n",
    "    new_robot = (robot[0] + DELTA[move][0], robot[1] + DELTA[move][1])\n",
    "    # print(new_robot)\n",
    "    \n",
    "    \n",
    "    # At some point it was not working because I was modifying the number of boxes, breaking helped me fix it several times\n",
    "    tot = 0\n",
    "    for row in grid.values():\n",
    "        tot += sum([int(r == \"[\") for r in row.values()])    \n",
    "    if tot != 624:\n",
    "        print(tot)\n",
    "        break\n",
    "    \n",
    "    if grid[new_robot[0]][new_robot[1]] == \".\":\n",
    "        robot = new_robot\n",
    "        \n",
    "    elif grid[new_robot[0]][new_robot[1]] == \"#\":\n",
    "        continue\n",
    "        \n",
    "    elif grid[new_robot[0]][new_robot[1]] in [\"[\", \"]\"]:\n",
    "        moved, grid = move_box2(grid, new_robot, move)\n",
    "        if moved:\n",
    "            robot = new_robot\n",
    "        \n",
    "    else:\n",
    "        raise ValueError(new_robot, grid[new_robot[0]][new_robot[1]])"
   ]
  },
  {
   "cell_type": "code",
   "execution_count": null,
   "metadata": {},
   "outputs": [],
   "source": [
    "print_grid(grid, robot)"
   ]
  },
  {
   "cell_type": "code",
   "execution_count": null,
   "metadata": {},
   "outputs": [],
   "source": [
    "if DEBUG:\n",
    "    print(compute(grid))\n",
    "else:\n",
    "    puzzle.answer_b = compute(grid)"
   ]
  },
  {
   "cell_type": "markdown",
   "metadata": {},
   "source": [
    "## Day 14\n",
    "https://adventofcode.com/2024/day/14"
   ]
  },
  {
   "cell_type": "code",
   "execution_count": null,
   "metadata": {},
   "outputs": [],
   "source": [
    "puzzle = Puzzle(year=2024, day=14)\n",
    "input_data = \"\"\"p=0,4 v=3,-3\n",
    "p=6,3 v=-1,-3\n",
    "p=10,3 v=-1,2\n",
    "p=2,0 v=2,-1\n",
    "p=0,0 v=1,3\n",
    "p=3,0 v=-2,-2\n",
    "p=7,6 v=-1,-3\n",
    "p=3,0 v=-1,-2\n",
    "p=9,3 v=2,3\n",
    "p=7,3 v=-1,2\n",
    "p=2,4 v=2,-3\n",
    "p=9,5 v=-3,-3\"\"\"\n",
    "DEBUG = False\n",
    "data = input_data if DEBUG else puzzle.input_data\n",
    "size = (11, 7) if DEBUG else (101, 103)  # size is X x Y, display is Y x X"
   ]
  },
  {
   "cell_type": "markdown",
   "metadata": {},
   "source": [
    "\n",
    "### Part 1"
   ]
  },
  {
   "cell_type": "code",
   "execution_count": null,
   "metadata": {},
   "outputs": [],
   "source": [
    "positions_after_100 = defaultdict(lambda: defaultdict(int))\n",
    "quadrants = defaultdict(lambda: defaultdict(int))\n",
    "runs = 100\n",
    "\n",
    "for robot in data.splitlines():\n",
    "    match = re.match(r\"p=(\\d+),(\\d+) v=(-*\\d+),(-*\\d+)\", robot)\n",
    "    x, y, vx, vy = [int(x) for x in match.groups()]\n",
    "    # print(x, y, end=\" -> \")\n",
    "    \n",
    "    x_100 = (x + runs * vx) % size[0]\n",
    "    y_100 = (y + runs * vy) % size[1]\n",
    "    \n",
    "    positions_after_100[x_100][y_100] += 1\n",
    "    \n",
    "    # print(x_100, y_100, end=\" ¬ \")\n",
    "    if x_100 == ((size[0] - 1) // 2) or y_100 == ((size[1] - 1) // 2):\n",
    "        # print()\n",
    "        continue\n",
    "\n",
    "    x_quad = int(x_100 > ((size[0] - 1) / 2))\n",
    "    y_quad = int(y_100 > ((size[1] - 1) / 2))\n",
    "    # print(x_quad, y_quad)\n",
    "    quadrants[x_quad][y_quad] += 1\n",
    "    \n",
    "print(([list(v.values()) for v in quadrants.values()]))\n",
    "puzzle.answer_a = 132*119*121*119"
   ]
  },
  {
   "cell_type": "markdown",
   "metadata": {},
   "source": [
    "### Part 2"
   ]
  },
  {
   "cell_type": "code",
   "execution_count": null,
   "metadata": {},
   "outputs": [],
   "source": [
    "grid = defaultdict(lambda: defaultdict(list))  # grid indexing is Y x X\n",
    "\n",
    "for robot in data.splitlines():\n",
    "    match = re.match(r\"p=(\\d+),(\\d+) v=(-*\\d+),(-*\\d+)\", robot)\n",
    "    x, y, vx, vy = [int(x) for x in match.groups()]\n",
    "    grid[y][x].append((vy, vx))"
   ]
  },
  {
   "cell_type": "code",
   "execution_count": null,
   "metadata": {},
   "outputs": [],
   "source": [
    "def run(grid):\n",
    "    new_grid = defaultdict(lambda: defaultdict(list))\n",
    "    \n",
    "    for row_idx, row in grid.items():\n",
    "        for col_idx, elems in row.items():\n",
    "            for elem in elems:\n",
    "                vy, vx = elem\n",
    "                new_grid[(row_idx + vy) % size[1]][(col_idx + vx) % size[0]].append(elem)\n",
    "            \n",
    "    return new_grid"
   ]
  },
  {
   "cell_type": "code",
   "execution_count": null,
   "metadata": {},
   "outputs": [],
   "source": [
    "def display_tree(grid):\n",
    "    for row_idx in range(size[1]):\n",
    "        for col_idx in range(size[0]):\n",
    "            print(len(grid[row_idx][col_idx]) or \" \", end=\"\")\n",
    "        print()"
   ]
  },
  {
   "cell_type": "code",
   "execution_count": null,
   "metadata": {},
   "outputs": [],
   "source": [
    "def count_consecutives(grid):\n",
    "    count = 0\n",
    "    \n",
    "    for row_idx, row in copy.deepcopy(grid).items():\n",
    "        for col_idx, elems in row.items():\n",
    "            if grid[row_idx + 1][col_idx] or grid[row_idx][col_idx + 1]:\n",
    "                count += 1\n",
    "                \n",
    "    return count            "
   ]
  },
  {
   "cell_type": "code",
   "execution_count": null,
   "metadata": {},
   "outputs": [],
   "source": [
    "runs = defaultdict(list)\n",
    "nb_run = 0\n",
    "\n",
    "while True:\n",
    "    if nb_run % 100 == 0:\n",
    "        clear_output(wait=True)\n",
    "        display(nb_run)\n",
    "    \n",
    "    runs[count_consecutives(grid)].append(nb_run)\n",
    "    grid = run(grid)\n",
    "    nb_run += 1\n",
    "    \n",
    "    \n",
    "    if nb_run == 10001:\n",
    "        break"
   ]
  },
  {
   "cell_type": "code",
   "execution_count": null,
   "metadata": {},
   "outputs": [],
   "source": [
    "sorted(runs.keys(), reverse=True)[:10]"
   ]
  },
  {
   "cell_type": "code",
   "execution_count": null,
   "metadata": {},
   "outputs": [],
   "source": [
    "runs[352]"
   ]
  },
  {
   "cell_type": "code",
   "execution_count": null,
   "metadata": {},
   "outputs": [],
   "source": [
    "grid7502 = defaultdict(lambda: defaultdict(list))  # grid indexing is Y x X\n",
    "\n",
    "for robot in data.splitlines():\n",
    "    match = re.match(r\"p=(\\d+),(\\d+) v=(-*\\d+),(-*\\d+)\", robot)\n",
    "    x, y, vx, vy = [int(x) for x in match.groups()]\n",
    "    grid7502[(y + 7502 * vy) % size[1]][(x + 7502 * vx) % size[0]].append((vy, vx))"
   ]
  },
  {
   "cell_type": "code",
   "execution_count": null,
   "metadata": {},
   "outputs": [],
   "source": [
    "display_tree(grid7502)"
   ]
  },
  {
   "cell_type": "markdown",
   "metadata": {},
   "source": [
    "## Day 13\n",
    "\n",
    "_TBD_\n",
    "\n",
    "https://adventofcode.com/2024/day/13"
   ]
  },
  {
   "cell_type": "code",
   "execution_count": null,
   "metadata": {},
   "outputs": [],
   "source": [
    "puzzle = Puzzle(year=2024, day=13)\n",
    "DEBUG = False\n",
    "input_data = \"\"\"Button A: X+94, Y+34\n",
    "Button B: X+22, Y+67\n",
    "Prize: X=8400, Y=5400\n",
    "\n",
    "Button A: X+26, Y+66\n",
    "Button B: X+67, Y+21\n",
    "Prize: X=12748, Y=12176\n",
    "\n",
    "Button A: X+17, Y+86\n",
    "Button B: X+84, Y+37\n",
    "Prize: X=7870, Y=6450\n",
    "\n",
    "Button A: X+69, Y+23\n",
    "Button B: X+27, Y+71\n",
    "Prize: X=18641, Y=10279\"\"\"\n",
    "data = input_data if DEBUG else puzzle.input_data"
   ]
  },
  {
   "cell_type": "markdown",
   "metadata": {},
   "source": [
    "### Part 1"
   ]
  },
  {
   "cell_type": "code",
   "execution_count": null,
   "metadata": {},
   "outputs": [],
   "source": [
    "cost_a = 3\n",
    "cost_b = 1\n",
    "tokens = 0\n",
    "\n",
    "for game in data.split(\"\\n\\n\"):\n",
    "    btn_a, btn_b, prize = game.splitlines()\n",
    "    btn_a_re = re.match(r\"Button \\w: X\\+(\\d+), Y\\+(\\d+)\", btn_a)\n",
    "    btn_b_re = re.match(r\"Button \\w: X\\+(\\d+), Y\\+(\\d+)\", btn_b)\n",
    "    prize_re = re.match(r\"Prize: X=(\\d+), Y=(\\d+)\", prize)\n",
    "    x_a, y_a = [int(elem) for elem in btn_a_re.groups()]\n",
    "    x_b, y_b = [int(elem) for elem in btn_b_re.groups()]\n",
    "    x_prize, y_prize = [int(elem) for elem in prize_re.groups()]\n",
    "    \n",
    "    matrice = [[x_a, x_b, x_prize], [y_a, y_b, y_prize]]\n",
    "    # print(matrice)\n",
    "    \n",
    "    div_b = x_b / y_b\n",
    "    matrice[0] = [x_a - div_b * y_a, x_b - div_b * y_b, x_prize - div_b * y_prize]\n",
    "    \n",
    "    # print(matrice)\n",
    "    \n",
    "    matrice[0] = [1, 0, matrice[0][2] / matrice[0][0]]\n",
    "    matrice[1] = [0, matrice[1][1], matrice[1][2] - matrice[1][0] * matrice[0][2]]\n",
    "    matrice[1] = [0, 1, matrice[1][2] / matrice[1][1]]\n",
    "    \n",
    "    if matrice[1] == [0,0,0]:\n",
    "        print(\"X\", matrice)\n",
    "        \n",
    "    # print(matrice)\n",
    "        \n",
    "    if round(matrice[0][2]) * x_a + round(matrice[1][2]) * x_b == x_prize and round(matrice[0][2]) * y_a + round(matrice[1][2]) * y_b == y_prize:\n",
    "        # print(cost_a * round(matrice[0][2]) + cost_b * round(matrice[1][2]))\n",
    "        tokens += cost_a * round(matrice[0][2]) + cost_b * round(matrice[1][2])\n",
    "\n",
    "if DEBUG:\n",
    "    print(tokens)\n",
    "else:\n",
    "    puzzle.answer_a = tokens"
   ]
  },
  {
   "cell_type": "markdown",
   "metadata": {},
   "source": [
    "### Part 2"
   ]
  },
  {
   "cell_type": "code",
   "execution_count": null,
   "metadata": {},
   "outputs": [],
   "source": [
    "delta = 10000000000000\n",
    "\n",
    "cost_a = 3\n",
    "cost_b = 1\n",
    "tokens = 0\n",
    "\n",
    "for game in data.split(\"\\n\\n\"):\n",
    "    btn_a, btn_b, prize = game.splitlines()\n",
    "    btn_a_re = re.match(r\"Button \\w: X\\+(\\d+), Y\\+(\\d+)\", btn_a)\n",
    "    btn_b_re = re.match(r\"Button \\w: X\\+(\\d+), Y\\+(\\d+)\", btn_b)\n",
    "    prize_re = re.match(r\"Prize: X=(\\d+), Y=(\\d+)\", prize)\n",
    "    x_a, y_a = [int(elem) for elem in btn_a_re.groups()]\n",
    "    x_b, y_b = [int(elem) for elem in btn_b_re.groups()]\n",
    "    x_prize, y_prize = [delta + int(elem) for elem in prize_re.groups()]\n",
    "    \n",
    "    matrice = [[x_a, x_b, x_prize], [y_a, y_b, y_prize]]\n",
    "    # print(matrice)\n",
    "    \n",
    "    div_b = x_b / y_b\n",
    "    matrice[0] = [x_a - div_b * y_a, x_b - div_b * y_b, x_prize - div_b * y_prize]\n",
    "    \n",
    "    # print(matrice)\n",
    "    \n",
    "    matrice[0] = [1, 0, matrice[0][2] / matrice[0][0]]\n",
    "    matrice[1] = [0, matrice[1][1], matrice[1][2] - matrice[1][0] * matrice[0][2]]\n",
    "    matrice[1] = [0, 1, matrice[1][2] / matrice[1][1]]\n",
    "    \n",
    "    if matrice[1] == [0,0,0]:\n",
    "        print(\"X\", matrice)\n",
    "        \n",
    "    # print(matrice)\n",
    "        \n",
    "    if round(matrice[0][2]) * x_a + round(matrice[1][2]) * x_b == x_prize and round(matrice[0][2]) * y_a + round(matrice[1][2]) * y_b == y_prize:\n",
    "        # print(cost_a * round(matrice[0][2]) + cost_b * round(matrice[1][2]))\n",
    "        tokens += cost_a * round(matrice[0][2]) + cost_b * round(matrice[1][2])\n",
    "\n",
    "if DEBUG:\n",
    "    print(tokens)\n",
    "else:\n",
    "    puzzle.answer_b = tokens"
   ]
  },
  {
   "cell_type": "markdown",
   "metadata": {},
   "source": [
    "## Day 12\n",
    "\n",
    "_TBD_\n",
    "\n",
    "https://adventofcode.com/2024/day/12"
   ]
  },
  {
   "cell_type": "code",
   "execution_count": null,
   "metadata": {},
   "outputs": [],
   "source": [
    "puzzle = Puzzle(year=2024, day=12)\n",
    "DEBUG = False\n",
    "input_data = \"\"\"EEEEE\n",
    "EXXXX\n",
    "EEEEE\n",
    "EXXXX\n",
    "EEEEE\"\"\""
   ]
  },
  {
   "cell_type": "code",
   "execution_count": null,
   "metadata": {},
   "outputs": [],
   "source": [
    "grid = create_grid(input_data if DEBUG else puzzle.input_data)\n",
    "grid_cp = copy.deepcopy(grid)\n",
    "\n",
    "areas = defaultdict(list)\n",
    "\n",
    "for row_idx, row in grid.items():\n",
    "    for col_idx, val in row.items():\n",
    "        to_print = False\n",
    "        \n",
    "        if to_print:\n",
    "            print(\"X\", row_idx, col_idx, val)\n",
    "        \n",
    "        areas_idx = set()\n",
    "        \n",
    "        for i, area in enumerate(areas[val]):\n",
    "            if to_print:\n",
    "                print(\"A\", i, area)\n",
    "                \n",
    "            if (row_idx - 1, col_idx) in area:\n",
    "                areas_idx.add(i)\n",
    "            \n",
    "            if (row_idx, col_idx -1) in area:\n",
    "                areas_idx.add(i)\n",
    "                \n",
    "        areas_idx = list(areas_idx)\n",
    "        \n",
    "        if to_print:\n",
    "            print(\"M\", areas_idx)\n",
    "        \n",
    "        if len(areas_idx) == 0:\n",
    "            areas[val].append([(row_idx, col_idx)])\n",
    "        elif len(areas_idx) == 1:\n",
    "            areas[val][areas_idx[0]].append((row_idx, col_idx))\n",
    "        elif len(areas_idx) == 2:\n",
    "            areas_idx.sort()\n",
    "            list1 = areas[val][areas_idx[0]]\n",
    "            list2 = areas[val][areas_idx[1]]\n",
    "            areas[val].append(list1 + list2 + [(row_idx, col_idx)])\n",
    "            del areas[val][areas_idx[0]]\n",
    "            del areas[val][areas_idx[1] - 1]\n",
    "            \n",
    "        if to_print:\n",
    "            print(\"N\", areas[val])"
   ]
  },
  {
   "cell_type": "markdown",
   "metadata": {},
   "source": [
    "### Part 1"
   ]
  },
  {
   "cell_type": "code",
   "execution_count": null,
   "metadata": {},
   "outputs": [],
   "source": [
    "perims = defaultdict(lambda: defaultdict(int))\n",
    "\n",
    "for row_idx, row in grid_cp.items():\n",
    "    for col_idx, val in row.items():\n",
    "        \n",
    "        areas_idx = -1\n",
    "        for i, area in enumerate(areas[val]):\n",
    "            if (row_idx, col_idx) in area:\n",
    "                areas_idx = i\n",
    "                break\n",
    "                \n",
    "        for dr in range(-1, 2):\n",
    "            for dc in range(-1, 2):\n",
    "                if dr != dc and dr * dc == 0:\n",
    "                    \n",
    "                    # each neighbor of another kind requires a fence\n",
    "                    if grid[row_idx + dr][col_idx + dc] != val:\n",
    "                        perims[val][areas_idx] += 1"
   ]
  },
  {
   "cell_type": "code",
   "execution_count": null,
   "metadata": {},
   "outputs": [],
   "source": [
    "total = 0\n",
    "for val, v_areas in areas.items():\n",
    "    for i, area in enumerate(v_areas):\n",
    "        # print(val, len(area), \"*\", perims[val][i])\n",
    "        total += len(area) * perims[val][i]\n",
    "        \n",
    "if DEBUG:\n",
    "    print(total)\n",
    "else:\n",
    "    puzzle.answer_a = total"
   ]
  },
  {
   "cell_type": "markdown",
   "metadata": {},
   "source": [
    "### Part 2"
   ]
  },
  {
   "cell_type": "code",
   "execution_count": null,
   "metadata": {},
   "outputs": [],
   "source": [
    "perims_set = defaultdict(lambda: defaultdict(list))\n",
    "KIND = {\n",
    "    (-1, 0): \"D\",\n",
    "    (1, 0): \"U\",\n",
    "    (0, -1): \"R\",\n",
    "    (0, 1): \"L\",\n",
    "}\n",
    "\n",
    "for row_idx, row in grid_cp.items():\n",
    "    for col_idx, val in row.items():\n",
    "        \n",
    "        areas_idx = -1\n",
    "        for i, area in enumerate(areas[val]):\n",
    "            if (row_idx, col_idx) in area:\n",
    "                areas_idx = i\n",
    "                break\n",
    "                \n",
    "        for dr in range(-1, 2):\n",
    "            for dc in range(-1, 2):\n",
    "                if dr != dc and dr * dc == 0:\n",
    "                    \n",
    "                    # each neighbor of another kind requires a fence\n",
    "                    if grid[row_idx + dr][col_idx + dc] != val:\n",
    "                        perims_set[val][areas_idx].append((row_idx + dr, col_idx + dc, KIND[(dr, dc)]))"
   ]
  },
  {
   "cell_type": "code",
   "execution_count": null,
   "metadata": {},
   "outputs": [],
   "source": [
    "total = 0\n",
    "for val, v_areas in areas.items():\n",
    "    for i, area in enumerate(v_areas):        \n",
    "        \n",
    "        cells = perims_set[val][i]\n",
    "        split_cells = []\n",
    "        \n",
    "        for cell in cells:\n",
    "            row_idx, col_idx, kind = cell\n",
    "            \n",
    "            for i, spc in enumerate(split_cells):\n",
    "                if (row_idx - 1, col_idx, kind) in spc or (row_idx, col_idx -1, kind) in spc:\n",
    "                    split_cells[i].append(cell)\n",
    "                    break\n",
    "            else:\n",
    "                split_cells.append([cell])\n",
    "        \n",
    "        if DEBUG:\n",
    "            print(val, len(area), \"*\", len(split_cells))\n",
    "            print(sorted(perims_set[val][i]))\n",
    "            print()\n",
    "            for sc in split_cells:\n",
    "                print(sc)\n",
    "            print()\n",
    "        \n",
    "        total += len(area) * len(split_cells)\n",
    "        \n",
    "if DEBUG:\n",
    "    print(total)\n",
    "else:\n",
    "    puzzle.answer_b = total"
   ]
  },
  {
   "cell_type": "code",
   "execution_count": null,
   "metadata": {},
   "outputs": [],
   "source": [
    "for row in grid.values():\n",
    "    print(\"\".join(row.values()))"
   ]
  },
  {
   "cell_type": "markdown",
   "metadata": {},
   "source": [
    "## Day 11\n",
    "\n",
    "_TBD_\n",
    "\n",
    "https://adventofcode.com/2024/day/11"
   ]
  },
  {
   "cell_type": "code",
   "execution_count": null,
   "metadata": {},
   "outputs": [],
   "source": [
    "puzzle = Puzzle(year=2024, day=11)\n",
    "input_data = \"\"\"125 17\"\"\"\n",
    "DEBUG = False\n",
    "data = input_data if DEBUG else puzzle.input_data"
   ]
  },
  {
   "cell_type": "markdown",
   "metadata": {},
   "source": [
    "### Part 1"
   ]
  },
  {
   "cell_type": "code",
   "execution_count": null,
   "metadata": {},
   "outputs": [],
   "source": [
    "def blink_at_stone(stone):\n",
    "    \n",
    "    if stone == 0:\n",
    "        return [1]\n",
    "    \n",
    "    stone_str = str(stone)\n",
    "    n = len(stone_str)\n",
    "    \n",
    "    if n % 2 == 0:\n",
    "        return [int(stone_str[:n//2]), int(stone_str[n//2:])]\n",
    "    else:\n",
    "        return [stone * 2024]"
   ]
  },
  {
   "cell_type": "code",
   "execution_count": null,
   "metadata": {},
   "outputs": [],
   "source": [
    "# Brute force\n",
    "stones = [int(d) for d in data.split(\" \")]\n",
    "\n",
    "for i in range(25):\n",
    "    new_stones = []\n",
    "    while stones:\n",
    "        stone = stones.pop(0)\n",
    "        new_stones += blink_at_stone(stone)\n",
    "        \n",
    "    stones = new_stones"
   ]
  },
  {
   "cell_type": "code",
   "execution_count": null,
   "metadata": {},
   "outputs": [],
   "source": [
    "# Smarter algo\n",
    "\n",
    "stones = Counter([int(d) for d in data.split(\" \")])\n",
    "blinking_book = defaultdict(list)\n",
    "\n",
    "for i in range(25):\n",
    "    new_stones = Counter()\n",
    "    \n",
    "    for stone, count in stones.items():\n",
    "        if stone not in blinking_book:\n",
    "            blinking_book[stone] = blink_at_stone(stone)\n",
    "            \n",
    "        for new_val in blinking_book[stone]:\n",
    "            new_stones[new_val] += count\n",
    "        \n",
    "    stones = new_stones\n",
    "    \n",
    "puzzle.answer_a = sum(new_stones.values())"
   ]
  },
  {
   "cell_type": "markdown",
   "metadata": {},
   "source": [
    "### Part 2"
   ]
  },
  {
   "cell_type": "code",
   "execution_count": null,
   "metadata": {},
   "outputs": [],
   "source": [
    "for i in range(50):\n",
    "    new_stones = Counter()\n",
    "    \n",
    "    for stone, count in stones.items():\n",
    "        if stone not in blinking_book:\n",
    "            blinking_book[stone] = blink_at_stone(stone)\n",
    "            \n",
    "        for new_val in blinking_book[stone]:\n",
    "            new_stones[new_val] += count\n",
    "        \n",
    "    stones = new_stones\n",
    "    \n",
    "puzzle.answer_b = sum(new_stones.values())"
   ]
  },
  {
   "cell_type": "markdown",
   "metadata": {},
   "source": [
    "## Day 10\n",
    "\n",
    "_TBD_\n",
    "\n",
    "https://adventofcode.com/2024/day/10"
   ]
  },
  {
   "cell_type": "code",
   "execution_count": null,
   "metadata": {},
   "outputs": [],
   "source": [
    "puzzle = Puzzle(year=2024, day=10)\n",
    "DEBUG = False\n",
    "input_data = \"\"\"89010123\n",
    "78121874\n",
    "87430965\n",
    "96549874\n",
    "45678903\n",
    "32019012\n",
    "01329801\n",
    "10456732\"\"\"\n",
    "\n",
    "data = input_data if DEBUG else puzzle.input_data"
   ]
  },
  {
   "cell_type": "markdown",
   "metadata": {},
   "source": [
    "### Part 1"
   ]
  },
  {
   "cell_type": "code",
   "execution_count": null,
   "metadata": {},
   "outputs": [],
   "source": [
    "grid = defaultdict(lambda: defaultdict(int))\n",
    "queue = []\n",
    "\n",
    "for row_idx, line in enumerate(data.splitlines()):\n",
    "    for col_idx, val in enumerate(line):\n",
    "        grid[row_idx][col_idx] = int(val)\n",
    "        if val == \"0\":\n",
    "            queue.append([0, (row_idx, col_idx)])"
   ]
  },
  {
   "cell_type": "code",
   "execution_count": null,
   "metadata": {},
   "outputs": [],
   "source": [
    "trails = set()\n",
    "nb_trails = 0\n",
    "\n",
    "while queue:\n",
    "    # print(\"Q\", queue)\n",
    "\n",
    "    cur_val, *trail = queue.pop()\n",
    "    cur_row, cur_col = trail[-1]\n",
    "    # print(\"C\", cur_val, cur_row, cur_col)\n",
    "    for dr, dc in product(range(-1, 2), repeat=2):\n",
    "        if dr != 0 and dc != 0:\n",
    "            continue\n",
    "            \n",
    "        if grid[cur_row + dr][cur_col + dc] == cur_val + 1:\n",
    "            # print(dr, dc)\n",
    "            if cur_val == 8:\n",
    "                trails.add((trail[0][0], trail[0][1], cur_row + dr, cur_col + dc))\n",
    "                nb_trails += 1\n",
    "            else:\n",
    "                queue.append([cur_val + 1, *trail, (cur_row + dr, cur_col + dc)])\n",
    "                \n",
    "if DEBUG:\n",
    "    print(len(trails))\n",
    "else:\n",
    "    puzzle.answer_a = len(trails)\n",
    "    puzzle.answer_b = nb_trails"
   ]
  },
  {
   "cell_type": "markdown",
   "metadata": {},
   "source": [
    "### Part 2"
   ]
  },
  {
   "cell_type": "code",
   "execution_count": null,
   "metadata": {},
   "outputs": [],
   "source": [
    "puzzle.answer_a = len(trails)"
   ]
  },
  {
   "cell_type": "markdown",
   "metadata": {},
   "source": [
    "## Day 9\n",
    "\n",
    "_TBD_\n",
    "\n",
    "https://adventofcode.com/2024/day/9"
   ]
  },
  {
   "cell_type": "code",
   "execution_count": null,
   "metadata": {},
   "outputs": [],
   "source": [
    "puzzle = Puzzle(year=2024, day=9)\n",
    "DEBUG = False\n",
    "input_data = \"\"\"2333133121414131402\"\"\""
   ]
  },
  {
   "cell_type": "code",
   "execution_count": null,
   "metadata": {},
   "outputs": [],
   "source": [
    "data = input_data if DEBUG else puzzle.input_data\n",
    "fulls = [(e, int(data[i])) for e,i in enumerate(range(0, len(data),2))]\n",
    "emptys = [int(data[i]) for i in range(1, len(data),2)]"
   ]
  },
  {
   "cell_type": "markdown",
   "metadata": {},
   "source": [
    "### Part 1"
   ]
  },
  {
   "cell_type": "code",
   "execution_count": null,
   "metadata": {},
   "outputs": [],
   "source": [
    "disk = []\n",
    "try:\n",
    "    while True:\n",
    "        val, count = fulls.pop(0)\n",
    "        # print(\"0\", val, count)\n",
    "        disk += count * [val]\n",
    "        # print(disk)\n",
    "\n",
    "        empty_count = emptys.pop(0)\n",
    "        # print(\"1\", empty_count)\n",
    "\n",
    "        while empty_count > 0:\n",
    "            val, count = fulls.pop()\n",
    "            # print(\"2\", val, count)\n",
    "\n",
    "            if empty_count < count:\n",
    "                fulls.insert(len(fulls), (val, count - empty_count))\n",
    "\n",
    "            # in all cases\n",
    "            disk += min(count, empty_count) * [val]\n",
    "            empty_count -= count\n",
    "            # print(\"3\", empty_count)\n",
    "            \n",
    "except IndexError:\n",
    "    puzzle.answer_a = sum([e * d for e, d in enumerate(disk)])"
   ]
  },
  {
   "cell_type": "markdown",
   "metadata": {},
   "source": [
    "### Part 2"
   ]
  },
  {
   "cell_type": "code",
   "execution_count": null,
   "metadata": {},
   "outputs": [],
   "source": [
    "disk = [[(\".\", e), f] for e, f in zip(emptys, fulls[1:])]\n",
    "disk = [fulls[0]] + list(chain(*disk))\n",
    "if DEBUG:\n",
    "    print(disk)"
   ]
  },
  {
   "cell_type": "code",
   "execution_count": null,
   "metadata": {},
   "outputs": [],
   "source": [
    "def compute(outputs):\n",
    "    total = 0\n",
    "    idx = 0\n",
    "    for v, c in outputs:\n",
    "        for j in range(c):\n",
    "            if v != \".\":\n",
    "                total += idx * v\n",
    "            idx += 1\n",
    "\n",
    "    return total"
   ]
  },
  {
   "cell_type": "code",
   "execution_count": null,
   "metadata": {},
   "outputs": [],
   "source": [
    "queue = deque(disk)\n",
    "outputs = []\n",
    "\n",
    "try:\n",
    "    while True:\n",
    "        val, count = queue.pop()\n",
    "\n",
    "        if val != \".\" and val % 1000 == 0:\n",
    "            print(\"P\", val)\n",
    "        # print(\"Q\", queue)\n",
    "\n",
    "        pasted = False\n",
    "\n",
    "        if val != \".\":\n",
    "            copy_q = copy.deepcopy(queue)\n",
    "\n",
    "            for idx, elem in enumerate(copy_q):\n",
    "                val_elem, count_elem = elem\n",
    "\n",
    "                if val_elem == \".\" and count_elem >= count:\n",
    "                    # print(\"E\", elem)\n",
    "\n",
    "                    queue.remove(elem)\n",
    "                    if count_elem != count:\n",
    "                        queue.insert(idx, (\".\", count_elem - count))\n",
    "                    queue.insert(idx, (val,count))\n",
    "\n",
    "                    pasted = True\n",
    "                    break\n",
    "\n",
    "        if not pasted:\n",
    "            outputs = [(val, count)] + outputs\n",
    "            # print(\"O\", outputs)\n",
    "        else:\n",
    "            last_val, last_count = queue.pop()\n",
    "            if last_val == \".\":\n",
    "                queue.append((\".\", last_count + count))\n",
    "            else:\n",
    "                queue.append((last_val, last_count))\n",
    "                queue.append((\".\", count))\n",
    "                \n",
    "except IndexError:\n",
    "    if DEBUG:\n",
    "        print(outputs)\n",
    "        print(compute(outputs))\n",
    "    else:\n",
    "        puzzle.answer_b = compute(outputs)"
   ]
  },
  {
   "cell_type": "markdown",
   "metadata": {},
   "source": [
    "## Day 8\n",
    "\n",
    "_vectors_\n",
    "\n",
    "https://adventofcode.com/2024/day/8"
   ]
  },
  {
   "cell_type": "code",
   "execution_count": null,
   "metadata": {},
   "outputs": [],
   "source": [
    "puzzle = Puzzle(year=2024, day=8)\n",
    "DEBUG = False\n",
    "input_data = \"\"\"............\n",
    "........0...\n",
    ".....0......\n",
    ".......0....\n",
    "....0.......\n",
    "......A.....\n",
    "............\n",
    "............\n",
    "........A...\n",
    ".........A..\n",
    "............\n",
    "............\"\"\""
   ]
  },
  {
   "cell_type": "markdown",
   "metadata": {},
   "source": [
    "### Part 1"
   ]
  },
  {
   "cell_type": "code",
   "execution_count": null,
   "metadata": {},
   "outputs": [],
   "source": [
    "antenas = defaultdict(list)\n",
    "for row_idx, line in enumerate((input_data if DEBUG else puzzle.input_data).splitlines()):\n",
    "    for col_idx, val in enumerate(line):\n",
    "        if val != \".\":\n",
    "            antenas[val].append((row_idx, col_idx))\n",
    "size = (row_idx + 1, col_idx + 1)"
   ]
  },
  {
   "cell_type": "code",
   "execution_count": null,
   "metadata": {},
   "outputs": [],
   "source": [
    "antinodes = set()\n",
    "for ant_positions in antenas.values():\n",
    "    for elem1, elem2 in permutations(ant_positions, 2):\n",
    "        if 0 <= 2 * elem1[0] - elem2[0] < size[0] and 0 <= 2 * elem1[1] - elem2[1] < size[1]:\n",
    "            antinodes.add((2 * elem1[0] - elem2[0], 2 * elem1[1] - elem2[1]))\n",
    "        \n",
    "if DEBUG:\n",
    "    print(antinodes)\n",
    "else:\n",
    "    puzzle.answer_a = len(antinodes)"
   ]
  },
  {
   "cell_type": "markdown",
   "metadata": {},
   "source": [
    "### Part2"
   ]
  },
  {
   "cell_type": "code",
   "execution_count": null,
   "metadata": {},
   "outputs": [],
   "source": [
    "antinodes = set()\n",
    "for ant_positions in antenas.values():\n",
    "    for elem1, elem2 in permutations(ant_positions, 2):\n",
    "        coef = 0\n",
    "        while 0 <= (1 + coef) * elem1[0] - coef * elem2[0] < size[0] and 0 <= (1+coef) * elem1[1] - coef * elem2[1] < size[1]:\n",
    "            antinodes.add(((1 + coef) * elem1[0] - coef * elem2[0], (1 + coef) * elem1[1] - coef * elem2[1]))\n",
    "            coef += 1\n",
    "        \n",
    "if DEBUG:\n",
    "    print(antinodes)\n",
    "else:\n",
    "    puzzle.answer_b = len(antinodes)"
   ]
  },
  {
   "cell_type": "markdown",
   "metadata": {},
   "source": [
    "## Day 7\n",
    "\n",
    "_recursion_\n",
    "\n",
    "https://adventofcode.com/2024/day/7"
   ]
  },
  {
   "cell_type": "code",
   "execution_count": null,
   "metadata": {},
   "outputs": [],
   "source": [
    "puzzle = Puzzle(year=2024, day=7)\n",
    "DEBUG = False\n",
    "input_data = \"\"\"7290: 6 8 6 15\"\"\""
   ]
  },
  {
   "cell_type": "code",
   "execution_count": null,
   "metadata": {},
   "outputs": [],
   "source": [
    "data = input_data.splitlines() if DEBUG else puzzle.input_data.splitlines()"
   ]
  },
  {
   "cell_type": "markdown",
   "metadata": {},
   "source": [
    "### Part 1"
   ]
  },
  {
   "cell_type": "code",
   "execution_count": null,
   "metadata": {},
   "outputs": [],
   "source": [
    "def can_compute(total, values):\n",
    "    if len(values) == 1:\n",
    "        return total == values[0]\n",
    "    \n",
    "    last = values.pop()\n",
    "    return can_compute(total / last, copy.deepcopy(values)) or can_compute(total - last, copy.deepcopy(values))"
   ]
  },
  {
   "cell_type": "code",
   "execution_count": null,
   "metadata": {},
   "outputs": [],
   "source": [
    "total = 0\n",
    "for line in data:\n",
    "    tot, values = line.split(\": \")\n",
    "    if can_compute(int(tot), [int(v) for v in values.strip().split(\" \")]):\n",
    "        total += int(tot)\n",
    "        \n",
    "if DEBUG:\n",
    "    print(total)\n",
    "else:\n",
    "    puzzle.answer_a = total"
   ]
  },
  {
   "cell_type": "markdown",
   "metadata": {},
   "source": [
    "### Part 2"
   ]
  },
  {
   "cell_type": "code",
   "execution_count": null,
   "metadata": {},
   "outputs": [],
   "source": [
    "def can_compute(total, values):\n",
    "    if int(total) != total or total < 0:\n",
    "        return False\n",
    "    total = int(total)\n",
    "\n",
    "    if len(values) == 1:\n",
    "        return total == values[0]\n",
    "    \n",
    "    last = values.pop()\n",
    "    operators_computable = can_compute(total / last, copy.deepcopy(values)) or can_compute(total - last, copy.deepcopy(values))\n",
    "    \n",
    "    last = str(last)\n",
    "\n",
    "    if operators_computable:\n",
    "        return True\n",
    "    elif str(total)[-len(last):] == last and len(str(total)) > len(last):\n",
    "        return can_compute(int(str(total)[:-len(last)]), copy.deepcopy(values))\n",
    "    else:\n",
    "        return False"
   ]
  },
  {
   "cell_type": "code",
   "execution_count": null,
   "metadata": {},
   "outputs": [],
   "source": [
    "total = 0\n",
    "for line in data:\n",
    "    tot, values = line.split(\": \")\n",
    "    if can_compute(int(tot), [int(v) for v in values.strip().split(\" \")]):\n",
    "        total += int(tot)\n",
    "        \n",
    "if DEBUG:\n",
    "    print(total)\n",
    "else:\n",
    "    puzzle.answer_b = total"
   ]
  },
  {
   "cell_type": "markdown",
   "metadata": {},
   "source": [
    "## Day 6\n",
    "\n",
    "_grid search, brute force_\n",
    "\n",
    "https://adventofcode.com/2024/day/6"
   ]
  },
  {
   "cell_type": "code",
   "execution_count": null,
   "metadata": {},
   "outputs": [],
   "source": [
    "puzzle = Puzzle(year=2024, day=6)\n",
    "DEBUG = False\n",
    "input_data = \"\"\"....#.....\n",
    ".........#\n",
    "..........\n",
    "..#.......\n",
    ".......#..\n",
    "..........\n",
    ".#..^.....\n",
    "........#.\n",
    "#.........\n",
    "......#...\"\"\"\n",
    "grid = create_grid(input_data if DEBUG else puzzle.input_data)"
   ]
  },
  {
   "cell_type": "code",
   "execution_count": null,
   "metadata": {},
   "outputs": [],
   "source": [
    "def find_in_grid(search, grid):\n",
    "    for r_idx, row in grid.items():\n",
    "        for c_idx, elem in row.items():\n",
    "            if elem == search:\n",
    "                return (r_idx, c_idx)\n",
    "            \n",
    "    raise ValueError"
   ]
  },
  {
   "cell_type": "markdown",
   "metadata": {},
   "source": [
    "### Part 1"
   ]
  },
  {
   "cell_type": "code",
   "execution_count": null,
   "metadata": {},
   "outputs": [],
   "source": [
    "def move_on_grid(cur_pos, symbol, grid):\n",
    "    if symbol == \"^\":\n",
    "        delta = [-1, 0]\n",
    "        next_symbol = \">\"\n",
    "    elif symbol == \"<\":\n",
    "        delta = [0, -1]\n",
    "        next_symbol = \"^\"\n",
    "    elif symbol == \">\":\n",
    "        delta = [0, 1]\n",
    "        next_symbol = \"v\"\n",
    "    elif symbol == \"v\":\n",
    "        delta = [1, 0]\n",
    "        next_symbol = \"<\"\n",
    "    else:\n",
    "        raise ValueError\n",
    "        \n",
    "    check_pos = grid[cur_pos[0] + delta[0]][cur_pos[1] + delta[1]]\n",
    "\n",
    "    if check_pos == \"\":\n",
    "        return None, None\n",
    "    elif check_pos == \"#\":\n",
    "        return (cur_pos[0], cur_pos[1], next_symbol)\n",
    "    elif check_pos in [\".\", \"^\"]:\n",
    "        return (cur_pos[0] + delta[0], cur_pos[1] + delta[1], symbol)\n",
    "    else:\n",
    "        raise IndexError"
   ]
  },
  {
   "cell_type": "code",
   "execution_count": null,
   "metadata": {},
   "outputs": [],
   "source": [
    "def find_all_positions(grid, init_pos, init_symb):\n",
    "    positions = defaultdict(set)\n",
    "    \n",
    "    pos = init_pos\n",
    "    symb = init_symb\n",
    "\n",
    "    while True:\n",
    "        positions[pos].add(symb)\n",
    "        *next_pos, next_symb = move_on_grid(pos, symb, grid)\n",
    "        # print(*next_pos, next_symb)\n",
    "\n",
    "        if next_pos[0] is None:\n",
    "            exit = True\n",
    "            return exit, positions\n",
    "        elif next_symb in positions.get((next_pos[0], next_pos[1]), []):\n",
    "            exit = False  # hence loop\n",
    "            return exit, positions\n",
    "        else:\n",
    "            pos = (next_pos[0], next_pos[1])\n",
    "            symb = next_symb    "
   ]
  },
  {
   "cell_type": "code",
   "execution_count": null,
   "metadata": {},
   "outputs": [],
   "source": [
    "pos = find_in_grid(\"^\", grid)\n",
    "symb = grid[pos[0]][pos[1]]\n",
    "exit, positions = find_all_positions(grid, pos, symb)\n",
    "puzzle.answer_a = len(positions)"
   ]
  },
  {
   "cell_type": "markdown",
   "metadata": {},
   "source": [
    "### Part 2"
   ]
  },
  {
   "cell_type": "code",
   "execution_count": null,
   "metadata": {},
   "outputs": [],
   "source": [
    "obstacles = set()\n",
    "positions = defaultdict(set)\n",
    "init_pos = find_in_grid(\"^\", grid)\n",
    "init_symb = grid[init_pos[0]][init_pos[1]]\n",
    "\n",
    "pos = init_pos\n",
    "symb = init_symb\n",
    "\n",
    "while True:\n",
    "    positions[pos].add(symb)\n",
    "    *next_pos, next_symb = move_on_grid(pos, symb, grid)\n",
    "    # print(*next_pos, next_symb)\n",
    "    \n",
    "    if next_pos[0] is None:\n",
    "        break\n",
    "        \n",
    "    elif symb == next_symb:  # can try to add an obstacle and see if guard loops\n",
    "        new_grid = copy.deepcopy(grid)\n",
    "        new_grid[next_pos[0]][next_pos[1]] = \"#\"\n",
    "        exit, _ = find_all_positions(new_grid, init_pos, init_symb)\n",
    "        if not exit:\n",
    "            obstacles.add((next_pos[0], next_pos[1]))\n",
    "        \n",
    "    # then move on\n",
    "    pos = (next_pos[0], next_pos[1])\n",
    "    symb = next_symb\n",
    "\n",
    "if DEBUG:\n",
    "    print(len(obstacles), obstacles)\n",
    "else:\n",
    "    puzzle.answer_b = len(obstacles)"
   ]
  },
  {
   "cell_type": "code",
   "execution_count": null,
   "metadata": {},
   "outputs": [],
   "source": [
    "init_pos = find_in_grid(\"^\", grid)\n",
    "init_symb = grid[init_pos[0]][init_pos[1]]\n",
    "\n",
    "end_status = []\n",
    "\n",
    "# For some unknown reason some obstacles are wrongly put :shrug:\n",
    "for obstacle in obstacles:\n",
    "    new_grid = copy.deepcopy(grid)\n",
    "    new_grid[obstacle[0]][obstacle[1]] = \"#\"\n",
    "    \n",
    "    exit, _ = find_all_positions(new_grid, init_pos, init_symb)\n",
    "    end_status.append(exit)"
   ]
  },
  {
   "cell_type": "code",
   "execution_count": null,
   "metadata": {},
   "outputs": [],
   "source": [
    "puzzle.answer_b = len(obstacles) - sum(end_status)"
   ]
  },
  {
   "cell_type": "markdown",
   "metadata": {},
   "source": [
    "## Day 5\n",
    "\n",
    "_recursion_\n",
    "\n",
    "https://adventofcode.com/2024/day/5"
   ]
  },
  {
   "cell_type": "code",
   "execution_count": null,
   "metadata": {},
   "outputs": [],
   "source": [
    "puzzle = Puzzle(year=2024, day=5)\n",
    "input_data = \"\"\"\"\"\""
   ]
  },
  {
   "cell_type": "code",
   "execution_count": null,
   "metadata": {},
   "outputs": [],
   "source": [
    "rulz, prints = puzzle.input_data.split(\"\\n\\n\")\n",
    "rules = defaultdict(set) # k not before any v\n",
    "for rul in rulz.splitlines():\n",
    "    first, sec = rul.split(\"|\")\n",
    "    rules[first].add(sec)"
   ]
  },
  {
   "cell_type": "markdown",
   "metadata": {},
   "source": [
    "### Part 1"
   ]
  },
  {
   "cell_type": "code",
   "execution_count": null,
   "metadata": {},
   "outputs": [],
   "source": [
    "def correct_printing_list(pages_before: list[str], page_to_print: str) -> bool:\n",
    "    \"\"\"Define whether the page_to_print can come at the place in the printing\"\"\"\n",
    "    \n",
    "    if not pages_before:\n",
    "        return True\n",
    "\n",
    "    if rules[page_to_print].intersection(set(pages_before)):\n",
    "        return False\n",
    "    \n",
    "    page_to_print = pages_before.pop()\n",
    "    return correct_printing_list(pages_before, page_to_print)"
   ]
  },
  {
   "cell_type": "code",
   "execution_count": null,
   "metadata": {},
   "outputs": [],
   "source": [
    "total = 0\n",
    "for printing in prints.splitlines():\n",
    "    print_list = printing.split(\",\")\n",
    "    middle_idx = (len(print_list) - 1) // 2\n",
    "    \n",
    "    if correct_printing_list(print_list[:-1], print_list[-1]):\n",
    "        total += int(print_list[middle_idx])\n",
    "        \n",
    "puzzle.answer_a = total"
   ]
  },
  {
   "cell_type": "markdown",
   "metadata": {},
   "source": [
    "### Part 2"
   ]
  },
  {
   "cell_type": "code",
   "execution_count": null,
   "metadata": {},
   "outputs": [],
   "source": [
    "def order_printing(pages: list[str], sub_rules: dict[str]) -> list[str]:\n",
    "    \"\"\"Order pages to print following given set of rules\"\"\"\n",
    "    \n",
    "    if len(pages) == 1:\n",
    "        return pages\n",
    "    \n",
    "    new_sub_rules = {p: sub_rules[p].intersection(pages) for p in pages}\n",
    "    \n",
    "    for page, const in new_sub_rules.items():\n",
    "        if not const:\n",
    "            pages.remove(page)\n",
    "            return [page] + order_printing(pages, new_sub_rules)\n",
    "\n",
    "    raise ValueError  # at least one empty const should exist"
   ]
  },
  {
   "cell_type": "code",
   "execution_count": null,
   "metadata": {},
   "outputs": [],
   "source": [
    "total = 0\n",
    "for printing in prints.splitlines():\n",
    "    print_list = printing.split(\",\")\n",
    "    middle_idx = (len(print_list) - 1) // 2\n",
    "    \n",
    "    if not correct_printing_list(print_list[:-1], print_list[-1]):\n",
    "        ordered_print_list = order_printing(print_list, rules)\n",
    "        total += int(ordered_print_list[middle_idx])\n",
    "        \n",
    "puzzle.answer_b = total"
   ]
  },
  {
   "cell_type": "markdown",
   "metadata": {},
   "source": [
    "## Day 4\n",
    "\n",
    "_Grid search_\n",
    "\n",
    "https://adventofcode.com/2024/day/4"
   ]
  },
  {
   "cell_type": "code",
   "execution_count": null,
   "metadata": {},
   "outputs": [],
   "source": [
    "puzzle = Puzzle(year=2024, day=4)\n",
    "input_data = \"\"\"MMMSXXMASM\n",
    "MSAMXMSMSA\n",
    "AMXSXMAAMM\n",
    "MSAMASMSMX\n",
    "XMASAMXAMM\n",
    "XXAMMXXAMA\n",
    "SMSMSASXSS\n",
    "SAXAMASAAA\n",
    "MAMMMXMMMM\n",
    "MXMXAXMASX\"\"\""
   ]
  },
  {
   "cell_type": "code",
   "execution_count": null,
   "metadata": {},
   "outputs": [],
   "source": [
    "DEBUG = False\n",
    "iterator = input_data.splitlines() if DEBUG else puzzle.input_data.splitlines()\n",
    "\n",
    "grid = []\n",
    "for row in iterator:\n",
    "    grid.append(list(row))\n",
    "    \n",
    "sizes = (len(grid), len(row))"
   ]
  },
  {
   "cell_type": "markdown",
   "metadata": {},
   "source": [
    "### Part 1"
   ]
  },
  {
   "cell_type": "code",
   "execution_count": null,
   "metadata": {},
   "outputs": [],
   "source": [
    "def count_combinations(grid:list[list[str]], r_idx: int, c_idx:int) -> int:\n",
    "    \"\"\"Count number of X-MAS starting with a X at the given position\"\"\"\n",
    "    \n",
    "    if grid[r_idx][c_idx] != \"X\":\n",
    "        return 0\n",
    "    \n",
    "    attempts = []\n",
    "    for dr in range(-1, 2):\n",
    "        for dc in range(-1, 2):\n",
    "            \n",
    "            if DEBUG:\n",
    "                print(\"start\", dr, dc)\n",
    "                \n",
    "            attempt = True\n",
    "            for (coef, letter) in [(1, \"M\"), (2, \"A\"), (3, \"S\")]:\n",
    "                try:\n",
    "                    if r_idx + coef * dr < 0 or c_idx + coef * dc < 0:\n",
    "                        attempt = False\n",
    "                    if grid[r_idx + coef * dr][c_idx + coef * dc] != letter:\n",
    "                        attempt = False\n",
    "                except IndexError:\n",
    "                    attempt = False\n",
    "                    \n",
    "                if DEBUG:\n",
    "                    print(coef, attempt)\n",
    "                    \n",
    "            attempts.append(attempt)\n",
    "    return sum(attempts)"
   ]
  },
  {
   "cell_type": "code",
   "execution_count": null,
   "metadata": {},
   "outputs": [],
   "source": [
    "nb_combinations = []\n",
    "\n",
    "for r_idx in range(0, sizes[0]):\n",
    "    row_combinations = []\n",
    "    \n",
    "    for c_idx in range(0, sizes[1]):\n",
    "        row_combinations.append(count_combinations(grid, r_idx, c_idx))\n",
    "    nb_combinations.append(row_combinations)\n",
    "    \n",
    "if DEBUG:\n",
    "    print(sum([sum(row) for row in nb_combinations]))\n",
    "else:\n",
    "    puzzle.answer_a = sum([sum(row) for row in nb_combinations])"
   ]
  },
  {
   "cell_type": "markdown",
   "metadata": {},
   "source": [
    "### Part 2"
   ]
  },
  {
   "cell_type": "code",
   "execution_count": null,
   "metadata": {},
   "outputs": [],
   "source": [
    "def is_a_crossing(grid:list[list[str]], r_idx: int, c_idx:int) -> bool:\n",
    "    \"\"\"Define whether the given position is the center of an X-MAS crossing\"\"\"\n",
    "    \n",
    "    if grid[r_idx][c_idx] != \"A\":\n",
    "        return False\n",
    "    \n",
    "    attempts = []\n",
    "    for dr in range(-1, 2):\n",
    "        for dc in range(-1, 2):\n",
    "            \n",
    "            if DEBUG:\n",
    "                print(\"start\", dr, dc)\n",
    "                \n",
    "            attempt = True\n",
    "            for (coef, letter) in [(-1, \"M\"), (1, \"S\")]:\n",
    "                try:\n",
    "                    if r_idx + coef * dr < 0 or c_idx + coef * dc < 0:\n",
    "                        attempt = False\n",
    "                    if grid[r_idx + coef * dr][c_idx + coef * dc] != letter:\n",
    "                        attempt = False\n",
    "                except IndexError:\n",
    "                    attempt = False\n",
    "                    \n",
    "                if DEBUG:\n",
    "                    print(coef, attempt)\n",
    "                    \n",
    "            if attempt:\n",
    "                attempts.append([dr, dc])\n",
    "                \n",
    "    if DEBUG:\n",
    "        print(\"attempts\", attempts)\n",
    "        \n",
    "    return ([-1, 1] in attempts or [1, -1] in attempts) and ([1, 1] in attempts or [-1, -1] in attempts)"
   ]
  },
  {
   "cell_type": "code",
   "execution_count": null,
   "metadata": {},
   "outputs": [],
   "source": [
    "nb_combinations = []\n",
    "\n",
    "for r_idx in range(0, sizes[0]):\n",
    "    row_combinations = []\n",
    "    \n",
    "    for c_idx in range(0, sizes[1]):\n",
    "        row_combinations.append(is_a_crossing(grid, r_idx, c_idx))\n",
    "    nb_combinations.append(row_combinations)\n",
    "    \n",
    "if DEBUG:\n",
    "    print(sum([sum(row) for row in nb_combinations]))\n",
    "else:\n",
    "    puzzle.answer_b = sum([sum(row) for row in nb_combinations])"
   ]
  },
  {
   "cell_type": "markdown",
   "metadata": {},
   "source": [
    "## Day 3\n",
    "\n",
    "_regular expressions_\n",
    "\n",
    "https://adventofcode.com/2024/day/3"
   ]
  },
  {
   "cell_type": "code",
   "execution_count": null,
   "metadata": {},
   "outputs": [],
   "source": [
    "puzzle = Puzzle(year=2024, day=3)"
   ]
  },
  {
   "cell_type": "markdown",
   "metadata": {},
   "source": [
    "### Part 1"
   ]
  },
  {
   "cell_type": "code",
   "execution_count": null,
   "metadata": {},
   "outputs": [],
   "source": [
    "total = 0\n",
    "for x in re.findall(r'mul\\(\\d{1,3},\\d{1,3}\\)', puzzle.input_data):\n",
    "    a, b = x[4:-1].split(\",\")\n",
    "    total += int(a) * int(b)\n",
    "puzzle.answer_a = total"
   ]
  },
  {
   "cell_type": "markdown",
   "metadata": {},
   "source": [
    "### Part 2"
   ]
  },
  {
   "cell_type": "code",
   "execution_count": null,
   "metadata": {},
   "outputs": [],
   "source": [
    "total = 0\n",
    "do = True\n",
    "for x in re.findall(r\"mul\\(\\d{1,3},\\d{1,3}\\)|do\\(\\)|don\\'t\\(\\)\", puzzle.input_data):\n",
    "    if x == \"do()\":\n",
    "        do = True\n",
    "    elif x == \"don't()\":\n",
    "        do = False\n",
    "    elif do:\n",
    "        a, b = x[4:-1].split(\",\")\n",
    "        total += int(a) * int(b)\n",
    "puzzle.answer_b = total"
   ]
  },
  {
   "cell_type": "markdown",
   "metadata": {},
   "source": [
    "## Day 2\n",
    "\n",
    "_defaultdict, min, max_\n",
    "\n",
    "https://adventofcode.com/2024/day/2"
   ]
  },
  {
   "cell_type": "code",
   "execution_count": null,
   "metadata": {},
   "outputs": [],
   "source": [
    "puzzle = Puzzle(year=2024, day=2)"
   ]
  },
  {
   "cell_type": "code",
   "execution_count": null,
   "metadata": {},
   "outputs": [],
   "source": [
    "reports = puzzle.input_data.splitlines()"
   ]
  },
  {
   "cell_type": "markdown",
   "metadata": {},
   "source": [
    "### Part 1"
   ]
  },
  {
   "cell_type": "code",
   "execution_count": null,
   "metadata": {},
   "outputs": [],
   "source": [
    "def is_safe(report: list[int]) -> bool:\n",
    "    \"\"\"Ensure if report is safe\"\"\"\n",
    "    \n",
    "    differences: list[int] = [int(x[0]) - int(x[1]) for x in zip(report[1:], report[:-1])]\n",
    "        \n",
    "    return all([1 <= d <= 3 for d in differences]) or all([-3 <= d <= -1 for d in differences])"
   ]
  },
  {
   "cell_type": "code",
   "execution_count": null,
   "metadata": {},
   "outputs": [],
   "source": [
    "puzzle.answer_a = len(list(filter(is_safe, reports)))"
   ]
  },
  {
   "cell_type": "markdown",
   "metadata": {},
   "source": [
    "### Part 2"
   ]
  },
  {
   "cell_type": "code",
   "execution_count": null,
   "metadata": {},
   "outputs": [],
   "source": [
    "safe_dampened = int(puzzle.answer_a)\n",
    "\n",
    "for report in filter(lambda r: not is_safe(r), reports):\n",
    "    for sub_report in combinations(report, len(report) - 1):\n",
    "        if is_safe(sub_report):\n",
    "            safe_dampened += 1\n",
    "            break\n",
    "            \n",
    "puzzle.answer_b = safe_dampened"
   ]
  },
  {
   "cell_type": "markdown",
   "metadata": {},
   "source": [
    "## Day 1\n",
    "\n",
    "_sorting, counters_\n",
    "\n",
    "https://adventofcode.com/2024/day/1"
   ]
  },
  {
   "cell_type": "code",
   "execution_count": null,
   "metadata": {},
   "outputs": [],
   "source": [
    "puzzle = Puzzle(year=2024, day=1)"
   ]
  },
  {
   "cell_type": "code",
   "execution_count": null,
   "metadata": {},
   "outputs": [],
   "source": [
    "left_list, right_list = [], []\n",
    "for row in puzzle.input_data.splitlines():\n",
    "    left, right = row.split()\n",
    "    left_list.append(int(left))\n",
    "    right_list.append(int(right))"
   ]
  },
  {
   "cell_type": "markdown",
   "metadata": {},
   "source": [
    "\n",
    "\n",
    "### Part 1"
   ]
  },
  {
   "cell_type": "code",
   "execution_count": null,
   "metadata": {},
   "outputs": [],
   "source": [
    "differences = 0\n",
    "\n",
    "for sorted_left, sorted_right in zip(sorted(left_list), sorted(right_list)):\n",
    "    differences += abs(sorted_left - sorted_right)\n",
    "    \n",
    "puzzle.answer_a = differences"
   ]
  },
  {
   "cell_type": "markdown",
   "metadata": {},
   "source": [
    "### Part 2"
   ]
  },
  {
   "cell_type": "code",
   "execution_count": null,
   "metadata": {},
   "outputs": [],
   "source": [
    "counter = Counter(right_list)"
   ]
  },
  {
   "cell_type": "code",
   "execution_count": null,
   "metadata": {},
   "outputs": [],
   "source": [
    "similarity = 0\n",
    "\n",
    "for elem in left_list:\n",
    "    similarity += elem * counter.get(elem, 0)\n",
    "    \n",
    "puzzle.answer_b = similarity"
   ]
  }
 ],
 "metadata": {
  "language_info": {
   "name": "python",
   "pygments_lexer": "ipython3"
  }
 },
 "nbformat": 4,
 "nbformat_minor": 2
}
