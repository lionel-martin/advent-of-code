{
 "cells": [
  {
   "cell_type": "code",
   "execution_count": null,
   "metadata": {},
   "outputs": [],
   "source": [
    "import copy\n",
    "import itertools\n",
    "import functools\n",
    "import collections\n",
    "import operator\n",
    "import sys\n",
    "import re\n",
    "import numpy as np\n",
    "import math"
   ]
  },
  {
   "cell_type": "code",
   "execution_count": null,
   "metadata": {},
   "outputs": [],
   "source": [
    "from helpers.functions import *"
   ]
  },
  {
   "cell_type": "markdown",
   "metadata": {},
   "source": [
    "Configuration"
   ]
  },
  {
   "cell_type": "code",
   "execution_count": null,
   "metadata": {},
   "outputs": [],
   "source": [
    "DIR = \"data/2019/\"\n",
    "load_day = functools.partial(load, DIR)"
   ]
  },
  {
   "cell_type": "code",
   "execution_count": null,
   "metadata": {},
   "outputs": [],
   "source": [
    "def intcode_computer(software, idx, *inputs):\n",
    "\n",
    "    # software = list(map(int, software.split(',')))\n",
    "    inputs = list(inputs)\n",
    "\n",
    "    while software[idx] != 99:\n",
    "        instruction = '{:0>5}'.format(software[idx])\n",
    "        # print(f\"Instruction: {instruction}\")\n",
    "        \n",
    "        modes = instruction[2::-1]\n",
    "        assert(all([mod in [\"0\", \"1\"] for mod in modes]))\n",
    "        \n",
    "        opcode = software[idx] % 100\n",
    "        \n",
    "        # position or immediate mode\n",
    "        if opcode in [1, 2, 4, 5, 6, 7, 8]:\n",
    "            left_term = software[idx+1] if modes[0] == \"1\" else software[software[idx+1]]\n",
    "        if opcode in [1, 2, 5, 6, 7, 8]:\n",
    "            right_term = software[idx+2] if modes[1] == \"1\" else software[software[idx+2]]\n",
    "\n",
    "        if opcode == 1:\n",
    "            software[software[idx+3]] = left_term + right_term\n",
    "            idx += 4\n",
    "        elif opcode == 2:\n",
    "            software[software[idx+3]] = left_term * right_term\n",
    "            idx += 4\n",
    "        elif opcode == 3:\n",
    "            software[software[idx+1]] = int(inputs.pop(0))\n",
    "            idx += 2\n",
    "        elif opcode == 4:\n",
    "            # print(left_term)\n",
    "            return {\"output\": left_term, \"idx\": idx + 2}\n",
    "        elif opcode == 5:\n",
    "            if left_term:\n",
    "                idx = right_term\n",
    "            else:\n",
    "                idx += 3\n",
    "        elif opcode == 6:\n",
    "            if not left_term:\n",
    "                idx = right_term\n",
    "            else:\n",
    "                idx += 3\n",
    "        elif opcode == 7:\n",
    "            software[software[idx+3]] = int(left_term < right_term)\n",
    "            idx += 4\n",
    "        elif opcode == 8:\n",
    "            software[software[idx+3]] = int(left_term == right_term)\n",
    "            idx += 4\n",
    "        else:\n",
    "            raise ValueError(\"error, code:\", software[idx], \" position: \", idx)\n",
    "        # print(software)"
   ]
  },
  {
   "cell_type": "markdown",
   "metadata": {},
   "source": [
    "# Problems"
   ]
  },
  {
   "cell_type": "markdown",
   "metadata": {},
   "source": [
    "## Day 1\n",
    "\n",
    "http://adventofcode.com/2019/day/1"
   ]
  },
  {
   "cell_type": "code",
   "execution_count": null,
   "metadata": {},
   "outputs": [],
   "source": [
    "content = load_day(1)"
   ]
  },
  {
   "cell_type": "code",
   "execution_count": null,
   "metadata": {},
   "outputs": [],
   "source": [
    "def fuel(mass):\n",
    "    return mass // 3 - 2"
   ]
  },
  {
   "cell_type": "markdown",
   "metadata": {},
   "source": [
    "__Part 1__"
   ]
  },
  {
   "cell_type": "code",
   "execution_count": null,
   "metadata": {},
   "outputs": [],
   "source": [
    "total = 0\n",
    "\n",
    "for elem in map(int, content):\n",
    "    total += fuel(elem)\n",
    "    \n",
    "print(f'Answer 1: {total}')"
   ]
  },
  {
   "cell_type": "markdown",
   "metadata": {},
   "source": [
    "__Part 2__"
   ]
  },
  {
   "cell_type": "code",
   "execution_count": null,
   "metadata": {},
   "outputs": [],
   "source": [
    "total = 0\n",
    "\n",
    "for elem in map(int, content):\n",
    "    fuel_mass = fuel(elem)\n",
    "    while fuel_mass > 0:\n",
    "        total += fuel_mass\n",
    "        fuel_mass = fuel(fuel_mass)\n",
    "\n",
    "print(f'Answer 2: {total}')"
   ]
  },
  {
   "cell_type": "markdown",
   "metadata": {},
   "source": [
    "## Day 2\n",
    "\n",
    "http://adventofcode.com/2019/day/2"
   ]
  },
  {
   "cell_type": "code",
   "execution_count": null,
   "metadata": {},
   "outputs": [],
   "source": [
    "content = load_day(2)\n",
    "content = list(map(int, content[0].split(',')))"
   ]
  },
  {
   "cell_type": "markdown",
   "metadata": {},
   "source": [
    "__Part 1__"
   ]
  },
  {
   "cell_type": "code",
   "execution_count": null,
   "metadata": {},
   "outputs": [],
   "source": [
    "def write_software(noun=12, verb=2):\n",
    "    software = copy.deepcopy(content)\n",
    "    software[1:3] = [noun, verb]\n",
    "    return software"
   ]
  },
  {
   "cell_type": "code",
   "execution_count": null,
   "metadata": {},
   "outputs": [],
   "source": [
    "software = write_software()\n",
    "intcode_computer(software, 0)\n",
    "print(f'Anwser 1: {software[0]}')"
   ]
  },
  {
   "cell_type": "markdown",
   "metadata": {},
   "source": [
    "__Part 2__"
   ]
  },
  {
   "cell_type": "code",
   "execution_count": null,
   "metadata": {},
   "outputs": [],
   "source": [
    "for noun in range(100):\n",
    "    for verb in range(100):\n",
    "        software = write_software(noun, verb)\n",
    "        intcode_computer(software, 0)\n",
    "        if software[0] == 19690720:\n",
    "            print('Answer 2: {}'.format(noun * 100 + verb))"
   ]
  },
  {
   "cell_type": "markdown",
   "metadata": {},
   "source": [
    "## Day 3\n",
    "\n",
    "http://adventofcode.com/2019/day/3"
   ]
  },
  {
   "cell_type": "code",
   "execution_count": null,
   "metadata": {},
   "outputs": [],
   "source": [
    "content = load_day(3)\n",
    "ex1 = [\"R75,D30,R83,U83,L12,D49,R71,U7,L72\", \"U62,R66,U55,R34,D71,R55,D58,R83\"]\n",
    "ex2 = [\"R98,U47,R26,D63,R33,U87,L62,D20,R33,U53,R51\", \"U98,R91,D20,R16,D67,R40,U7,R15,U6,R7\"]"
   ]
  },
  {
   "cell_type": "code",
   "execution_count": null,
   "metadata": {},
   "outputs": [],
   "source": [
    "content = [ c.split(',') for c in content]\n",
    "ex1 = [ c.split(',') for c in ex1]\n",
    "ex2 = [ c.split(',') for c in ex2]"
   ]
  },
  {
   "cell_type": "code",
   "execution_count": null,
   "metadata": {},
   "outputs": [],
   "source": [
    "def order_to_coords(value, from_coord):\n",
    "    orient = value[0]\n",
    "    length = int(value[1:])\n",
    "    \n",
    "    if orient == 'R':\n",
    "        return [(from_coord[0] + x, from_coord[1]) for x in range(1, length + 1)]\n",
    "    elif orient == 'L':\n",
    "        return [(from_coord[0] - x, from_coord[1]) for x in range(1, length + 1)]\n",
    "    elif orient == 'U':\n",
    "        return [(from_coord[0], from_coord[1] + x) for x in range(1, length + 1)]\n",
    "    elif orient == 'D':\n",
    "        return [(from_coord[0], from_coord[1] - x) for x in range(1, length + 1)]"
   ]
  },
  {
   "cell_type": "markdown",
   "metadata": {},
   "source": [
    "__Part 1__"
   ]
  },
  {
   "cell_type": "code",
   "execution_count": null,
   "metadata": {},
   "outputs": [],
   "source": [
    "paths = []\n",
    "\n",
    "for row in content:\n",
    "    cur_pos = (0, 0)\n",
    "    path = []\n",
    "\n",
    "    for order in row:\n",
    "        points = order_to_coords(order, cur_pos)\n",
    "        path += points\n",
    "        \n",
    "        cur_pos = points[-1]\n",
    "        \n",
    "    paths += [path]"
   ]
  },
  {
   "cell_type": "code",
   "execution_count": null,
   "metadata": {},
   "outputs": [],
   "source": [
    "intersections = set(paths[0]).intersection(set(paths[1]))\n",
    "sorted_intersections = sorted(intersections, key=lambda x: abs(x[0]) + abs(x[1]))\n",
    "print('Answer 1: {}'.format(abs(sorted_intersections[0][0]) + abs(sorted_intersections[0][1])))"
   ]
  },
  {
   "cell_type": "markdown",
   "metadata": {},
   "source": [
    "__Part 2__"
   ]
  },
  {
   "cell_type": "code",
   "execution_count": null,
   "metadata": {},
   "outputs": [],
   "source": [
    "distances = []\n",
    "for inter in intersections:\n",
    "    distances += [2 + paths[0].index(inter) + paths[1].index(inter)] # initial step for each path is not considered\n",
    "    \n",
    "print('Answer 2: {}'.format(min(distances)))"
   ]
  },
  {
   "cell_type": "markdown",
   "metadata": {},
   "source": [
    "## Day 4\n",
    "\n",
    "http://adventofcode.com/2019/day/4"
   ]
  },
  {
   "cell_type": "code",
   "execution_count": null,
   "metadata": {},
   "outputs": [],
   "source": [
    "# content = load_day(4)\n",
    "puzzle_input = \"145852-616942\""
   ]
  },
  {
   "cell_type": "markdown",
   "metadata": {},
   "source": [
    "__Part 1__"
   ]
  },
  {
   "cell_type": "code",
   "execution_count": null,
   "metadata": {},
   "outputs": [],
   "source": [
    "def check_input(value):\n",
    "    if not isinstance(value, str):\n",
    "        raise ValueError(\"input should be string\")\n",
    "        \n",
    "    elems = list(value)\n",
    "    \n",
    "    prev_elem = None\n",
    "    before_elem = None\n",
    "    \n",
    "    adjacent = False\n",
    "    decrease = False\n",
    "    \n",
    "    for e in elems:\n",
    "        if prev_elem is not None:\n",
    "            if not adjacent:\n",
    "                adjacent = prev_elem == e\n",
    "            if not decrease:\n",
    "                decrease = ord(prev_elem) > ord(e)\n",
    "\n",
    "        prev_elem = e\n",
    "    return adjacent and not decrease"
   ]
  },
  {
   "cell_type": "code",
   "execution_count": null,
   "metadata": {},
   "outputs": [],
   "source": [
    "candidates = []\n",
    "for v in range(*map(int, puzzle_input.split('-'))):\n",
    "    inp = str(v)\n",
    "    candidates += [inp] if check_input(inp) else []\n",
    "print(f'Answer 1: {len(candidates)}')"
   ]
  },
  {
   "cell_type": "markdown",
   "metadata": {},
   "source": [
    "__Part 2__"
   ]
  },
  {
   "cell_type": "code",
   "execution_count": null,
   "metadata": {},
   "outputs": [],
   "source": [
    "def lengths(value):\n",
    "    le = []\n",
    "    char = ''\n",
    "    count = 1\n",
    "    for v in value[1:]:\n",
    "        if v == char:\n",
    "            count += 1\n",
    "        else:\n",
    "            le.append(count)\n",
    "            count = 1\n",
    "            \n",
    "        char = v\n",
    "    return "
   ]
  },
  {
   "cell_type": "code",
   "execution_count": null,
   "metadata": {},
   "outputs": [],
   "source": [
    "for c in candidates:\n",
    "    \n",
    "    total += int(check_input2(str(v)))\n",
    "print(f'Answer 2: {total}')"
   ]
  },
  {
   "cell_type": "markdown",
   "metadata": {},
   "source": [
    "## Day 5\n",
    "\n",
    "http://adventofcode.com/2019/day/5"
   ]
  },
  {
   "cell_type": "code",
   "execution_count": null,
   "metadata": {},
   "outputs": [],
   "source": [
    "content = load_day(5)\n",
    "content = list(map(int, content[0].split(',')))"
   ]
  },
  {
   "cell_type": "markdown",
   "metadata": {},
   "source": [
    "__Part 1__"
   ]
  },
  {
   "cell_type": "code",
   "execution_count": null,
   "metadata": {},
   "outputs": [],
   "source": [
    "def pass_all_tests(input_value):\n",
    "    software = copy.deepcopy(content)\n",
    "    idx = 0\n",
    "\n",
    "    while software[idx] != 99:\n",
    "        outputs = intcode_computer(software, idx, input_value)\n",
    "        idx = outputs[\"idx\"]\n",
    "\n",
    "    return outputs[\"output\"]"
   ]
  },
  {
   "cell_type": "code",
   "execution_count": null,
   "metadata": {},
   "outputs": [],
   "source": [
    "print(f\"Answer 1: {pass_all_tests(1)}\")"
   ]
  },
  {
   "cell_type": "markdown",
   "metadata": {},
   "source": [
    "__Part 2__"
   ]
  },
  {
   "cell_type": "code",
   "execution_count": null,
   "metadata": {},
   "outputs": [],
   "source": [
    "print(f\"Answer 2: {pass_all_tests(5)}\")"
   ]
  },
  {
   "cell_type": "markdown",
   "metadata": {},
   "source": [
    "## Day 6\n",
    "\n",
    "http://adventofcode.com/2019/day/6"
   ]
  },
  {
   "cell_type": "code",
   "execution_count": null,
   "metadata": {},
   "outputs": [],
   "source": [
    "content = load_day(6)"
   ]
  },
  {
   "cell_type": "code",
   "execution_count": null,
   "metadata": {},
   "outputs": [],
   "source": [
    "children = collections.defaultdict(list)\n",
    "parents = {}\n",
    "\n",
    "for from_obj, to_obj in map(lambda l: l.split(')'), content):\n",
    "    children[from_obj] += [to_obj]\n",
    "    parents[to_obj] = from_obj"
   ]
  },
  {
   "cell_type": "markdown",
   "metadata": {},
   "source": [
    "__Part 1__"
   ]
  },
  {
   "cell_type": "code",
   "execution_count": null,
   "metadata": {},
   "outputs": [],
   "source": [
    "queue = ['COM']\n",
    "scores = {'COM': 0}\n",
    "\n",
    "while queue:\n",
    "    obj = queue.pop(0)\n",
    "    for child in children[obj]:\n",
    "        scores[child] = scores[obj] + 1\n",
    "        queue += [child]\n",
    "\n",
    "print(f\"Answer 1: {sum(scores.values())}\")"
   ]
  },
  {
   "cell_type": "markdown",
   "metadata": {},
   "source": [
    "__Part 2__"
   ]
  },
  {
   "cell_type": "code",
   "execution_count": null,
   "metadata": {},
   "outputs": [],
   "source": [
    "def get_path(obj):\n",
    "    path = []\n",
    "    while obj != 'COM':\n",
    "        path += [obj]\n",
    "        obj = parents[obj]\n",
    "    return path + [\"COM\"]"
   ]
  },
  {
   "cell_type": "code",
   "execution_count": null,
   "metadata": {},
   "outputs": [],
   "source": [
    "you_path = get_path(\"YOU\")\n",
    "san_path = get_path(\"SAN\")\n",
    "\n",
    "common_stars = set(you_path) & set(san_path)\n",
    "\n",
    "for idx in range(len(you_path)):\n",
    "    if you_path[idx] in common_stars:\n",
    "        you_length = idx\n",
    "        break\n",
    "\n",
    "for idx in range(len(san_path)):\n",
    "    if san_path[idx] in common_stars:\n",
    "        san_length = idx\n",
    "        break\n",
    "\n",
    "print(f\"Answer 2: {you_length + san_length - 2}\")  # first and last \"transfers\" do not count"
   ]
  },
  {
   "cell_type": "markdown",
   "metadata": {},
   "source": [
    "## Day 7\n",
    "\n",
    "http://adventofcode.com/2019/day/7"
   ]
  },
  {
   "cell_type": "code",
   "execution_count": null,
   "metadata": {},
   "outputs": [],
   "source": [
    "content = load_day(7)\n",
    "content = list(map(int, content[0].split(',')))"
   ]
  },
  {
   "cell_type": "markdown",
   "metadata": {},
   "source": [
    "__Part 1__"
   ]
  },
  {
   "cell_type": "code",
   "execution_count": null,
   "metadata": {},
   "outputs": [],
   "source": [
    "max_output = 0\n",
    "\n",
    "for perm in map(list, itertools.permutations(range(5))):\n",
    "    input_val = 0\n",
    "\n",
    "    while perm:\n",
    "        software = copy.deepcopy(content)\n",
    "        inputs = [perm.pop(0), input_val]\n",
    "        outputs = intcode_computer(software, 0, *inputs)\n",
    "        input_val = outputs[\"output\"]\n",
    "\n",
    "    if input_val > max_output:\n",
    "        max_output = input_val\n",
    "    \n",
    "print(f\"Anwser 1: {max_output}\")"
   ]
  },
  {
   "cell_type": "markdown",
   "metadata": {},
   "source": [
    "__Part 2__"
   ]
  },
  {
   "cell_type": "code",
   "execution_count": null,
   "metadata": {},
   "outputs": [],
   "source": [
    "max_output = 0\n",
    "\n",
    "for perm in map(list, itertools.permutations(range(5, 10))):\n",
    "    softwares = [content] * 5\n",
    "    pointers = [0] * 5\n",
    "    outputs = {}\n",
    "\n",
    "    ampli_idx = 0\n",
    "    input_val = 0\n",
    "    \n",
    "    stored_value = 0\n",
    "    \n",
    "    while True:\n",
    "        inputs = [softwares[ampli_idx], pointers[ampli_idx], input_val]\n",
    "\n",
    "        if perm:\n",
    "            inputs.insert(2, perm.pop(0))\n",
    "\n",
    "        outputs = intcode_computer(*inputs)\n",
    "\n",
    "        if softwares[ampli_idx][pointers[ampli_idx]] != 99:\n",
    "            input_val = outputs[\"output\"]\n",
    "            \n",
    "            pointers[ampli_idx] = outputs[\"idx\"]\n",
    "\n",
    "            if ampli_idx == 4:\n",
    "                stored_value = input_val\n",
    "\n",
    "            ampli_idx = (ampli_idx + 1) % 5\n",
    "        else:\n",
    "            break\n",
    "\n",
    "    if stored_value > max_output:\n",
    "        max_output = stored_value\n",
    "print(f\"Anwser 2: {max_output}\")"
   ]
  },
  {
   "cell_type": "markdown",
   "metadata": {},
   "source": [
    "## Day 8\n",
    "\n",
    "http://adventofcode.com/2019/day/8"
   ]
  },
  {
   "cell_type": "code",
   "execution_count": null,
   "metadata": {},
   "outputs": [],
   "source": [
    "content = load_day(8)[0]\n",
    "width, height = 25, 6"
   ]
  },
  {
   "cell_type": "markdown",
   "metadata": {},
   "source": [
    "__Part 1__"
   ]
  },
  {
   "cell_type": "code",
   "execution_count": null,
   "metadata": {},
   "outputs": [],
   "source": [
    "img_size = width * height\n",
    "N = len(content)\n",
    "\n",
    "images = []\n",
    "\n",
    "min_zero = img_size\n",
    "result = 0\n",
    "\n",
    "for idx in range(0, N, img_size):\n",
    "    layer = list(content[idx:idx+img_size])\n",
    "    counter = collections.Counter(layer)\n",
    "    \n",
    "    if counter['0'] < min_zero:\n",
    "        min_zero = counter['0']\n",
    "        result = counter['1'] * counter['2']\n",
    "    \n",
    "    images += [ np.array(layer) ]\n",
    "        \n",
    "print(f\"Answer 1: {result}\")"
   ]
  },
  {
   "cell_type": "markdown",
   "metadata": {},
   "source": [
    "__Part 2__"
   ]
  },
  {
   "cell_type": "code",
   "execution_count": null,
   "metadata": {},
   "outputs": [],
   "source": [
    "result_image = np.empty(img_size, dtype=\"str\")\n",
    "\n",
    "for img in images[::-1]:\n",
    "    result_image[img == \"1\"] = \"x\"\n",
    "    result_image[img == \"0\"] = \" \"\n",
    "    \n",
    "res = result_image.tolist()\n",
    "print(\"\\n\".join([''.join(res[width*i:width*(i+1)]) for i in range(height)]))"
   ]
  },
  {
   "cell_type": "markdown",
   "metadata": {},
   "source": [
    "## Day 9\n",
    "\n",
    "http://adventofcode.com/2019/day/9"
   ]
  },
  {
   "cell_type": "code",
   "execution_count": null,
   "metadata": {},
   "outputs": [],
   "source": [
    "content = load_day(9)"
   ]
  },
  {
   "cell_type": "markdown",
   "metadata": {},
   "source": [
    "__Part 1__"
   ]
  },
  {
   "cell_type": "markdown",
   "metadata": {},
   "source": [
    "__Part 2__"
   ]
  },
  {
   "cell_type": "markdown",
   "metadata": {},
   "source": [
    "## Day 10\n",
    "\n",
    "http://adventofcode.com/2019/day/10"
   ]
  },
  {
   "cell_type": "code",
   "execution_count": null,
   "metadata": {},
   "outputs": [],
   "source": [
    "content = load_day(10)"
   ]
  },
  {
   "cell_type": "markdown",
   "metadata": {},
   "source": [
    "__Part 1__"
   ]
  },
  {
   "cell_type": "markdown",
   "metadata": {},
   "source": [
    "__Part 2__"
   ]
  },
  {
   "cell_type": "markdown",
   "metadata": {},
   "source": [
    "## Day 11\n",
    "\n",
    "http://adventofcode.com/2019/day/11"
   ]
  },
  {
   "cell_type": "code",
   "execution_count": null,
   "metadata": {},
   "outputs": [],
   "source": [
    "content = load_day(11)"
   ]
  },
  {
   "cell_type": "markdown",
   "metadata": {},
   "source": [
    "__Part 1__"
   ]
  },
  {
   "cell_type": "markdown",
   "metadata": {},
   "source": [
    "__Part 2__"
   ]
  },
  {
   "cell_type": "markdown",
   "metadata": {},
   "source": [
    "## Day 12\n",
    "\n",
    "http://adventofcode.com/2019/day/12"
   ]
  },
  {
   "cell_type": "code",
   "execution_count": null,
   "metadata": {},
   "outputs": [],
   "source": [
    "content = load_day(12)"
   ]
  },
  {
   "cell_type": "markdown",
   "metadata": {},
   "source": [
    "__Part 1__"
   ]
  },
  {
   "cell_type": "markdown",
   "metadata": {},
   "source": [
    "__Part 2__"
   ]
  },
  {
   "cell_type": "markdown",
   "metadata": {},
   "source": [
    "## Day 13\n",
    "\n",
    "http://adventofcode.com/2019/day/13"
   ]
  },
  {
   "cell_type": "code",
   "execution_count": null,
   "metadata": {},
   "outputs": [],
   "source": [
    "content = load_day(13)"
   ]
  },
  {
   "cell_type": "markdown",
   "metadata": {},
   "source": [
    "__Part 1__"
   ]
  },
  {
   "cell_type": "markdown",
   "metadata": {},
   "source": [
    "__Part 2__"
   ]
  },
  {
   "cell_type": "markdown",
   "metadata": {},
   "source": [
    "## Day 14\n",
    "\n",
    "http://adventofcode.com/2019/day/14"
   ]
  },
  {
   "cell_type": "code",
   "execution_count": null,
   "metadata": {},
   "outputs": [],
   "source": [
    "content = load_day(14)"
   ]
  },
  {
   "cell_type": "markdown",
   "metadata": {},
   "source": [
    "__Part 1__"
   ]
  },
  {
   "cell_type": "markdown",
   "metadata": {},
   "source": [
    "__Part 2__"
   ]
  },
  {
   "cell_type": "markdown",
   "metadata": {},
   "source": [
    "## Day 15\n",
    "\n",
    "http://adventofcode.com/2019/day/15"
   ]
  },
  {
   "cell_type": "code",
   "execution_count": null,
   "metadata": {},
   "outputs": [],
   "source": [
    "content = load_day(15)"
   ]
  },
  {
   "cell_type": "markdown",
   "metadata": {},
   "source": [
    "__Part 1__"
   ]
  },
  {
   "cell_type": "markdown",
   "metadata": {},
   "source": [
    "__Part 2__"
   ]
  },
  {
   "cell_type": "markdown",
   "metadata": {},
   "source": [
    "## Day 16\n",
    "\n",
    "http://adventofcode.com/2019/day/16"
   ]
  },
  {
   "cell_type": "code",
   "execution_count": null,
   "metadata": {},
   "outputs": [],
   "source": [
    "content = load_day(16)"
   ]
  },
  {
   "cell_type": "markdown",
   "metadata": {},
   "source": [
    "__Part 1__"
   ]
  },
  {
   "cell_type": "markdown",
   "metadata": {},
   "source": [
    "__Part 2__"
   ]
  },
  {
   "cell_type": "markdown",
   "metadata": {},
   "source": [
    "## Day 17\n",
    "\n",
    "http://adventofcode.com/2019/day/17"
   ]
  },
  {
   "cell_type": "code",
   "execution_count": null,
   "metadata": {},
   "outputs": [],
   "source": [
    "content = load_day(17)"
   ]
  },
  {
   "cell_type": "markdown",
   "metadata": {},
   "source": [
    "__Part 1__"
   ]
  },
  {
   "cell_type": "markdown",
   "metadata": {},
   "source": [
    "__Part 2__"
   ]
  },
  {
   "cell_type": "markdown",
   "metadata": {},
   "source": [
    "## Day 18\n",
    "\n",
    "http://adventofcode.com/2019/day/18"
   ]
  },
  {
   "cell_type": "code",
   "execution_count": null,
   "metadata": {},
   "outputs": [],
   "source": [
    "content = load_day(18)"
   ]
  },
  {
   "cell_type": "markdown",
   "metadata": {},
   "source": [
    "__Part 1__"
   ]
  },
  {
   "cell_type": "markdown",
   "metadata": {},
   "source": [
    "__Part 2__"
   ]
  },
  {
   "cell_type": "markdown",
   "metadata": {},
   "source": [
    "## Day 19\n",
    "\n",
    "http://adventofcode.com/2019/day/19"
   ]
  },
  {
   "cell_type": "code",
   "execution_count": null,
   "metadata": {},
   "outputs": [],
   "source": [
    "content = load_day(19)"
   ]
  },
  {
   "cell_type": "markdown",
   "metadata": {},
   "source": [
    "__Part 1__"
   ]
  },
  {
   "cell_type": "markdown",
   "metadata": {},
   "source": [
    "__Part 2__"
   ]
  },
  {
   "cell_type": "markdown",
   "metadata": {},
   "source": [
    "## Day 20\n",
    "\n",
    "http://adventofcode.com/2019/day/20"
   ]
  },
  {
   "cell_type": "code",
   "execution_count": null,
   "metadata": {},
   "outputs": [],
   "source": [
    "content = load_day(20)"
   ]
  },
  {
   "cell_type": "markdown",
   "metadata": {},
   "source": [
    "__Part 1__"
   ]
  },
  {
   "cell_type": "markdown",
   "metadata": {},
   "source": [
    "__Part 2__"
   ]
  },
  {
   "cell_type": "markdown",
   "metadata": {},
   "source": [
    "## Day 21\n",
    "\n",
    "http://adventofcode.com/2019/day/21"
   ]
  },
  {
   "cell_type": "code",
   "execution_count": null,
   "metadata": {},
   "outputs": [],
   "source": [
    "content = load_day(21)"
   ]
  },
  {
   "cell_type": "markdown",
   "metadata": {},
   "source": [
    "__Part 1__"
   ]
  },
  {
   "cell_type": "markdown",
   "metadata": {},
   "source": [
    "__Part 2__"
   ]
  },
  {
   "cell_type": "markdown",
   "metadata": {},
   "source": [
    "## Day 22\n",
    "\n",
    "http://adventofcode.com/2019/day/22"
   ]
  },
  {
   "cell_type": "code",
   "execution_count": null,
   "metadata": {},
   "outputs": [],
   "source": [
    "content = load_day(22)"
   ]
  },
  {
   "cell_type": "markdown",
   "metadata": {},
   "source": [
    "__Part 1__"
   ]
  },
  {
   "cell_type": "markdown",
   "metadata": {},
   "source": [
    "__Part 2__"
   ]
  },
  {
   "cell_type": "markdown",
   "metadata": {},
   "source": [
    "## Day 23\n",
    "\n",
    "http://adventofcode.com/2019/day/23"
   ]
  },
  {
   "cell_type": "code",
   "execution_count": null,
   "metadata": {},
   "outputs": [],
   "source": [
    "content = load_day(23)"
   ]
  },
  {
   "cell_type": "markdown",
   "metadata": {},
   "source": [
    "__Part 1__"
   ]
  },
  {
   "cell_type": "markdown",
   "metadata": {},
   "source": [
    "__Part 2__"
   ]
  },
  {
   "cell_type": "markdown",
   "metadata": {},
   "source": [
    "## Day 24\n",
    "\n",
    "http://adventofcode.com/2019/day/24"
   ]
  },
  {
   "cell_type": "code",
   "execution_count": null,
   "metadata": {},
   "outputs": [],
   "source": [
    "content = load_day(24)"
   ]
  },
  {
   "cell_type": "markdown",
   "metadata": {},
   "source": [
    "__Part 1__"
   ]
  },
  {
   "cell_type": "markdown",
   "metadata": {},
   "source": [
    "__Part 2__"
   ]
  },
  {
   "cell_type": "markdown",
   "metadata": {},
   "source": [
    "## Day 25\n",
    "\n",
    "http://adventofcode.com/2019/day/25"
   ]
  },
  {
   "cell_type": "code",
   "execution_count": null,
   "metadata": {},
   "outputs": [],
   "source": [
    "content = load_day(25)"
   ]
  },
  {
   "cell_type": "markdown",
   "metadata": {},
   "source": [
    "__Part 1__"
   ]
  },
  {
   "cell_type": "markdown",
   "metadata": {},
   "source": [
    "__Part 2__"
   ]
  }
 ],
 "metadata": {
  "language_info": {
   "name": "python",
   "pygments_lexer": "ipython3"
  }
 },
 "nbformat": 4,
 "nbformat_minor": 2
}
