{
 "cells": [
  {
   "cell_type": "code",
   "execution_count": null,
   "metadata": {},
   "outputs": [],
   "source": [
    "import copy\n",
    "import itertools\n",
    "import functools\n",
    "import collections\n",
    "import operator\n",
    "import sys\n",
    "import re\n",
    "import numpy as np\n",
    "import math"
   ]
  },
  {
   "cell_type": "code",
   "execution_count": null,
   "metadata": {},
   "outputs": [],
   "source": [
    "from helpers.functions import *"
   ]
  },
  {
   "cell_type": "markdown",
   "metadata": {},
   "source": [
    "Configuration"
   ]
  },
  {
   "cell_type": "code",
   "execution_count": null,
   "metadata": {},
   "outputs": [],
   "source": [
    "DIR = \"data/2019/\"\n",
    "load_day = functools.partial(load, DIR)"
   ]
  },
  {
   "cell_type": "markdown",
   "metadata": {},
   "source": [
    "# Problems"
   ]
  },
  {
   "cell_type": "markdown",
   "metadata": {},
   "source": [
    "## Day 1\n",
    "\n",
    "http://adventofcode.com/2019/day/1"
   ]
  },
  {
   "cell_type": "code",
   "execution_count": null,
   "metadata": {},
   "outputs": [],
   "source": [
    "content = load_day(1)"
   ]
  },
  {
   "cell_type": "code",
   "execution_count": null,
   "metadata": {},
   "outputs": [],
   "source": [
    "def fuel(mass):\n",
    "    return mass // 3 - 2"
   ]
  },
  {
   "cell_type": "markdown",
   "metadata": {},
   "source": [
    "__Part 1__"
   ]
  },
  {
   "cell_type": "code",
   "execution_count": null,
   "metadata": {},
   "outputs": [],
   "source": [
    "total = 0\n",
    "\n",
    "for elem in map(int, content):\n",
    "    total += fuel(elem)\n",
    "    \n",
    "print(f'Answer 1: {total}')"
   ]
  },
  {
   "cell_type": "markdown",
   "metadata": {},
   "source": [
    "__Part 2__"
   ]
  },
  {
   "cell_type": "code",
   "execution_count": null,
   "metadata": {},
   "outputs": [],
   "source": [
    "total = 0\n",
    "\n",
    "for elem in map(int, content):\n",
    "    fuel_mass = fuel(elem)\n",
    "    while fuel_mass > 0:\n",
    "        total += fuel_mass\n",
    "        fuel_mass = fuel(fuel_mass)\n",
    "\n",
    "print(f'Answer 2: {total}')"
   ]
  },
  {
   "cell_type": "markdown",
   "metadata": {},
   "source": [
    "## Day 2\n",
    "\n",
    "http://adventofcode.com/2019/day/2"
   ]
  },
  {
   "cell_type": "code",
   "execution_count": null,
   "metadata": {},
   "outputs": [],
   "source": [
    "content = load_day(2)\n",
    "content = list(map(int, content[0].split(',')))\n",
    "N = len(content)"
   ]
  },
  {
   "cell_type": "markdown",
   "metadata": {},
   "source": [
    "__Part 1__"
   ]
  },
  {
   "cell_type": "code",
   "execution_count": null,
   "metadata": {},
   "outputs": [],
   "source": [
    "def program(noun=12, verb=2):\n",
    "    content[1] = noun\n",
    "    content[2] = verb\n",
    "\n",
    "    solution = copy.deepcopy(content)\n",
    "\n",
    "    for idx in range(0, N, 4):\n",
    "        if content[idx] == 99:\n",
    "            break\n",
    "        elif solution[idx] == 1:\n",
    "            solution[solution[idx+3]] = solution[solution[idx+1]] + solution[solution[idx+2]]\n",
    "        elif solution[idx] == 2:\n",
    "            solution[solution[idx+3]] = solution[solution[idx+1]] * solution[solution[idx+2]]\n",
    "        else:\n",
    "            print(\"error, code:\", solution[idx], \" position: \", idx)\n",
    "            \n",
    "    return solution"
   ]
  },
  {
   "cell_type": "code",
   "execution_count": null,
   "metadata": {},
   "outputs": [],
   "source": [
    "print('Anwser 1: {}'.format(program()[0]))"
   ]
  },
  {
   "cell_type": "markdown",
   "metadata": {},
   "source": [
    "__Part 2__"
   ]
  },
  {
   "cell_type": "code",
   "execution_count": null,
   "metadata": {},
   "outputs": [],
   "source": [
    "for noun in range(100):\n",
    "    for verb in range(100):\n",
    "        run = program(noun, verb)\n",
    "        if run[0] == 19690720:\n",
    "            print('Answer 2: {}'.format(run[1] * 100 + run[2]))"
   ]
  },
  {
   "cell_type": "markdown",
   "metadata": {},
   "source": [
    "## Day 3\n",
    "\n",
    "http://adventofcode.com/2019/day/3"
   ]
  },
  {
   "cell_type": "code",
   "execution_count": null,
   "metadata": {},
   "outputs": [],
   "source": [
    "content = load_day(3)\n",
    "ex1 = [\"R75,D30,R83,U83,L12,D49,R71,U7,L72\", \"U62,R66,U55,R34,D71,R55,D58,R83\"]\n",
    "ex2 = [\"R98,U47,R26,D63,R33,U87,L62,D20,R33,U53,R51\", \"U98,R91,D20,R16,D67,R40,U7,R15,U6,R7\"]"
   ]
  },
  {
   "cell_type": "code",
   "execution_count": null,
   "metadata": {},
   "outputs": [],
   "source": [
    "content = [ c.split(',') for c in content]\n",
    "ex1 = [ c.split(',') for c in ex1]\n",
    "ex2 = [ c.split(',') for c in ex2]"
   ]
  },
  {
   "cell_type": "code",
   "execution_count": null,
   "metadata": {},
   "outputs": [],
   "source": [
    "def order_to_coords(value, from_coord):\n",
    "    orient = value[0]\n",
    "    length = int(value[1:])\n",
    "    \n",
    "    if orient == 'R':\n",
    "        return [(from_coord[0] + x, from_coord[1]) for x in range(1, length + 1)]\n",
    "    elif orient == 'L':\n",
    "        return [(from_coord[0] - x, from_coord[1]) for x in range(1, length + 1)]\n",
    "    elif orient == 'U':\n",
    "        return [(from_coord[0], from_coord[1] + x) for x in range(1, length + 1)]\n",
    "    elif orient == 'D':\n",
    "        return [(from_coord[0], from_coord[1] - x) for x in range(1, length + 1)]"
   ]
  },
  {
   "cell_type": "markdown",
   "metadata": {},
   "source": [
    "__Part 1__"
   ]
  },
  {
   "cell_type": "code",
   "execution_count": null,
   "metadata": {},
   "outputs": [],
   "source": [
    "paths = []\n",
    "\n",
    "for row in content:\n",
    "    cur_pos = (0, 0)\n",
    "    path = []\n",
    "\n",
    "    for order in row:\n",
    "        points = order_to_coords(order, cur_pos)\n",
    "        path += points\n",
    "        \n",
    "        cur_pos = points[-1]\n",
    "        \n",
    "    paths += [path]"
   ]
  },
  {
   "cell_type": "code",
   "execution_count": null,
   "metadata": {},
   "outputs": [],
   "source": [
    "intersections = set(paths[0]).intersection(set(paths[1]))\n",
    "sorted_intersections = sorted(intersections, key=lambda x: abs(x[0]) + abs(x[1]))\n",
    "print('Answer 1: {}'.format(abs(sorted_intersections[0][0]) + abs(sorted_intersections[0][1])))"
   ]
  },
  {
   "cell_type": "markdown",
   "metadata": {},
   "source": [
    "__Part 2__"
   ]
  },
  {
   "cell_type": "code",
   "execution_count": null,
   "metadata": {},
   "outputs": [],
   "source": [
    "distances = []\n",
    "for inter in intersections:\n",
    "    distances += [2 + paths[0].index(inter) + paths[1].index(inter)] # initial step for each path is not considered\n",
    "    \n",
    "print('Answer 2: {}'.format(min(distances)))"
   ]
  },
  {
   "cell_type": "markdown",
   "metadata": {},
   "source": [
    "## Day 4\n",
    "\n",
    "http://adventofcode.com/2019/day/4"
   ]
  },
  {
   "cell_type": "code",
   "execution_count": null,
   "metadata": {},
   "outputs": [],
   "source": [
    "# content = load_day(4)\n",
    "puzzle_input = \"145852-616942\""
   ]
  },
  {
   "cell_type": "code",
   "execution_count": null,
   "metadata": {},
   "outputs": [],
   "source": [
    "list(\"test\")"
   ]
  },
  {
   "cell_type": "markdown",
   "metadata": {},
   "source": [
    "__Part 1__"
   ]
  },
  {
   "cell_type": "code",
   "execution_count": null,
   "metadata": {},
   "outputs": [],
   "source": [
    "def check_input(value):\n",
    "    if not isinstance(value, str):\n",
    "        raise ValueError(\"input should be string\")\n",
    "        \n",
    "    elems = list(value)\n",
    "    \n",
    "    prev_elem = None\n",
    "    before_elem = None\n",
    "    \n",
    "    adjacent = False\n",
    "    decrease = False\n",
    "    \n",
    "    for e in elems:\n",
    "        if prev_elem is not None:\n",
    "            if not adjacent:\n",
    "                adjacent = prev_elem == e\n",
    "            if not decrease:\n",
    "                decrease = ord(prev_elem) > ord(e)\n",
    "\n",
    "        prev_elem = e\n",
    "    return adjacent and not decrease"
   ]
  },
  {
   "cell_type": "code",
   "execution_count": null,
   "metadata": {},
   "outputs": [],
   "source": [
    "candidates = []\n",
    "for v in range(*map(int, puzzle_input.split('-'))):\n",
    "    inp = str(v)\n",
    "    candidates += [inp] if check_input(inp) else []\n",
    "print(f'Answer 1: {len(candidates)}')"
   ]
  },
  {
   "cell_type": "markdown",
   "metadata": {},
   "source": [
    "__Part 2__"
   ]
  },
  {
   "cell_type": "code",
   "execution_count": null,
   "metadata": {},
   "outputs": [],
   "source": [
    "def lengths(value):\n",
    "    le = []\n",
    "    char = ''\n",
    "    count = 1\n",
    "    for v in value[1:]:\n",
    "        if v == char:\n",
    "            count += 1\n",
    "        else:\n",
    "            le.append(count)\n",
    "            count = 1\n",
    "            \n",
    "        char = v\n",
    "    return "
   ]
  },
  {
   "cell_type": "code",
   "execution_count": null,
   "metadata": {},
   "outputs": [],
   "source": [
    "leng"
   ]
  },
  {
   "cell_type": "code",
   "execution_count": null,
   "metadata": {},
   "outputs": [],
   "source": [
    "for c in candidates:\n",
    "    \n",
    "    total += int(check_input2(str(v)))\n",
    "print(f'Answer 2: {total}')"
   ]
  },
  {
   "cell_type": "markdown",
   "metadata": {},
   "source": [
    "## Day 5\n",
    "\n",
    "http://adventofcode.com/2019/day/5"
   ]
  },
  {
   "cell_type": "code",
   "execution_count": null,
   "metadata": {},
   "outputs": [],
   "source": [
    "content = load_day(5)"
   ]
  },
  {
   "cell_type": "markdown",
   "metadata": {},
   "source": [
    "__Part 1__"
   ]
  },
  {
   "cell_type": "markdown",
   "metadata": {},
   "source": [
    "__Part 2__"
   ]
  },
  {
   "cell_type": "markdown",
   "metadata": {},
   "source": [
    "## Day 6\n",
    "\n",
    "http://adventofcode.com/2018/day/6"
   ]
  },
  {
   "cell_type": "code",
   "execution_count": null,
   "metadata": {},
   "outputs": [],
   "source": [
    "content = load_day(6)"
   ]
  },
  {
   "cell_type": "markdown",
   "metadata": {},
   "source": [
    "__Part 1__"
   ]
  },
  {
   "cell_type": "markdown",
   "metadata": {},
   "source": [
    "__Part 2__"
   ]
  },
  {
   "cell_type": "markdown",
   "metadata": {},
   "source": [
    "## Day 7\n",
    "\n",
    "http://adventofcode.com/2018/day/7"
   ]
  },
  {
   "cell_type": "code",
   "execution_count": null,
   "metadata": {},
   "outputs": [],
   "source": [
    "content = load_day(7)"
   ]
  },
  {
   "cell_type": "markdown",
   "metadata": {},
   "source": [
    "__Part 1__"
   ]
  },
  {
   "cell_type": "markdown",
   "metadata": {},
   "source": [
    "__Part 2__"
   ]
  },
  {
   "cell_type": "markdown",
   "metadata": {},
   "source": [
    "## Day 8\n",
    "\n",
    "http://adventofcode.com/2019/day/8"
   ]
  },
  {
   "cell_type": "code",
   "execution_count": null,
   "metadata": {},
   "outputs": [],
   "source": [
    "content = load_day(8)"
   ]
  },
  {
   "cell_type": "markdown",
   "metadata": {},
   "source": [
    "__Part 1__"
   ]
  },
  {
   "cell_type": "markdown",
   "metadata": {},
   "source": [
    "__Part 2__"
   ]
  }
 ],
 "metadata": {
  "language_info": {
   "name": "python",
   "pygments_lexer": "ipython3"
  }
 },
 "nbformat": 4,
 "nbformat_minor": 2
}
