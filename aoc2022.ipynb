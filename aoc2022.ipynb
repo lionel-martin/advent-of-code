{
 "cells": [
  {
   "cell_type": "markdown",
   "metadata": {},
   "source": [
    "# AOC 2022\n",
    "\n",
    "Welcome to the Advent of Code 2022 !"
   ]
  },
  {
   "cell_type": "markdown",
   "metadata": {},
   "source": [
    "## Basic configuration\n",
    "\n"
   ]
  },
  {
   "cell_type": "code",
   "execution_count": null,
   "metadata": {},
   "outputs": [],
   "source": [
    "! pip install -U advent-of-code-data numpy pandas networkx matplotlib scipy"
   ]
  },
  {
   "cell_type": "code",
   "execution_count": null,
   "metadata": {},
   "outputs": [],
   "source": [
    "import os\n",
    "\n",
    "os.environ['AOC_SESSION'] = open('session.txt').read().strip()"
   ]
  },
  {
   "cell_type": "code",
   "execution_count": null,
   "metadata": {},
   "outputs": [],
   "source": [
    "from aocd.models import Puzzle\n",
    "from collections import Counter, defaultdict\n",
    "from itertools import chain, product\n",
    "from numpy.typing import ArrayLike\n",
    "from pprint import pprint\n",
    "from queue import PriorityQueue\n",
    "from scipy import sparse\n",
    "from statistics import median\n",
    "from typing import Callable, Dict, Iterator, Mapping, Tuple\n",
    "import copy\n",
    "import functools\n",
    "import math\n",
    "import operator\n",
    "import networkx as nx\n",
    "import numpy as np\n",
    "import pandas as pd\n",
    "import sys\n",
    "import re"
   ]
  },
  {
   "cell_type": "markdown",
   "metadata": {},
   "source": [
    "## Day 25\n",
    "https://adventofcode.com/2022/day/25"
   ]
  },
  {
   "cell_type": "code",
   "execution_count": null,
   "metadata": {},
   "outputs": [],
   "source": [
    "puzzle = Puzzle(year=2022, day=25)\n",
    "input_data = \"\"\"1=-0-2\n",
    "12111\n",
    "2=0=\n",
    "21\n",
    "2=01\n",
    "111\n",
    "20012\n",
    "112\n",
    "1=-1=\n",
    "1-12\n",
    "12\n",
    "1=\n",
    "122\"\"\""
   ]
  },
  {
   "cell_type": "markdown",
   "metadata": {},
   "source": [
    "### Part 1"
   ]
  },
  {
   "cell_type": "code",
   "execution_count": null,
   "metadata": {},
   "outputs": [],
   "source": [
    "MAP = {\"-\" : -1, \"=\": -2}\n",
    "numbers = []\n",
    "for numb in puzzle.input_data.splitlines():\n",
    "    value = 0\n",
    "    # print(numb)\n",
    "    for idx, val in enumerate(numb[::-1]):\n",
    "        value += int(MAP.get(val, val)) * 5 ** idx\n",
    "        # print(idx, val, value)\n",
    "    numbers.append(value)\n",
    "\n",
    "total = sum(numbers)\n",
    "nb_digits = math.ceil(math.log(2*total) / math.log(5))"
   ]
  },
  {
   "cell_type": "code",
   "execution_count": null,
   "metadata": {},
   "outputs": [],
   "source": [
    "value = total\n",
    "nb_str = \"\"\n",
    "\n",
    "for i in range(nb_digits):\n",
    "    rest = value % 5\n",
    "    value = value // 5\n",
    "    \n",
    "    if rest == 3:\n",
    "        nb_str = f\"={nb_str}\"\n",
    "        value += 1\n",
    "    elif rest == 4:\n",
    "        nb_str = f\"-{nb_str}\"\n",
    "        value += 1\n",
    "    else:\n",
    "        nb_str = f\"{rest}{nb_str}\"\n",
    "puzzle.answer_a = nb_str"
   ]
  },
  {
   "cell_type": "markdown",
   "metadata": {},
   "source": [
    "## Day 24\n",
    "https://adventofcode.com/2022/day/24"
   ]
  },
  {
   "cell_type": "code",
   "execution_count": null,
   "metadata": {},
   "outputs": [],
   "source": [
    "puzzle = Puzzle(year=2022, day=24)"
   ]
  },
  {
   "cell_type": "markdown",
   "metadata": {},
   "source": [
    "### Part 1"
   ]
  },
  {
   "cell_type": "markdown",
   "metadata": {},
   "source": [
    "### Part 2"
   ]
  },
  {
   "cell_type": "markdown",
   "metadata": {},
   "source": [
    "## Day 23\n",
    "https://adventofcode.com/2022/day/23"
   ]
  },
  {
   "cell_type": "code",
   "execution_count": null,
   "metadata": {},
   "outputs": [],
   "source": [
    "puzzle = Puzzle(year=2022, day=23)"
   ]
  },
  {
   "cell_type": "markdown",
   "metadata": {},
   "source": [
    "### Part 1"
   ]
  },
  {
   "cell_type": "markdown",
   "metadata": {},
   "source": [
    "### Part 2"
   ]
  },
  {
   "cell_type": "markdown",
   "metadata": {},
   "source": [
    "## Day 22\n",
    "https://adventofcode.com/2022/day/22"
   ]
  },
  {
   "cell_type": "code",
   "execution_count": null,
   "metadata": {},
   "outputs": [],
   "source": [
    "puzzle = Puzzle(year=2022, day=22)\n",
    "input_data = \"\"\"        ...#\n",
    "        .#..\n",
    "        #...\n",
    "        ....\n",
    "...#.......#\n",
    "........#...\n",
    "..#....#....\n",
    "..........#.\n",
    "        ...#....\n",
    "        .....#..\n",
    "        .#......\n",
    "        ......#.\n",
    "\n",
    "10R5L5R10L4R5L5\"\"\""
   ]
  },
  {
   "cell_type": "markdown",
   "metadata": {},
   "source": [
    "### Part 1"
   ]
  },
  {
   "cell_type": "code",
   "execution_count": null,
   "metadata": {},
   "outputs": [],
   "source": [
    "board_str, instr = input_data.rsplit(\"\\n\", 1)\n",
    "while re_match := re.fullmatch(\"(\\d+[LR])(.*)\", instr):\n",
    "    next_instr, instr = re_match.groups()\n",
    "    nb_steps = int(next_instr[:-1])\n",
    "    \n",
    "    for step in range(nb_steps):\n",
    "        if board\n",
    "    \n",
    "    orient = (orient + (1 if next_instr[-1] == \"R\" else -1)) % 4\n",
    "    \n",
    "    \n",
    "nb_steps = int(instr)"
   ]
  },
  {
   "cell_type": "code",
   "execution_count": null,
   "metadata": {},
   "outputs": [],
   "source": [
    "board = pd.DataFrame([list(x) for x in board_str.splitlines()]).fillna(\" \")  # accessing is written board[col][row]\n",
    "pos = [0, board_str.index(\".\")]\n",
    "orient = 0  # facing right (1: down, 2: left, 3: up)"
   ]
  },
  {
   "cell_type": "code",
   "execution_count": null,
   "metadata": {},
   "outputs": [],
   "source": [
    "board.apply(lambda x: x != \" \")"
   ]
  },
  {
   "cell_type": "code",
   "execution_count": null,
   "metadata": {},
   "outputs": [],
   "source": [
    "board[3][4]"
   ]
  },
  {
   "cell_type": "code",
   "execution_count": null,
   "metadata": {},
   "outputs": [],
   "source": [
    "board"
   ]
  },
  {
   "cell_type": "markdown",
   "metadata": {},
   "source": [
    "### Part 2"
   ]
  },
  {
   "cell_type": "markdown",
   "metadata": {},
   "source": [
    "## Day 21\n",
    "https://adventofcode.com/2022/day/21"
   ]
  },
  {
   "cell_type": "code",
   "execution_count": null,
   "metadata": {},
   "outputs": [],
   "source": [
    "puzzle = Puzzle(year=2022, day=21)\n",
    "input_data = \"\"\"root: pppw + sjmn\n",
    "dbpl: 5\n",
    "cczh: sllz + lgvd\n",
    "zczc: 2\n",
    "ptdq: humn - dvpt\n",
    "dvpt: 3\n",
    "lfqf: 4\n",
    "humn: 5\n",
    "ljgn: 2\n",
    "sjmn: drzm * dbpl\n",
    "sllz: 4\n",
    "pppw: cczh / lfqf\n",
    "lgvd: ljgn * ptdq\n",
    "drzm: hmdt - zczc\n",
    "hmdt: 32\"\"\""
   ]
  },
  {
   "cell_type": "code",
   "execution_count": null,
   "metadata": {},
   "outputs": [],
   "source": [
    "texts = {}\n",
    "for row in puzzle.input_data.splitlines():\n",
    "    monkey, text = row.split(\": \")\n",
    "    texts[monkey] = text"
   ]
  },
  {
   "cell_type": "markdown",
   "metadata": {},
   "source": [
    "### Part 1"
   ]
  },
  {
   "cell_type": "code",
   "execution_count": null,
   "metadata": {},
   "outputs": [],
   "source": [
    "def run(texts):\n",
    "    \n",
    "    answers = {}\n",
    "    queue = [\"root\"]\n",
    "    \n",
    "    while len(queue):\n",
    "        monkey = queue.pop(0)\n",
    "        text = texts[monkey]\n",
    "\n",
    "        if monkey in answers:\n",
    "            continue\n",
    "\n",
    "        if re.fullmatch(\"\\d+\", text):\n",
    "            answers[monkey] = int(text)\n",
    "\n",
    "        else:\n",
    "            left_monkey, op, right_monkey = re.fullmatch(\"(\\w+) (.) (\\w+)\", text).groups()\n",
    "\n",
    "            if left_monkey not in answers:\n",
    "                queue.insert(0, left_monkey)\n",
    "            if right_monkey not in answers:\n",
    "                queue.insert(0, right_monkey)\n",
    "            if left_monkey in answers and right_monkey in answers:\n",
    "                answers[monkey] = eval(f\"{answers[left_monkey]} {op} {answers[right_monkey]}\")\n",
    "            else:\n",
    "                queue.append(monkey)\n",
    "\n",
    "    return answers"
   ]
  },
  {
   "cell_type": "code",
   "execution_count": null,
   "metadata": {},
   "outputs": [],
   "source": [
    "answers = run(texts)\n",
    "puzzle.answer_a = int(answers[\"root\"])"
   ]
  },
  {
   "cell_type": "markdown",
   "metadata": {},
   "source": [
    "### Part 2"
   ]
  },
  {
   "cell_type": "code",
   "execution_count": null,
   "metadata": {},
   "outputs": [],
   "source": [
    "left = answers[\"gqjg\"]\n",
    "right = answers[\"rpjv\"]\n",
    "texts[\"humn\"] = \"123\"\n",
    "answers = run(texts)\n",
    "new_left = answers[\"gqjg\"]\n",
    "delta = (left - new_left)\n",
    "puzzle.answer_b = str(int(120 + 3 * (left - right) / delta))"
   ]
  },
  {
   "cell_type": "markdown",
   "metadata": {},
   "source": [
    "## Day 20\n",
    "https://adventofcode.com/2022/day/20"
   ]
  },
  {
   "cell_type": "code",
   "execution_count": null,
   "metadata": {},
   "outputs": [],
   "source": [
    "puzzle = Puzzle(year=2022, day=20)\n",
    "input_data = \"1\\n2\\n-3\\n3\\n-2\\n0\\n4\\n\""
   ]
  },
  {
   "cell_type": "markdown",
   "metadata": {},
   "source": [
    "### Part 1"
   ]
  },
  {
   "cell_type": "code",
   "execution_count": null,
   "metadata": {},
   "outputs": [],
   "source": [
    "liste = list(enumerate(map(int, puzzle.input_data.splitlines())))  # initial position, value\n",
    "item0 = [x for x in liste if x[1] == 0][0]\n",
    "index = dict(liste)\n",
    "size = len(liste)\n",
    "for i in range(size):\n",
    "    # print([x[1] for x in liste])\n",
    "    old_idx = liste.index((i, index[i]))\n",
    "    initial_idx, value = liste.pop(old_idx)\n",
    "    new_idx = old_idx + value\n",
    "    if new_idx >= size:\n",
    "        new_idx %= size - new_idx // size\n",
    "    if new_idx < 0:\n",
    "        new_idx += size -1 \n",
    "    liste.insert(new_idx, (initial_idx, value))\n",
    "    # print(\"Moving\", index[i], \"to idx\", new_idx, \"between\", liste[(new_idx-1)%size][1], \"and\", liste[(new_idx+1)%size][1])\n",
    "\n",
    "# print([x[1] for x in liste])"
   ]
  },
  {
   "cell_type": "code",
   "execution_count": null,
   "metadata": {},
   "outputs": [],
   "source": [
    "total = 0\n",
    "for i in range(1000, 3001, 1000):\n",
    "    print(liste[(i + liste.index(item0))%size][1])\n",
    "    total += liste[(i + liste.index(item0))%size][1]\n",
    "\n",
    "puzzle.answer_a = total"
   ]
  },
  {
   "cell_type": "markdown",
   "metadata": {},
   "source": [
    "### Part 2"
   ]
  },
  {
   "cell_type": "code",
   "execution_count": null,
   "metadata": {},
   "outputs": [],
   "source": [
    "decryption_key = 811589153\n",
    "\n",
    "liste = list(enumerate(map(lambda x: int(x) * decryption_key, puzzle.input_data.splitlines())))  # initial position, value\n",
    "item0 = [x for x in liste if x[1] == 0][0]\n",
    "index = dict(liste)\n",
    "size = len(liste)\n",
    "for run in range(10):\n",
    "    for i in range(size):\n",
    "        # print([x[1] for x in liste])\n",
    "        old_idx = liste.index((i, index[i]))\n",
    "        initial_idx, value = liste.pop(old_idx)\n",
    "        new_idx = old_idx + (value % (size-1) )\n",
    "        if new_idx >= size:\n",
    "            new_idx %= size - new_idx // size\n",
    "        while new_idx < 0:\n",
    "            new_idx += size - 1 \n",
    "        liste.insert(new_idx, (initial_idx, value))\n",
    "        # print(\"Moving\", index[i], \"to idx\", new_idx, \"between\", liste[(new_idx-1)%size][1], \"and\", liste[(new_idx+1)%size][1])\n",
    "\n",
    "    # print([x[1] for x in liste])"
   ]
  },
  {
   "cell_type": "code",
   "execution_count": null,
   "metadata": {},
   "outputs": [],
   "source": [
    "total = 0\n",
    "for i in range(1000, 3001, 1000):\n",
    "    print(liste[(i + liste.index(item0))%size][1])\n",
    "    total += liste[(i + liste.index(item0))%size][1]\n",
    "\n",
    "puzzle.answer_b = total"
   ]
  },
  {
   "cell_type": "markdown",
   "metadata": {},
   "source": [
    "## Day 19\n",
    "\n",
    "\n",
    "https://adventofcode.com/2022/day/19"
   ]
  },
  {
   "cell_type": "code",
   "execution_count": null,
   "metadata": {},
   "outputs": [],
   "source": [
    "puzzle = Puzzle(year=2022, day=19)"
   ]
  },
  {
   "cell_type": "code",
   "execution_count": null,
   "metadata": {},
   "outputs": [],
   "source": [
    "test_input = \"\"\"Blueprint 1: Each ore robot costs 4 ore. Each clay robot costs 2 ore. Each obsidian robot costs 3 ore and 14 clay. Each geode robot costs 2 ore and 7 obsidian.\n",
    "Blueprint 2: Each ore robot costs 2 ore. Each clay robot costs 3 ore. Each obsidian robot costs 3 ore and 8 clay. Each geode robot costs 3 ore and 12 obsidian.\"\"\""
   ]
  },
  {
   "cell_type": "code",
   "execution_count": null,
   "metadata": {},
   "outputs": [],
   "source": [
    "blueprints = {}\n",
    "\n",
    "re_instr = re.compile(\"Blueprint (\\d+): Each ore robot costs (\\d+) ore. Each clay robot costs (\\d+) ore. Each obsidian robot costs (\\d+) ore and (\\d+) clay. Each geode robot costs (\\d+) ore and (\\d+) obsidian.\")\n",
    "\n",
    "# for instruction in puzzle.input_data.splitlines():\n",
    "for instruction in test_input.splitlines():\n",
    "    blueprint_idx, *costs = re_instr.match(instruction).groups()\n",
    "    blueprints[blueprint_idx] = [int(x) for x in costs]\n",
    "    # ore_cost, clay_cost, obsidian_cost_1, obsidian_cost_2, geode_cost_1, geode_cost_2 = costs"
   ]
  },
  {
   "cell_type": "code",
   "execution_count": null,
   "metadata": {},
   "outputs": [],
   "source": [
    "SIZE = 4\n",
    "\n",
    "for idx, blueprint in blueprints.items():\n",
    "    paths = [([1,0,0,0], [0,0,0,0])] # robots, storage\n",
    "    print(f\"BP {idx}: {blueprint}.\")\n",
    "    \n",
    "    for t in range(24):  # should be 24mn\n",
    "        next_round_paths = []\n",
    "        # print(f\"Time: {t+1}min\")\n",
    "        \n",
    "        for robots, storage in paths:\n",
    "            # print(f\"Analysing path {robots}, {storage}.\")\n",
    "            \n",
    "            # buy robots\n",
    "            for buying in [0, 1, 2, 4, 8] : # int equivalent of bool options\n",
    "                next_storage = copy.deepcopy(storage)\n",
    "                next_robots = copy.deepcopy(robots)\n",
    "                \n",
    "                if buying == 1 and storage[0] >= blueprint[0]:\n",
    "                    next_storage[0] -= blueprint[0]\n",
    "                    next_robots[0] += 1\n",
    "                \n",
    "                elif buying == 2 and storage[0] >= blueprint[1]:\n",
    "                    next_storage[0] -= blueprint[1]\n",
    "                    next_robots[1] += 1\n",
    "                \n",
    "                elif buying == 4 and storage[1] >= blueprint[3] and storage[0] >= blueprint[2]:\n",
    "                    next_storage[1] -= blueprint[3]\n",
    "                    next_storage[0] -= blueprint[2]\n",
    "                    next_robots[2] += 1\n",
    "                \n",
    "                elif buying == 8 and storage[2] >= blueprint[5] and storage[0] >= blueprint[4]:\n",
    "                    next_storage[2] -= blueprint[5]\n",
    "                    next_storage[0] -= blueprint[4]\n",
    "                    next_robots[3] += 1\n",
    "                \n",
    "                elif buying == 0:\n",
    "                    pass\n",
    "                \n",
    "                else:\n",
    "                    continue\n",
    "            \n",
    "                # gather resources\n",
    "                for i in range(SIZE):\n",
    "                    next_storage[i] += robots[i]\n",
    "                    \n",
    "                next_round_paths.append((next_robots, next_storage))\n",
    "                    \n",
    "        # triage of new paths\n",
    "        paths = []\n",
    "        print(\"LIST\")\n",
    "        print(next_round_paths)\n",
    "        all_paths = copy.deepcopy(next_round_paths)\n",
    "        while len(next_round_paths):\n",
    "            np = next_round_paths.pop(0)\n",
    "            print(\"Check \", np)\n",
    "            for p in paths:\n",
    "                print(\"against \", p)\n",
    "                if all([np[0][i] >= p[0][i] for i in range(SIZE)]):\n",
    "                    if any([np[0][i] > p[0][i] for i in range(SIZE)]) or all([np[1][i] >= p[1][i] for i in range(SIZE)]):\n",
    "                        paths.remove(p)\n",
    "                        paths.append(np)\n",
    "                        print(\"REMOVAL BREAK\")\n",
    "                        break\n",
    "                    \n",
    "                if all([np[0][i] <= p[0][i] and np[1][i] <= p[1][i] for i in range(SIZE)]):\n",
    "                    print(\"BREAK\")\n",
    "                    break\n",
    "            else:\n",
    "                print(\"ADD\")\n",
    "                paths.append(np)        \n",
    "        print(f\"After {t+1}min, you have {len(paths)} paths: {paths}.\")\n",
    "    break"
   ]
  },
  {
   "cell_type": "code",
   "execution_count": null,
   "metadata": {},
   "outputs": [],
   "source": [
    "t = [1, 2, 3]\n",
    "while len(t):\n",
    "    u = t.pop(0)\n",
    "    print(u)"
   ]
  },
  {
   "cell_type": "code",
   "execution_count": null,
   "metadata": {},
   "outputs": [],
   "source": [
    "SIZE = 4\n",
    "\n",
    "for idx, blueprint in blueprints.items():\n",
    "    paths = [([1,0,0,0], [0,0,0,0])]\n",
    "    print(f\"BP {idx}: {blueprint}.\")\n",
    "    \n",
    "    for t in range(6):\n",
    "        next_round_paths = []\n",
    "        print(f\"Time: {t+1}min\")\n",
    "        \n",
    "        for robots, storage in paths:\n",
    "            print(f\"Analysing path {robots}, {storage}.\")\n",
    "            \n",
    "            # buy robots\n",
    "            max_nb_robot3 = min(storage[2] // blueprint[5], storage[0] // blueprint[4])\n",
    "            for i3 in range(0, max_nb_robot3 + 1):                \n",
    "                max_nb_robot2 = min(storage[1] // blueprint[3], storage[0] // blueprint[2])\n",
    "                for i2 in range(0, max_nb_robot2 + 1):\n",
    "                    max_nb_robot1 = storage[0] // blueprint[1]\n",
    "                    for i1 in range(0, max_nb_robot1 + 1):\n",
    "                        max_nb_robot0 = storage[0] // blueprint[0]\n",
    "                        for i0 in range(0, max_nb_robot0 + 1):\n",
    "                            print([i0, i1, i2, i3])\n",
    "                            \n",
    "                            if storage[2] >= i3 * blueprint[5] and storage[1] >= i2 * blueprint[3] and storage[0] >= i3 * blueprint[4] + i2 * blueprint[2] + i1 * blueprint[1] + i0 * blueprint[0]:\n",
    "                                print(\"PASS\")\n",
    "                                next_storage = copy.deepcopy(storage)\n",
    "                                next_robots = copy.deepcopy(robots)\n",
    "\n",
    "                                new_robots = [i0, i1, i2, i3]\n",
    "                                # gather resources\n",
    "                                for i in range(SIZE):\n",
    "                                    next_storage[i] += robots[i]\n",
    "\n",
    "                                # retrieve robots\n",
    "                                for i in range(SIZE):\n",
    "                                    next_robots[i] += new_robots[i]\n",
    "\n",
    "                                next_round_paths.append((next_robots, next_storage))\n",
    "        paths = next_round_paths\n",
    "        # print(f\"New possibilities: {paths}.\")\n",
    "        \n",
    "        print(f\"After {t+1}min, you have {len(paths)} paths: {paths}.\")\n",
    "    break"
   ]
  },
  {
   "cell_type": "markdown",
   "metadata": {},
   "source": [
    "### Part 1"
   ]
  },
  {
   "cell_type": "markdown",
   "metadata": {},
   "source": [
    "### Part 2"
   ]
  },
  {
   "cell_type": "markdown",
   "metadata": {},
   "source": [
    "## Day 18\n",
    "https://adventofcode.com/2022/day/18"
   ]
  },
  {
   "cell_type": "code",
   "execution_count": null,
   "metadata": {},
   "outputs": [],
   "source": [
    "puzzle = Puzzle(year=2022, day=18)\n",
    "test_input = \"2,2,2\\n1,2,2\\n3,2,2\\n2,1,2\\n2,3,2\\n2,2,1\\n2,2,3\\n2,2,4\\n2,2,6\\n1,2,5\\n3,2,5\\n2,1,5\\n2,3,5\""
   ]
  },
  {
   "cell_type": "markdown",
   "metadata": {},
   "source": [
    "### Part 1"
   ]
  },
  {
   "cell_type": "code",
   "execution_count": null,
   "metadata": {},
   "outputs": [],
   "source": [
    "stones = []\n",
    "\n",
    "for stone in puzzle.input_data.splitlines():\n",
    "    coords = list(map(int, stone.split(\",\")))\n",
    "    stones.append(coords)\n",
    "\n",
    "np_stones = np.array(stones)"
   ]
  },
  {
   "cell_type": "code",
   "execution_count": null,
   "metadata": {},
   "outputs": [],
   "source": [
    "mins = np_stones.min(axis=0)\n",
    "maxs = np_stones.max(axis=0)\n",
    "sizes = [max + 1 for max, min in zip(maxs, mins)]\n",
    "\n",
    "existence = np.zeros(sizes, dtype=bool)\n",
    "for stone in stones:\n",
    "    existence[stone[0], stone[1], stone[2]] = True"
   ]
  },
  {
   "cell_type": "code",
   "execution_count": null,
   "metadata": {},
   "outputs": [],
   "source": [
    "def number_neighbors(stone_map, index):\n",
    "    total = 0\n",
    "    x, y, z = index\n",
    "    for a, b, c in [[x-1, y, z], [x+1, y, z], [x, y-1, z], [x, y+1, z], [x, y, z-1], [x, y, z+1]]:\n",
    "        try:\n",
    "            if stone_map[a, b, c]:\n",
    "                total += 1\n",
    "        except IndexError:\n",
    "            pass\n",
    "            \n",
    "    return total"
   ]
  },
  {
   "cell_type": "code",
   "execution_count": null,
   "metadata": {},
   "outputs": [],
   "source": [
    "total = 0\n",
    "for x in range(mins[0], maxs[0] + 1):\n",
    "    for y in range(mins[1], maxs[1] + 1):\n",
    "        for z in range(mins[2], maxs[2] + 1):\n",
    "            if existence[x, y, z]:\n",
    "                total += 6 - number_neighbors(existence, [x, y, z])\n",
    "                \n",
    "puzzle.answer_a = total\n",
    "print(total)"
   ]
  },
  {
   "cell_type": "markdown",
   "metadata": {},
   "source": [
    "### Part 2"
   ]
  },
  {
   "cell_type": "code",
   "execution_count": null,
   "metadata": {},
   "outputs": [],
   "source": [
    "def determine_cluster(stone_map, index):\n",
    "    vals = set()\n",
    "    x, y, z = index\n",
    "    for a, b, c in [[x-1, y, z], [x+1, y, z], [x, y-1, z], [x, y+1, z], [x, y, z-1], [x, y, z+1]]:\n",
    "        try:\n",
    "            if a < 0 or b < 0 or c < 0:\n",
    "                vals.add(0)\n",
    "            elif stone_map[a, b, c] not in [-1, 999]:\n",
    "                vals.add(stone_map[a, b, c])\n",
    "        except IndexError:\n",
    "            vals.add(0)\n",
    "\n",
    "    return vals"
   ]
  },
  {
   "cell_type": "code",
   "execution_count": null,
   "metadata": {},
   "outputs": [],
   "source": [
    "clusters = 1000 * existence.astype(int) - 1\n",
    "cluster_id = 1\n",
    "\n",
    "for x in range(mins[0], maxs[0] + 1):\n",
    "    for y in range(mins[1], maxs[1] + 1):\n",
    "        for z in range(mins[2], maxs[2] + 1):\n",
    "            if clusters[x,y,z] != 999:\n",
    "                vals = determine_cluster(clusters, [x, y, z])\n",
    "\n",
    "                if len(vals) == 0:\n",
    "                    min_v = cluster_id\n",
    "                    cluster_id += 1\n",
    "                else:\n",
    "                    min_v = min(vals)\n",
    "                    vals.remove(min_v)\n",
    "\n",
    "                clusters[x, y, z] = min_v\n",
    "                for v in vals:\n",
    "                    clusters[clusters == v] = min_v"
   ]
  },
  {
   "cell_type": "code",
   "execution_count": null,
   "metadata": {},
   "outputs": [],
   "source": [
    "def min_cluster(stone_map, index):\n",
    "    x, y, z = index\n",
    "    vals = {stone_map[x, y, z]}\n",
    "    for a, b, c in [[x-1, y, z], [x+1, y, z], [x, y-1, z], [x, y+1, z], [x, y, z-1], [x, y, z+1]]:\n",
    "        try:\n",
    "            # print(a, b, c, stone_map[a, b, c])\n",
    "            if a < 0 or b < 0 or c < 0:\n",
    "                continue\n",
    "            vals.add(stone_map[a, b, c])\n",
    "        except IndexError:\n",
    "            pass\n",
    "    # print(vals)\n",
    "    return min(vals)"
   ]
  },
  {
   "cell_type": "code",
   "execution_count": null,
   "metadata": {},
   "outputs": [],
   "source": [
    "for x in range(mins[0], maxs[0] + 1):\n",
    "    for y in range(mins[1], maxs[1] + 1):\n",
    "        for z in range(mins[2], maxs[2] + 1):\n",
    "            if clusters[x,y,z] != 999:\n",
    "                clusters[x, y, z] = min_cluster(clusters, [x, y, z])"
   ]
  },
  {
   "cell_type": "code",
   "execution_count": null,
   "metadata": {},
   "outputs": [],
   "source": [
    "for x in range(mins[0], maxs[0] + 1):\n",
    "        for y in range(mins[1], maxs[1] + 1):\n",
    "            for z in range(mins[2], maxs[2] + 1):\n",
    "                if clusters[x,y,z] != 999:\n",
    "                    clusters[x, y, z] = min_cluster(clusters, [x, y, z])"
   ]
  },
  {
   "cell_type": "code",
   "execution_count": null,
   "metadata": {},
   "outputs": [],
   "source": [
    "def number_neighbors2(stone_map, index):\n",
    "    total = 0\n",
    "    x, y, z = index\n",
    "    for a, b, c in [[x-1, y, z], [x+1, y, z], [x, y-1, z], [x, y+1, z], [x, y, z-1], [x, y, z+1]]:\n",
    "        try:\n",
    "            if stone_map[a, b, c] in [0]:\n",
    "                total += 1\n",
    "        except IndexError:\n",
    "            total += 1\n",
    "            \n",
    "    return total"
   ]
  },
  {
   "cell_type": "code",
   "execution_count": null,
   "metadata": {},
   "outputs": [],
   "source": [
    "total = 0\n",
    "for x in range(0, maxs[0] + 1):\n",
    "    for y in range(0, maxs[1] + 1):\n",
    "        for z in range(0, maxs[2] + 1):\n",
    "            if clusters[x, y, z] == 999:\n",
    "                total += number_neighbors2(clusters, [x, y, z])\n",
    "\n",
    "print(total)\n",
    "puzzle.answer_b = total"
   ]
  },
  {
   "cell_type": "code",
   "execution_count": null,
   "metadata": {},
   "outputs": [],
   "source": [
    "np.histogram(clusters, 999)"
   ]
  },
  {
   "cell_type": "markdown",
   "metadata": {},
   "source": [
    "## Day 17\n",
    "https://adventofcode.com/2022/day/17"
   ]
  },
  {
   "cell_type": "code",
   "execution_count": null,
   "metadata": {},
   "outputs": [],
   "source": [
    "puzzle = Puzzle(year=2022, day=17)\n",
    "input_data = \"\"\"####\n",
    "\n",
    ".#.\n",
    "###\n",
    ".#.\n",
    "\n",
    "..#\n",
    "..#\n",
    "###\n",
    "\n",
    "#\n",
    "#\n",
    "#\n",
    "#\n",
    "\n",
    "##\n",
    "##\"\"\""
   ]
  },
  {
   "cell_type": "markdown",
   "metadata": {},
   "source": [
    "### Part 1"
   ]
  },
  {
   "cell_type": "markdown",
   "metadata": {},
   "source": [
    "### Part 2"
   ]
  },
  {
   "cell_type": "markdown",
   "metadata": {},
   "source": [
    "## Day 16\n",
    "https://adventofcode.com/2022/day/16"
   ]
  },
  {
   "cell_type": "code",
   "execution_count": null,
   "metadata": {},
   "outputs": [],
   "source": [
    "puzzle = Puzzle(year=2022, day=16)\n",
    "test_input = \"Valve AA has flow rate=0; tunnels lead to valves DD, II, BB\\nValve BB has flow rate=13; tunnels lead to valves CC, AA\\nValve CC has flow rate=2; tunnels lead to valves DD, BB\\nValve DD has flow rate=20; tunnels lead to valves CC, AA, EE\\nValve EE has flow rate=3; tunnels lead to valves FF, DD\\nValve FF has flow rate=0; tunnels lead to valves EE, GG\\nValve GG has flow rate=0; tunnels lead to valves FF, HH\\nValve HH has flow rate=22; tunnel leads to valve GG\\nValve II has flow rate=0; tunnels lead to valves AA, JJ\\nValve JJ has flow rate=21; tunnel leads to valve II\""
   ]
  },
  {
   "cell_type": "code",
   "execution_count": null,
   "metadata": {},
   "outputs": [],
   "source": [
    "G = nx.Graph()\n",
    "weights = {}\n",
    "\n",
    "re_instr = re.compile(\"Valve (\\w+) has flow rate=(\\d+); tunnels* leads* to valves* (.*)\")\n",
    "\n",
    "for instruction in puzzle.input_data.splitlines():\n",
    "# for instruction in test_input.splitlines():\n",
    "    node, flow, neighbors = re_instr.match(instruction).groups()\n",
    "    \n",
    "    weights[node] = int(flow)\n",
    "    \n",
    "    for neighbor in neighbors.split(\", \"):\n",
    "        G.add_edge(node, neighbor)"
   ]
  },
  {
   "cell_type": "markdown",
   "metadata": {},
   "source": [
    "### Part 1"
   ]
  },
  {
   "cell_type": "code",
   "execution_count": null,
   "metadata": {},
   "outputs": [],
   "source": [
    "paths = dict(nx.all_pairs_shortest_path_length(G))\n",
    "nodes = list(G)"
   ]
  },
  {
   "cell_type": "code",
   "execution_count": null,
   "metadata": {},
   "outputs": [],
   "source": [
    "# Dynamic programming works for test but not my input ?!\n",
    "\n",
    "flows = defaultdict(list)\n",
    "for n in nodes:\n",
    "    flows[n].append(([0], [], n)) # flow by step, list of activated nodes, current location\n",
    "    flows[n].append(([0, weights[n]], [n], n))\n",
    "    \n",
    "for t in range(2, 30):\n",
    "    for n in nodes:\n",
    "        flow_t_n, max_sum_flow = [], -1\n",
    "        for d in range(0, t):\n",
    "            dynam_target, activated_by_target, current_node = flows[n][t-(d+1)]\n",
    "            # print(d, dynam_target, activated_by_target, current_node)\n",
    "            max_additional_weight_at_dist, new_activation = max([(0, current_node)] + [(weights[k], k) for k, v in paths[current_node].items() if v == d and k not in activated_by_target])\n",
    "            flow = dynam_target + d * [dynam_target[-1]] + [dynam_target[-1] + max_additional_weight_at_dist]\n",
    "            if sum(flow) > max_sum_flow:\n",
    "                max_sum_flow = sum(flow)\n",
    "                # print(max_sum_flow, max_additional_weight_at_dist, new_activation)\n",
    "                activation = copy.deepcopy(activated_by_target)\n",
    "                if new_activation not in activation:\n",
    "                    activation += [new_activation]\n",
    "                flow_t_n = (flow, activation, new_activation)\n",
    "                \n",
    "        flows[n].append(flow_t_n)"
   ]
  },
  {
   "cell_type": "code",
   "execution_count": null,
   "metadata": {},
   "outputs": [],
   "source": [
    "pprint(flows[\"AA\"])"
   ]
  },
  {
   "cell_type": "code",
   "execution_count": null,
   "metadata": {},
   "outputs": [],
   "source": [
    "m = 0\n",
    "for n in nodes:\n",
    "    val = sum(flows[n][-1][0])\n",
    "    if val > m:\n",
    "        m = val\n",
    "print(m)"
   ]
  },
  {
   "cell_type": "code",
   "execution_count": null,
   "metadata": {},
   "outputs": [],
   "source": [
    "sum(flows[\"AA\"][-1][0])\n",
    "# puzzle.answer_a = sum(flows[\"AA\"][-1][0])"
   ]
  },
  {
   "cell_type": "code",
   "execution_count": null,
   "metadata": {},
   "outputs": [],
   "source": [
    "# Greedy does not work\n",
    "\n",
    "activated, flows, flow, node = [], [], 0, \"AA\"\n",
    "p1_weights = copy.deepcopy(weights)\n",
    "\n",
    "while p1_weights:\n",
    "    dists = paths[node]\n",
    "    sorted_weights = sorted([(n, p1_weights.get(n, 0) / (2+dists[n])) for n in nodes], key=lambda x: -x[1])\n",
    "    print(sorted_weights)\n",
    "    node = sorted_weights[0][0]\n",
    "    print(node)\n",
    "    flows += [flow] * (1 + dists[node])\n",
    "    flow += p1_weights[node]\n",
    "    del p1_weights[node]\n",
    "flows += [flow]"
   ]
  },
  {
   "cell_type": "code",
   "execution_count": null,
   "metadata": {},
   "outputs": [],
   "source": [
    "flows += [flow] * 30\n",
    "print(flows)\n",
    "sum(flows[:30])\n",
    "\n",
    "# puzzle.answer_a = sum(flows[:30])"
   ]
  },
  {
   "cell_type": "markdown",
   "metadata": {},
   "source": [
    "### Part 2"
   ]
  },
  {
   "cell_type": "markdown",
   "metadata": {},
   "source": [
    "## Day 15\n",
    "https://adventofcode.com/2022/day/15"
   ]
  },
  {
   "cell_type": "code",
   "execution_count": null,
   "metadata": {},
   "outputs": [],
   "source": [
    "puzzle = Puzzle(year=2022, day=15)"
   ]
  },
  {
   "cell_type": "code",
   "execution_count": null,
   "metadata": {},
   "outputs": [],
   "source": [
    "re_info = re.compile(\"Sensor at x=(-*\\d+), y=(-*\\d+): closest beacon is at x=(-*\\d+), y=(-*\\d+)\")"
   ]
  },
  {
   "cell_type": "markdown",
   "metadata": {},
   "source": [
    "### Part 1"
   ]
  },
  {
   "cell_type": "code",
   "execution_count": null,
   "metadata": {},
   "outputs": [],
   "source": [
    "crossings = set()\n",
    "beacons = set()\n",
    "\n",
    "for info in puzzle.input_data.splitlines():\n",
    "    sx, sy, bx, by = list(map(int, re_info.match(info).groups()))\n",
    "    beacons.add((bx, by))\n",
    "    \n",
    "    dist = abs(sx-bx) + abs(sy-by)\n",
    "    remaining_dist = dist - abs(2000000 - sy)\n",
    "\n",
    "    for i in range(remaining_dist + 1):\n",
    "        crossings.add(sx + i)\n",
    "        crossings.add(sx - i)\n",
    "\n",
    "for bx, by in beacons:\n",
    "    if by == 2000000:\n",
    "        crossings.remove(bx)\n",
    "\n",
    "puzzle.answer_a = len(crossings)"
   ]
  },
  {
   "cell_type": "markdown",
   "metadata": {},
   "source": [
    "### Part 2"
   ]
  },
  {
   "cell_type": "code",
   "execution_count": null,
   "metadata": {},
   "outputs": [],
   "source": [
    "candidates = set()\n",
    "sensors = {}  # (x, y) : dist to beacon\n",
    "\n",
    "for index, info in enumerate(puzzle.input_data.splitlines()):\n",
    "    sx, sy, bx, by = list(map(int, re_info.match(info).groups()))\n",
    "    dist = abs(sx-bx) + abs(sy-by)\n",
    "    sensors[(sx, sy)] = dist\n",
    "    print(f\"Sensor n° {index}: {sx}, {sy}, {bx}, {by}, {dist}\")\n",
    "\n",
    "    for dx in range(-dist-1, dist+2):\n",
    "        rem_dist = dist+1 - abs(dx)\n",
    "        for dy in [-rem_dist, rem_dist]:\n",
    "            if 0 <= sx + dx <= 4000000 and 0 <= sy + dy <= 4000000:\n",
    "                candidates.add((sx + dx, sy + dy))\n",
    "\n",
    "len(candidates)"
   ]
  },
  {
   "cell_type": "code",
   "execution_count": null,
   "metadata": {},
   "outputs": [],
   "source": [
    "for cand in candidates:\n",
    "    is_location = None\n",
    "    for sensor, dist_to_beacon in sensors.items():\n",
    "        if abs(cand[0] - sensor[0]) + abs(cand[1] - sensor[1]) <= dist_to_beacon:\n",
    "            is_location = False\n",
    "        if is_location is False:\n",
    "            break\n",
    "    if is_location is None:\n",
    "        print(cand)\n",
    "        break\n",
    "puzzle.answer_b = cand[0]*4000000+cand[1]"
   ]
  },
  {
   "cell_type": "code",
   "execution_count": null,
   "metadata": {},
   "outputs": [],
   "source": [
    "## Apparently do not work!\n",
    "\n",
    "sensors = {}  # (x, y) : dist to beacon\n",
    "\n",
    "for index, info in enumerate(puzzle.input_data.splitlines()):\n",
    "    sx, sy, bx, by = list(map(int, re_info.match(info).groups()))\n",
    "    dist = abs(sx-bx) + abs(sy-by)\n",
    "    sensors[(sx, sy)] = dist\n",
    "    print(f\"Sensor n° {index}: {sx}, {sy}, {bx}, {by}, {dist}\")\n",
    "\n",
    "print()\n",
    "for index, info in enumerate(puzzle.input_data.splitlines()):\n",
    "    print(f\"Scanning border of sensor n° {index}...\")\n",
    "\n",
    "    for dx in range(-dist-1, dist+2):\n",
    "        rem_dist = dist+1 - abs(dx)\n",
    "        for dy in [-rem_dist, rem_dist]:\n",
    "            if 0 <= sx + dx <= 4000000 and 0 <= sy + dy <= 4000000:\n",
    "                candidate = (sx + dx, sy + dy)\n",
    "                is_location = None\n",
    "                \n",
    "                for sensor, dist_to_beacon in sensors.items():\n",
    "                    if abs(candidate[0] - sensor[0]) + abs(candidate[1] - sensor[1]) <= dist_to_beacon:\n",
    "                        is_location = False\n",
    "                    if is_location is False:\n",
    "                        break\n",
    "                if is_location is None:\n",
    "                    print(candidate)\n",
    "                    puzzle.answer_b = candidate[0] * 4000000 + candidate[1]\n",
    "                    system.exit(0)"
   ]
  },
  {
   "cell_type": "markdown",
   "metadata": {},
   "source": [
    "## Day 14\n",
    "https://adventofcode.com/2022/day/14"
   ]
  },
  {
   "cell_type": "code",
   "execution_count": null,
   "metadata": {},
   "outputs": [],
   "source": [
    "puzzle = Puzzle(year=2022, day=14)"
   ]
  },
  {
   "cell_type": "code",
   "execution_count": null,
   "metadata": {},
   "outputs": [],
   "source": [
    "cavern = {}\n",
    "\n",
    "for instructions in puzzle.input_data.splitlines():\n",
    "    inst = instructions.split(\" -> \")\n",
    "    for start, end in zip(inst[:-1], inst[1:]):\n",
    "        sx, sy = list(map(int, start.split(\",\")))\n",
    "        ex, ey = list(map(int, end.split(\",\")))\n",
    "        print(sx, ex, sy, ey)\n",
    "        # TODO : should handle negatives\n",
    "        for dx in range(abs(ex - sx) + 1):\n",
    "            for dy in range(abs(ey - sy) + 1):\n",
    "                mx = min(ex, sx)\n",
    "                my = min(ey, sy)\n",
    "                cavern[(mx + dx, my + dy)] = \"#\""
   ]
  },
  {
   "cell_type": "code",
   "execution_count": null,
   "metadata": {},
   "outputs": [],
   "source": [
    "cavern"
   ]
  },
  {
   "cell_type": "markdown",
   "metadata": {},
   "source": [
    "\n",
    "### Part 1"
   ]
  },
  {
   "cell_type": "code",
   "execution_count": null,
   "metadata": {},
   "outputs": [],
   "source": [
    "xs = [x[0] for x in cavern.keys()]\n",
    "ys = [x[1] for x in cavern.keys()]\n",
    "min_x = min(xs)\n",
    "max_x = max(xs)\n",
    "min_y = min(ys)\n",
    "max_y = max(ys)"
   ]
  },
  {
   "cell_type": "code",
   "execution_count": null,
   "metadata": {},
   "outputs": [],
   "source": [
    "void = max_y\n",
    "sand = (500, 0)\n",
    "resting_sands = set()\n",
    "\n",
    "while sand[1] < void:\n",
    "    for dx in [0, -1, 1]:\n",
    "        next_sand = (sand[0] + dx, sand[1] + 1)\n",
    "        if next_sand not in cavern and next_sand not in resting_sands:\n",
    "            sand = next_sand\n",
    "            break\n",
    "    else:\n",
    "        resting_sands.add(sand)\n",
    "        sand = (500, 0)\n",
    "        \n",
    "puzzle.answer_a = len(resting_sands)"
   ]
  },
  {
   "cell_type": "markdown",
   "metadata": {},
   "source": [
    "### Part 2"
   ]
  },
  {
   "cell_type": "code",
   "execution_count": null,
   "metadata": {},
   "outputs": [],
   "source": [
    "ground_level = max_y + 2\n",
    "sand = (500, 0)\n",
    "resting_sands = set()\n",
    "\n",
    "while True:\n",
    "    for dx in [0, -1, 1]:\n",
    "        next_sand = (sand[0] + dx, sand[1] + 1)\n",
    "        if next_sand not in cavern and next_sand not in resting_sands and next_sand[1] < ground_level:\n",
    "            sand = next_sand\n",
    "            break\n",
    "    else:\n",
    "        if sand == (500, 0):\n",
    "            resting_sands.add(sand)\n",
    "            break\n",
    "            \n",
    "        resting_sands.add(sand)\n",
    "        sand = (500, 0)\n",
    "        \n",
    "puzzle.answer_b = len(resting_sands)"
   ]
  },
  {
   "cell_type": "markdown",
   "metadata": {},
   "source": [
    "## Day 13\n",
    "\n",
    "_List comparison_\n",
    "\n",
    "https://adventofcode.com/2022/day/13"
   ]
  },
  {
   "cell_type": "code",
   "execution_count": null,
   "metadata": {},
   "outputs": [],
   "source": [
    "puzzle = Puzzle(year=2022, day=13)"
   ]
  },
  {
   "cell_type": "code",
   "execution_count": null,
   "metadata": {},
   "outputs": [],
   "source": [
    "input_test = \"[1,1,3,1,1]\\n[1,1,5,1,1]\\n\\n[[1],[2,3,4]]\\n[[1],4]\\n\\n[9]\\n[[8,7,6]]\\n\\n[[4,4],4,4]\\n[[4,4],4,4,4]\\n\\n[7,7,7,7]\\n[7,7,7]\\n\\n[]\\n[3]\\n\\n[[[]]]\\n[[]]\\n\\n[1,[2,[3,[4,[5,6,7]]]],8,9]\\n[1,[2,[3,[4,[5,6,0]]]],8,9]\""
   ]
  },
  {
   "cell_type": "code",
   "execution_count": null,
   "metadata": {},
   "outputs": [],
   "source": [
    "def compare(left, right):\n",
    "    \"\"\"Ensure that left and right are in order\"\"\"\n",
    "\n",
    "    if isinstance(left, int) and isinstance(right, int):\n",
    "        return left - right\n",
    "        \n",
    "    if isinstance(left, list) and isinstance(right, list):\n",
    "        result = 0\n",
    "        for values in zip(left, right):\n",
    "\n",
    "                result = compare(*values)\n",
    "                if result != 0:\n",
    "                    return result\n",
    "            \n",
    "        if len(left) != len(right):\n",
    "            return len(left) - len(right)\n",
    "\n",
    "    else:\n",
    "        if isinstance(left, int):\n",
    "            return compare([left], right)\n",
    "        else:\n",
    "            return compare(left, [right])\n",
    "        \n",
    "    return 0"
   ]
  },
  {
   "cell_type": "markdown",
   "metadata": {},
   "source": [
    "### Part 1"
   ]
  },
  {
   "cell_type": "code",
   "execution_count": null,
   "metadata": {},
   "outputs": [],
   "source": [
    "total = 0\n",
    "\n",
    "for index, problem in enumerate(puzzle.input_data.split(\"\\n\\n\")):\n",
    "    left, right = problem.splitlines()\n",
    "    if compare(eval(left), eval(right)) < 0:\n",
    "        total += index + 1\n",
    "        \n",
    "puzzle.answer_a = total"
   ]
  },
  {
   "cell_type": "markdown",
   "metadata": {},
   "source": [
    "### Part 2"
   ]
  },
  {
   "cell_type": "code",
   "execution_count": null,
   "metadata": {},
   "outputs": [],
   "source": [
    "packets = list(map(eval, filter(bool, puzzle.input_data.splitlines()))) + [[[2]], [[6]]]\n",
    "sorted_packets = sorted(packets, key=functools.cmp_to_key(compare))\n",
    "\n",
    "first_idx = 1 + sorted_packets.index([[2]])\n",
    "second_idx = 1 + sorted_packets.index([[6]])\n",
    "puzzle.answer_b = first_idx * second_idx"
   ]
  },
  {
   "cell_type": "markdown",
   "metadata": {},
   "source": [
    "## Day 12\n",
    "\n",
    "_Pandas, networkx, graph theory_\n",
    "\n",
    "https://adventofcode.com/2022/day/12"
   ]
  },
  {
   "cell_type": "code",
   "execution_count": null,
   "metadata": {},
   "outputs": [],
   "source": [
    "puzzle = Puzzle(year=2022, day=12)"
   ]
  },
  {
   "cell_type": "code",
   "execution_count": null,
   "metadata": {},
   "outputs": [],
   "source": [
    "G = nx.DiGraph()\n",
    "nodes = pd.DataFrame(map(lambda x: list(x), puzzle.input_data.splitlines()))\n",
    "nb_rows, nb_cols = nodes.shape\n",
    "\n",
    "start = np.where(nodes == \"S\")\n",
    "exit = np.where(nodes == \"E\")\n",
    "nodes[nodes == \"S\"] = \"a\"\n",
    "nodes[nodes == \"E\"] = \"z\"\n",
    "\n",
    "for y in range(nb_cols):\n",
    "    for x in range(nb_rows):\n",
    "        for dx, dy in [[-1, 0], [1, 0], [0, -1], [0, 1]]:\n",
    "            try:\n",
    "                if ord(nodes[y+dy][x+dx]) <= ord(nodes[y][x]) + 1:\n",
    "                    G.add_edge((x, y), (x+dx, y+dy))\n",
    "            except KeyError:\n",
    "                pass"
   ]
  },
  {
   "cell_type": "markdown",
   "metadata": {},
   "source": [
    "### Part 1"
   ]
  },
  {
   "cell_type": "code",
   "execution_count": null,
   "metadata": {},
   "outputs": [],
   "source": [
    "puzzle.answer_a = nx.shortest_path_length(G, (start[0][0], start[1][0]), (exit[0][0], exit[1][0]))"
   ]
  },
  {
   "cell_type": "markdown",
   "metadata": {},
   "source": [
    "### Part 2"
   ]
  },
  {
   "cell_type": "code",
   "execution_count": null,
   "metadata": {},
   "outputs": [],
   "source": [
    "rows, cols = np.where(nodes == \"a\")\n",
    "starting_candidates = list(zip(rows, cols))\n",
    "\n",
    "dists_to_exit = nx.shortest_path_length(G, target=(exit[0][0], exit[1][0]), method=\"bellman-ford\")\n",
    "\n",
    "for point, distance in dists_to_exit.items():\n",
    "    if point in starting_candidates:\n",
    "        puzzle.answer_b = distance\n",
    "        break"
   ]
  },
  {
   "cell_type": "markdown",
   "metadata": {},
   "source": [
    "## Day 11\n",
    "\n",
    "_Class, algebra_\n",
    "\n",
    "https://adventofcode.com/2022/day/11"
   ]
  },
  {
   "cell_type": "code",
   "execution_count": null,
   "metadata": {},
   "outputs": [],
   "source": [
    "puzzle = Puzzle(year=2022, day=11)"
   ]
  },
  {
   "cell_type": "code",
   "execution_count": null,
   "metadata": {},
   "outputs": [],
   "source": [
    "def monkey_business_level(monkeys):\n",
    "    sorted_monkeys = sorted(monkeys, key=lambda m: -m.nb_ops)\n",
    "    return sorted_monkeys[0].nb_ops * sorted_monkeys[1].nb_ops"
   ]
  },
  {
   "cell_type": "code",
   "execution_count": null,
   "metadata": {},
   "outputs": [],
   "source": [
    "class Monkey:\n",
    "    \n",
    "    nb_ops = 0\n",
    "    \n",
    "    def __init__(self, stash, operation, test_function):\n",
    "        self.stash = stash\n",
    "        self.operation = lambda old: eval(operation)\n",
    "        self.test_function = lambda x: test_function[2] if x % test_function[0] else test_function[1]\n",
    "        \n",
    "        self._operation = operation\n",
    "        self._test_function = test_function\n",
    "        \n",
    "    def __str__(self):\n",
    "        return f\"Monkey has [{', '.join(map(str, self.stash))}], does {self._operation} and decides {self._test_function}. nb_ops = {self.nb_ops}\"\n",
    "\n",
    "    def add_to_stash(self, item_value):\n",
    "        self.stash.append(item_value)\n",
    "        \n",
    "    def treat_items(self, phase_a=True):\n",
    "        while self.stash:\n",
    "            item = self.stash.pop(0)\n",
    "            value = self.operation(item)\n",
    "            if phase_a:\n",
    "                value = value // 3\n",
    "            value %= 9699690  # product of the first 7 primes\n",
    "            monkey_dest = self.test_function(value)\n",
    "            monkeys[monkey_dest].add_to_stash(value)\n",
    "            \n",
    "            self.nb_ops += 1\n"
   ]
  },
  {
   "cell_type": "code",
   "execution_count": null,
   "metadata": {},
   "outputs": [],
   "source": [
    "monkeys, test_function = [], []\n",
    "for line in puzzle.input_data.splitlines():\n",
    "    line = line.strip()\n",
    "    \n",
    "    if line.startswith(\"Starting\"):\n",
    "        items_value = line.lstrip(\"Starting items: \")\n",
    "        stash = list(map(int, items_value.split(\", \")))\n",
    "    \n",
    "    elif line.startswith(\"Operation\"):\n",
    "        operation = line[len(\"Operation: new = \"):]\n",
    "    \n",
    "    elif line.startswith(\"Test\"):\n",
    "        test_function.append(int(line[len(\"Test: divisible by \"):]))\n",
    "    \n",
    "    elif line.startswith(\"If true\"):\n",
    "        test_function.append(int(line[len(\"If true: throw to monkey \"):]))\n",
    "    \n",
    "    elif line.startswith(\"If false\"):\n",
    "        test_function.append(int(line[len(\"If false: throw to monkey \"):]))\n",
    "        \n",
    "        monkey = Monkey(stash, operation, test_function)\n",
    "        monkeys.append(monkey)\n",
    "        test_function = []\n",
    "\n",
    "for monkey in monkeys:\n",
    "    print(monkey)"
   ]
  },
  {
   "cell_type": "markdown",
   "metadata": {},
   "source": [
    "### Part 1"
   ]
  },
  {
   "cell_type": "code",
   "execution_count": null,
   "metadata": {},
   "outputs": [],
   "source": [
    "for rounds in range(20):\n",
    "    for monkey in monkeys:\n",
    "        monkey.treat_items()\n",
    "\n",
    "for monkey in monkeys:\n",
    "    print(monkey)\n",
    "\n",
    "puzzle.answer_a = monkey_business_level(monkeys)"
   ]
  },
  {
   "cell_type": "markdown",
   "metadata": {},
   "source": [
    "### Part 2"
   ]
  },
  {
   "cell_type": "code",
   "execution_count": null,
   "metadata": {},
   "outputs": [],
   "source": [
    "# Careful, run with 9980 if you ran part A already ! :)\n",
    "\n",
    "for rounds in range(10000):\n",
    "    for monkey in monkeys:\n",
    "        monkey.treat_items(phase_a=False)\n",
    "\n",
    "for monkey in monkeys:\n",
    "    print(monkey)\n",
    "        \n",
    "puzzle.answer_b = monkey_business_level(monkeys)"
   ]
  },
  {
   "cell_type": "markdown",
   "metadata": {},
   "source": [
    "## Day 10\n",
    "\n",
    "_Array, text visualization_\n",
    "\n",
    "https://adventofcode.com/2022/day/10"
   ]
  },
  {
   "cell_type": "code",
   "execution_count": null,
   "metadata": {},
   "outputs": [],
   "source": [
    "puzzle = Puzzle(year=2022, day=10)"
   ]
  },
  {
   "cell_type": "code",
   "execution_count": null,
   "metadata": {},
   "outputs": [],
   "source": [
    "test_input = \"addx 15\\naddx -11\\naddx 6\\naddx -3\\naddx 5\\naddx -1\\naddx -8\\naddx 13\\naddx 4\\nnoop\\naddx -1\\naddx 5\\naddx -1\\naddx 5\\naddx -1\\naddx 5\\naddx -1\\naddx 5\\naddx -1\\naddx -35\\naddx 1\\naddx 24\\naddx -19\\naddx 1\\naddx 16\\naddx -11\\nnoop\\nnoop\\naddx 21\\naddx -15\\nnoop\\nnoop\\naddx -3\\naddx 9\\naddx 1\\naddx -3\\naddx 8\\naddx 1\\naddx 5\\nnoop\\nnoop\\nnoop\\nnoop\\nnoop\\naddx -36\\nnoop\\naddx 1\\naddx 7\\nnoop\\nnoop\\nnoop\\naddx 2\\naddx 6\\nnoop\\nnoop\\nnoop\\nnoop\\nnoop\\naddx 1\\nnoop\\nnoop\\naddx 7\\naddx 1\\nnoop\\naddx -13\\naddx 13\\naddx 7\\nnoop\\naddx 1\\naddx -33\\nnoop\\nnoop\\nnoop\\naddx 2\\nnoop\\nnoop\\nnoop\\naddx 8\\nnoop\\naddx -1\\naddx 2\\naddx 1\\nnoop\\naddx 17\\naddx -9\\naddx 1\\naddx 1\\naddx -3\\naddx 11\\nnoop\\nnoop\\naddx 1\\nnoop\\naddx 1\\nnoop\\nnoop\\naddx -13\\naddx -19\\naddx 1\\naddx 3\\naddx 26\\naddx -30\\naddx 12\\naddx -1\\naddx 3\\naddx 1\\nnoop\\nnoop\\nnoop\\naddx -9\\naddx 18\\naddx 1\\naddx 2\\nnoop\\nnoop\\naddx 9\\nnoop\\nnoop\\nnoop\\naddx -1\\naddx 2\\naddx -37\\naddx 1\\naddx 3\\nnoop\\naddx 15\\naddx -21\\naddx 22\\naddx -6\\naddx 1\\nnoop\\naddx 2\\naddx 1\\nnoop\\naddx -10\\nnoop\\nnoop\\naddx 20\\naddx 1\\naddx 2\\naddx 2\\naddx -6\\naddx -11\\nnoop\\nnoop\\nnoop\""
   ]
  },
  {
   "cell_type": "code",
   "execution_count": null,
   "metadata": {},
   "outputs": [],
   "source": [
    "def signal_strength(op_idx, signal):\n",
    "    return op_idx * signal\n",
    "\n",
    "def operation(op_idx, signal, operation):\n",
    "    if operation == \"noop\":\n",
    "        return op_idx + 1, signal, op_idx % 40 == 20\n",
    "    else:\n",
    "        signal += int(operation.lstrip(\"addx \"))\n",
    "        return op_idx + 2, signal, op_idx % 40 in [19, 20]"
   ]
  },
  {
   "cell_type": "markdown",
   "metadata": {},
   "source": [
    "### Part 1"
   ]
  },
  {
   "cell_type": "code",
   "execution_count": null,
   "metadata": {},
   "outputs": [],
   "source": [
    "total_strengths, signals, signal, step = [], [(1, 1)], 1, 1\n",
    "\n",
    "for op in puzzle.input_data.splitlines():\n",
    "    step, new_signal, store = operation(step, signal, op)\n",
    "    if store:\n",
    "        total_strengths.append(signal_strength(20 + step//40 * 40, signal))\n",
    "    signal = new_signal\n",
    "    signals.append((step, signal))\n",
    "\n",
    "puzzle.answer_a = sum(total_strengths)"
   ]
  },
  {
   "cell_type": "markdown",
   "metadata": {},
   "source": [
    "### Part 2"
   ]
  },
  {
   "cell_type": "code",
   "execution_count": null,
   "metadata": {},
   "outputs": [],
   "source": [
    "display, stride, signal_idx = [], 1, 0 # stride is [-1, 0, +1] wrt signal\n",
    "\n",
    "for step in range(240):\n",
    "    if signals[signal_idx][0] == step + 1:\n",
    "        stride = signals[signal_idx][1]\n",
    "        signal_idx += 1\n",
    "\n",
    "    # print(step, stride, stride - (step % 40) in [-1, 0, 1])\n",
    "    display += [\"#\"] if stride - (step % 40) in [-1, 0, 1] else [\".\"]"
   ]
  },
  {
   "cell_type": "code",
   "execution_count": null,
   "metadata": {},
   "outputs": [],
   "source": [
    "pprint([\"\".join(display[x:x+40]) for x in range(0, 240, 40)])\n",
    "puzzle.answer_b = \"BJFRHRFU\""
   ]
  },
  {
   "cell_type": "markdown",
   "metadata": {},
   "source": [
    "## Day 9\n",
    "\n",
    "_Array, movements_\n",
    "\n",
    "https://adventofcode.com/2022/day/9"
   ]
  },
  {
   "cell_type": "code",
   "execution_count": null,
   "metadata": {},
   "outputs": [],
   "source": [
    "puzzle = Puzzle(year=2022, day=9)"
   ]
  },
  {
   "cell_type": "code",
   "execution_count": null,
   "metadata": {},
   "outputs": [],
   "source": [
    "test_input = \"R 4\\nU 4\\nL 3\\nD 1\\nR 4\\nD 1\\nL 5\\nR 2\""
   ]
  },
  {
   "cell_type": "code",
   "execution_count": null,
   "metadata": {},
   "outputs": [],
   "source": [
    "def move_head(pos, direction):\n",
    "    if direction == \"L\":\n",
    "        return [pos[0] - 1, pos[1]]\n",
    "    \n",
    "    if direction == \"R\":\n",
    "        return [pos[0] + 1, pos[1]]\n",
    "    \n",
    "    if direction == \"D\":\n",
    "        return [pos[0], pos[1] - 1]\n",
    "    \n",
    "    if direction == \"U\":\n",
    "        return [pos[0], pos[1] + 1]"
   ]
  },
  {
   "cell_type": "code",
   "execution_count": null,
   "metadata": {},
   "outputs": [],
   "source": [
    "def move_tail(head, tail):\n",
    "    # print(head, tail)\n",
    "    x_diff, y_diff = map(lambda x: x[0] - x[1], zip(head, tail))\n",
    "    \n",
    "    if abs(x_diff) < 2 and abs(y_diff) < 2:\n",
    "        return tail\n",
    "    \n",
    "    # print(x_diff, y_diff)\n",
    "    \n",
    "    tail[0] += x_diff // abs(x_diff) if x_diff else 0\n",
    "    tail[1] += y_diff // abs(y_diff) if y_diff else 0\n",
    "    \n",
    "    return tail"
   ]
  },
  {
   "cell_type": "markdown",
   "metadata": {},
   "source": [
    "## Part 1"
   ]
  },
  {
   "cell_type": "code",
   "execution_count": null,
   "metadata": {},
   "outputs": [],
   "source": [
    "head = [0, 0]  # x-axis (horiz, ->), y-axis (vert, ^)\n",
    "tail = [0, 0]  # x-axis (horiz, ->), y-axis (vert, ^)\n",
    "tails = Counter()\n",
    "tails[tuple(tail)] = 1\n",
    "\n",
    "for command in puzzle.input_data.splitlines():\n",
    "    direction, size = command.split(\" \")\n",
    "    # print(direction, size)\n",
    "    for i in range(int(size)):\n",
    "        # print(head, tail)\n",
    "        head = move_head(head, direction)\n",
    "        # print(head)\n",
    "        tail = move_tail(head, tail)\n",
    "        # print(tail)\n",
    "        tails[tuple(tail)] += 1\n",
    "\n",
    "puzzle.answer_a = len(tails.keys())"
   ]
  },
  {
   "cell_type": "markdown",
   "metadata": {},
   "source": [
    "### Part 2"
   ]
  },
  {
   "cell_type": "code",
   "execution_count": null,
   "metadata": {},
   "outputs": [],
   "source": [
    "knots = [[0, 0]] * 10  # H, 1, 2, ..., 9\n",
    "\n",
    "tails = Counter()\n",
    "tails[tuple(knots[9])] = 1\n",
    "\n",
    "\n",
    "for command in puzzle.input_data.splitlines():\n",
    "    direction, size = command.split(\" \")\n",
    "    # print(direction, size)\n",
    "    for i in range(int(size)):\n",
    "        # print(knots)\n",
    "        knots[0] = move_head(knots[0], direction)\n",
    "        # print(knots[0])\n",
    "        \n",
    "        for t in range(1, 10):\n",
    "            # print(t)\n",
    "            knots[t] = move_tail(copy.deepcopy(knots[t-1]), copy.deepcopy(knots[t]))\n",
    "            # print(knots)\n",
    "        tails[tuple(knots[9])] += 1\n",
    "\n",
    "puzzle.answer_b = len(tails.keys())"
   ]
  },
  {
   "cell_type": "markdown",
   "metadata": {},
   "source": [
    "## Day 8\n",
    "\n",
    "_Pandas, boundaries_\n",
    "\n",
    "https://adventofcode.com/2022/day/8"
   ]
  },
  {
   "cell_type": "code",
   "execution_count": null,
   "metadata": {},
   "outputs": [],
   "source": [
    "puzzle = Puzzle(year=2022, day=8)"
   ]
  },
  {
   "cell_type": "code",
   "execution_count": null,
   "metadata": {},
   "outputs": [],
   "source": [
    "input_text = \"30373\\n25512\\n65332\\n33549\\n35390\""
   ]
  },
  {
   "cell_type": "code",
   "execution_count": null,
   "metadata": {},
   "outputs": [],
   "source": [
    "trees = pd.DataFrame(map(lambda x: list(x), puzzle.input_data.splitlines())).astype(int)\n",
    "size = trees.shape[0]"
   ]
  },
  {
   "cell_type": "markdown",
   "metadata": {},
   "source": [
    "## Part 1"
   ]
  },
  {
   "cell_type": "code",
   "execution_count": null,
   "metadata": {},
   "outputs": [],
   "source": [
    "def _is_highest(cell, path):\n",
    "    return all([x < cell for x in path])\n",
    "\n",
    "def is_highest(cell=None, row_idx=None, col_idx=None, size=99):\n",
    "    if cell is not None:\n",
    "        row_idx, col_idx = cell.name\n",
    "            \n",
    "    return _is_highest(trees.iloc[row_idx, col_idx], trees.iloc[row_idx, min(size, col_idx+1):]) or \\\n",
    "        _is_highest(trees.iloc[row_idx, col_idx], trees.iloc[row_idx, :max(0, col_idx)]) or \\\n",
    "        _is_highest(trees.iloc[row_idx, col_idx], trees.iloc[min(size, row_idx+1):, col_idx]) or \\\n",
    "        _is_highest(trees.iloc[row_idx, col_idx], trees.iloc[:max(0, row_idx), col_idx])"
   ]
  },
  {
   "cell_type": "code",
   "execution_count": null,
   "metadata": {},
   "outputs": [],
   "source": [
    "trees.stack(dropna=False).to_frame().apply(lambda x: is_highest(cell=x, size=size), 1).unstack()"
   ]
  },
  {
   "cell_type": "code",
   "execution_count": null,
   "metadata": {},
   "outputs": [],
   "source": [
    "visible_trees = 0\n",
    "for row_idx in range(size):\n",
    "    for col_idx in range(size):\n",
    "        if is_highest(row_idx=row_idx, col_idx=col_idx, size=size):\n",
    "            visible_trees += 1\n",
    "\n",
    "puzzle.answer_a = visible_trees"
   ]
  },
  {
   "cell_type": "markdown",
   "metadata": {},
   "source": [
    "### Part2"
   ]
  },
  {
   "cell_type": "code",
   "execution_count": null,
   "metadata": {},
   "outputs": [],
   "source": [
    "def nb_trees(cell, path, reverse=False):\n",
    "    path = path.values.tolist()\n",
    "    count = 0\n",
    "    while len(path):\n",
    "        count += 1\n",
    "        target = path.pop(-1 if reverse else 0)\n",
    "        if target >= cell:\n",
    "            return count\n",
    "        \n",
    "    return count    \n",
    "\n",
    "def scenic_score(cell=None, row_idx=None, col_idx=None, size=99):\n",
    "    if cell is not None:\n",
    "        row_idx, col_idx = cell.name\n",
    "            \n",
    "    return nb_trees(trees.iloc[row_idx, col_idx], trees.iloc[row_idx, min(size, col_idx+1):]) * \\\n",
    "        nb_trees(trees.iloc[row_idx, col_idx], trees.iloc[row_idx, :max(0, col_idx)], reverse=True) * \\\n",
    "        nb_trees(trees.iloc[row_idx, col_idx], trees.iloc[min(size, row_idx+1):, col_idx]) * \\\n",
    "        nb_trees(trees.iloc[row_idx, col_idx], trees.iloc[:max(0, row_idx), col_idx], reverse=True)"
   ]
  },
  {
   "cell_type": "code",
   "execution_count": null,
   "metadata": {},
   "outputs": [],
   "source": [
    "scenics = trees.stack(dropna=False).to_frame().apply(lambda x: scenic_score(cell=x, size=size), 1).unstack()"
   ]
  },
  {
   "cell_type": "code",
   "execution_count": null,
   "metadata": {},
   "outputs": [],
   "source": [
    "puzzle.answer_b = scenics.max().max()"
   ]
  },
  {
   "cell_type": "markdown",
   "metadata": {},
   "source": [
    "## Day 7\n",
    "\n",
    "_Recursive, DFS_\n",
    "\n",
    "https://adventofcode.com/2022/day/7"
   ]
  },
  {
   "cell_type": "code",
   "execution_count": null,
   "metadata": {},
   "outputs": [],
   "source": [
    "puzzle = Puzzle(year=2022, day=7)"
   ]
  },
  {
   "cell_type": "code",
   "execution_count": null,
   "metadata": {},
   "outputs": [],
   "source": [
    "input_test = \"$ cd /\\n$ ls\\ndir a\\n14848514 b.txt\\n8504156 c.dat\\ndir d\\n$ cd a\\n$ ls\\ndir e\\n29116 f\\n2557 g\\n62596 h.lst\\n$ cd e\\n$ ls\\n584 i\\n$ cd ..\\n$ cd ..\\n$ cd d\\n$ ls\\n4060174 j\\n8033020 d.log\\n5626152 d.ext\\n7214296 k\""
   ]
  },
  {
   "cell_type": "code",
   "execution_count": null,
   "metadata": {},
   "outputs": [],
   "source": [
    "def read_command(file_hierarchy, location, entries, action=\"read\"):\n",
    "    if len(entries) == 0:\n",
    "        return file_hierarchy\n",
    "    \n",
    "    entry = entries.pop(0)\n",
    "    # print(\"HIERARCHY\", end=\" \")\n",
    "    # pprint(file_hierarchy)\n",
    "    # print(\"LOCATION\", location)\n",
    "    # print(\"ACTION\", action)\n",
    "    # print(\"ENTRY\", entry)\n",
    "    \n",
    "    if action == \"read\":\n",
    "        if entry.startswith(\"$\"):\n",
    "            command, *args = entry[2:].split(\" \")  # starts with `$ `\n",
    "            if command == \"ls\":\n",
    "                read_command(file_hierarchy, location, entries, action=\"ls\")\n",
    "            elif command == \"cd\":\n",
    "                # print(entry)\n",
    "                if args[0] == \"..\":\n",
    "                    location = location.rsplit(\"|\", 1)[0]\n",
    "                elif location:\n",
    "                    location = f\"{location}|{args[0]}\"\n",
    "                else:\n",
    "                    location = args[0]\n",
    "                read_command(file_hierarchy, location, entries, action=\"read\")\n",
    "            else:\n",
    "                print(\"UNKNOWN_COMMAND\", command)\n",
    "            return\n",
    "        else:\n",
    "            print(\"READ_NOT_STARTING_WITH_$\")\n",
    "            return\n",
    "    elif action == \"ls\":\n",
    "        sub_dict = file_hierarchy\n",
    "        for fold in location.split(\"|\"):\n",
    "            sub_dict = sub_dict[fold]\n",
    "        while not entry.startswith(\"$\"):\n",
    "            data, name = entry.split(\" \")\n",
    "            if data == \"dir\":\n",
    "                sub_dict[name] = {}\n",
    "            else:\n",
    "                sub_dict[name] = int(data)\n",
    "            \n",
    "            if len(entries) == 0:\n",
    "                return\n",
    "            entry = entries.pop(0)\n",
    "            \n",
    "            # print(\"ENTRY\", entry)\n",
    "            \n",
    "        read_command(file_hierarchy, location, [entry] + entries, action=\"read\")\n",
    "    else:\n",
    "        print(\"UNKNOWN_ACTION\")\n",
    "        return"
   ]
  },
  {
   "cell_type": "markdown",
   "metadata": {},
   "source": [
    "### Part 1"
   ]
  },
  {
   "cell_type": "code",
   "execution_count": null,
   "metadata": {},
   "outputs": [],
   "source": [
    "file_hierarchy = {\"/\": {}}\n",
    "read_command(file_hierarchy, \"\", puzzle.input_data.splitlines(), action=\"read\")\n",
    "pprint(file_hierarchy)"
   ]
  },
  {
   "cell_type": "code",
   "execution_count": null,
   "metadata": {},
   "outputs": [],
   "source": [
    "def compute_size(sizes, file_hierarchy):\n",
    "    \n",
    "    for directory, content in file_hierarchy.items():\n",
    "        # print(directory)\n",
    "        # pprint(content)\n",
    "        \n",
    "        if not isinstance(content, dict):\n",
    "            continue\n",
    "        \n",
    "        # print([isinstance(x, int) for x in content.values()])\n",
    "        if not all([isinstance(x, int) for x in content.values()]):\n",
    "            compute_size(sizes, content)\n",
    "        \n",
    "        # print(\"*\"*22)\n",
    "        # print(content)\n",
    "        # print(\"*\"*12)\n",
    "        \n",
    "        file_hierarchy[directory] = sum(content.values())\n",
    "        sizes.append(file_hierarchy[directory])\n",
    "        # print(sizes)\n",
    "        # print(file_hierarchy)"
   ]
  },
  {
   "cell_type": "code",
   "execution_count": null,
   "metadata": {},
   "outputs": [],
   "source": [
    "sizes = []\n",
    "compute_size(sizes, file_hierarchy)\n",
    "puzzle.answer_a = sum([x for x in sizes if x < 100000])"
   ]
  },
  {
   "cell_type": "markdown",
   "metadata": {},
   "source": [
    "### Part 2"
   ]
  },
  {
   "cell_type": "code",
   "execution_count": null,
   "metadata": {},
   "outputs": [],
   "source": [
    "needed_space = file_hierarchy[\"/\"] - 40000000\n",
    "puzzle.answer_b = sorted([x for x in sizes if x >= needed_space])[0]"
   ]
  },
  {
   "cell_type": "markdown",
   "metadata": {},
   "source": [
    "## Day 6\n",
    "\n",
    "_Chars counting_\n",
    "\n",
    "https://adventofcode.com/2022/day/6"
   ]
  },
  {
   "cell_type": "code",
   "execution_count": null,
   "metadata": {},
   "outputs": [],
   "source": [
    "puzzle = Puzzle(year=2022, day=6)"
   ]
  },
  {
   "cell_type": "markdown",
   "metadata": {},
   "source": [
    "### Part 1"
   ]
  },
  {
   "cell_type": "code",
   "execution_count": null,
   "metadata": {},
   "outputs": [],
   "source": [
    "c = Counter()\n",
    "chars = []\n",
    "\n",
    "for index, char in enumerate(list(puzzle.input_data)):\n",
    "    chars.append(char)\n",
    "    c[char] += 1\n",
    "    if index > 3:\n",
    "        rm_char = chars.pop(0)\n",
    "        c[rm_char] -= 1\n",
    "        if c[rm_char] == 0:\n",
    "            del c[rm_char]\n",
    "    \n",
    "    if len(c) == 4:\n",
    "        break\n",
    "puzzle.answer_a = index + 1"
   ]
  },
  {
   "cell_type": "markdown",
   "metadata": {},
   "source": [
    "### Part 2"
   ]
  },
  {
   "cell_type": "code",
   "execution_count": null,
   "metadata": {},
   "outputs": [],
   "source": [
    "c = Counter()\n",
    "chars = []\n",
    "\n",
    "for index, char in enumerate(list(puzzle.input_data)):\n",
    "    chars.append(char)\n",
    "    c[char] += 1\n",
    "    if index > 13:\n",
    "        rm_char = chars.pop(0)\n",
    "        c[rm_char] -= 1\n",
    "        if c[rm_char] == 0:\n",
    "            del c[rm_char]\n",
    "    \n",
    "    if len(c) == 14:\n",
    "        break\n",
    "puzzle.answer_b = index + 1"
   ]
  },
  {
   "cell_type": "markdown",
   "metadata": {},
   "source": [
    "## Day 5\n",
    "\n",
    "_FIFO / LIFO movements_\n",
    "\n",
    "https://adventofcode.com/2022/day/5"
   ]
  },
  {
   "cell_type": "code",
   "execution_count": null,
   "metadata": {},
   "outputs": [],
   "source": [
    "puzzle = Puzzle(year=2022, day=5)"
   ]
  },
  {
   "cell_type": "code",
   "execution_count": null,
   "metadata": {},
   "outputs": [],
   "source": [
    "re_orders = re.compile(\"move (\\d+) from (\\d+) to (\\d+)\")  #nb_items, source_stack, target_stack\n",
    "chunk_size = 4\n",
    "\n",
    "initial, orders = puzzle.input_data.split(\"\\n\\n\")\n",
    "\n",
    "stacks = []\n",
    "for row_id, buffer in enumerate(initial.splitlines()[::-1][1:]):  # we don't care about 1   2   3   4 ....\n",
    "    stack_content = [buffer[i:i+chunk_size].strip() for i in range(0, len(buffer), chunk_size)]\n",
    "    for col_id, content in enumerate(stack_content):\n",
    "        if row_id == 0:\n",
    "            stacks.append([content[1]])\n",
    "        elif content:\n",
    "            stacks[col_id].append(content[1])"
   ]
  },
  {
   "cell_type": "markdown",
   "metadata": {},
   "source": [
    "### Part 1"
   ]
  },
  {
   "cell_type": "code",
   "execution_count": null,
   "metadata": {},
   "outputs": [],
   "source": [
    "this_stacks = copy.deepcopy(stacks)\n",
    "\n",
    "for order in orders.splitlines():\n",
    "    nb_items, source_stack, target_stack = map(int, re_orders.match(order).groups())\n",
    "    for i in range(nb_items):\n",
    "        this_stacks[target_stack-1].append(this_stacks[source_stack-1].pop())\n",
    "\n",
    "puzzle.answer_a = \"\".join([s[-1] for s in this_stacks])"
   ]
  },
  {
   "cell_type": "markdown",
   "metadata": {},
   "source": [
    "### Part 2"
   ]
  },
  {
   "cell_type": "code",
   "execution_count": null,
   "metadata": {},
   "outputs": [],
   "source": [
    "this_stacks = copy.deepcopy(stacks)\n",
    "\n",
    "for order in orders.splitlines():\n",
    "    nb_items, source_stack, target_stack = map(int, re_orders.match(order).groups())\n",
    "    this_stacks[target_stack-1] += this_stacks[source_stack-1][-nb_items:]\n",
    "    this_stacks[source_stack-1] = this_stacks[source_stack-1][:-nb_items]\n",
    "        \n",
    "puzzle.answer_b = \"\".join([s[-1] for s in this_stacks])"
   ]
  },
  {
   "cell_type": "markdown",
   "metadata": {},
   "source": [
    "## Day 4\n",
    "\n",
    "_Intervals overlapping_\n",
    "\n",
    "https://adventofcode.com/2022/day/4"
   ]
  },
  {
   "cell_type": "code",
   "execution_count": null,
   "metadata": {},
   "outputs": [],
   "source": [
    "puzzle = Puzzle(year=2022, day=4)"
   ]
  },
  {
   "cell_type": "markdown",
   "metadata": {},
   "source": [
    "### Part 1"
   ]
  },
  {
   "cell_type": "code",
   "execution_count": null,
   "metadata": {},
   "outputs": [],
   "source": [
    "count = 0\n",
    "\n",
    "for line in puzzle.input_data.splitlines():\n",
    "    a, b = line.split(\",\")\n",
    "    a1, a2 = map(int, a.split(\"-\"))\n",
    "    b1, b2 = map(int, b.split(\"-\"))\n",
    "    if a1 <= b1 and a2 >= b2 or b1 <= a1 and b2 >= a2:\n",
    "        count += 1\n",
    "\n",
    "puzzle.answer_a = count"
   ]
  },
  {
   "cell_type": "markdown",
   "metadata": {},
   "source": [
    "### Part 2"
   ]
  },
  {
   "cell_type": "code",
   "execution_count": null,
   "metadata": {},
   "outputs": [],
   "source": [
    "count = 0\n",
    "\n",
    "for line in puzzle.input_data.splitlines():\n",
    "    # print(line)\n",
    "    a, b = line.split(\",\")\n",
    "    a1, a2 = map(int, a.split(\"-\"))\n",
    "    b1, b2 = map(int, b.split(\"-\"))\n",
    "    if not (a2 < b1 or b2 < a1):\n",
    "        count += 1\n",
    "\n",
    "puzzle.answer_b = count"
   ]
  },
  {
   "cell_type": "markdown",
   "metadata": {},
   "source": [
    "## Day 3\n",
    "\n",
    "_Set intersection_\n",
    "\n",
    "https://adventofcode.com/2022/day/3"
   ]
  },
  {
   "cell_type": "code",
   "execution_count": null,
   "metadata": {},
   "outputs": [],
   "source": [
    "puzzle = Puzzle(year=2022, day=3)"
   ]
  },
  {
   "cell_type": "code",
   "execution_count": null,
   "metadata": {},
   "outputs": [],
   "source": [
    "def priority(item_type:str) -> int:\n",
    "    \"\"\"Compute the priority score of an item type.\"\"\"\n",
    "    if \"a\" <= item_type <= \"z\":\n",
    "        return ord(item_type) - ord(\"a\") + 1\n",
    "\n",
    "    return ord(item_type) - ord(\"A\") + 27"
   ]
  },
  {
   "cell_type": "markdown",
   "metadata": {},
   "source": [
    "### Part 1"
   ]
  },
  {
   "cell_type": "code",
   "execution_count": null,
   "metadata": {},
   "outputs": [],
   "source": [
    "total = 0\n",
    "\n",
    "for bag in puzzle.input_data.splitlines():\n",
    "    nb_items = len(bag)\n",
    "    \n",
    "    shared_item = set(bag[:nb_items // 2]).intersection(set(bag[nb_items // 2:]))\n",
    "    for item in shared_item:\n",
    "        total += priority(item)\n",
    "\n",
    "puzzle.answer_a = total"
   ]
  },
  {
   "cell_type": "markdown",
   "metadata": {},
   "source": [
    "### Part 2"
   ]
  },
  {
   "cell_type": "code",
   "execution_count": null,
   "metadata": {},
   "outputs": [],
   "source": [
    "total = 0\n",
    "\n",
    "for index, bag in enumerate(puzzle.input_data.splitlines()):\n",
    "    if index % 3 == 0:\n",
    "        shared_item = set(list(bag))\n",
    "    else:\n",
    "        shared_item = shared_item.intersection(set(list(bag)))\n",
    "        \n",
    "    if index % 3 == 2:\n",
    "        for item in shared_item:\n",
    "            total += priority(item)\n",
    "\n",
    "puzzle.answer_b = total"
   ]
  },
  {
   "cell_type": "markdown",
   "metadata": {},
   "source": [
    "## Day 2\n",
    "\n",
    "https://adventofcode.com/2022/day/2"
   ]
  },
  {
   "cell_type": "code",
   "execution_count": null,
   "metadata": {},
   "outputs": [],
   "source": [
    "puzzle = Puzzle(year=2022, day=2)"
   ]
  },
  {
   "cell_type": "code",
   "execution_count": null,
   "metadata": {},
   "outputs": [],
   "source": [
    "games = Counter(puzzle.input_data.splitlines())"
   ]
  },
  {
   "cell_type": "code",
   "execution_count": null,
   "metadata": {},
   "outputs": [],
   "source": [
    "def total_score(games:Mapping[str, int], scoring:Callable[[str, str], int]) -> int:\n",
    "    \"\"\"Compute the sum of the scores of each game.\"\"\"\n",
    "    score = 0\n",
    "    for game_kind, nb_occ in games.items():\n",
    "        score += nb_occ * scoring(*game_kind.split())\n",
    "    return score"
   ]
  },
  {
   "cell_type": "markdown",
   "metadata": {},
   "source": [
    "### Part 1"
   ]
  },
  {
   "cell_type": "code",
   "execution_count": null,
   "metadata": {},
   "outputs": [],
   "source": [
    "def compute_score(opponent:str, response:str) -> int:\n",
    "    \"\"\"Compute the score for a single game, where second argument is the response.\"\"\"\n",
    "    score = ord(response) - ord(\"X\") + 1\n",
    "    diff = ord(response) - ord(opponent) - (ord(\"X\") - ord(\"A\"))\n",
    "    score += 3 * ((diff +1) % 3)\n",
    "    return score\n",
    "\n",
    "puzzle.answer_a = total_score(games, compute_score)"
   ]
  },
  {
   "cell_type": "markdown",
   "metadata": {},
   "source": [
    "### Part 2"
   ]
  },
  {
   "cell_type": "code",
   "execution_count": null,
   "metadata": {},
   "outputs": [],
   "source": [
    "def compute_score(opponent:str, outcome:str) -> int:  \n",
    "    \"\"\"Compute the score for a single game, where second argument is the outcome.\"\"\"\n",
    "    goal = ord(outcome) - ord(\"X\")\n",
    "    target = ord(opponent) - ord(\"A\")\n",
    "    \n",
    "    score = (target + goal - 1) % 3 + 1\n",
    "    score += 3 * goal\n",
    "    return score\n",
    "\n",
    "puzzle.answer_b = total_score(games, compute_score)"
   ]
  },
  {
   "cell_type": "markdown",
   "metadata": {},
   "source": [
    "## Day 1\n",
    "\n",
    "_Pandas_\n",
    "\n",
    "https://adventofcode.com/2022/day/1"
   ]
  },
  {
   "cell_type": "code",
   "execution_count": null,
   "metadata": {},
   "outputs": [],
   "source": [
    "puzzle = Puzzle(year=2022, day=1)"
   ]
  },
  {
   "cell_type": "markdown",
   "metadata": {},
   "source": [
    "\n",
    "\n",
    "### Part 1"
   ]
  },
  {
   "cell_type": "code",
   "execution_count": null,
   "metadata": {},
   "outputs": [],
   "source": [
    "calories = pd.DataFrame(map(lambda x: x.splitlines(), puzzle.input_data.split(\"\\n\\n\"))).fillna(0).astype(int)\n",
    "cals_by_elf = calories.sum(axis=\"columns\")\n",
    "puzzle.answer_a = cals_by_elf.max()"
   ]
  },
  {
   "cell_type": "markdown",
   "metadata": {},
   "source": [
    "### Part 2"
   ]
  },
  {
   "cell_type": "code",
   "execution_count": null,
   "metadata": {},
   "outputs": [],
   "source": [
    "puzzle.answer_b = cals_by_elf.sort_values(ascending=False).iloc[:3].sum()"
   ]
  }
 ],
 "metadata": {
  "language_info": {
   "name": "python",
   "pygments_lexer": "ipython3"
  }
 },
 "nbformat": 4,
 "nbformat_minor": 2
}
