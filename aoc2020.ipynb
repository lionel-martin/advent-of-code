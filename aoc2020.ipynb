{
 "cells": [
  {
   "cell_type": "code",
   "execution_count": null,
   "metadata": {},
   "outputs": [],
   "source": [
    "import copy\n",
    "import itertools\n",
    "import functools\n",
    "import collections\n",
    "import operator\n",
    "import sys\n",
    "import re\n",
    "import numpy as np\n",
    "import math"
   ]
  },
  {
   "cell_type": "code",
   "execution_count": null,
   "metadata": {},
   "outputs": [],
   "source": [
    "from helpers.functions import *"
   ]
  },
  {
   "cell_type": "markdown",
   "metadata": {},
   "source": [
    "Configuration"
   ]
  },
  {
   "cell_type": "code",
   "execution_count": null,
   "metadata": {},
   "outputs": [],
   "source": [
    "DIR = \"data/2020/\"\n",
    "load_day = functools.partial(load, DIR)"
   ]
  },
  {
   "cell_type": "markdown",
   "metadata": {},
   "source": [
    "# Problems"
   ]
  },
  {
   "cell_type": "markdown",
   "metadata": {},
   "source": [
    "## Day 1\n",
    "\n",
    "http://adventofcode.com/2020/day/1"
   ]
  },
  {
   "cell_type": "code",
   "execution_count": null,
   "metadata": {},
   "outputs": [],
   "source": [
    "content = [int(x) for x in load_day(1)]"
   ]
  },
  {
   "cell_type": "markdown",
   "metadata": {},
   "source": [
    "__Part 1__"
   ]
  },
  {
   "cell_type": "code",
   "execution_count": null,
   "metadata": {},
   "outputs": [],
   "source": [
    "for elem in content:\n",
    "    rest = 2020 - elem\n",
    "    if rest in content:\n",
    "        total = rest * elem\n",
    "        break\n",
    "    \n",
    "print(f'Answer 1: {total}')"
   ]
  },
  {
   "cell_type": "markdown",
   "metadata": {},
   "source": [
    "__Part 2__"
   ]
  },
  {
   "cell_type": "code",
   "execution_count": null,
   "metadata": {},
   "outputs": [],
   "source": [
    "N = len(content)\n",
    "done = False\n",
    "\n",
    "for idx, elem in enumerate(content):\n",
    "    if done:\n",
    "        break\n",
    "    for jdx in range(idx + 1, N):\n",
    "        if done:\n",
    "            break\n",
    "            \n",
    "        rest = 2020 - elem - content[jdx]\n",
    "        if rest in content:\n",
    "            total = rest * elem * content[jdx]\n",
    "            done = True\n",
    "            \n",
    "print(f\"Answer 2: {total}\")"
   ]
  },
  {
   "cell_type": "markdown",
   "metadata": {},
   "source": [
    "## Day 2\n",
    "\n",
    "http://adventofcode.com/2020/day/2"
   ]
  },
  {
   "cell_type": "code",
   "execution_count": null,
   "metadata": {},
   "outputs": [],
   "source": [
    "content = load_day(2)"
   ]
  },
  {
   "cell_type": "markdown",
   "metadata": {},
   "source": [
    "__Part 1__"
   ]
  },
  {
   "cell_type": "code",
   "execution_count": null,
   "metadata": {},
   "outputs": [],
   "source": [
    "nb_valids = 0\n",
    "\n",
    "rule = re.compile(r\"^(\\d+)-(\\d+) (\\w): (\\w+)$\")\n",
    "\n",
    "for entry in content:\n",
    "    g = rule.match(entry)\n",
    "    minimum, maximum, character, password = g.groups()\n",
    "    count = collections.Counter(password)\n",
    "\n",
    "    if int(minimum) <= count[character] <= int(maximum):\n",
    "        nb_valids += 1\n",
    "        \n",
    "print(f\"Answer 1: {nb_valids}\")"
   ]
  },
  {
   "cell_type": "markdown",
   "metadata": {},
   "source": [
    "__Part 2__"
   ]
  },
  {
   "cell_type": "code",
   "execution_count": null,
   "metadata": {},
   "outputs": [],
   "source": [
    "nb_valids = 0\n",
    "\n",
    "rule = re.compile(r\"^(\\d+)-(\\d+) (\\w): (\\w+)$\")\n",
    "\n",
    "for entry in content:\n",
    "    g = rule.match(entry)\n",
    "    pos1, pos2, character, password = g.groups()\n",
    "\n",
    "    if (password[int(pos1) - 1] == character) ^ (password[int(pos2) - 1] == character):\n",
    "        nb_valids += 1\n",
    "        \n",
    "print(f\"Answer 2: {nb_valids}\")"
   ]
  },
  {
   "cell_type": "markdown",
   "metadata": {},
   "source": [
    "## Day 3\n",
    "\n",
    "http://adventofcode.com/2020/day/3"
   ]
  },
  {
   "cell_type": "code",
   "execution_count": null,
   "metadata": {},
   "outputs": [],
   "source": [
    "content = load_day(3)\n",
    "N, M = np.array([list(c) for c in content]).shape"
   ]
  },
  {
   "cell_type": "markdown",
   "metadata": {},
   "source": [
    "__Part 1__"
   ]
  },
  {
   "cell_type": "code",
   "execution_count": null,
   "metadata": {},
   "outputs": [],
   "source": [
    "pos_x, pos_y = 0, 0\n",
    "tree_counter = 0\n",
    "\n",
    "while pos_y < N:\n",
    "    tree_counter += 1 if content[pos_y][pos_x % M] == \"#\" else 0\n",
    "    pos_x += 3\n",
    "    pos_y += 1\n",
    "\n",
    "print(f\"Answer 1: {tree_counter}\")"
   ]
  },
  {
   "cell_type": "markdown",
   "metadata": {},
   "source": [
    "__Part 2__"
   ]
  },
  {
   "cell_type": "code",
   "execution_count": null,
   "metadata": {},
   "outputs": [],
   "source": [
    "slopes = [(1, 1), (3, 1), (5, 1), (7, 1), (1, 2)]\n",
    "tree_counters = np.zeros(5)\n",
    "\n",
    "for idx, slope in enumerate(slopes):\n",
    "    pos_x, pos_y = 0, 0\n",
    "    tree_counter = 0\n",
    "\n",
    "    while pos_y < N:\n",
    "        tree_counters[idx] += 1 if content[pos_y][pos_x % M] == \"#\" else 0\n",
    "        pos_x += slope[0]\n",
    "        pos_y += slope[1]\n",
    "    \n",
    "print(f\"Answer 2: {functools.reduce(lambda a, b: a * b, tree_counters):.0f}\")\n"
   ]
  },
  {
   "cell_type": "markdown",
   "metadata": {},
   "source": [
    "## Day 4\n",
    "\n",
    "http://adventofcode.com/2020/day/4"
   ]
  },
  {
   "cell_type": "code",
   "execution_count": null,
   "metadata": {},
   "outputs": [],
   "source": [
    "content = load_day(4)"
   ]
  },
  {
   "cell_type": "markdown",
   "metadata": {},
   "source": [
    "__Part 1__"
   ]
  },
  {
   "cell_type": "code",
   "execution_count": null,
   "metadata": {},
   "outputs": [],
   "source": [
    "nb_valid = 0\n",
    "passport = set()\n",
    "\n",
    "for line in content:\n",
    "\n",
    "    if line.strip():\n",
    "        passport |= set([elem.split(\":\")[0] for elem in line.split(\" \")])\n",
    "    \n",
    "    else:\n",
    "        if len(passport) == 8 or len(passport) == 7 and \"cid\" not in passport:\n",
    "            nb_valid += 1\n",
    "        passport = set()\n",
    "\n",
    "print(f\"Answer 1: {nb_valid}\")"
   ]
  },
  {
   "cell_type": "markdown",
   "metadata": {},
   "source": [
    "__Part 2__"
   ]
  },
  {
   "cell_type": "code",
   "execution_count": null,
   "metadata": {},
   "outputs": [],
   "source": [
    "nb_valid = 0\n",
    "passport = set()\n",
    "\n",
    "for line in content:\n",
    "\n",
    "    if line.strip():\n",
    "        for key, val in [elem.split(\":\") for elem in line.split(\" \")]:\n",
    "            if key == \"byr\" and 1920 <= int(val) <= 2002:\n",
    "                passport.add(key)\n",
    "            elif key == \"iyr\" and 2010 <= int(val) <= 2020:\n",
    "                passport.add(key)\n",
    "            elif key == \"eyr\" and 2020 <= int(val) <= 2030:\n",
    "                passport.add(key)\n",
    "            elif key == \"hcl\" and re.match(r\"^#[0-9a-f]{6}$\", val):\n",
    "                passport.add(key)\n",
    "            elif key == \"ecl\" and val in [\"amb\", \"blu\", \"brn\", \"gry\", \"grn\", \"hzl\", \"oth\"]:\n",
    "                passport.add(key)\n",
    "            elif key == \"pid\" and re.match(r\"^[0-9]{9}$\", val):\n",
    "                passport.add(key)\n",
    "            elif key == \"hgt\":\n",
    "                rule = re.compile(r\"^(\\d+)(in|cm)$\")\n",
    "                m = rule.match(val)\n",
    "                if m and ((m.group(2) == \"cm\" and 150 <= int(m.group(1)) <= 193) or (m.group(2) == \"in\" and 59 <= int(m.group(1)) <= 76)):\n",
    "                    passport.add(key)\n",
    "    \n",
    "    else:\n",
    "        if len(passport) == 8 or len(passport) == 7 and \"cid\" not in passport:\n",
    "            nb_valid += 1\n",
    "        passport = set()\n",
    "\n",
    "print(f\"Answer 2: {nb_valid}\")"
   ]
  },
  {
   "cell_type": "markdown",
   "metadata": {},
   "source": [
    "## Day 5\n",
    "\n",
    "http://adventofcode.com/2020/day/5"
   ]
  },
  {
   "cell_type": "code",
   "execution_count": null,
   "metadata": {},
   "outputs": [],
   "source": [
    "content = load_day(5)"
   ]
  },
  {
   "cell_type": "markdown",
   "metadata": {},
   "source": [
    "__Part 1__"
   ]
  },
  {
   "cell_type": "code",
   "execution_count": null,
   "metadata": {},
   "outputs": [],
   "source": [
    "seats = []\n",
    "\n",
    "for line in content:\n",
    "    seats.append(int(line.replace('F', \"0\").replace('B', \"1\").replace('L', \"0\"). replace('R', \"1\"), 2))\n",
    "        \n",
    "seats.sort()\n",
    "print(f\"Answer 1: {seats[-1]}\")"
   ]
  },
  {
   "cell_type": "markdown",
   "metadata": {},
   "source": [
    "__Part 2__"
   ]
  },
  {
   "cell_type": "code",
   "execution_count": null,
   "metadata": {},
   "outputs": [],
   "source": [
    "for idx, s in enumerate(seats):\n",
    "    if idx and s != seats[idx - 1] + 1:\n",
    "        print(f\"Answer 2: {s - 1}\")\n",
    "        break"
   ]
  },
  {
   "cell_type": "markdown",
   "metadata": {},
   "source": [
    "## Day 6\n",
    "\n",
    "http://adventofcode.com/2020/day/6"
   ]
  },
  {
   "cell_type": "code",
   "execution_count": null,
   "metadata": {},
   "outputs": [],
   "source": [
    "content = load_day(6)"
   ]
  },
  {
   "cell_type": "markdown",
   "metadata": {},
   "source": [
    "__Part 1__"
   ]
  },
  {
   "cell_type": "code",
   "execution_count": null,
   "metadata": {},
   "outputs": [],
   "source": [
    "total = 0\n",
    "\n",
    "answers = set()\n",
    "\n",
    "for line in content:\n",
    "    if line:\n",
    "        answers |= set(list(line))\n",
    "    else:\n",
    "        total += len(answers)\n",
    "        answers = set()\n",
    "        \n",
    "total += len(answers)\n",
    "print(f\"Answer 1: {total}\")"
   ]
  },
  {
   "cell_type": "markdown",
   "metadata": {},
   "source": [
    "__Part 2__"
   ]
  },
  {
   "cell_type": "code",
   "execution_count": null,
   "metadata": {},
   "outputs": [],
   "source": [
    "total = 0\n",
    "\n",
    "answers = None\n",
    "\n",
    "for line in content:\n",
    "    if line:\n",
    "        if answers is not None: \n",
    "            answers &= set(list(line))\n",
    "        else:\n",
    "            answers = set(list(line))\n",
    "    else:\n",
    "        total += len(answers)\n",
    "        answers = None\n",
    "        \n",
    "total += len(answers)\n",
    "print(f\"Answer 2: {total}\")"
   ]
  },
  {
   "cell_type": "markdown",
   "metadata": {},
   "source": [
    "## Day 7\n",
    "\n",
    "http://adventofcode.com/2020/day/7"
   ]
  },
  {
   "cell_type": "code",
   "execution_count": null,
   "metadata": {},
   "outputs": [],
   "source": [
    "content = load_day(7)"
   ]
  },
  {
   "cell_type": "code",
   "execution_count": null,
   "metadata": {},
   "outputs": [],
   "source": [
    "rules = collections.defaultdict(dict)\n",
    "inverse_rules = collections.defaultdict(dict)\n",
    "\n",
    "for line in content:\n",
    "    key, val = line.split(\"contain\")\n",
    "    key = key[:-6]  # remove \" bags\"\n",
    "\n",
    "    if \"no other bags\" not in val:\n",
    "        for elem in val[1:-1].split(\", \"):\n",
    "            nb, *color, bags = elem.split(\" \")\n",
    "            rules[key][\" \".join(color)] = int(nb)\n",
    "            inverse_rules[\" \".join(color)][key] = 1/int(nb)"
   ]
  },
  {
   "cell_type": "markdown",
   "metadata": {},
   "source": [
    "__Part 1__"
   ]
  },
  {
   "cell_type": "code",
   "execution_count": null,
   "metadata": {},
   "outputs": [],
   "source": [
    "possibilities = set()\n",
    "queue = [\"shiny gold\"]\n",
    "\n",
    "while queue:\n",
    "    elem = queue.pop(0)\n",
    "    pot = list(inverse_rules[elem].keys())\n",
    "    possibilities |= set(pot)\n",
    "    queue += pot\n",
    "    \n",
    "print(f\"Answer 1: {len(possibilities)}\")"
   ]
  },
  {
   "cell_type": "markdown",
   "metadata": {},
   "source": [
    "__Part 2__"
   ]
  },
  {
   "cell_type": "code",
   "execution_count": null,
   "metadata": {},
   "outputs": [],
   "source": [
    "nb_bags = -1\n",
    "\n",
    "queue = [(1, \"shiny gold\")]\n",
    "\n",
    "while queue:\n",
    "    quantity, color = queue.pop(0)\n",
    "    nb_bags += quantity\n",
    "    \n",
    "    for pk, pv in rules[color].items():\n",
    "        queue.append((quantity * pv, pk))\n",
    "        \n",
    "print(f\"Answer 2: {nb_bags}\")"
   ]
  },
  {
   "cell_type": "markdown",
   "metadata": {},
   "source": [
    "## Day 8\n",
    "\n",
    "http://adventofcode.com/2020/day/8"
   ]
  },
  {
   "cell_type": "code",
   "execution_count": null,
   "metadata": {},
   "outputs": [],
   "source": [
    "content = load_day(8)"
   ]
  },
  {
   "cell_type": "markdown",
   "metadata": {},
   "source": [
    "__Part 1__"
   ]
  },
  {
   "cell_type": "code",
   "execution_count": null,
   "metadata": {},
   "outputs": [],
   "source": [
    "def machine(modify=None):\n",
    "    read_lines = []\n",
    "    to_read = 0\n",
    "\n",
    "    accumulator = 0\n",
    "\n",
    "    while to_read not in read_lines and to_read < len(content):\n",
    "        action, value = content[to_read].split(\" \")\n",
    "        read_lines.append(to_read)\n",
    "\n",
    "        if action == \"acc\":\n",
    "            accumulator += int(value)\n",
    "            to_read += 1\n",
    "\n",
    "        elif action == \"jmp\":\n",
    "             to_read += int(value) if modify != to_read else 1\n",
    "\n",
    "        elif action == \"nop\":\n",
    "            to_read += 1 if modify != to_read else int(value)\n",
    "\n",
    "        else:\n",
    "            print(action)\n",
    "            break\n",
    "            \n",
    "    return to_read == len(content), accumulator"
   ]
  },
  {
   "cell_type": "code",
   "execution_count": null,
   "metadata": {},
   "outputs": [],
   "source": [
    "_, score = machine()\n",
    "print(f\"Answer 1: {score}\")"
   ]
  },
  {
   "cell_type": "markdown",
   "metadata": {},
   "source": [
    "__Part 2__"
   ]
  },
  {
   "cell_type": "code",
   "execution_count": null,
   "metadata": {},
   "outputs": [],
   "source": [
    "for attempt in range(len(content)):\n",
    "    success, score = machine(modify=attempt)\n",
    "    \n",
    "    if success:\n",
    "        break\n",
    "        \n",
    "print(f\"Answer 2: {score}\")"
   ]
  },
  {
   "cell_type": "markdown",
   "metadata": {},
   "source": [
    "## Day 9\n",
    "\n",
    "http://adventofcode.com/2020/day/9"
   ]
  },
  {
   "cell_type": "code",
   "execution_count": null,
   "metadata": {},
   "outputs": [],
   "source": [
    "content = list(map(int, load_day(9)))"
   ]
  },
  {
   "cell_type": "markdown",
   "metadata": {},
   "source": [
    "__Part 1__"
   ]
  },
  {
   "cell_type": "code",
   "execution_count": null,
   "metadata": {},
   "outputs": [],
   "source": [
    "idx = 25\n",
    "\n",
    "preamble = content[:idx]\n",
    "sum_cand = [preamble[i] + preamble[j] for i in range(idx) for j in range(i + 1, idx)]\n",
    "\n",
    "\n",
    "\n",
    "while True:\n",
    "    elem = content[idx]\n",
    "    \n",
    "    if elem not in sum_cand:\n",
    "        break\n",
    "    \n",
    "    preamble.pop(0)\n",
    "    sum_cand = sum_cand[24:]  # those related to the removed preamble\n",
    "    pos = -1\n",
    "    for i, p in enumerate(preamble):\n",
    "        pos += 24 - i\n",
    "        sum_cand.insert(pos, p + elem)\n",
    "\n",
    "    preamble.append(elem)\n",
    "    idx += 1\n",
    "\n",
    "print(f\"Answer 1: {elem}\")"
   ]
  },
  {
   "cell_type": "markdown",
   "metadata": {},
   "source": [
    "__Part 2__"
   ]
  },
  {
   "cell_type": "code",
   "execution_count": null,
   "metadata": {},
   "outputs": [],
   "source": [
    "first_idx, last_idx, cur_sum = 0, 0, content[0]  # sum from first to last (inc.)\n",
    "first_too_much = False\n",
    "\n",
    "while cur_sum != elem:\n",
    "    if cur_sum < elem:  # if sum is not enough, add next element\n",
    "        last_idx += 1\n",
    "        cur_sum += content[last_idx]\n",
    "        first_too_much = True\n",
    "        \n",
    "    elif cur_sum > elem:  # otherwise, if just crossed the target, remove the first element\n",
    "        if first_too_much:\n",
    "            cur_sum -= content[first_idx]\n",
    "            first_idx += 1\n",
    "            first_too_much = False\n",
    "        else:  # if still too much, remove the last element next time\n",
    "            cur_sum -= content[last_idx]\n",
    "            last_idx -= 1\n",
    "            \n",
    "print(f\"Answer 2: {min(content[first_idx:last_idx + 1]) + max(content[first_idx:last_idx + 1])}\")"
   ]
  },
  {
   "cell_type": "markdown",
   "metadata": {},
   "source": [
    "## Day 10\n",
    "\n",
    "http://adventofcode.com/2020/day/10"
   ]
  },
  {
   "cell_type": "code",
   "execution_count": null,
   "metadata": {},
   "outputs": [],
   "source": [
    "content = list(map(int, load_day(10)))"
   ]
  },
  {
   "cell_type": "markdown",
   "metadata": {},
   "source": [
    "__Part 1__"
   ]
  },
  {
   "cell_type": "code",
   "execution_count": null,
   "metadata": {},
   "outputs": [],
   "source": [
    "ordered = sorted(content)\n",
    "\n",
    "# Add 0 and the output joltage (max + 3)\n",
    "diffs = collections.Counter([y - x for (x, y) in zip([0] + ordered, ordered + [ordered[-1] + 3])])\n",
    "\n",
    "print(f\"Answer 1: {diffs[1] * diffs[3]}\")"
   ]
  },
  {
   "cell_type": "markdown",
   "metadata": {},
   "source": [
    "__Part 2__"
   ]
  },
  {
   "cell_type": "code",
   "execution_count": null,
   "metadata": {},
   "outputs": [],
   "source": [
    "paths = collections.defaultdict(int)\n",
    "paths[0] = 1\n",
    "\n",
    "for target in ordered:\n",
    "    paths[target] = paths[target - 1] + paths[target - 2] + paths[target - 3]\n",
    "    \n",
    "print(f\"Answer 2: {paths[ordered[-1]]}\")"
   ]
  },
  {
   "cell_type": "markdown",
   "metadata": {},
   "source": [
    "## Day 11\n",
    "\n",
    "http://adventofcode.com/2020/day/11"
   ]
  },
  {
   "cell_type": "code",
   "execution_count": null,
   "metadata": {},
   "outputs": [],
   "source": [
    "content = load_day(11)"
   ]
  },
  {
   "cell_type": "markdown",
   "metadata": {},
   "source": [
    "__Part 1__"
   ]
  },
  {
   "cell_type": "code",
   "execution_count": null,
   "metadata": {},
   "outputs": [],
   "source": [
    "seats = collections.defaultdict(dict)\n",
    "seats_l = []\n",
    "\n",
    "class Seat:\n",
    "    pos_x, pos_y = None, None\n",
    "    previous_state, next_state = False, None\n",
    "    \n",
    "    def __init__(self, pos_x, pos_y):\n",
    "        self.pos_x = pos_x\n",
    "        self.pos_y = pos_y\n",
    "        self.neighbors = []\n",
    "        self.visible_neighbors = []\n",
    "        \n",
    "        seats[pos_x][pos_y] = self\n",
    "        seats_l.append(self)\n",
    "        \n",
    "        # Set neighbors\n",
    "        for (cand_x, cand_y) in [(pos_x + 1, pos_y - 1), (pos_x, pos_y - 1), (pos_x - 1, pos_y - 1), (pos_x - 1, pos_y)]:\n",
    "            other_seat = seats[cand_x].get(cand_y)\n",
    "            if other_seat:\n",
    "                self.neighbors.append(other_seat)\n",
    "                other_seat.neighbors.append(self)\n",
    "                \n",
    "        # Set visible neighbors\n",
    "        for (delta_x, delta_y) in [(1, -1), (0, -1), (-1, -1), (-1, 0)]:\n",
    "            found_something = False\n",
    "            cand_x, cand_y = pos_x, pos_y\n",
    "            while not found_something and cand_x + delta_x >= 0 and cand_y + delta_y >= 0:\n",
    "                cand_x += delta_x\n",
    "                cand_y += delta_y\n",
    "                \n",
    "                other_seat = seats[cand_x].get(cand_y)\n",
    "                \n",
    "                if other_seat:\n",
    "                    found_something = True\n",
    "                    self.visible_neighbors.append(other_seat)\n",
    "                    other_seat.visible_neighbors.append(self)\n",
    "        \n",
    "    def nb_occupied_neighbors(self):\n",
    "        nb_occupied = 0\n",
    "        for s in self.neighbors:\n",
    "            nb_occupied += 1 if s.previous_state else 0\n",
    "        return nb_occupied\n",
    "    \n",
    "    def nb_occupied_visible_neighbors(self):\n",
    "        nb_occupied = 0\n",
    "        for s in self.visible_neighbors:\n",
    "            nb_occupied += 1 if s.previous_state else 0\n",
    "        return nb_occupied\n",
    "    \n",
    "    def __str__(self):\n",
    "        return f\"SEAT ({self.pos_x}, {self.pos_y}): #{len(self.neighbors)}, #{len(self.visible_neighbors)}\"\n",
    "\n",
    "def nb_occupied_seats():\n",
    "    nb_occupied = 0\n",
    "    for seat in seats_l:\n",
    "        nb_occupied += 1 if seat.previous_state else 0\n",
    "            \n",
    "    return nb_occupied\n",
    "\n",
    "def print_seats():\n",
    "    for i in range(10):\n",
    "        for j in range(10):\n",
    "            if i not in seats[j]:\n",
    "                print(\".\", end=\"\")\n",
    "            else:\n",
    "                print(\"#\" if seats[j][i].previous_state else \"L\", end=\"\")\n",
    "                \n",
    "        print()\n",
    "\n",
    "for pos_y, line in enumerate(content):\n",
    "    for pos_x, elem in enumerate(line):\n",
    "        if elem == \"L\":\n",
    "            s = Seat(pos_x, pos_y)"
   ]
  },
  {
   "cell_type": "code",
   "execution_count": null,
   "metadata": {},
   "outputs": [],
   "source": [
    "def step():\n",
    "    changes = False\n",
    "    \n",
    "    for seat in seats_l:\n",
    "        if seat.previous_state and seat.nb_occupied_neighbors() >= 4:\n",
    "            seat.next_state = False\n",
    "            changes = True\n",
    "        elif not seat.previous_state and seat.nb_occupied_neighbors() == 0:\n",
    "            seat.next_state = True\n",
    "            changes = True\n",
    "        else:\n",
    "            seat.next_state = seat.previous_state\n",
    "\n",
    "    for seat in seats_l:\n",
    "        seat.previous_state = seat.next_state\n",
    "        seat.next_state = None\n",
    "        \n",
    "    return changes\n",
    "\n",
    "changes = True\n",
    "\n",
    "while changes:    \n",
    "    changes = step()\n",
    "    \n",
    "print(f\"Answer 1: {nb_occupied_seats()}\")"
   ]
  },
  {
   "cell_type": "markdown",
   "metadata": {},
   "source": [
    "__Part 2__"
   ]
  },
  {
   "cell_type": "code",
   "execution_count": null,
   "metadata": {},
   "outputs": [],
   "source": [
    "# If you ran step(), reinitialize\n",
    "\n",
    "def step2():\n",
    "    changes = False\n",
    "    \n",
    "    for seat in seats_l:\n",
    "        if seat.previous_state and seat.nb_occupied_visible_neighbors() >= 5:\n",
    "            seat.next_state = False\n",
    "            changes = True\n",
    "        elif not seat.previous_state and seat.nb_occupied_visible_neighbors() == 0:\n",
    "            seat.next_state = True\n",
    "            changes = True\n",
    "        else:\n",
    "            seat.next_state = seat.previous_state\n",
    "\n",
    "    for seat in seats_l:\n",
    "        seat.previous_state = seat.next_state\n",
    "        seat.next_state = None\n",
    "        \n",
    "    return changes\n",
    "\n",
    "changes = True\n",
    "\n",
    "while changes:\n",
    "    changes = step2()\n",
    "    \n",
    "print(f\"Answer 2: {nb_occupied_seats()}\")"
   ]
  },
  {
   "cell_type": "markdown",
   "metadata": {},
   "source": [
    "## Day 12\n",
    "\n",
    "http://adventofcode.com/2020/day/12"
   ]
  },
  {
   "cell_type": "code",
   "execution_count": null,
   "metadata": {},
   "outputs": [],
   "source": [
    "content = load_day(12)"
   ]
  },
  {
   "cell_type": "markdown",
   "metadata": {},
   "source": [
    "__Part 1__"
   ]
  },
  {
   "cell_type": "code",
   "execution_count": null,
   "metadata": {},
   "outputs": [],
   "source": [
    "pos = [0, 0]\n",
    "direct = \"E\"\n",
    "\n",
    "DIRECTIONS = [\"E\", \"S\", \"W\", \"N\"]\n",
    "\n",
    "def manathan_dist(point):\n",
    "    return abs(point[0]) + abs(point[1])\n",
    "\n",
    "\n",
    "for line in content:\n",
    "    task, amount = line[0], int(line[1:])\n",
    "    if task == \"F\":\n",
    "        task = direct\n",
    "        \n",
    "    if task == \"N\":\n",
    "        pos[1] += amount\n",
    "    elif task == \"S\":\n",
    "        pos[1] -= amount\n",
    "    elif task == \"E\":\n",
    "        pos[0] += amount\n",
    "    elif task == \"W\":\n",
    "        pos[0] -= amount\n",
    "    elif task == \"L\":\n",
    "        idx = (DIRECTIONS.index(direct) - amount // 90) % len(DIRECTIONS)\n",
    "        direct = DIRECTIONS[idx]\n",
    "    elif task == \"R\":\n",
    "        idx = (DIRECTIONS.index(direct) + amount // 90) % len(DIRECTIONS)\n",
    "        direct = DIRECTIONS[idx]\n",
    "        \n",
    "print(f\"Answer 1: {manathan_dist(pos)}\")"
   ]
  },
  {
   "cell_type": "markdown",
   "metadata": {},
   "source": [
    "__Part 2__"
   ]
  },
  {
   "cell_type": "code",
   "execution_count": null,
   "metadata": {},
   "outputs": [],
   "source": [
    "pos = [0, 0]\n",
    "waypoint = [10, 1]\n",
    "\n",
    "def turn_clockwise90():\n",
    "    tmp = -waypoint[0]\n",
    "    waypoint[0] = waypoint[1]\n",
    "    waypoint[1] = tmp\n",
    "    \n",
    "\n",
    "for line in content:\n",
    "    task, amount = line[0], int(line[1:])\n",
    "        \n",
    "    if task == \"N\":\n",
    "        waypoint[1] += amount\n",
    "    elif task == \"S\":\n",
    "        waypoint[1] -= amount\n",
    "    elif task == \"E\":\n",
    "        waypoint[0] += amount\n",
    "    elif task == \"W\":\n",
    "        waypoint[0] -= amount\n",
    "    elif task == \"L\":\n",
    "        for i in range((-amount % 360) // 90):\n",
    "            turn_clockwise90()\n",
    "    elif task == \"R\":\n",
    "        for i in range(amount // 90):\n",
    "            turn_clockwise90()\n",
    "    elif task == \"F\":\n",
    "        pos[0] += amount * waypoint[0]\n",
    "        pos[1] += amount * waypoint[1]\n",
    "        \n",
    "print(f\"Answer 2: {manathan_dist(pos)}\")"
   ]
  },
  {
   "cell_type": "markdown",
   "metadata": {},
   "source": [
    "## Day 13\n",
    "\n",
    "http://adventofcode.com/2020/day/13"
   ]
  },
  {
   "cell_type": "code",
   "execution_count": null,
   "metadata": {},
   "outputs": [],
   "source": [
    "content = load_day(13)"
   ]
  },
  {
   "cell_type": "markdown",
   "metadata": {},
   "source": [
    "__Part 1__"
   ]
  },
  {
   "cell_type": "code",
   "execution_count": null,
   "metadata": {},
   "outputs": [],
   "source": [
    "arrival_time = int(content[0])\n",
    "buses = set([int(x) for x in content[1].split(\",\") if x != \"x\"])"
   ]
  },
  {
   "cell_type": "code",
   "execution_count": null,
   "metadata": {},
   "outputs": [],
   "source": [
    "min_time, bus_id = None, None\n",
    "\n",
    "for bus in buses:\n",
    "    waiting_time = -arrival_time % bus\n",
    "    \n",
    "    if not min_time or waiting_time < min_time:\n",
    "        min_time = waiting_time\n",
    "        bus_id = bus\n",
    "\n",
    "print(f\"Answer 1: {bus_id * min_time}\")"
   ]
  },
  {
   "cell_type": "markdown",
   "metadata": {},
   "source": [
    "__Part 2__"
   ]
  },
  {
   "cell_type": "code",
   "execution_count": null,
   "metadata": {},
   "outputs": [],
   "source": [
    "n = functools.reduce(lambda x, y: x * y, buses, 1)\n",
    "constraints = [(idx, int(bus)) for idx, bus in enumerate(content[1].split(\",\")) if bus != \"x\"]"
   ]
  },
  {
   "cell_type": "code",
   "execution_count": null,
   "metadata": {},
   "outputs": [],
   "source": [
    "def euclid(a, b):\n",
    "    \"\"\"Return gcd(a, b), u, v such tht au + bv = gcd(a, b)\"\"\"\n",
    "    def eucl(r, u, v, r_prim, u_prim, v_prim):\n",
    "        return (r, u, v) if r_prim == 0 else eucl(r_prim, u_prim, v_prim, r - (r // r_prim) * r_prim, u - (r // r_prim) * u_prim, v - (r // r_prim) * v_prim)\n",
    "\n",
    "    return eucl(a, 1, 0, b, 0, 1)\n",
    "\n",
    "res = 0\n",
    "for c in constraints:\n",
    "    n_hat = n // c[1]\n",
    "    *_, v = euclid(c[1], n_hat)\n",
    "    res -= c[0] * v * n_hat\n",
    "\n",
    "    \n",
    "print(f\"Answer 2: {res % n}\")"
   ]
  },
  {
   "cell_type": "markdown",
   "metadata": {},
   "source": [
    "## Day 14\n",
    "\n",
    "http://adventofcode.com/2020/day/14"
   ]
  },
  {
   "cell_type": "code",
   "execution_count": null,
   "metadata": {},
   "outputs": [],
   "source": [
    "content = load_day(14)"
   ]
  },
  {
   "cell_type": "markdown",
   "metadata": {},
   "source": [
    "__Part 1__"
   ]
  },
  {
   "cell_type": "code",
   "execution_count": null,
   "metadata": {},
   "outputs": [],
   "source": [
    "mask_rule = re.compile(r\"^mask = (.+)$\")\n",
    "mem_rule = re.compile(r\"^mem\\[(\\d+)\\] = (\\d+)$\")\n",
    "\n",
    "mem = collections.defaultdict(int)\n",
    "\n",
    "def get_masked_value(mask, val):\n",
    "    res = [val[idx] if char == \"X\" else char for idx, char in enumerate(mask)]\n",
    "        \n",
    "    return int(\"\".join(res), 2)\n",
    "\n",
    "for line in content:\n",
    "    mask_m = mask_rule.match(line)\n",
    "    mem_m = mem_rule.match(line)\n",
    "    \n",
    "    if mask_m:\n",
    "        mask = mask_m.group(1)\n",
    "    elif mem_m:\n",
    "        idx, val = [int(x) for x in rule.match(line).groups()]\n",
    "        mem[idx] = get_masked_value(mask, f\"{val:036b}\")\n",
    "      \n",
    "sum = functools.reduce(lambda x, y: x + y, mem.values(), 0)\n",
    "print(f\"Answer 1: {sum}\")"
   ]
  },
  {
   "cell_type": "markdown",
   "metadata": {},
   "source": [
    "__Part 2__"
   ]
  },
  {
   "cell_type": "code",
   "execution_count": null,
   "metadata": {},
   "outputs": [],
   "source": [
    "mem = collections.defaultdict(int)\n",
    "\n",
    "def get_masked_value(mask, val):    \n",
    "    indices = []\n",
    "\n",
    "    res = [val[idx] if char == \"0\" else char for idx, char in enumerate(mask)]\n",
    "    \n",
    "    nb_x = res.count('X')\n",
    "    \n",
    "    for i in range(pow(2, nb_x)):\n",
    "        x_substitutes = ('0' * nb_x + f\"{i:b}\")[-nb_x:]\n",
    "        elem = \"\".join(res)\n",
    "        \n",
    "        for c in x_substitutes:\n",
    "            elem = elem.replace(\"X\", c, 1)\n",
    "        \n",
    "        indices.append(elem)\n",
    "    return indices\n",
    "\n",
    "\n",
    "for line in content:\n",
    "    mask_m = mask_rule.match(line)\n",
    "    mem_m = mem_rule.match(line)\n",
    "    \n",
    "    if mask_m:\n",
    "        mask = mask_m.group(1)\n",
    "    elif mem_m:\n",
    "        idx, val = [int(x) for x in rule.match(line).groups()]\n",
    "        for ix in get_masked_value(mask, f\"{idx:036b}\"):\n",
    "            mem[ix] = val\n",
    "    else:\n",
    "        raise\n",
    "      \n",
    "functools.reduce(lambda x, y: x + y, mem.values(), 0)"
   ]
  },
  {
   "cell_type": "markdown",
   "metadata": {},
   "source": [
    "## Day 15\n",
    "\n",
    "http://adventofcode.com/2020/day/15"
   ]
  },
  {
   "cell_type": "code",
   "execution_count": null,
   "metadata": {},
   "outputs": [],
   "source": [
    "content = load_day(15)"
   ]
  },
  {
   "cell_type": "markdown",
   "metadata": {},
   "source": [
    "__Part 1__"
   ]
  },
  {
   "cell_type": "code",
   "execution_count": null,
   "metadata": {},
   "outputs": [],
   "source": [
    "def init():\n",
    "    last_occurance = collections.defaultdict(int)\n",
    "\n",
    "    last_occurance[18] = 1\n",
    "    last_occurance[11] = 2\n",
    "    last_occurance[9] = 3\n",
    "    last_occurance[0] = 4\n",
    "    last_occurance[5] = 5\n",
    "\n",
    "    last_number = 1\n",
    "    nth_number = 6\n",
    "    \n",
    "    return last_occurance, last_number, nth_number\n",
    "\n",
    "\n",
    "def challenge(last_occurance, last_number, nth_number, stop=2020):\n",
    "\n",
    "    while nth_number < stop:\n",
    "        next_number = nth_number - last_occurance[last_number] if last_occurance[last_number] else 0\n",
    "        last_occurance[last_number] = nth_number\n",
    "        nth_number += 1\n",
    "        last_number = next_number\n",
    "    \n",
    "    return next_number\n",
    "\n",
    "print(f\"Anwser 1: {challenge(*init())}\")"
   ]
  },
  {
   "cell_type": "markdown",
   "metadata": {},
   "source": [
    "__Part 2__"
   ]
  },
  {
   "cell_type": "code",
   "execution_count": null,
   "metadata": {},
   "outputs": [],
   "source": [
    "print(f\"Anwser 2: {challenge(*init(), 30000000)}\")"
   ]
  },
  {
   "cell_type": "markdown",
   "metadata": {},
   "source": [
    "## Day 16\n",
    "\n",
    "http://adventofcode.com/2020/day/16"
   ]
  },
  {
   "cell_type": "code",
   "execution_count": null,
   "metadata": {},
   "outputs": [],
   "source": [
    "content = load_day(16)"
   ]
  },
  {
   "cell_type": "markdown",
   "metadata": {},
   "source": [
    "__Part 1__"
   ]
  },
  {
   "cell_type": "code",
   "execution_count": null,
   "metadata": {},
   "outputs": [],
   "source": [
    "rule = re.compile(r\"^([a-z\\s]+): (\\d+)-(\\d+) or (\\d+)-(\\d+)$\")\n",
    "section = 0\n",
    "\n",
    "count = 0\n",
    "rules = []\n",
    "valid_tickets = []\n",
    "min_val, max_val = None, None\n",
    "\n",
    "for line in content:\n",
    "    if section == 0:\n",
    "        m = rule.match(line)\n",
    "        if m:\n",
    "            rules.append([int(x) for x in m.groups()[1:]])\n",
    "        \n",
    "        if \"your ticket\" in line:\n",
    "            section = 1\n",
    "\n",
    "            min_val = min([elem[0] for elem in rules])\n",
    "            max_val = max([elem[-1] for elem in rules])\n",
    "        \n",
    "    elif section == 1:    \n",
    "        if \"nearby tickets\" in line:\n",
    "            section = 2\n",
    "        elif line:\n",
    "            valid_tickets.append(line)\n",
    "        \n",
    "    elif section == 2:\n",
    "        invalid_values = [int(x) for x in line.split(\",\") if int(x) < min_val or int(x) > max_val]\n",
    "        \n",
    "        if invalid_values:\n",
    "            count = functools.reduce(lambda x, y: x + y, invalid_values, count)\n",
    "        else:\n",
    "            valid_tickets.append(line)\n",
    "\n",
    "print(f\"Answer 1: {count}\")"
   ]
  },
  {
   "cell_type": "markdown",
   "metadata": {},
   "source": [
    "__Part 2__"
   ]
  },
  {
   "cell_type": "code",
   "execution_count": null,
   "metadata": {},
   "outputs": [],
   "source": [
    "rules_fullfiled = []\n",
    "\n",
    "for i in range(20):\n",
    "    rules_fullfiled.append(set(range(20)))\n",
    "\n",
    "for ticket in valid_tickets:\n",
    "    for idx, x in enumerate(ticket.split(\",\")):\n",
    "        rules_broken = set()\n",
    "        value = int(x)\n",
    "        for rule_idx in rules_fullfiled[idx]:\n",
    "            if value < rules[rule_idx][0] or value > rules[rule_idx][3] or rules[rule_idx][1] < value < rules[rule_idx][2]:\n",
    "                rules_broken.add(rule_idx)\n",
    "        rules_fullfiled[idx] -= rules_broken\n",
    "\n",
    "mappings = {k:rules_fullfiled[k] for k in range(20)}\n",
    "mappings = dict(sorted(mappings.items(), key=lambda x: len(x[1])))\n",
    "\n",
    "mapping, used = {}, set()\n",
    "\n",
    "for k, v in mappings.items():\n",
    "    mapping[k] = next(iter(v - used))\n",
    "    used.add(mapping[k])\n",
    "\n",
    "my_ticket = [int(x) for x in valid_tickets[0].split(\",\")]\n",
    "prod = 1\n",
    "for k, v in mapping.items():\n",
    "    if v < 6:\n",
    "        prod *= my_ticket[k]\n",
    "\n",
    "print(f\"Answer 2: {prod}\")"
   ]
  },
  {
   "cell_type": "markdown",
   "metadata": {},
   "source": [
    "## Day 17\n",
    "\n",
    "http://adventofcode.com/2020/day/17"
   ]
  },
  {
   "cell_type": "code",
   "execution_count": null,
   "metadata": {},
   "outputs": [],
   "source": [
    "content = load_day(17)"
   ]
  },
  {
   "cell_type": "markdown",
   "metadata": {},
   "source": [
    "__Part 1__"
   ]
  },
  {
   "cell_type": "markdown",
   "metadata": {},
   "source": [
    "__Part 2__"
   ]
  },
  {
   "cell_type": "markdown",
   "metadata": {},
   "source": [
    "## Day 18\n",
    "\n",
    "http://adventofcode.com/2020/day/18"
   ]
  },
  {
   "cell_type": "code",
   "execution_count": null,
   "metadata": {},
   "outputs": [],
   "source": [
    "content = load_day(18)"
   ]
  },
  {
   "cell_type": "markdown",
   "metadata": {},
   "source": [
    "__Part 1__"
   ]
  },
  {
   "cell_type": "markdown",
   "metadata": {},
   "source": [
    "__Part 2__"
   ]
  },
  {
   "cell_type": "markdown",
   "metadata": {},
   "source": [
    "## Day 19\n",
    "\n",
    "http://adventofcode.com/2020/day/19"
   ]
  },
  {
   "cell_type": "code",
   "execution_count": null,
   "metadata": {},
   "outputs": [],
   "source": [
    "content = load_day(19)"
   ]
  },
  {
   "cell_type": "markdown",
   "metadata": {},
   "source": [
    "__Part 1__"
   ]
  },
  {
   "cell_type": "markdown",
   "metadata": {},
   "source": [
    "__Part 2__"
   ]
  },
  {
   "cell_type": "markdown",
   "metadata": {},
   "source": [
    "## Day 20\n",
    "\n",
    "http://adventofcode.com/2020/day/20"
   ]
  },
  {
   "cell_type": "code",
   "execution_count": null,
   "metadata": {},
   "outputs": [],
   "source": [
    "content = load_day(20)"
   ]
  },
  {
   "cell_type": "markdown",
   "metadata": {},
   "source": [
    "__Part 1__"
   ]
  },
  {
   "cell_type": "markdown",
   "metadata": {},
   "source": [
    "__Part 2__"
   ]
  },
  {
   "cell_type": "markdown",
   "metadata": {},
   "source": [
    "## Day 21\n",
    "\n",
    "http://adventofcode.com/2020/day/21"
   ]
  },
  {
   "cell_type": "code",
   "execution_count": null,
   "metadata": {},
   "outputs": [],
   "source": [
    "content = load_day(21)"
   ]
  },
  {
   "cell_type": "markdown",
   "metadata": {},
   "source": [
    "__Part 1__"
   ]
  },
  {
   "cell_type": "markdown",
   "metadata": {},
   "source": [
    "__Part 2__"
   ]
  },
  {
   "cell_type": "markdown",
   "metadata": {},
   "source": [
    "## Day 22\n",
    "\n",
    "http://adventofcode.com/2020/day/22"
   ]
  },
  {
   "cell_type": "code",
   "execution_count": null,
   "metadata": {},
   "outputs": [],
   "source": [
    "content = load_day(22)"
   ]
  },
  {
   "cell_type": "markdown",
   "metadata": {},
   "source": [
    "__Part 1__"
   ]
  },
  {
   "cell_type": "markdown",
   "metadata": {},
   "source": [
    "__Part 2__"
   ]
  },
  {
   "cell_type": "markdown",
   "metadata": {},
   "source": [
    "## Day 23\n",
    "\n",
    "http://adventofcode.com/2020/day/23"
   ]
  },
  {
   "cell_type": "code",
   "execution_count": null,
   "metadata": {},
   "outputs": [],
   "source": [
    "content = load_day(23)"
   ]
  },
  {
   "cell_type": "markdown",
   "metadata": {},
   "source": [
    "__Part 1__"
   ]
  },
  {
   "cell_type": "markdown",
   "metadata": {},
   "source": [
    "__Part 2__"
   ]
  },
  {
   "cell_type": "markdown",
   "metadata": {},
   "source": [
    "## Day 24\n",
    "\n",
    "http://adventofcode.com/2020/day/24"
   ]
  },
  {
   "cell_type": "code",
   "execution_count": null,
   "metadata": {},
   "outputs": [],
   "source": [
    "content = load_day(24)"
   ]
  },
  {
   "cell_type": "markdown",
   "metadata": {},
   "source": [
    "__Part 1__"
   ]
  },
  {
   "cell_type": "markdown",
   "metadata": {},
   "source": [
    "__Part 2__"
   ]
  },
  {
   "cell_type": "markdown",
   "metadata": {},
   "source": [
    "## Day 25\n",
    "\n",
    "http://adventofcode.com/2020/day/25"
   ]
  },
  {
   "cell_type": "code",
   "execution_count": null,
   "metadata": {},
   "outputs": [],
   "source": [
    "content = load_day(25)"
   ]
  },
  {
   "cell_type": "markdown",
   "metadata": {},
   "source": [
    "__Part 1__"
   ]
  },
  {
   "cell_type": "markdown",
   "metadata": {},
   "source": [
    "__Part 2__"
   ]
  }
 ],
 "metadata": {
  "language_info": {
   "name": "python",
   "pygments_lexer": "ipython3"
  }
 },
 "nbformat": 4,
 "nbformat_minor": 2
}
