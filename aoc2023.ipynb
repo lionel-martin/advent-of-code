{
 "cells": [
  {
   "cell_type": "markdown",
   "metadata": {},
   "source": [
    "# AOC 2023\n",
    "\n",
    "Welcome to the Advent of Code 2023!"
   ]
  },
  {
   "cell_type": "markdown",
   "metadata": {},
   "source": [
    "## Basic configuration\n",
    "\n"
   ]
  },
  {
   "cell_type": "code",
   "execution_count": null,
   "metadata": {},
   "outputs": [],
   "source": [
    "! pip install -U advent-of-code-data numpy pandas networkx matplotlib scipy"
   ]
  },
  {
   "cell_type": "code",
   "execution_count": null,
   "metadata": {},
   "outputs": [],
   "source": [
    "import os\n",
    "\n",
    "os.environ['AOC_SESSION'] = open('session.txt').read().strip()"
   ]
  },
  {
   "cell_type": "code",
   "execution_count": null,
   "metadata": {},
   "outputs": [],
   "source": [
    "from aocd.models import Puzzle\n",
    "from collections import Counter, defaultdict\n",
    "from itertools import chain, product\n",
    "from numpy.typing import ArrayLike\n",
    "from pprint import pprint\n",
    "from queue import PriorityQueue\n",
    "from scipy import sparse\n",
    "from statistics import median\n",
    "from typing import Callable, Dict, Iterator, Mapping, Tuple\n",
    "import copy\n",
    "import functools\n",
    "import math\n",
    "import operator\n",
    "import networkx as nx\n",
    "import numpy as np\n",
    "import pandas as pd\n",
    "import sys\n",
    "import re"
   ]
  },
  {
   "cell_type": "markdown",
   "metadata": {},
   "source": [
    "## Day 24\n",
    "https://adventofcode.com/2023/day/24"
   ]
  },
  {
   "cell_type": "code",
   "execution_count": null,
   "metadata": {},
   "outputs": [],
   "source": [
    "puzzle = Puzzle(year=2023, day=24)"
   ]
  },
  {
   "cell_type": "markdown",
   "metadata": {},
   "source": [
    "### Part 1"
   ]
  },
  {
   "cell_type": "markdown",
   "metadata": {},
   "source": [
    "### Part 2"
   ]
  },
  {
   "cell_type": "markdown",
   "metadata": {},
   "source": [
    "## Day 23\n",
    "https://adventofcode.com/2023/day/23"
   ]
  },
  {
   "cell_type": "code",
   "execution_count": null,
   "metadata": {},
   "outputs": [],
   "source": [
    "puzzle = Puzzle(year=2023, day=23)"
   ]
  },
  {
   "cell_type": "markdown",
   "metadata": {},
   "source": [
    "### Part 1"
   ]
  },
  {
   "cell_type": "markdown",
   "metadata": {},
   "source": [
    "### Part 2"
   ]
  },
  {
   "cell_type": "markdown",
   "metadata": {},
   "source": [
    "## Day 22\n",
    "https://adventofcode.com/2023/day/22"
   ]
  },
  {
   "cell_type": "code",
   "execution_count": null,
   "metadata": {},
   "outputs": [],
   "source": [
    "puzzle = Puzzle(year=2023, day=22)\n"
   ]
  },
  {
   "cell_type": "markdown",
   "metadata": {},
   "source": [
    "### Part 1"
   ]
  },
  {
   "cell_type": "markdown",
   "metadata": {},
   "source": [
    "### Part 2"
   ]
  },
  {
   "cell_type": "markdown",
   "metadata": {},
   "source": [
    "## Day 21\n",
    "https://adventofcode.com/2023/day/21"
   ]
  },
  {
   "cell_type": "code",
   "execution_count": null,
   "metadata": {},
   "outputs": [],
   "source": [
    "puzzle = Puzzle(year=2023, day=21)\n"
   ]
  },
  {
   "cell_type": "markdown",
   "metadata": {},
   "source": [
    "### Part 1"
   ]
  },
  {
   "cell_type": "markdown",
   "metadata": {},
   "source": [
    "### Part 2"
   ]
  },
  {
   "cell_type": "markdown",
   "metadata": {},
   "source": [
    "## Day 20\n",
    "https://adventofcode.com/2023/day/20"
   ]
  },
  {
   "cell_type": "code",
   "execution_count": null,
   "metadata": {},
   "outputs": [],
   "source": [
    "puzzle = Puzzle(year=2023, day=20)\n",
    "input_data = \"\"\n"
   ]
  },
  {
   "cell_type": "markdown",
   "metadata": {},
   "source": [
    "### Part 1"
   ]
  },
  {
   "cell_type": "markdown",
   "metadata": {},
   "source": [
    "### Part 2"
   ]
  },
  {
   "cell_type": "markdown",
   "metadata": {},
   "source": [
    "## Day 19\n",
    "\n",
    "https://adventofcode.com/2023/day/19"
   ]
  },
  {
   "cell_type": "code",
   "execution_count": null,
   "metadata": {},
   "outputs": [],
   "source": [
    "puzzle = Puzzle(year=2023, day=19)\n",
    "input_data = \"\"\n"
   ]
  },
  {
   "cell_type": "markdown",
   "metadata": {},
   "source": [
    "### Part 1"
   ]
  },
  {
   "cell_type": "markdown",
   "metadata": {},
   "source": [
    "### Part 2"
   ]
  },
  {
   "cell_type": "markdown",
   "metadata": {},
   "source": [
    "## Day 18\n",
    "https://adventofcode.com/2023/day/18"
   ]
  },
  {
   "cell_type": "code",
   "execution_count": null,
   "metadata": {},
   "outputs": [],
   "source": [
    "puzzle = Puzzle(year=2023, day=18)\n",
    "input_data = \"\"\n"
   ]
  },
  {
   "cell_type": "markdown",
   "metadata": {},
   "source": [
    "### Part 1"
   ]
  },
  {
   "cell_type": "markdown",
   "metadata": {},
   "source": [
    "### Part 2"
   ]
  },
  {
   "cell_type": "markdown",
   "metadata": {},
   "source": [
    "## Day 17\n",
    "https://adventofcode.com/2023/day/17"
   ]
  },
  {
   "cell_type": "code",
   "execution_count": null,
   "metadata": {},
   "outputs": [],
   "source": [
    "puzzle = Puzzle(year=2023, day=17)\n",
    "input_data = \"\"\n"
   ]
  },
  {
   "cell_type": "markdown",
   "metadata": {},
   "source": [
    "### Part 1"
   ]
  },
  {
   "cell_type": "markdown",
   "metadata": {},
   "source": [
    "### Part 2"
   ]
  },
  {
   "cell_type": "markdown",
   "metadata": {},
   "source": [
    "## Day 16\n",
    "https://adventofcode.com/2023/day/16"
   ]
  },
  {
   "cell_type": "code",
   "execution_count": null,
   "metadata": {},
   "outputs": [],
   "source": [
    "puzzle = Puzzle(year=2023, day=16)\n",
    "input_data = \"\"\n"
   ]
  },
  {
   "cell_type": "markdown",
   "metadata": {},
   "source": [
    "### Part 1"
   ]
  },
  {
   "cell_type": "markdown",
   "metadata": {},
   "source": [
    "### Part 2"
   ]
  },
  {
   "cell_type": "markdown",
   "metadata": {},
   "source": [
    "## Day 15\n",
    "https://adventofcode.com/2023/day/15"
   ]
  },
  {
   "cell_type": "code",
   "execution_count": null,
   "metadata": {},
   "outputs": [],
   "source": [
    "puzzle = Puzzle(year=2023, day=15)\n",
    "input_data = \"\"\n"
   ]
  },
  {
   "cell_type": "markdown",
   "metadata": {},
   "source": [
    "### Part 1"
   ]
  },
  {
   "cell_type": "markdown",
   "metadata": {},
   "source": [
    "### Part 2"
   ]
  },
  {
   "cell_type": "markdown",
   "metadata": {},
   "source": [
    "## Day 14\n",
    "https://adventofcode.com/2023/day/14"
   ]
  },
  {
   "cell_type": "code",
   "execution_count": null,
   "metadata": {},
   "outputs": [],
   "source": [
    "puzzle = Puzzle(year=2023, day=14)\n"
   ]
  },
  {
   "cell_type": "markdown",
   "metadata": {},
   "source": [
    "\n",
    "### Part 1"
   ]
  },
  {
   "cell_type": "markdown",
   "metadata": {},
   "source": [
    "### Part 2"
   ]
  },
  {
   "cell_type": "markdown",
   "metadata": {},
   "source": [
    "## Day 13\n",
    "\n",
    "_TBD_\n",
    "\n",
    "https://adventofcode.com/2023/day/13"
   ]
  },
  {
   "cell_type": "code",
   "execution_count": null,
   "metadata": {},
   "outputs": [],
   "source": [
    "puzzle = Puzzle(year=2023, day=13)\n",
    "input_data = \"\"\n"
   ]
  },
  {
   "cell_type": "markdown",
   "metadata": {},
   "source": [
    "### Part 1"
   ]
  },
  {
   "cell_type": "markdown",
   "metadata": {},
   "source": [
    "### Part 2"
   ]
  },
  {
   "cell_type": "markdown",
   "metadata": {},
   "source": [
    "## Day 12\n",
    "\n",
    "_TBD_\n",
    "\n",
    "https://adventofcode.com/2023/day/12"
   ]
  },
  {
   "cell_type": "code",
   "execution_count": null,
   "metadata": {},
   "outputs": [],
   "source": [
    "puzzle = Puzzle(year=2023, day=12)\n",
    "input_data = \"\"\n"
   ]
  },
  {
   "cell_type": "markdown",
   "metadata": {},
   "source": [
    "### Part 1"
   ]
  },
  {
   "cell_type": "markdown",
   "metadata": {},
   "source": [
    "### Part 2"
   ]
  },
  {
   "cell_type": "markdown",
   "metadata": {},
   "source": [
    "## Day 11\n",
    "\n",
    "_TBD_\n",
    "\n",
    "https://adventofcode.com/2023/day/11"
   ]
  },
  {
   "cell_type": "code",
   "execution_count": null,
   "metadata": {},
   "outputs": [],
   "source": [
    "puzzle = Puzzle(year=2023, day=11)\n",
    "input_data = \"\"\n"
   ]
  },
  {
   "cell_type": "markdown",
   "metadata": {},
   "source": [
    "### Part 1"
   ]
  },
  {
   "cell_type": "markdown",
   "metadata": {},
   "source": [
    "### Part 2"
   ]
  },
  {
   "cell_type": "markdown",
   "metadata": {},
   "source": [
    "## Day 10\n",
    "\n",
    "_TBD_\n",
    "\n",
    "https://adventofcode.com/2023/day/10"
   ]
  },
  {
   "cell_type": "code",
   "execution_count": null,
   "metadata": {},
   "outputs": [],
   "source": [
    "puzzle = Puzzle(year=2023, day=10)\n",
    "input_data = \"\"\n"
   ]
  },
  {
   "cell_type": "markdown",
   "metadata": {},
   "source": [
    "### Part 1"
   ]
  },
  {
   "cell_type": "markdown",
   "metadata": {},
   "source": [
    "### Part 2"
   ]
  },
  {
   "cell_type": "markdown",
   "metadata": {},
   "source": [
    "## Day 9\n",
    "\n",
    "_TBD_\n",
    "\n",
    "https://adventofcode.com/2023/day/9"
   ]
  },
  {
   "cell_type": "code",
   "execution_count": null,
   "metadata": {},
   "outputs": [],
   "source": [
    "puzzle = Puzzle(year=2023, day=9)\n",
    "input_data = \"\"\n"
   ]
  },
  {
   "cell_type": "markdown",
   "metadata": {},
   "source": [
    "### Part 1"
   ]
  },
  {
   "cell_type": "markdown",
   "metadata": {},
   "source": [
    "### Part 2"
   ]
  },
  {
   "cell_type": "markdown",
   "metadata": {},
   "source": [
    "## Day 8\n",
    "\n",
    "_TBD_\n",
    "\n",
    "https://adventofcode.com/2023/day/8"
   ]
  },
  {
   "cell_type": "code",
   "execution_count": null,
   "metadata": {},
   "outputs": [],
   "source": [
    "puzzle = Puzzle(year=2023, day=8)\n",
    "input_data = \"\"\n"
   ]
  },
  {
   "cell_type": "markdown",
   "metadata": {},
   "source": [
    "### Part 1"
   ]
  },
  {
   "cell_type": "markdown",
   "metadata": {},
   "source": [
    "### Part2"
   ]
  },
  {
   "cell_type": "markdown",
   "metadata": {},
   "source": [
    "## Day 7\n",
    "\n",
    "_TBD_\n",
    "\n",
    "https://adventofcode.com/2023/day/7"
   ]
  },
  {
   "cell_type": "code",
   "execution_count": null,
   "metadata": {},
   "outputs": [],
   "source": [
    "puzzle = Puzzle(year=2023, day=7)\n",
    "input_data = \"\"\n"
   ]
  },
  {
   "cell_type": "markdown",
   "metadata": {},
   "source": [
    "### Part 1"
   ]
  },
  {
   "cell_type": "markdown",
   "metadata": {},
   "source": [
    "### Part 2"
   ]
  },
  {
   "cell_type": "markdown",
   "metadata": {},
   "source": [
    "## Day 6\n",
    "\n",
    "_TBD_\n",
    "\n",
    "https://adventofcode.com/2023/day/6"
   ]
  },
  {
   "cell_type": "code",
   "execution_count": null,
   "metadata": {},
   "outputs": [],
   "source": [
    "puzzle = Puzzle(year=2023, day=6)\n",
    "input_data = \"\"\"Time:      7  15   30\n",
    "Distance:  9  40  200\"\"\""
   ]
  },
  {
   "cell_type": "code",
   "execution_count": null,
   "metadata": {},
   "outputs": [],
   "source": [
    "def nb_wins(races: list) -> int:\n",
    "    \"\"\"Compute the number of ways to win overall for a given input.\"\"\"\n",
    "    wins = 1\n",
    "\n",
    "    for race in races.values():\n",
    "        delta = math.sqrt(race[0] ** 2 - 4 * race[1])\n",
    "\n",
    "        boundaries = [(race[0] - delta) / 2, (race[0] + delta) / 2]\n",
    "\n",
    "        boundaries[0] = math.ceil(boundaries[0]) if boundaries[0] != math.ceil(boundaries[0]) else int(boundaries[0] + 1)\n",
    "        boundaries[1] = math.floor(boundaries[1]) if boundaries[1] != math.floor(boundaries[1]) else int(boundaries[1] - 1)\n",
    "\n",
    "        nb_wins = boundaries[1] - boundaries[0] + 1\n",
    "        wins *= nb_wins\n",
    "    \n",
    "    return wins"
   ]
  },
  {
   "cell_type": "markdown",
   "metadata": {},
   "source": [
    "### Part 1"
   ]
  },
  {
   "cell_type": "code",
   "execution_count": null,
   "metadata": {},
   "outputs": [],
   "source": [
    "races = defaultdict(list)\n",
    "for data in puzzle.input_data.splitlines():\n",
    "    for i, val in enumerate(data.split()[1:]):\n",
    "        races[i].append(int(val))\n",
    "\n",
    "puzzle.answer_a = nb_wins(races)"
   ]
  },
  {
   "cell_type": "markdown",
   "metadata": {},
   "source": [
    "### Part 2"
   ]
  },
  {
   "cell_type": "code",
   "execution_count": null,
   "metadata": {},
   "outputs": [],
   "source": [
    "races = defaultdict(list)\n",
    "for data in puzzle.input_data.splitlines():\n",
    "    races[0].append(int(\"\".join(data.split()[1:])))\n",
    "\n",
    "puzzle.answer_b = nb_wins(races)"
   ]
  },
  {
   "cell_type": "markdown",
   "metadata": {},
   "source": [
    "## Day 5\n",
    "\n",
    "_TBD_\n",
    "\n",
    "https://adventofcode.com/2023/day/5"
   ]
  },
  {
   "cell_type": "code",
   "execution_count": null,
   "metadata": {},
   "outputs": [],
   "source": [
    "puzzle = Puzzle(year=2023, day=5)\n",
    "input_data = \"\"\"\n",
    "seeds: 79 14 55 13\n",
    "\n",
    "seed-to-soil map:\n",
    "50 98 2\n",
    "52 50 48\n",
    "\n",
    "soil-to-fertilizer map:\n",
    "0 15 37\n",
    "37 52 2\n",
    "39 0 15\n",
    "\n",
    "fertilizer-to-water map:\n",
    "49 53 8\n",
    "0 11 42\n",
    "42 0 7\n",
    "57 7 4\n",
    "\n",
    "water-to-light map:\n",
    "88 18 7\n",
    "18 25 70\n",
    "\n",
    "light-to-temperature map:\n",
    "45 77 23\n",
    "81 45 19\n",
    "68 64 13\n",
    "\n",
    "temperature-to-humidity map:\n",
    "0 69 1\n",
    "1 0 69\n",
    "\n",
    "humidity-to-location map:\n",
    "60 56 37\n",
    "56 93 4\"\"\""
   ]
  },
  {
   "cell_type": "code",
   "execution_count": null,
   "metadata": {},
   "outputs": [],
   "source": [
    "seeds = []\n",
    "mappings = []\n",
    "next_mapping = None\n",
    "\n",
    "for line in puzzle.input_data.splitlines():\n",
    "    if line.startswith(\"seeds\"):\n",
    "        seeds = [int(x) for x in line.lstrip(\"seeds: \").split()]\n",
    "        \n",
    "    elif \"map\" in line:\n",
    "        next_mapping = []\n",
    "        \n",
    "    elif not line:\n",
    "        if next_mapping:\n",
    "            next_mapping = sorted(next_mapping, key=lambda m: m[\"source\"])\n",
    "            mappings.append(next_mapping)\n",
    "    \n",
    "    else:\n",
    "        dest_start, source_start, size = [int(x) for x in line.split()]\n",
    "        next_mapping.append({\"source\": source_start, \"size\": size, \"dest\": dest_start})\n",
    "        \n",
    "# no empty line at the end\n",
    "next_mapping = sorted(next_mapping, key=lambda m: m[\"source\"])\n",
    "mappings.append(next_mapping)"
   ]
  },
  {
   "cell_type": "code",
   "execution_count": null,
   "metadata": {},
   "outputs": [],
   "source": [
    "def process(value_ranges: list) -> int:\n",
    "    \"\"\"Do the full process for problem 5\"\"\"\n",
    "\n",
    "    for mapping in mappings:\n",
    "        # print()\n",
    "        # print(value_ranges)\n",
    "        # pprint(mapping)\n",
    "        # print()\n",
    "\n",
    "        next_values = []\n",
    "\n",
    "        for v_range in value_ranges:\n",
    "            first_value, range_size = v_range\n",
    "\n",
    "            for range_def in mapping:\n",
    "\n",
    "                if range_def[\"source\"] <= first_value <= range_def[\"source\"] + range_def[\"size\"] - 1:\n",
    "                    delta = first_value - range_def[\"source\"]\n",
    "                    next_first_val = range_def[\"dest\"] + delta\n",
    "                    next_size = min(range_def[\"size\"] - delta, range_size)\n",
    "\n",
    "                    next_values.append((next_first_val, next_size))\n",
    "                    # print(f\"Values {first_value}->{next_first_val}+{next_size} due to mapping {range_def}.\")\n",
    "\n",
    "                    range_size -= next_size\n",
    "                    first_value += next_size\n",
    "\n",
    "                if range_size == 0:\n",
    "                    break\n",
    "\n",
    "            else:\n",
    "                next_values.append((first_value, range_size))\n",
    "                # print(f\"No mapping found for values {first_value}+{range_size}.\")\n",
    "\n",
    "        value_ranges = sorted(next_values, key=lambda x: x[0])\n",
    "\n",
    "    return value_ranges[0][0]"
   ]
  },
  {
   "cell_type": "markdown",
   "metadata": {},
   "source": [
    "### Part 1"
   ]
  },
  {
   "cell_type": "code",
   "execution_count": null,
   "metadata": {},
   "outputs": [],
   "source": [
    "puzzle.answer_a = process(sorted([(s, 1) for s in seeds], key=lambda x: x[0]))"
   ]
  },
  {
   "cell_type": "markdown",
   "metadata": {},
   "source": [
    "### Part 2"
   ]
  },
  {
   "cell_type": "code",
   "execution_count": null,
   "metadata": {},
   "outputs": [],
   "source": [
    "puzzle.answer_b = process(sorted(zip(seeds[0::2], seeds[1::2]), key=lambda x: x[0]))"
   ]
  },
  {
   "cell_type": "markdown",
   "metadata": {},
   "source": [
    "## Day 4\n",
    "\n",
    "_TBD_\n",
    "\n",
    "https://adventofcode.com/2023/day/4"
   ]
  },
  {
   "cell_type": "code",
   "execution_count": null,
   "metadata": {},
   "outputs": [],
   "source": [
    "puzzle = Puzzle(year=2023, day=4)\n",
    "input_data = \"\"\"Card 1: 41 48 83 86 17 | 83 86  6 31 17  9 48 53\n",
    "Card 2: 13 32 20 16 61 | 61 30 68 82 17 32 24 19\n",
    "Card 3:  1 21 53 59 44 | 69 82 63 72 16 21 14  1\n",
    "Card 4: 41 92 73 84 69 | 59 84 76 51 58  5 54 83\n",
    "Card 5: 87 83 26 28 32 | 88 30 70 12 93 22 82 36\n",
    "Card 6: 31 18 13 56 72 | 74 77 10 23 35 67 36 11\"\"\""
   ]
  },
  {
   "cell_type": "markdown",
   "metadata": {},
   "source": [
    "### Part 1"
   ]
  },
  {
   "cell_type": "code",
   "execution_count": null,
   "metadata": {},
   "outputs": [],
   "source": [
    "cards_info = {}\n",
    "\n",
    "total_score = 0\n",
    "for line in puzzle.input_data.splitlines():\n",
    "    card_id_str, card_content = line.split(\": \")\n",
    "    card_id = int(card_id_str[5:])\n",
    "    winning_nbs, my_nbs = card_content.split(\" | \")\n",
    "    winning_nbs = set([int(x.strip()) for x in winning_nbs.split()])\n",
    "    my_nbs = set([int(x.strip()) for x in my_nbs.split()])\n",
    "    cards_info[card_id] = len(winning_nbs.intersection(my_nbs))\n",
    "    total_score += math.floor(2 ** (cards_info[card_id]-1))\n",
    "\n",
    "puzzle.answer_a = total_score"
   ]
  },
  {
   "cell_type": "markdown",
   "metadata": {},
   "source": [
    "### Part 2"
   ]
  },
  {
   "cell_type": "code",
   "execution_count": null,
   "metadata": {},
   "outputs": [],
   "source": [
    "cards_info\n",
    "\n",
    "copies = defaultdict(int)\n",
    "for card_id, wins in cards_info.items():\n",
    "    copies[card_id] += 1\n",
    "    for x in range(wins):\n",
    "        copies[card_id + x + 1] += copies[card_id]\n",
    "        \n",
    "puzzle.answer_b = sum(copies.values())"
   ]
  },
  {
   "cell_type": "markdown",
   "metadata": {},
   "source": [
    "## Day 3\n",
    "\n",
    "_text positioning, regexp_\n",
    "\n",
    "https://adventofcode.com/2023/day/3"
   ]
  },
  {
   "cell_type": "code",
   "execution_count": null,
   "metadata": {},
   "outputs": [],
   "source": [
    "puzzle = Puzzle(year=2023, day=3)"
   ]
  },
  {
   "cell_type": "markdown",
   "metadata": {},
   "source": [
    "### Part 1"
   ]
  },
  {
   "cell_type": "code",
   "execution_count": null,
   "metadata": {},
   "outputs": [],
   "source": [
    "storage = []\n",
    "\n",
    "for idx, engine_row in enumerate(puzzle.input_data.splitlines()):\n",
    "    symbols = [x for x in engine_row.split(\".\") if x]\n",
    "\n",
    "    from_idx = -1\n",
    "    for s in symbols:\n",
    "        from_idx = engine_row.index(s, from_idx + 1)\n",
    "        number = bool(re.fullmatch(\"\\d+\", s))\n",
    "        if number:\n",
    "            storage.append([s, idx, from_idx, True])\n",
    "        elif len(s) == 1:\n",
    "            storage.append([s, idx, from_idx, False])\n",
    "\n",
    "        else:\n",
    "            # sometimes numbers and symbols can be consecutive (by looking at the input, not more than number-symbol-number)\n",
    "            number_symbol_number = re.fullmatch(\"(\\d+)(\\W)(\\d+)\", s)\n",
    "            symbol_number = bool(re.search(\"\\d+\", s))\n",
    "            number_symbol = bool(re.match(\"\\d+\", s))\n",
    "\n",
    "            if number_symbol_number is not None:\n",
    "                n1, symb, n2 = number_symbol_number.groups()\n",
    "                storage.append([n1, idx, from_idx, True])\n",
    "                storage.append([symb, idx, from_idx + len(n1), False])\n",
    "                storage.append([n2, idx, from_idx + len(n1) + 1, True])\n",
    "            elif number_symbol:\n",
    "                storage.append([s[:-1], idx, from_idx, True])\n",
    "                storage.append([s[-1], idx, from_idx + len(s) - 1, False])\n",
    "            elif symbol_number:\n",
    "                storage.append([s[0], idx, from_idx, False])\n",
    "                storage.append([s[1:], idx, from_idx + 1, True])\n",
    "\n",
    "            # there is no ELSE\n",
    "\n",
    "            storage.append([s, idx, from_idx, number])\n",
    "        from_idx += len(s)\n",
    "\n",
    "numbers = [x for x in storage if x[3]]\n",
    "symbols = [x for x in storage if not x[3]]"
   ]
  },
  {
   "cell_type": "code",
   "execution_count": null,
   "metadata": {},
   "outputs": [],
   "source": [
    "total = 0\n",
    "\n",
    "numbers_adjacency = []\n",
    "\n",
    "for number in numbers:\n",
    "    x = number[1]\n",
    "    y_min = number[2]\n",
    "    y_max = y_min + len(number[0]) - 1\n",
    "\n",
    "    adj_symbols = []\n",
    "    for symbol in symbols:\n",
    "        if x - 1 <= symbol[1] <= x + 1 and y_min - 1 <= symbol[2] <= y_max + 1:\n",
    "            adj_symbols.append(symbol)\n",
    "\n",
    "        # they are ordered\n",
    "        if symbol[1] > x + 1:\n",
    "            break\n",
    "\n",
    "    numbers_adjacency.append([number, adj_symbols])\n",
    "\n",
    "puzzle.answer_a = sum([int(numb[0][0]) for numb in numbers_adjacency if numb[1]])"
   ]
  },
  {
   "cell_type": "markdown",
   "metadata": {},
   "source": [
    "### Part 2"
   ]
  },
  {
   "cell_type": "code",
   "execution_count": null,
   "metadata": {},
   "outputs": [],
   "source": [
    "gears = []\n",
    "\n",
    "for symbol in symbols:\n",
    "    if symbol[0] != \"*\":\n",
    "        continue\n",
    "\n",
    "    x = symbol[1]\n",
    "    y = symbol[2]\n",
    "\n",
    "    adj_numbers = []\n",
    "    for number in numbers:\n",
    "        if x - 1 <= number[1] <= x + 1 and any([y - 1 <= number[2] + y_numb <= y + 1 for y_numb in range(len(number[0]))]):\n",
    "            adj_numbers.append(number)\n",
    "\n",
    "        # they are ordered\n",
    "        if number[1] > x + 1:\n",
    "            break\n",
    "\n",
    "    if len(adj_numbers) == 2:\n",
    "        gears.append(int(adj_numbers[0][0]) * int(adj_numbers[1][0]))\n",
    "\n",
    "puzzle.answer_b = sum(gears)"
   ]
  },
  {
   "cell_type": "markdown",
   "metadata": {},
   "source": [
    "## Day 2\n",
    "\n",
    "_defaultdict, min, max_\n",
    "\n",
    "https://adventofcode.com/2023/day/2"
   ]
  },
  {
   "cell_type": "code",
   "execution_count": null,
   "metadata": {},
   "outputs": [],
   "source": [
    "puzzle = Puzzle(year=2023, day=2)"
   ]
  },
  {
   "cell_type": "code",
   "execution_count": null,
   "metadata": {},
   "outputs": [],
   "source": [
    "games = defaultdict(list)\n",
    "for game in puzzle.input_data.splitlines():\n",
    "    game_id_str, info = game.split(\": \")\n",
    "    game_id = int(game_id_str[5:])\n",
    "\n",
    "\n",
    "    for look in info.split(\"; \"):\n",
    "\n",
    "        look_dict = {}\n",
    "        for color_look in look.split(\", \"):\n",
    "            value, color = color_look.split(\" \")\n",
    "            look_dict[color] = int(value)\n",
    "\n",
    "        games[game_id].append(look_dict)"
   ]
  },
  {
   "cell_type": "markdown",
   "metadata": {},
   "source": [
    "### Part 1"
   ]
  },
  {
   "cell_type": "code",
   "execution_count": null,
   "metadata": {},
   "outputs": [],
   "source": [
    "hypothesis = {\"red\": 12, \"green\": 13, \"blue\": 14}\n",
    "\n",
    "valid_games = []\n",
    "for game_idx, game_content in games.items():\n",
    "    valid_game = True\n",
    "    for game_look in game_content:\n",
    "        if not valid_game:\n",
    "            break\n",
    "        for color, value in game_look.items():\n",
    "            if value > hypothesis[color]:\n",
    "                valid_game = False\n",
    "                break\n",
    "    if valid_game:\n",
    "        valid_games.append(game_idx)\n",
    "\n",
    "puzzle.answer_a = sum(valid_games)"
   ]
  },
  {
   "cell_type": "markdown",
   "metadata": {},
   "source": [
    "### Part 2"
   ]
  },
  {
   "cell_type": "code",
   "execution_count": null,
   "metadata": {},
   "outputs": [],
   "source": [
    "total = 0\n",
    "\n",
    "for game_idx, game_content in games.items():\n",
    "    hypothesis = {\"red\": 0, \"green\": 0, \"blue\": 0}\n",
    "    for game_look in game_content:\n",
    "        for color, value in game_look.items():\n",
    "            if value > hypothesis[color]:\n",
    "                hypothesis[color] = value\n",
    "\n",
    "    total += functools.reduce(lambda x, y: x*y, hypothesis.values(), 1)\n",
    "\n",
    "puzzle.answer_b = total"
   ]
  },
  {
   "cell_type": "markdown",
   "metadata": {},
   "source": [
    "## Day 1\n",
    "\n",
    "_pandas, regexp_\n",
    "\n",
    "https://adventofcode.com/2023/day/1"
   ]
  },
  {
   "cell_type": "code",
   "execution_count": null,
   "metadata": {},
   "outputs": [],
   "source": [
    "puzzle = Puzzle(year=2023, day=1)"
   ]
  },
  {
   "cell_type": "markdown",
   "metadata": {},
   "source": [
    "\n",
    "\n",
    "### Part 1"
   ]
  },
  {
   "cell_type": "code",
   "execution_count": null,
   "metadata": {},
   "outputs": [],
   "source": [
    "calibration = pd.DataFrame(puzzle.input_data.splitlines())"
   ]
  },
  {
   "cell_type": "code",
   "execution_count": null,
   "metadata": {},
   "outputs": [],
   "source": [
    "def get_calib_value(text: str) -> int:\n",
    "    \"\"\"Return the calibration: the integer formed by concatenating first and last digit.\"\"\"\n",
    "\n",
    "    digits = re.findall(\"\\d\", text)\n",
    "    return int(f\"{digits[0]}{digits[-1]}\")\n",
    "\n",
    "puzzle.answer_a = str(calibration.apply(lambda row: get_calib_value(row[0]), axis=1).sum())"
   ]
  },
  {
   "cell_type": "markdown",
   "metadata": {},
   "source": [
    "### Part 2"
   ]
  },
  {
   "cell_type": "code",
   "execution_count": null,
   "metadata": {},
   "outputs": [],
   "source": [
    "def numbers_text_to_int(text: str) -> str:\n",
    "    \"\"\"Transform text written in letters into digits, text can be overlapping.\"\"\"\n",
    "\n",
    "    # text before and after to be able to reuse characters (overlapping strings)\n",
    "    replacements = [\n",
    "        (\"zero\", \"zero0zero\"),\n",
    "        (\"one\", \"one1one\"),\n",
    "        (\"two\", \"two2two\"),\n",
    "        (\"three\", \"three3three\"),\n",
    "        (\"four\", \"four4four\"),\n",
    "        (\"five\", \"five5five\"),\n",
    "        (\"six\", \"six6six\"),\n",
    "        (\"seven\", \"seven7seven\"),\n",
    "        (\"eight\", \"eight8eight\"),\n",
    "        (\"nine\", \"nine9nine\"),\n",
    "    ]\n",
    "\n",
    "    for rep_str, rep_int in replacements:\n",
    "        text = text.replace(rep_str, rep_int)\n",
    "\n",
    "    return text\n",
    "\n",
    "puzzle.answer_b = str(calibration.apply(lambda row: get_calib_value(numbers_text_to_int(row[0])), axis=1).sum())"
   ]
  }
 ],
 "metadata": {
  "language_info": {
   "name": "python",
   "pygments_lexer": "ipython3"
  }
 },
 "nbformat": 4,
 "nbformat_minor": 2
}
