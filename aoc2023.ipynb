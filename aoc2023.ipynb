{
 "cells": [
  {
   "cell_type": "markdown",
   "metadata": {},
   "source": [
    "# AOC 2023\n",
    "\n",
    "Welcome to the Advent of Code 2023!"
   ]
  },
  {
   "cell_type": "markdown",
   "metadata": {},
   "source": [
    "## Basic configuration\n",
    "\n"
   ]
  },
  {
   "cell_type": "code",
   "execution_count": null,
   "metadata": {},
   "outputs": [],
   "source": [
    "! pip install -U advent-of-code-data numpy pandas networkx matplotlib scipy"
   ]
  },
  {
   "cell_type": "code",
   "execution_count": null,
   "metadata": {},
   "outputs": [],
   "source": [
    "import os\n",
    "\n",
    "os.environ['AOC_SESSION'] = open('session.txt').read().strip()"
   ]
  },
  {
   "cell_type": "code",
   "execution_count": null,
   "metadata": {},
   "outputs": [],
   "source": [
    "from aocd.models import Puzzle\n",
    "from collections import Counter, defaultdict\n",
    "from itertools import chain, product\n",
    "from numpy.typing import ArrayLike\n",
    "from pprint import pprint\n",
    "from queue import PriorityQueue\n",
    "from scipy import sparse\n",
    "from statistics import median\n",
    "from typing import Callable, Dict, Iterator, Mapping, Tuple\n",
    "import copy\n",
    "import functools\n",
    "import math\n",
    "import operator\n",
    "import networkx as nx\n",
    "import numpy as np\n",
    "import pandas as pd\n",
    "import sys\n",
    "import re"
   ]
  },
  {
   "cell_type": "markdown",
   "metadata": {},
   "source": [
    "## Day 25\n",
    "https://adventofcode.com/2023/day/25"
   ]
  },
  {
   "cell_type": "code",
   "execution_count": null,
   "metadata": {},
   "outputs": [],
   "source": [
    "puzzle = Puzzle(year=2023, day=25)\n",
    "input_data = \"\"\"jqt: rhn xhk nvd\n",
    "rsh: frs pzl lsr\n",
    "xhk: hfx\n",
    "cmg: qnr nvd lhk bvb\n",
    "rhn: xhk bvb hfx\n",
    "bvb: xhk hfx\n",
    "pzl: lsr hfx nvd\n",
    "qnr: nvd\n",
    "ntq: jqt hfx bvb xhk\n",
    "nvd: lhk\n",
    "lsr: lhk\n",
    "rzs: qnr cmg lsr rsh\n",
    "frs: qnr lhk lsr\"\"\""
   ]
  },
  {
   "cell_type": "markdown",
   "metadata": {},
   "source": [
    "### Part 1"
   ]
  },
  {
   "cell_type": "code",
   "execution_count": null,
   "metadata": {},
   "outputs": [],
   "source": [
    "G = nx.Graph()\n",
    "\n",
    "for line in puzzle.input_data.splitlines():\n",
    "    src, dests = line.split(\": \")\n",
    "    for dest in dests.split(\" \"):\n",
    "        G.add_edge(src, dest)"
   ]
  },
  {
   "cell_type": "code",
   "execution_count": null,
   "metadata": {},
   "outputs": [],
   "source": [
    "for edge in nx.minimum_edge_cut(G):\n",
    "    G.remove_edge(*edge)"
   ]
  },
  {
   "cell_type": "code",
   "execution_count": null,
   "metadata": {},
   "outputs": [],
   "source": [
    "total = 1\n",
    "for node_set in nx.connected_components(G):\n",
    "    total *= len(node_set)\n",
    "puzzle.answer_a = total"
   ]
  },
  {
   "cell_type": "markdown",
   "metadata": {},
   "source": [
    "## Day 24\n",
    "https://adventofcode.com/2023/day/24"
   ]
  },
  {
   "cell_type": "code",
   "execution_count": null,
   "metadata": {},
   "outputs": [],
   "source": [
    "puzzle = Puzzle(year=2023, day=24)"
   ]
  },
  {
   "cell_type": "code",
   "execution_count": null,
   "metadata": {},
   "outputs": [],
   "source": [
    "input_data = \"\"\"19, 13, 30 @ -2,  1, -2\n",
    "18, 19, 22 @ -1, -1, -2\n",
    "20, 25, 34 @ -2, -2, -4\n",
    "12, 31, 28 @ -1, -2, -1\n",
    "20, 19, 15 @  1, -5, -3\"\"\""
   ]
  },
  {
   "cell_type": "code",
   "execution_count": null,
   "metadata": {},
   "outputs": [],
   "source": [
    "hailstones = []  # [pos, vel] each is (x, y, z)\n",
    "for line in puzzle.input_data.splitlines():\n",
    "    pos, vel = [list(map(int, x.split(\", \"))) for x in line.split(\" @ \")]\n",
    "    hailstones.append([pos, vel])"
   ]
  },
  {
   "cell_type": "markdown",
   "metadata": {},
   "source": [
    "### Part 1"
   ]
  },
  {
   "cell_type": "code",
   "execution_count": null,
   "metadata": {},
   "outputs": [],
   "source": [
    "min_test_area = 200000000000000\n",
    "max_test_area = 400000000000000"
   ]
  },
  {
   "cell_type": "code",
   "execution_count": null,
   "metadata": {},
   "outputs": [],
   "source": [
    "collisions = 0\n",
    "debug = False\n",
    "\n",
    "for i in range(len(hailstones)):\n",
    "    for j in range(i+1, len(hailstones)):\n",
    "        hi = hailstones[i]\n",
    "        hj = hailstones[j]\n",
    "        \n",
    "        if debug:\n",
    "            print(hi, hj)\n",
    "        \n",
    "        ratio = hi[1][1] / hi[1][0]\n",
    "        delta = hj[1][1] - hj[1][0] * ratio\n",
    "        \n",
    "        if delta == 0:\n",
    "            if debug:\n",
    "                print(\"Colinears\")\n",
    "            continue\n",
    "        \n",
    "        dj_num = hi[0][1] - hj[0][1] + ratio * (hj[0][0] - hi[0][0])\n",
    "        dj = dj_num / delta\n",
    "\n",
    "        inter_x = hj[0][0] + hj[1][0] * dj\n",
    "        inter_y = hj[0][1] + hj[1][1] * dj\n",
    "\n",
    "        di = (inter_x - hi[0][0]) / hi[1][0]\n",
    "\n",
    "\n",
    "        if min_test_area <= inter_x <= max_test_area and min_test_area <= inter_y <= max_test_area:\n",
    "            if dj >= 0 and di >= 0:\n",
    "                if debug:\n",
    "                    print(\"success :\", inter_x, inter_y, di, dj)\n",
    "                collisions += 1\n",
    "            elif debug:\n",
    "                print(\"before start :\", di, dj)\n",
    "        elif debug:\n",
    "            print(\"outside :\", inter_x, inter_y, di, dj)\n",
    "\n",
    "puzzle.answer_a = collisions"
   ]
  },
  {
   "cell_type": "markdown",
   "metadata": {},
   "source": [
    "### Part 2"
   ]
  },
  {
   "cell_type": "markdown",
   "metadata": {},
   "source": [
    "## Day 23\n",
    "https://adventofcode.com/2023/day/23"
   ]
  },
  {
   "cell_type": "code",
   "execution_count": null,
   "metadata": {},
   "outputs": [],
   "source": [
    "puzzle = Puzzle(year=2023, day=23)\n",
    "input_data = \"\"\"#.#####################\n",
    "#.......#########...###\n",
    "#######.#########.#.###\n",
    "###.....#.>.>.###.#.###\n",
    "###v#####.#v#.###.#.###\n",
    "###.>...#.#.#.....#...#\n",
    "###v###.#.#.#########.#\n",
    "###...#.#.#.......#...#\n",
    "#####.#.#.#######.#.###\n",
    "#.....#.#.#.......#...#\n",
    "#.#####.#.#.#########v#\n",
    "#.#...#...#...###...>.#\n",
    "#.#.#v#######v###.###v#\n",
    "#...#.>.#...>.>.#.###.#\n",
    "#####v#.#.###v#.#.###.#\n",
    "#.....#...#...#.#.#...#\n",
    "#.#########.###.#.#.###\n",
    "#...###...#...#...#.###\n",
    "###.###.#.###v#####v###\n",
    "#...#...#.#.>.>.#.>.###\n",
    "#.###.###.#.###.#.#v###\n",
    "#.....###...###...#...#\n",
    "#####################.#\"\"\""
   ]
  },
  {
   "cell_type": "markdown",
   "metadata": {},
   "source": [
    "### Part 1"
   ]
  },
  {
   "cell_type": "code",
   "execution_count": null,
   "metadata": {},
   "outputs": [],
   "source": [
    "grid = np.array([list(x) for x in puzzle.input_data.splitlines()])\n",
    "nb_rows, nb_cols = grid.shape"
   ]
  },
  {
   "cell_type": "code",
   "execution_count": null,
   "metadata": {},
   "outputs": [],
   "source": [
    "print(\"\\n\". join([\"\".join(x) for x in grid]))"
   ]
  },
  {
   "cell_type": "code",
   "execution_count": null,
   "metadata": {},
   "outputs": [],
   "source": [
    "paths = [[(nb_rows-1, nb_cols-2), 1, None]]  # (cur_x, cur_y), length, (prev_x, prev_y)\n",
    "final_paths = []\n",
    "ALLOWED_SYMBOLS = {\n",
    "    (1, 0): \"<\",\n",
    "    (-1, 0): \">\",\n",
    "    (0, 1): \"^\",\n",
    "    (0, -1): \"v\"\n",
    "}\n",
    "\n",
    "while paths:\n",
    "    path = paths.pop(0)\n",
    "    \n",
    "    cursor = path[0]\n",
    "    \n",
    "    # Termination criteria\n",
    "    if cursor == (0, 1):\n",
    "        final_paths.append(path[1])\n",
    "        continue\n",
    "    \n",
    "    for dx in range(-1, 2):\n",
    "        for dy in range(-1, 2):\n",
    "            if bool(dx) != bool(dy) and 0 <= cursor[0] + dy < nb_rows and 0 <= cursor[1] + dx < nb_cols:\n",
    "                if grid[cursor[0] + dy, cursor[1] + dx] in [\".\", ALLOWED_SYMBOLS[(dx, dy)]] and (cursor[0] + dy, cursor[1] + dx) != path[2]:\n",
    "                    \n",
    "                    paths.append([(cursor[0] + dy, cursor[1] + dx), path[1] + 1, cursor])\n",
    "                    \n",
    "puzzle.answer_a = max(final_paths) - 1"
   ]
  },
  {
   "cell_type": "markdown",
   "metadata": {},
   "source": [
    "### Part 2"
   ]
  },
  {
   "cell_type": "code",
   "execution_count": null,
   "metadata": {},
   "outputs": [],
   "source": [
    "paths = [[(nb_rows-1, nb_cols-2), 1, None, []]]  # (cur_x, cur_y), length, (prev_x, prev_y), crossings\n",
    "final_paths = []\n",
    "\n",
    "while paths:\n",
    "    path = paths.pop(0)\n",
    "    \n",
    "    cursor = path[0]\n",
    "    \n",
    "    # Termination criteria\n",
    "    if cursor == (0, 1):\n",
    "        final_paths.append(path[1])\n",
    "        continue\n",
    "    \n",
    "    for dx in range(-1, 2):\n",
    "        for dy in range(-1, 2):\n",
    "            if bool(dx) != bool(dy) and 0 <= cursor[0] + dy < nb_rows and 0 <= cursor[1] + dx < nb_cols:\n",
    "                if grid[cursor[0] + dy, cursor[1] + dx] != \"#\" and (cursor[0] + dy, cursor[1] + dx) != path[2] and (cursor[0] + dy, cursor[1] + dx) not in path[3]:\n",
    "                    if grid[cursor[0] + dy, cursor[1] + dx] != \".\":\n",
    "                        new_crossings = copy.deepcopy(path[3]) + [cursor]\n",
    "                    else:\n",
    "                        new_crossings = path[3]\n",
    "                    paths.append([(cursor[0] + dy, cursor[1] + dx), path[1] + 1, cursor, new_crossings])\n",
    "                    \n",
    "puzzle.answer_b = max(final_paths) - 1"
   ]
  },
  {
   "cell_type": "markdown",
   "metadata": {},
   "source": [
    "## Day 22\n",
    "https://adventofcode.com/2023/day/22"
   ]
  },
  {
   "cell_type": "code",
   "execution_count": null,
   "metadata": {},
   "outputs": [],
   "source": [
    "puzzle = Puzzle(year=2023, day=22)\n",
    "input_data = \"\"\"1,0,1~1,2,1\n",
    "0,0,2~2,0,2\n",
    "0,2,3~2,2,3\n",
    "0,0,4~0,2,4\n",
    "2,0,5~2,2,5\n",
    "0,1,6~2,1,6\n",
    "1,1,8~1,1,9\"\"\""
   ]
  },
  {
   "cell_type": "markdown",
   "metadata": {},
   "source": [
    "### Part 1"
   ]
  },
  {
   "cell_type": "code",
   "execution_count": null,
   "metadata": {},
   "outputs": [],
   "source": [
    "# SUPER HARD"
   ]
  },
  {
   "cell_type": "markdown",
   "metadata": {},
   "source": [
    "### Part 2"
   ]
  },
  {
   "cell_type": "markdown",
   "metadata": {},
   "source": [
    "## Day 21\n",
    "https://adventofcode.com/2023/day/21"
   ]
  },
  {
   "cell_type": "code",
   "execution_count": null,
   "metadata": {},
   "outputs": [],
   "source": [
    "puzzle = Puzzle(year=2023, day=21)\n",
    "input_data = \"\"\"...........\n",
    ".....###.#.\n",
    ".###.##..#.\n",
    "..#.#...#..\n",
    "....#.#....\n",
    ".##..S####.\n",
    ".##..#...#.\n",
    ".......##..\n",
    ".##.#.####.\n",
    ".##..##.##.\n",
    "...........\"\"\""
   ]
  },
  {
   "cell_type": "code",
   "execution_count": null,
   "metadata": {},
   "outputs": [],
   "source": [
    "ATTEMPTS = [\n",
    "    [0, 1],\n",
    "    [0, -1],\n",
    "    [1, 0],\n",
    "    [-1, 0]\n",
    "]"
   ]
  },
  {
   "cell_type": "code",
   "execution_count": null,
   "metadata": {},
   "outputs": [],
   "source": [
    "grid = np.array([list(x) for x in input_data.splitlines()])\n",
    "nb_rows, nb_cols = grid.shape\n",
    "row_start, col_start = np.where(grid==\"S\")\n",
    "\n",
    "reachables = {(row_start[0], col_start[0])}"
   ]
  },
  {
   "cell_type": "markdown",
   "metadata": {},
   "source": [
    "### Part 1"
   ]
  },
  {
   "cell_type": "code",
   "execution_count": null,
   "metadata": {},
   "outputs": [],
   "source": [
    "for step in range(64):\n",
    "    next_reachables = set()\n",
    "    for elem in reachables:\n",
    "        for possibility in ATTEMPTS:\n",
    "            next_target = (elem[0] + possibility[0], elem[1] + possibility[1])\n",
    "            if 0 <= next_target[0] < nb_rows and 0 <= next_target[1] < nb_cols and grid[next_target] != \"#\":\n",
    "                next_reachables.add(next_target)\n",
    "    reachables = next_reachables"
   ]
  },
  {
   "cell_type": "code",
   "execution_count": null,
   "metadata": {},
   "outputs": [],
   "source": [
    "puzzle.answer_a = len(reachables)"
   ]
  },
  {
   "cell_type": "markdown",
   "metadata": {},
   "source": [
    "### Part 2"
   ]
  },
  {
   "cell_type": "code",
   "execution_count": null,
   "metadata": {},
   "outputs": [],
   "source": [
    "# TODO : Dynamic programming ?\n",
    "\n",
    "for step in range(400):\n",
    "    next_reachables = set()\n",
    "    for elem in reachables:\n",
    "        for possibility in ATTEMPTS:\n",
    "            next_target = (elem[0] + possibility[0], elem[1] + possibility[1])\n",
    "            next_target_mod = (next_target[0] % nb_rows, next_target[1] % nb_cols)\n",
    "            if grid[next_target_mod] != \"#\":\n",
    "                next_reachables.add(next_target)\n",
    "    reachables = next_reachables\n",
    "len(reachables)"
   ]
  },
  {
   "cell_type": "markdown",
   "metadata": {},
   "source": [
    "## Day 20\n",
    "https://adventofcode.com/2023/day/20"
   ]
  },
  {
   "cell_type": "code",
   "execution_count": null,
   "metadata": {},
   "outputs": [],
   "source": [
    "puzzle = Puzzle(year=2023, day=20)\n",
    "input_data = \"\"\"broadcaster -> a, b, c\n",
    "%a -> b\n",
    "%b -> c\n",
    "%c -> inv\n",
    "&inv -> a\"\"\"\n",
    "\n",
    "input_data = \"\"\"broadcaster -> a\n",
    "%a -> inv, con\n",
    "&inv -> b\n",
    "%b -> con\n",
    "&con -> output\"\"\""
   ]
  },
  {
   "cell_type": "code",
   "execution_count": null,
   "metadata": {},
   "outputs": [],
   "source": [
    "class FlipFlop:\n",
    "    # prefix %\n",
    "    \n",
    "    def __init__(self, name, dests):\n",
    "        self.name = name\n",
    "        self.dests = dests\n",
    "        self.module = False  # off\n",
    "        \n",
    "    def handle(self, signal, source=None):\n",
    "        \"\"\"Low pulse is stored as a False bool, high_pulse is True\"\"\"\n",
    "        if signal is False:\n",
    "            self.module = not self.module\n",
    "            return [self.module, self.dests]  # a signal : high if on, low if off\n",
    "        \n",
    "        return [None, []]\n",
    "\n",
    "class Conjonction:\n",
    "    # prefix &\n",
    "    \n",
    "    def __init__(self, name, dests):\n",
    "        self.name = name\n",
    "        self.inputs = defaultdict(bool)\n",
    "        self.dests = dests\n",
    "\n",
    "    def add_input(self, name):\n",
    "        self.inputs[name] = False\n",
    "        \n",
    "    def handle(self, signal, source):        \n",
    "        self.inputs[source] = signal\n",
    "        \n",
    "        return [not all(self.inputs.values()), self.dests]\n",
    "        \n",
    "class Broadcaster:\n",
    "    def __init__(self, dests):\n",
    "        self.dests = dests\n",
    "    \n",
    "    def handle(self, signal=None, source=None):\n",
    "        return [False, self.dests]\n",
    "    \n",
    "class Inactive:\n",
    "    def __init__(self, *args):\n",
    "        self.received_signals = {False: 0, True: 0}\n",
    "        \n",
    "    def reset_counters(self):\n",
    "        self.received_signals = {False: 0, True: 0}\n",
    "        \n",
    "    def handle(self, signal, source=None):\n",
    "        self.received_signals[signal] += 1\n",
    "        \n",
    "        return [None, []]"
   ]
  },
  {
   "cell_type": "code",
   "execution_count": null,
   "metadata": {},
   "outputs": [],
   "source": [
    "def initiate_modules():\n",
    "    modules = {}\n",
    "\n",
    "    for line in puzzle.input_data.splitlines():\n",
    "\n",
    "        source, dests = line.split(\" -> \")\n",
    "        dests = dests.split(\", \")\n",
    "        if source == \"broadcaster\":\n",
    "            modules[source] = Broadcaster(dests)\n",
    "\n",
    "        elif source.startswith(\"%\"):\n",
    "            modules[source[1:]] = FlipFlop(source[1:], dests)\n",
    "\n",
    "        elif source.startswith(\"&\"):\n",
    "            modules[source[1:]] = Conjonction(source[1:], dests)\n",
    "\n",
    "    all_modules = copy.deepcopy(modules)\n",
    "\n",
    "    for name, module in modules.items():\n",
    "        for d in module.dests:\n",
    "            if isinstance(modules.get(d), Conjonction):\n",
    "                all_modules[d].add_input(name)\n",
    "\n",
    "            if d not in all_modules:\n",
    "                all_modules[d] = Inactive()\n",
    "\n",
    "    return all_modules"
   ]
  },
  {
   "cell_type": "code",
   "execution_count": null,
   "metadata": {},
   "outputs": [],
   "source": [
    "def press_button(modules):\n",
    "\n",
    "    pulses = {False: 0, True: 0}  # pulse counter\n",
    "    \n",
    "    for m in modules.values():\n",
    "        if isinstance(m, Inactive):\n",
    "            m.reset_counters()\n",
    "        \n",
    "    storage = [(\"broadcaster\", False, \"button\", 0)]  # dest, signal, source, timestamp\n",
    "\n",
    "    while storage:\n",
    "        next_pulse = storage.pop(0)\n",
    "        name = next_pulse[0]\n",
    "        timestamp = next_pulse[3]\n",
    "\n",
    "        # print(next_pulse[2], \"-\", next_pulse[1], \"->\", name, timestamp)\n",
    "        pulses[next_pulse[1]] += 1\n",
    "        \n",
    "        module = modules.get(name)\n",
    "        \n",
    "        if module is not None:\n",
    "            pulse, dests = module.handle(next_pulse[1], next_pulse[2])\n",
    "            for d in dests:\n",
    "                storage.append((d, pulse, name, timestamp + 1))\n",
    "            \n",
    "    # print(pulses)\n",
    "    return pulses, modules"
   ]
  },
  {
   "cell_type": "markdown",
   "metadata": {},
   "source": [
    "### Part 1"
   ]
  },
  {
   "cell_type": "code",
   "execution_count": null,
   "metadata": {},
   "outputs": [],
   "source": [
    "total = {False: 0, True: 0}\n",
    "\n",
    "modules = initiate_modules()\n",
    "\n",
    "for i in range(1000):\n",
    "    pulses, modules = press_button(modules)\n",
    "    \n",
    "    for k, v in pulses.items():\n",
    "        total[k] += v\n",
    "        \n",
    "puzzle.answer_a = total[False] * total[True]"
   ]
  },
  {
   "cell_type": "markdown",
   "metadata": {},
   "source": [
    "### Part 2"
   ]
  },
  {
   "cell_type": "code",
   "execution_count": null,
   "metadata": {},
   "outputs": [],
   "source": [
    "press = 0\n",
    "\n",
    "modules = initiate_modules()\n",
    "\n",
    "while True:\n",
    "    press += 1\n",
    "    \n",
    "    _, modules = press_button(modules)\n",
    "    # print(modules[\"rx\"].received_signals)\n",
    "    if modules[\"rx\"].received_signals[False] == 1:\n",
    "        puzzle.answer_b = press\n",
    "        break"
   ]
  },
  {
   "cell_type": "markdown",
   "metadata": {},
   "source": [
    "## Day 19\n",
    "\n",
    "https://adventofcode.com/2023/day/19"
   ]
  },
  {
   "cell_type": "code",
   "execution_count": null,
   "metadata": {},
   "outputs": [],
   "source": [
    "puzzle = Puzzle(year=2023, day=19)\n",
    "\n",
    "input_data = \"\"\"px{a<2006:qkq,m>2090:A,rfg}\n",
    "pv{a>1716:R,A}\n",
    "lnx{m>1548:A,A}\n",
    "rfg{s<537:gd,x>2440:R,A}\n",
    "qs{s>3448:A,lnx}\n",
    "qkq{x<1416:A,crn}\n",
    "crn{x>2662:A,R}\n",
    "in{s<1351:px,qqz}\n",
    "qqz{s>2770:qs,m<1801:hdj,R}\n",
    "gd{a>3333:R,R}\n",
    "hdj{m>838:A,pv}\n",
    "\n",
    "{x=787,m=2655,a=1222,s=2876}\n",
    "{x=1679,m=44,a=2067,s=496}\n",
    "{x=2036,m=264,a=79,s=2244}\n",
    "{x=2461,m=1339,a=466,s=291}\n",
    "{x=2127,m=1623,a=2188,s=1013}\"\"\""
   ]
  },
  {
   "cell_type": "markdown",
   "metadata": {},
   "source": [
    "### Part 1"
   ]
  },
  {
   "cell_type": "code",
   "execution_count": null,
   "metadata": {},
   "outputs": [],
   "source": [
    "workflows_str, parts_str = input_data.split(\"\\n\\n\")\n",
    "workflows_str = workflows_str.splitlines()\n",
    "parts_str = parts_str.splitlines()"
   ]
  },
  {
   "cell_type": "code",
   "execution_count": null,
   "metadata": {},
   "outputs": [],
   "source": [
    "parts = []\n",
    "for part in parts_str:\n",
    "    elems = part[1:-1].split(\",\")\n",
    "    new_part = {}\n",
    "    for e in elems:\n",
    "        key, val = e.split(\"=\")\n",
    "        new_part[key] = val\n",
    "    parts.append(new_part)"
   ]
  },
  {
   "cell_type": "code",
   "execution_count": null,
   "metadata": {},
   "outputs": [],
   "source": [
    "workflows = defaultdict(list)\n",
    "for workflow in workflows_str:\n",
    "    name, content = workflow.split(\"{\")\n",
    "    rules = content[:-1].split(\",\")\n",
    "    workflows[name] = rules"
   ]
  },
  {
   "cell_type": "code",
   "execution_count": null,
   "metadata": {},
   "outputs": [],
   "source": [
    "total = 0\n",
    "\n",
    "for part in parts:\n",
    "    workflow = \"in\"\n",
    "    while workflow not in [\"A\", \"R\"]:\n",
    "        rules = copy.deepcopy(workflows[workflow])\n",
    "        # print(workflow)\n",
    "        while rules:\n",
    "            rule = rules.pop(0)\n",
    "            \n",
    "            if \":\" in rule:\n",
    "                cond, success = rule.split(\":\")\n",
    "                for k, v in part.items():\n",
    "                    cond = cond.replace(k, v)\n",
    "\n",
    "                if eval(cond):\n",
    "                    workflow = success\n",
    "                    break\n",
    "            else:\n",
    "                workflow = rule\n",
    "                break  # should be useless\n",
    "    if workflow == \"A\":\n",
    "        total += sum(map(int, part.values()))\n",
    "        \n",
    "puzzle.answer_a = total"
   ]
  },
  {
   "cell_type": "markdown",
   "metadata": {},
   "source": [
    "### Part 2"
   ]
  },
  {
   "cell_type": "code",
   "execution_count": null,
   "metadata": {},
   "outputs": [],
   "source": [
    "workflows"
   ]
  },
  {
   "cell_type": "markdown",
   "metadata": {},
   "source": [
    "## Day 18\n",
    "https://adventofcode.com/2023/day/18"
   ]
  },
  {
   "cell_type": "code",
   "execution_count": null,
   "metadata": {},
   "outputs": [],
   "source": [
    "puzzle = Puzzle(year=2023, day=18)\n",
    "input_data = \"\"\"R 6 (#70c710)\n",
    "D 5 (#0dc571)\n",
    "L 2 (#5713f0)\n",
    "D 2 (#d2c081)\n",
    "R 2 (#59c680)\n",
    "D 2 (#411b91)\n",
    "L 5 (#8ceee2)\n",
    "U 2 (#caa173)\n",
    "L 1 (#1b58a2)\n",
    "U 2 (#caa171)\n",
    "R 2 (#7807d2)\n",
    "U 3 (#a77fa3)\n",
    "L 2 (#015232)\n",
    "U 2 (#7a21e3)\"\"\""
   ]
  },
  {
   "cell_type": "markdown",
   "metadata": {},
   "source": [
    "### Part 1"
   ]
  },
  {
   "cell_type": "code",
   "execution_count": null,
   "metadata": {},
   "outputs": [],
   "source": [
    "digged = defaultdict(lambda : defaultdict(bool))\n",
    "digged[0][0] = True\n",
    "pos = [0, 0]  # row_id, col_id\n",
    "\n",
    "min_rows, max_rows, min_cols, max_cols = 0, 0, 0, 0\n",
    "\n",
    "for line in puzzle.input_data.splitlines():\n",
    "    direction, length = re.match(\"(\\w) (\\d+)\", line).groups()\n",
    "    for i in range(int(length)):\n",
    "        pos[0] += 1 if direction == \"D\" else (-1 if direction == \"U\" else 0)\n",
    "        pos[1] += 1 if direction == \"R\" else (-1 if direction == \"L\" else 0)\n",
    "\n",
    "        digged[pos[0]][pos[1]] = True\n",
    "\n",
    "        if pos[0] < min_rows:\n",
    "            min_rows = pos[0]\n",
    "        elif pos[0] > max_rows:\n",
    "            max_rows = pos[0]\n",
    "            \n",
    "        if pos[1] < min_cols:\n",
    "            min_cols = pos[1]\n",
    "        elif pos[1] > max_cols:\n",
    "            max_cols = pos[1]\n",
    "\n",
    "# print(min_rows, max_rows, min_cols, max_cols)\n",
    "\n",
    "grid = np.zeros((max_rows - min_rows + 3, max_cols - min_cols + 3), dtype=bool)  # gonna take an extra row and col empty all around for later !\n",
    "nb_rows, nb_cols = grid.shape\n",
    "# print(nb_rows, nb_cols)\n",
    "\n",
    "for row_id, v in digged.items():\n",
    "    for col_id, check in v.items():\n",
    "        grid[row_id - min_rows + 1, col_id - min_cols + 1] = check"
   ]
  },
  {
   "cell_type": "code",
   "execution_count": null,
   "metadata": {},
   "outputs": [],
   "source": [
    "grid_str = grid.astype(\"str\")\n",
    "grid_str[grid==True] = \"#\"\n",
    "grid_str[grid==False] = \".\"\n",
    "# print(\"\\n\". join([\"\".join(x[:nb_cols//2]) for x in grid_str]))"
   ]
  },
  {
   "cell_type": "code",
   "execution_count": null,
   "metadata": {},
   "outputs": [],
   "source": [
    "queue = [(0, 0)]  # guaranteed to be \".\" in grid_str\n",
    "\n",
    "while queue:\n",
    "    pos = queue.pop(0)\n",
    "    grid_str[pos] = \" \"\n",
    "    \n",
    "    for dx in range(-1, 2):\n",
    "        for dy in range(-1, 2):\n",
    "            if bool(dx) != bool(dy):\n",
    "                nx = pos[0] + dx\n",
    "                ny = pos[1] + dy\n",
    "                if 0 <= nx < nb_rows and 0 <= ny < nb_cols and grid_str[nx, ny] == \".\":\n",
    "                    new_elem = (pos[0] + dx, pos[1] + dy)\n",
    "                    if new_elem not in queue:\n",
    "                        queue.append(new_elem)\n",
    "\n",
    "# print(grid_str)"
   ]
  },
  {
   "cell_type": "code",
   "execution_count": null,
   "metadata": {},
   "outputs": [],
   "source": [
    "puzzle.answer_a = len(np.where(grid_str != \" \")[0])"
   ]
  },
  {
   "cell_type": "markdown",
   "metadata": {},
   "source": [
    "### Part 2"
   ]
  },
  {
   "cell_type": "code",
   "execution_count": null,
   "metadata": {},
   "outputs": [],
   "source": [
    "DIRECTIONS = [\"R\", \"D\", \"L\", \"U\"]\n",
    "\n",
    "digged = defaultdict(lambda : defaultdict(bool))\n",
    "digged[0][0] = True\n",
    "pos = [0, 0]  # row_id, col_id\n",
    "\n",
    "min_rows, max_rows, min_cols, max_cols = 0, 0, 0, 0\n",
    "\n",
    "for line in input_data.splitlines():\n",
    "    length, direction = re.match(\"\\w \\d+ \\(#(\\w{5})(\\d)\\)\", line).groups()\n",
    "    length = int(length, 16)\n",
    "    direction = DIRECTIONS[int(direction)]\n",
    "    print(direction, length)\n",
    "    \n",
    "    for i in range(int(length)):\n",
    "        pos[0] += 1 if direction == \"D\" else (-1 if direction == \"U\" else 0)\n",
    "        pos[1] += 1 if direction == \"R\" else (-1 if direction == \"L\" else 0)\n",
    "\n",
    "        digged[pos[0]][pos[1]] = True\n",
    "\n",
    "        if pos[0] < min_rows:\n",
    "            min_rows = pos[0]\n",
    "        elif pos[0] > max_rows:\n",
    "            max_rows = pos[0]\n",
    "            \n",
    "        if pos[1] < min_cols:\n",
    "            min_cols = pos[1]\n",
    "        elif pos[1] > max_cols:\n",
    "            max_cols = pos[1]\n",
    "\n",
    "print(min_rows, max_rows, min_cols, max_cols)\n",
    "\n",
    "# Can't bruteforce"
   ]
  },
  {
   "cell_type": "markdown",
   "metadata": {},
   "source": [
    "## Day 17\n",
    "https://adventofcode.com/2023/day/17"
   ]
  },
  {
   "cell_type": "code",
   "execution_count": null,
   "metadata": {},
   "outputs": [],
   "source": [
    "puzzle = Puzzle(year=2023, day=17)\n",
    "input_data = \"\"\"2413432311323\n",
    "3215453535623\n",
    "3255245654254\n",
    "3446585845452\n",
    "4546657867536\n",
    "1438598798454\n",
    "4457876987766\n",
    "3637877979653\n",
    "4654967986887\n",
    "4564679986453\n",
    "1224686865563\n",
    "2546548887735\n",
    "4322674655533\"\"\""
   ]
  },
  {
   "cell_type": "code",
   "execution_count": null,
   "metadata": {},
   "outputs": [],
   "source": [
    "grid = np.array([[int(y) for y in x] for x in input_data.splitlines()])\n",
    "nb_rows, nb_cols = grid.shape"
   ]
  },
  {
   "cell_type": "markdown",
   "metadata": {},
   "source": [
    "### Part 1"
   ]
  },
  {
   "cell_type": "code",
   "execution_count": null,
   "metadata": {},
   "outputs": [],
   "source": [
    "# HARD"
   ]
  },
  {
   "cell_type": "code",
   "execution_count": null,
   "metadata": {},
   "outputs": [],
   "source": [
    "grid"
   ]
  },
  {
   "cell_type": "markdown",
   "metadata": {},
   "source": [
    "### Part 2"
   ]
  },
  {
   "cell_type": "markdown",
   "metadata": {},
   "source": [
    "## Day 16\n",
    "https://adventofcode.com/2023/day/16"
   ]
  },
  {
   "cell_type": "code",
   "execution_count": null,
   "metadata": {},
   "outputs": [],
   "source": [
    "puzzle = Puzzle(year=2023, day=16)\n",
    "input_data = r\"\"\".|...\\....\n",
    "|.-.\\.....\n",
    ".....|-...\n",
    "........|.\n",
    "..........\n",
    ".........\\\n",
    "..../.\\\\..\n",
    ".-.-/..|..\n",
    ".|....-|.\\\n",
    "..//.|....\"\"\""
   ]
  },
  {
   "cell_type": "code",
   "execution_count": null,
   "metadata": {},
   "outputs": [],
   "source": [
    "INCREMENTS = {\n",
    "    \"D\": [1, 0],\n",
    "    \"U\": [-1, 0],\n",
    "    \"R\": [0, 1],\n",
    "    \"L\": [0, -1]\n",
    "}"
   ]
  },
  {
   "cell_type": "code",
   "execution_count": null,
   "metadata": {},
   "outputs": [],
   "source": [
    "grid = np.array([list(x) for x in puzzle.input_data.splitlines()])\n",
    "nb_rows, nb_cols = grid.shape"
   ]
  },
  {
   "cell_type": "code",
   "execution_count": null,
   "metadata": {},
   "outputs": [],
   "source": [
    "def energize(beams):\n",
    "    \"\"\"\"\"\"\n",
    "    \n",
    "    directions = defaultdict(lambda : defaultdict(str))  # add char when this direction is used : R, D, L, U\n",
    "\n",
    "    while beams:\n",
    "        beam = beams.pop(0)\n",
    "        # print(\"beam:\", beam)\n",
    "        direction = beam[2]\n",
    "\n",
    "        if direction in directions[beam[0]][beam[1]]:\n",
    "            continue\n",
    "\n",
    "        directions[beam[0]][beam[1]] += direction\n",
    "\n",
    "        if grid[beam[0], beam[1]] == \".\":\n",
    "            new_beams = [[beam[0] + INCREMENTS[direction][0], beam[1] + INCREMENTS[direction][1], direction]]\n",
    "        elif grid[beam[0], beam[1]] == \"|\":\n",
    "            if direction in [\"D\", \"U\"]:\n",
    "                new_beams = [[beam[0] + INCREMENTS[direction][0], beam[1] + INCREMENTS[direction][1], direction]]\n",
    "            else:\n",
    "                new_beams = [[beam[0] - 1, beam[1], \"U\"], [beam[0] + 1, beam[1], \"D\"]]\n",
    "        elif grid[beam[0], beam[1]] == \"-\":\n",
    "            if direction in [\"L\", \"R\"]:\n",
    "                new_beams = [[beam[0] + INCREMENTS[direction][0], beam[1] + INCREMENTS[direction][1], direction]]\n",
    "            else:\n",
    "                new_beams = [[beam[0], beam[1] - 1, \"L\"], [beam[0], beam[1] + 1, \"R\"]]\n",
    "        elif grid[beam[0], beam[1]] == \"/\":\n",
    "            if direction == \"L\":\n",
    "                new_beams = [[beam[0] + 1, beam[1], \"D\"]]\n",
    "            elif direction == \"D\":\n",
    "                new_beams = [[beam[0], beam[1] - 1, \"L\"]]\n",
    "            elif direction == \"R\":\n",
    "                new_beams = [[beam[0] - 1, beam[1], \"U\"]]\n",
    "            elif direction == \"U\":\n",
    "                new_beams = [[beam[0], beam[1] + 1, \"R\"]]\n",
    "        elif grid[beam[0], beam[1]] == \"\\\\\":\n",
    "            if direction == \"L\":\n",
    "                new_beams = [[beam[0] - 1, beam[1], \"U\"]]\n",
    "            elif direction == \"D\":\n",
    "                new_beams = [[beam[0], beam[1] + 1, \"R\"]]\n",
    "            elif direction == \"R\":\n",
    "                new_beams = [[beam[0] + 1, beam[1], \"D\"]]\n",
    "            elif direction == \"U\":\n",
    "                new_beams = [[beam[0], beam[1] - 1, \"L\"]]\n",
    "\n",
    "        # print(\"new:\", new_beams)\n",
    "        for b in new_beams:\n",
    "            if 0 <= b[0] < nb_rows and 0 <= b[1] < nb_cols:\n",
    "                # print(\"added\", b)\n",
    "                beams.append(b)\n",
    "\n",
    "    return sum([len(list(filter(bool, v.values()))) for k, v in directions.items()])"
   ]
  },
  {
   "cell_type": "markdown",
   "metadata": {},
   "source": [
    "### Part 1"
   ]
  },
  {
   "cell_type": "code",
   "execution_count": null,
   "metadata": {},
   "outputs": [],
   "source": [
    "beams = [[0, 0, \"R\"]]  # row_id, col_id, direction\n",
    "puzzle.answer_a = energize(beams)"
   ]
  },
  {
   "cell_type": "markdown",
   "metadata": {},
   "source": [
    "### Part 2"
   ]
  },
  {
   "cell_type": "code",
   "execution_count": null,
   "metadata": {},
   "outputs": [],
   "source": [
    "max_energy = 0\n",
    "\n",
    "for i in range(nb_rows):\n",
    "    energy = energize([[i, 0, \"R\"]])\n",
    "    # print(i, 0, \"R\", energy)\n",
    "    if energy > max_energy:\n",
    "        max_energy = energy\n",
    "        \n",
    "    energy = energize([[i, nb_cols - 1, \"L\"]])\n",
    "    # print(i, nb_cols - 1, \"L\", energy)\n",
    "    if energy > max_energy:\n",
    "        max_energy = energy\n",
    "        \n",
    "for j in range(nb_cols):\n",
    "    energy = energize([[0, j, \"D\"]])\n",
    "    # print(0, j, \"D\", energy)\n",
    "    if energy > max_energy:\n",
    "        max_energy = energy\n",
    "        \n",
    "    energy = energize([[nb_rows - 1, j, \"U\"]])\n",
    "    # print(nb_rows - 1, j, \"U\", energy)\n",
    "    if energy > max_energy:\n",
    "        max_energy = energy\n",
    "\n",
    "puzzle.answer_b = max_energy"
   ]
  },
  {
   "cell_type": "markdown",
   "metadata": {},
   "source": [
    "## Day 15\n",
    "https://adventofcode.com/2023/day/15"
   ]
  },
  {
   "cell_type": "code",
   "execution_count": null,
   "metadata": {},
   "outputs": [],
   "source": [
    "puzzle = Puzzle(year=2023, day=15)\n",
    "input_data = \"rn=1,cm-,qp=3,cm=2,qp-,pc=4,ot=9,ab=5,pc-,pc=6,ot=7\""
   ]
  },
  {
   "cell_type": "code",
   "execution_count": null,
   "metadata": {},
   "outputs": [],
   "source": [
    "def hash_algo(word:str) -> int:\n",
    "    total = 0\n",
    "    for char in word:\n",
    "        total += ord(char)\n",
    "        total *= 17\n",
    "        total %= 256\n",
    "    return total"
   ]
  },
  {
   "cell_type": "markdown",
   "metadata": {},
   "source": [
    "### Part 1"
   ]
  },
  {
   "cell_type": "code",
   "execution_count": null,
   "metadata": {},
   "outputs": [],
   "source": [
    "for row in puzzle.input_data.splitlines():\n",
    "    scores = []\n",
    "    for word in row.split(\",\"):\n",
    "        scores.append(hash_algo(word))\n",
    "puzzle.answer_a = sum(scores)"
   ]
  },
  {
   "cell_type": "markdown",
   "metadata": {},
   "source": [
    "### Part 2"
   ]
  },
  {
   "cell_type": "code",
   "execution_count": null,
   "metadata": {},
   "outputs": [],
   "source": [
    "for row in puzzle.input_data.splitlines():\n",
    "    boxes = defaultdict(list)\n",
    "    storage = {}\n",
    "\n",
    "    for word in row.split(\",\"):\n",
    "        label = word.split(\"=\")[0]\n",
    "        \n",
    "        if \"-\" in word:\n",
    "            label = label[:-1]\n",
    "            if label in storage:\n",
    "                box_id = storage[label]\n",
    "                del storage[label]\n",
    "                \n",
    "                for i, w in enumerate(boxes[box_id]):\n",
    "                    if w.startswith(label):\n",
    "                        del boxes[box_id][i]\n",
    "                        break\n",
    "                \n",
    "        elif \"=\" in word:\n",
    "            if label in storage:\n",
    "                box_id = storage[label]\n",
    "                \n",
    "                for i, w in enumerate(boxes[box_id]):\n",
    "                    if w.startswith(label):\n",
    "                        boxes[box_id][i] = word\n",
    "                        break\n",
    "            else:  \n",
    "                box_id = hash_algo(label)\n",
    "                storage[label] = box_id\n",
    "                boxes[box_id].append(word)\n"
   ]
  },
  {
   "cell_type": "code",
   "execution_count": null,
   "metadata": {},
   "outputs": [],
   "source": [
    "total = 0\n",
    "for box_id, box in boxes.items():\n",
    "    for i, item in enumerate(box):\n",
    "        focal = int(item.split(\"=\")[1])\n",
    "        total += (box_id+1) * (i+1) * focal\n",
    "puzzle.answer_b = total"
   ]
  },
  {
   "cell_type": "markdown",
   "metadata": {},
   "source": [
    "## Day 14\n",
    "https://adventofcode.com/2023/day/14"
   ]
  },
  {
   "cell_type": "code",
   "execution_count": null,
   "metadata": {},
   "outputs": [],
   "source": [
    "puzzle = Puzzle(year=2023, day=14)\n",
    "input_data = \"\"\"O....#....\n",
    "O.OO#....#\n",
    ".....##...\n",
    "OO.#O....O\n",
    ".O.....O#.\n",
    "O.#..O.#.#\n",
    "..O..#O..O\n",
    ".......O..\n",
    "#....###..\n",
    "#OO..#....\"\"\""
   ]
  },
  {
   "cell_type": "code",
   "execution_count": null,
   "metadata": {},
   "outputs": [],
   "source": [
    "def find(s, ch):\n",
    "    return [i for i, ltr in enumerate(s) if ltr == ch]"
   ]
  },
  {
   "cell_type": "code",
   "execution_count": null,
   "metadata": {},
   "outputs": [],
   "source": [
    "def score(grid):\n",
    "    nb_rows, nb_cols = grid.shape\n",
    "    total = 0\n",
    "    \n",
    "    for x in range(nb_rows):\n",
    "        total += Counter(grid[x, :]).get(\"O\", 0) * (nb_rows - x)\n",
    "    return total"
   ]
  },
  {
   "cell_type": "markdown",
   "metadata": {},
   "source": [
    "\n",
    "### Part 1"
   ]
  },
  {
   "cell_type": "code",
   "execution_count": null,
   "metadata": {},
   "outputs": [],
   "source": [
    "grid = np.array([list(x) for x in puzzle.input_data.splitlines()])\n",
    "nb_rows, nb_cols = grid.shape\n",
    "\n",
    "for x in range(nb_cols):\n",
    "    grid[:, x] = list(tilt(grid[:, x].tolist(), reverse=True))\n",
    "\n",
    "puzzle.answer_a = score(grid)"
   ]
  },
  {
   "cell_type": "markdown",
   "metadata": {},
   "source": [
    "### Part 2"
   ]
  },
  {
   "cell_type": "code",
   "execution_count": null,
   "metadata": {},
   "outputs": [],
   "source": [
    "def tilt(bucket: list, reverse: bool)-> str:\n",
    "    \"\"\"Tilt in the direction of last element unless reversed\"\"\"\n",
    "    sorted_groups = []\n",
    "\n",
    "    for group in \"\".join(bucket).split(\"#\"):\n",
    "        sorted_groups.append(\"\".join(sorted(group, reverse=reverse)))\n",
    "    \n",
    "    return \"#\".join(sorted_groups)"
   ]
  },
  {
   "cell_type": "code",
   "execution_count": null,
   "metadata": {},
   "outputs": [],
   "source": [
    "def cycle(grid):\n",
    "    nb_rows, nb_cols = grid.shape\n",
    "\n",
    "    sizes = [nb_cols, nb_rows] * 2\n",
    "    for direction in range(4):  # N, W, S, E\n",
    "        for x in range(sizes[direction]):\n",
    "            if direction % 2:\n",
    "                grid[x, :] = list(tilt(grid[x, :].tolist(), direction < 2))\n",
    "            else:\n",
    "                 grid[:, x] = list(tilt(grid[:, x].tolist(), direction < 2))\n",
    "    return grid"
   ]
  },
  {
   "cell_type": "code",
   "execution_count": null,
   "metadata": {},
   "outputs": [],
   "source": [
    "grid = np.array([list(x) for x in puzzle.input_data.splitlines()])\n",
    "\n",
    "scores = []\n",
    "for i in range(200):\n",
    "    cycle(grid)\n",
    "    scores.append(score(grid))"
   ]
  },
  {
   "cell_type": "code",
   "execution_count": null,
   "metadata": {},
   "outputs": [],
   "source": [
    "# Toy example\n",
    "period = scores[2:2+7]\n",
    "\n",
    "period[(1000000000 - 2) % 7 - 1]"
   ]
  },
  {
   "cell_type": "code",
   "execution_count": null,
   "metadata": {},
   "outputs": [],
   "source": [
    "period = scores[95:95+78]\n",
    "\n",
    "puzzle.answer_b = period[(1000000000 - 95) % 78 - 1]"
   ]
  },
  {
   "cell_type": "markdown",
   "metadata": {},
   "source": [
    "## Day 13\n",
    "\n",
    "_TBD_\n",
    "\n",
    "https://adventofcode.com/2023/day/13"
   ]
  },
  {
   "cell_type": "code",
   "execution_count": null,
   "metadata": {},
   "outputs": [],
   "source": [
    "puzzle = Puzzle(year=2023, day=13)\n",
    "input_data = \"\"\"#.##..##.\n",
    "..#.##.#.\n",
    "##......#\n",
    "##......#\n",
    "..#.##.#.\n",
    "..##..##.\n",
    "#.#.##.#.\n",
    "\n",
    "#...##..#\n",
    "#....#..#\n",
    "..##..###\n",
    "#####.##.\n",
    "#####.##.\n",
    "..##..###\n",
    "#....#..#\"\"\""
   ]
  },
  {
   "cell_type": "markdown",
   "metadata": {},
   "source": [
    "### Part 1"
   ]
  },
  {
   "cell_type": "code",
   "execution_count": null,
   "metadata": {},
   "outputs": [],
   "source": [
    "verticals, horizontals = [], []\n",
    "\n",
    "for game in puzzle.input_data.split(\"\\n\\n\"):\n",
    "    game_np = np.array([list(x) for x in game.splitlines()])\n",
    "    \n",
    "    nb_rows, nb_cols = game_np.shape\n",
    "    \n",
    "    for s in range(nb_cols-1): # s + 0.5 being the symmetrical line candidate\n",
    "        works_for_all = True\n",
    "        for x in range(nb_cols):\n",
    "            if s-x < 0 or s+1+x >= nb_cols:\n",
    "                break\n",
    "            if any(game_np[:, s-x] != game_np[:, s+1+x]):\n",
    "                works_for_all = False\n",
    "                break\n",
    "        if works_for_all:\n",
    "            verticals.append(s+1)\n",
    "            break\n",
    "    \n",
    "    for s in range(nb_rows-1): # s + 0.5 being the symmetrical line candidate\n",
    "        works_for_all = True\n",
    "        for x in range(nb_rows):\n",
    "            if s-x < 0 or s+1+x >= nb_rows:\n",
    "                break\n",
    "            if any(game_np[s-x, :] != game_np[s+1+x, :]):\n",
    "                works_for_all = False\n",
    "                break\n",
    "        if works_for_all:\n",
    "            horizontals.append(s+1)\n",
    "            break\n",
    "            \n",
    "puzzle.answer_a = sum(horizontals) * 100 + sum(verticals)"
   ]
  },
  {
   "cell_type": "markdown",
   "metadata": {},
   "source": [
    "### Part 2"
   ]
  },
  {
   "cell_type": "code",
   "execution_count": null,
   "metadata": {},
   "outputs": [],
   "source": [
    "verticals, horizontals = [], []\n",
    "\n",
    "for game in puzzle.input_data.split(\"\\n\\n\"):\n",
    "    game_np = np.array([list(x) for x in game.splitlines()])\n",
    "    \n",
    "    nb_rows, nb_cols = game_np.shape\n",
    "    \n",
    "    for s in range(nb_cols-1): # s + 0.5 being the symmetrical line candidate\n",
    "        nb_smudges = 0\n",
    "        for x in range(nb_cols):\n",
    "            if s-x < 0 or s+1+x >= nb_cols or nb_smudges > 1:\n",
    "                break\n",
    "            nb_smudges += sum(game_np[:, s-x] != game_np[:, s+1+x])\n",
    "\n",
    "        if nb_smudges == 1:\n",
    "            verticals.append(s+1)\n",
    "            break\n",
    "    \n",
    "    for s in range(nb_rows-1): # s + 0.5 being the symmetrical line candidate\n",
    "        nb_smudges = 0\n",
    "        for x in range(nb_rows):\n",
    "            if s-x < 0 or s+1+x >= nb_rows or nb_smudges > 1:\n",
    "                break\n",
    "                \n",
    "            nb_smudges += sum(game_np[s-x, :] != game_np[s+1+x, :])\n",
    "                \n",
    "        if nb_smudges == 1:\n",
    "            horizontals.append(s+1)\n",
    "            break\n",
    "            \n",
    "puzzle.answer_b = sum(horizontals) * 100 + sum(verticals)"
   ]
  },
  {
   "cell_type": "markdown",
   "metadata": {},
   "source": [
    "## Day 12\n",
    "\n",
    "_TBD_\n",
    "\n",
    "https://adventofcode.com/2023/day/12"
   ]
  },
  {
   "cell_type": "code",
   "execution_count": null,
   "metadata": {},
   "outputs": [],
   "source": [
    "puzzle = Puzzle(year=2023, day=12)\n",
    "input_data = \"\"\"???.### 1,1,3\n",
    ".??..??...?##. 1,1,3\n",
    "?#?#?#?#?#?#?#? 1,3,1,6\n",
    "????.#...#... 4,1,1\n",
    "????.######..#####. 1,6,5\n",
    "?###???????? 3,2,1\"\"\""
   ]
  },
  {
   "cell_type": "markdown",
   "metadata": {},
   "source": [
    "### Part 1"
   ]
  },
  {
   "cell_type": "code",
   "execution_count": null,
   "metadata": {},
   "outputs": [],
   "source": [
    "def nb_solutions(secret_chars: str, data:list) -> int:\n",
    "    \"\"\"Count how many posibilities to match data into the secret string\"\"\"\n",
    "\n",
    "    nb_q = Counter(secret_chars)[\"?\"]\n",
    "    \n",
    "    nb_sols = 0\n",
    "    \n",
    "    for i in range(2**nb_q):\n",
    "        possibility = (\"0\" * nb_q + bin(i)[2:])[-nb_q:]\n",
    "        possibility = possibility.replace(\"0\", \".\").replace(\"1\", \"#\")\n",
    "        \n",
    "        splits = secret_chars.split(\"?\")\n",
    "        attempt = \"\".join([x[0] + x[1] for x in zip(splits, possibility)]) + splits[-1]\n",
    "        \n",
    "        if [len(x) for x in attempt.split(\".\") if x] == data:\n",
    "            nb_sols += 1\n",
    "    \n",
    "    return nb_sols"
   ]
  },
  {
   "cell_type": "code",
   "execution_count": null,
   "metadata": {},
   "outputs": [],
   "source": [
    "# BRUTE FORCE\n",
    "\n",
    "total = 0\n",
    "for row in input_data.splitlines():\n",
    "    onsens, damages = row.split()\n",
    "    # onsens = [x for x in onsens.strip(\".\").split(\".\") if x]\n",
    "    total += nb_solutions(onsens, [int(x) for x in damages.split(\",\")])\n",
    "puzzle.answer_a = total"
   ]
  },
  {
   "cell_type": "code",
   "execution_count": null,
   "metadata": {},
   "outputs": [],
   "source": [
    "def f(onsens, damages):\n",
    "    \n",
    "    \n",
    "    \n",
    "    \n",
    "    # ??? [], ###, [1, 1, 3]\n",
    "    # ??? [1], ###, [1, 3]\n",
    "    # ??? [1, 1] ###, [3]\n",
    "    \n",
    "    \n",
    "    if len(rmn_onsens) == 0:\n",
    "        return f(rmn_onsens[0], rmn_damages, [], [], nb_combi)\n",
    "    \n",
    "    # How to solve sub problem\n",
    "    nb_q = Counter(onsens)[\"?\"]\n",
    "    \n",
    "    nb_sols = 0\n",
    "    \n",
    "    for i in range(2**nb_q):\n",
    "        possibility = (\"0\" * nb_q + bin(i)[2:])[-nb_q:]\n",
    "        possibility = possibility.replace(\"0\", \".\").replace(\"1\", \"#\")\n",
    "        \n",
    "        attempt = \"\".join([x[0] + x[1] for x in zip(onsens.split(\"?\"), possibility)])\n",
    "        \n",
    "        if [len(x) for x in attempt.split(\".\") if x] == damages:\n",
    "            print(attempt)\n",
    "            nb_sols += 1\n",
    "            \n",
    "    return nb_sols * nb_combi\n",
    "\n",
    "    total = 0\n",
    "    for i in range(len(rmn_damages) + 1):\n",
    "        # if trying to match too many elements, stop\n",
    "        if sum(rmn_damages[:i]) + len(rmn_damages[:i]) - 1 > len(rmn_onsens[0]):\n",
    "            break\n",
    "            \n",
    "        return f(rmn_onsens[0], rmn_damages[:i], rmn_onsens[1:], rmn_damages[i:], nb_combi * nb_sols) \n",
    "\n",
    "    \n",
    "f(\"??\", [1], [\"??\"], [1], 1)"
   ]
  },
  {
   "cell_type": "code",
   "execution_count": null,
   "metadata": {},
   "outputs": [],
   "source": [
    "def f(onsens, damages, rmn_onsens, rmn_damages, nb_combi):\n",
    "    if len(damages) == 0:\n",
    "        if \"#\" not in onsens:\n",
    "            2 ** Counter(onsens)[\"?\"] # TODO\n",
    "    \n",
    "    if len(damages) - 1 + sum(damages) > len(onsens):\n",
    "        print(onsens, damages, \"no solution\")\n",
    "        return 0\n",
    "    \n",
    "    if len(damages) - 1 + sum(damages) == len(onsens):\n",
    "        unique_sol = \".\".join([\"#\" * d for d in damage])\n",
    "        if all([s == o or o == \"?\" for s, o in zip(unique_sol, onsens)]):\n",
    "            print(\"unique sol matches\")\n",
    "            if len(rmn_onsens) == 0:\n",
    "                print(\"no more tests\", len(rmn_damages), nb_combi)\n",
    "                return nb_combi if len(rmn_damages) == 0 else 0\n",
    "        \n",
    "            for i in range(len(nb_damages) + 1):\n",
    "                print(\"continue...\")\n",
    "                return f(rmn_onsens[0], rmn_damages[:i], rmn_onsens[1:], rmn_damages[i:], nb_combi)\n",
    "            \n",
    "    print(onsens, damages, rmn_onsens, rmn_damages, nb_combi)\n",
    "    "
   ]
  },
  {
   "cell_type": "markdown",
   "metadata": {},
   "source": [
    "### Part 2"
   ]
  },
  {
   "cell_type": "markdown",
   "metadata": {},
   "source": [
    "## Day 11\n",
    "\n",
    "_TBD_\n",
    "\n",
    "https://adventofcode.com/2023/day/11"
   ]
  },
  {
   "cell_type": "code",
   "execution_count": null,
   "metadata": {},
   "outputs": [],
   "source": [
    "puzzle = Puzzle(year=2023, day=11)\n",
    "input_data = \"\"\"...#......\n",
    ".......#..\n",
    "#.........\n",
    "..........\n",
    "......#...\n",
    ".#........\n",
    ".........#\n",
    "..........\n",
    ".......#..\n",
    "#...#.....\"\"\""
   ]
  },
  {
   "cell_type": "code",
   "execution_count": null,
   "metadata": {},
   "outputs": [],
   "source": [
    "board = np.array([list(x) for x in puzzle.input_data.splitlines()])\n",
    "empty_rows, empty_cols = [], []\n",
    "Y, X = board.shape\n",
    "\n",
    "for i in range(X):\n",
    "    if \"#\" not in board[:, i]:\n",
    "        empty_cols.append(i)\n",
    "\n",
    "for j in range(Y):\n",
    "    if \"#\" not in board[j, :]:\n",
    "        empty_rows.append(j)\n",
    "\n",
    "pos = []\n",
    "for i in range(X):\n",
    "    for j in range(Y):\n",
    "        if board[j, i] == \"#\":\n",
    "            pos.append([i, j])"
   ]
  },
  {
   "cell_type": "markdown",
   "metadata": {},
   "source": [
    "### Part 1"
   ]
  },
  {
   "cell_type": "code",
   "execution_count": null,
   "metadata": {},
   "outputs": [],
   "source": [
    "def distance_with_malus(pos, coef=1):\n",
    "    N = len(pos)\n",
    "    total = 0\n",
    "    for i, x in enumerate(pos):\n",
    "        for j in range(i+1, N):\n",
    "            y = pos[j]\n",
    "            malus = len(set(empty_rows).intersection(set(range(min(x[1], y[1]), max(x[1], y[1]))))) + len(set(empty_cols).intersection(set(range(min(x[0], y[0]), max(x[0], y[0])))))\n",
    "            dist = abs(x[0] - y[0]) + abs(x[1] - y[1]) + malus * coef\n",
    "            total += dist\n",
    "    return total\n",
    "\n",
    "puzzle.answer_a = distance_with_malus(pos)"
   ]
  },
  {
   "cell_type": "markdown",
   "metadata": {},
   "source": [
    "### Part 2"
   ]
  },
  {
   "cell_type": "code",
   "execution_count": null,
   "metadata": {},
   "outputs": [],
   "source": [
    "puzzle.answer_b = distance_with_malus(pos, coef=999999)"
   ]
  },
  {
   "cell_type": "markdown",
   "metadata": {},
   "source": [
    "## Day 10\n",
    "\n",
    "_TBD_\n",
    "\n",
    "https://adventofcode.com/2023/day/10"
   ]
  },
  {
   "cell_type": "code",
   "execution_count": null,
   "metadata": {},
   "outputs": [],
   "source": [
    "puzzle = Puzzle(year=2023, day=10)\n",
    "input_data = \"\""
   ]
  },
  {
   "cell_type": "markdown",
   "metadata": {},
   "source": [
    "### Part 1"
   ]
  },
  {
   "cell_type": "code",
   "execution_count": null,
   "metadata": {},
   "outputs": [],
   "source": [
    "board = np.array([list(x) for x in puzzle.input_data.splitlines()])"
   ]
  },
  {
   "cell_type": "code",
   "execution_count": null,
   "metadata": {},
   "outputs": [],
   "source": [
    "def get_next_move(prev_move, next_encounter):\n",
    "    if next_encounter in [\"|\", \"-\"]:\n",
    "        return prev_move\n",
    "    elif next_encounter == \"L\":\n",
    "        return (1, 0) if prev_move == (0, 1) else (0, -1)\n",
    "    elif next_encounter == \"J\":\n",
    "        return (-1, 0) if prev_move == (0, 1) else (0, -1)\n",
    "    elif next_encounter == \"7\":\n",
    "        return (-1, 0) if prev_move == (0, -1) else (0, 1)\n",
    "    elif next_encounter == \"F\":\n",
    "        return (1, 0) if prev_move == (0, -1) else (0, 1)\n",
    "    print(next_encounter)"
   ]
  },
  {
   "cell_type": "code",
   "execution_count": null,
   "metadata": {},
   "outputs": [],
   "source": [
    "ys, xs = np.where(board == \"S\")\n",
    "xs, ys = xs[0], ys[0]\n",
    "\n",
    "elements = []\n",
    "encounter = (xs, ys, \"S\")\n",
    "\n",
    "current_pos = (xs, ys)\n",
    "next_move = (1, 0)  # noticed visually from the input\n",
    "\n",
    "while encounter not in elements:\n",
    "    # print(\"encountered:\", encounter, \"next is\", next_move)\n",
    "    elements.append(encounter)\n",
    "    current_pos = (current_pos[0] + next_move[0], current_pos[1] + next_move[1])\n",
    "    next_encounter = board[current_pos[1], current_pos[0]]\n",
    "    next_move = get_next_move(next_move, next_encounter)\n",
    "    encounter = (*current_pos, next_encounter)\n",
    "\n",
    "len(elements) // 2"
   ]
  },
  {
   "cell_type": "markdown",
   "metadata": {},
   "source": [
    "### Part 2"
   ]
  },
  {
   "cell_type": "code",
   "execution_count": null,
   "metadata": {},
   "outputs": [],
   "source": [
    "X, Y = board.shape\n",
    "board4 = np.zeros((2*X, 2*Y), dtype='<U1')\n",
    "\n",
    "board[board != \"S\"] = \".\"\n",
    "for elem in elements:\n",
    "    board[elem[1], elem[0]] = elem[2]\n",
    "\n",
    "for i in range(2*X):\n",
    "    for j in range(2*Y):\n",
    "        if i % 2 == 0 and j % 2 == 0:\n",
    "            board4[j, i] = board[j//2, i//2]\n",
    "        elif j % 2 == 0:\n",
    "            board4[j, i] = \"-\" if board4[j, i-1] in [\"F\", \"-\", \"L\", \"S\"] else \".\"  # cheated : I know \"S\" is \"-\"\n",
    "        elif i % 2 == 0:\n",
    "            board4[j, i] = \"|\" if board4[j-1, i] in [\"F\", \"|\", \"7\"] else \".\"\n",
    "        else:\n",
    "            board4[j, i] = '.'"
   ]
  },
  {
   "cell_type": "code",
   "execution_count": null,
   "metadata": {},
   "outputs": [],
   "source": [
    "print(\"\\n\". join([\"\".join(x) for x in board4]))"
   ]
  },
  {
   "cell_type": "code",
   "execution_count": null,
   "metadata": {},
   "outputs": [],
   "source": [
    "queue = [(0, 0)]\n",
    "\n",
    "while queue:\n",
    "    change = queue.pop(0)\n",
    "    board4[change[1], change[0]] = \" \"\n",
    "    \n",
    "    for dx in range(-1, 2):\n",
    "        for dy in range(-1, 2):\n",
    "            if bool(dx) != bool(dy):\n",
    "                ny = change[1] + dy\n",
    "                nx = change[0] + dx\n",
    "                if 0 <= nx < 2*X and 0 <= ny < 2*Y and board4[ny, nx] == \".\":\n",
    "                    new_elem = (change[0] + dx, change[1] + dy)\n",
    "                    if new_elem not in queue:\n",
    "                        queue.append((change[0] + dx, change[1] + dy))"
   ]
  },
  {
   "cell_type": "code",
   "execution_count": null,
   "metadata": {},
   "outputs": [],
   "source": [
    "np.count_nonzero(board4 == \".\")"
   ]
  },
  {
   "cell_type": "code",
   "execution_count": null,
   "metadata": {},
   "outputs": [],
   "source": [
    "total = 0\n",
    "for i in range(X):\n",
    "    for j in range(Y):\n",
    "        total += 1 if board4[2*j, 2*i] == \".\" else 0\n",
    "puzzle.answer_b = total"
   ]
  },
  {
   "cell_type": "markdown",
   "metadata": {},
   "source": [
    "## Day 9\n",
    "\n",
    "_TBD_\n",
    "\n",
    "https://adventofcode.com/2023/day/9"
   ]
  },
  {
   "cell_type": "code",
   "execution_count": null,
   "metadata": {},
   "outputs": [],
   "source": [
    "puzzle = Puzzle(year=2023, day=9)\n",
    "input_data = \"\"\"0 3 6 9 12 15\n",
    "1 3 6 10 15 21\n",
    "10 13 16 21 30 45\"\"\""
   ]
  },
  {
   "cell_type": "markdown",
   "metadata": {},
   "source": [
    "### Part 1"
   ]
  },
  {
   "cell_type": "code",
   "execution_count": null,
   "metadata": {},
   "outputs": [],
   "source": [
    "row_val  = []\n",
    "for row in puzzle.input_data.splitlines():\n",
    "    full_storage = []\n",
    "    values = [int(x) for x in row.split()]\n",
    "    while any([x != 0 for x in values]):\n",
    "        full_storage.append(values)\n",
    "        values = [y-x for (x, y) in zip(values[:-1], values[1:])]\n",
    "    \n",
    "    add = 0\n",
    "    for storage in full_storage[::-1]:\n",
    "        add += storage[-1]\n",
    "    row_val.append(add)\n",
    "\n",
    "puzzle.answer_a = sum(row_val)"
   ]
  },
  {
   "cell_type": "markdown",
   "metadata": {},
   "source": [
    "### Part 2"
   ]
  },
  {
   "cell_type": "code",
   "execution_count": null,
   "metadata": {},
   "outputs": [],
   "source": [
    "row_val  = []\n",
    "for row in puzzle.input_data.splitlines():\n",
    "    full_storage = []\n",
    "    values = [int(x) for x in row.split()]\n",
    "    while any([x != 0 for x in values]):\n",
    "        full_storage.append(values)\n",
    "        values = [y-x for (x, y) in zip(values[:-1], values[1:])]\n",
    "    \n",
    "    add = 0\n",
    "    for storage in full_storage[::-1]:\n",
    "        add = storage[0] - add\n",
    "    row_val.append(add)    \n",
    "\n",
    "puzzle.answer_b = sum(row_val)"
   ]
  },
  {
   "cell_type": "markdown",
   "metadata": {},
   "source": [
    "## Day 8\n",
    "\n",
    "_dict, lcm_\n",
    "\n",
    "https://adventofcode.com/2023/day/8"
   ]
  },
  {
   "cell_type": "code",
   "execution_count": null,
   "metadata": {},
   "outputs": [],
   "source": [
    "puzzle = Puzzle(year=2023, day=8)\n",
    "input_data = \"\"\n"
   ]
  },
  {
   "cell_type": "code",
   "execution_count": null,
   "metadata": {},
   "outputs": [],
   "source": [
    "instructions = \"\"\n",
    "adjacency = {}\n",
    "\n",
    "for idx, line in enumerate(puzzle.input_data.splitlines()):\n",
    "    if idx == 0:\n",
    "        instructions = line\n",
    "    elif idx >= 2:\n",
    "        source, sinks = line.split(\" = \")\n",
    "        adjacency[source] = sinks[1:-1].split(\", \")\n",
    "instructions = [int(x) for x in instructions.replace(\"L\", \"0\").replace(\"R\", \"1\")]\n",
    "N = len(instructions)"
   ]
  },
  {
   "cell_type": "code",
   "execution_count": null,
   "metadata": {},
   "outputs": [],
   "source": [
    "# math.lcm for Python versions 3.9 and above\n",
    "def lcm(denominators: list) -> int:\n",
    "    \"\"\"Compute LCM before it became native to python\"\"\"\n",
    "    \n",
    "    return functools.reduce(lambda a,b: a*b // math.gcd(a,b), denominators)"
   ]
  },
  {
   "cell_type": "markdown",
   "metadata": {},
   "source": [
    "### Part 1"
   ]
  },
  {
   "cell_type": "code",
   "execution_count": null,
   "metadata": {},
   "outputs": [],
   "source": [
    "def nb_steps(start: str, stop_rule) -> int:\n",
    "    \"\"\"Count the number of steps to reach the exit\"\"\"\n",
    "    \n",
    "    location = start\n",
    "    counter = 0\n",
    "    while stop_rule(location):\n",
    "        location = adjacency[location][instructions[counter % N]]\n",
    "        counter += 1\n",
    "    \n",
    "    return counter"
   ]
  },
  {
   "cell_type": "code",
   "execution_count": null,
   "metadata": {},
   "outputs": [],
   "source": [
    "puzzle.answer_a = nb_steps(\"AAA\", lambda location: location != \"ZZZ\")"
   ]
  },
  {
   "cell_type": "markdown",
   "metadata": {},
   "source": [
    "### Part2"
   ]
  },
  {
   "cell_type": "code",
   "execution_count": null,
   "metadata": {},
   "outputs": [],
   "source": [
    "scores = []\n",
    "\n",
    "starting_points = [x for x in adjacency.keys() if x.endswith(\"A\")]\n",
    "for point in starting_points:\n",
    "    scores.append(nb_steps(point, lambda location: not location.endswith(\"Z\")))\n",
    "    \n",
    "puzzle.answer_b = lcm(scores)"
   ]
  },
  {
   "cell_type": "markdown",
   "metadata": {},
   "source": [
    "## Day 7\n",
    "\n",
    "_sorting_\n",
    "\n",
    "https://adventofcode.com/2023/day/7"
   ]
  },
  {
   "cell_type": "code",
   "execution_count": null,
   "metadata": {},
   "outputs": [],
   "source": [
    "puzzle = Puzzle(year=2023, day=7)\n",
    "input_data = \"\"\"32T3K 765\n",
    "T55J5 684\n",
    "KK677 28\n",
    "KTJJT 220\n",
    "QQQJA 483\"\"\""
   ]
  },
  {
   "cell_type": "markdown",
   "metadata": {},
   "source": [
    "### Part 1"
   ]
  },
  {
   "cell_type": "code",
   "execution_count": null,
   "metadata": {},
   "outputs": [],
   "source": [
    "hands = []\n",
    "\n",
    "MAPPING = {\"T\": 10, \"J\": 11, \"Q\": 12, \"K\": 13, \"A\": 14}\n",
    "\n",
    "for line in puzzle.input_data.splitlines():\n",
    "    hand, bid = line.split()\n",
    "    count = Counter(hand).most_common()\n",
    "    hands.append([hand, count, int(bid)])\n",
    "    \n",
    "hands.sort(key=lambda x: ([e[1] for e in x[1]], [int(MAPPING.get(e, e)) for e in x[0]]))\n",
    "\n",
    "puzzle.answer_a = sum([(i+1) * hand[2] for i, hand in enumerate(hands)])"
   ]
  },
  {
   "cell_type": "markdown",
   "metadata": {},
   "source": [
    "### Part 2"
   ]
  },
  {
   "cell_type": "code",
   "execution_count": null,
   "metadata": {},
   "outputs": [],
   "source": [
    "hands = []\n",
    "\n",
    "MAPPING = {\"T\": 10, \"J\": 0, \"Q\": 12, \"K\": 13, \"A\": 14}\n",
    "\n",
    "for line in puzzle.input_data.splitlines():\n",
    "    hand, bid = line.split()\n",
    "    count = Counter(hand)\n",
    "    nb_J = count[\"J\"]\n",
    "    if nb_J < 5:\n",
    "        del count[\"J\"]\n",
    "        sorted_count = count.most_common()\n",
    "        sorted_count[0] = (sorted_count[0][0], sorted_count[0][1] + nb_J)\n",
    "    else:\n",
    "        sorted_count = count.most_common()\n",
    "    hands.append([hand, sorted_count, int(bid)])\n",
    "    \n",
    "hands.sort(key=lambda x: ([e[1] for e in x[1]], [int(MAPPING.get(e, e)) for e in x[0]]))\n",
    "\n",
    "puzzle.answer_b = sum([(i+1) * hand[2] for i, hand in enumerate(hands)])"
   ]
  },
  {
   "cell_type": "markdown",
   "metadata": {},
   "source": [
    "## Day 6\n",
    "\n",
    "_2nd order equation_\n",
    "\n",
    "https://adventofcode.com/2023/day/6"
   ]
  },
  {
   "cell_type": "code",
   "execution_count": null,
   "metadata": {},
   "outputs": [],
   "source": [
    "puzzle = Puzzle(year=2023, day=6)\n",
    "input_data = \"\"\"Time:      7  15   30\n",
    "Distance:  9  40  200\"\"\""
   ]
  },
  {
   "cell_type": "code",
   "execution_count": null,
   "metadata": {},
   "outputs": [],
   "source": [
    "def nb_wins(races: list) -> int:\n",
    "    \"\"\"Compute the number of ways to win overall for a given input.\"\"\"\n",
    "    wins = 1\n",
    "\n",
    "    for race in races.values():\n",
    "        delta = math.sqrt(race[0] ** 2 - 4 * race[1])\n",
    "\n",
    "        boundaries = [(race[0] - delta) / 2, (race[0] + delta) / 2]\n",
    "\n",
    "        boundaries[0] = math.ceil(boundaries[0]) if boundaries[0] != math.ceil(boundaries[0]) else int(boundaries[0] + 1)\n",
    "        boundaries[1] = math.floor(boundaries[1]) if boundaries[1] != math.floor(boundaries[1]) else int(boundaries[1] - 1)\n",
    "\n",
    "        nb_wins = boundaries[1] - boundaries[0] + 1\n",
    "        wins *= nb_wins\n",
    "    \n",
    "    return wins"
   ]
  },
  {
   "cell_type": "markdown",
   "metadata": {},
   "source": [
    "### Part 1"
   ]
  },
  {
   "cell_type": "code",
   "execution_count": null,
   "metadata": {},
   "outputs": [],
   "source": [
    "races = defaultdict(list)\n",
    "for data in puzzle.input_data.splitlines():\n",
    "    for i, val in enumerate(data.split()[1:]):\n",
    "        races[i].append(int(val))\n",
    "\n",
    "puzzle.answer_a = nb_wins(races)"
   ]
  },
  {
   "cell_type": "markdown",
   "metadata": {},
   "source": [
    "### Part 2"
   ]
  },
  {
   "cell_type": "code",
   "execution_count": null,
   "metadata": {},
   "outputs": [],
   "source": [
    "races = defaultdict(list)\n",
    "for data in puzzle.input_data.splitlines():\n",
    "    races[0].append(int(\"\".join(data.split()[1:] + \"00000000000000000000\")))\n",
    "\n",
    "puzzle.answer_b = nb_wins(races)"
   ]
  },
  {
   "cell_type": "markdown",
   "metadata": {},
   "source": [
    "## Day 5\n",
    "\n",
    "_TBD_\n",
    "\n",
    "https://adventofcode.com/2023/day/5"
   ]
  },
  {
   "cell_type": "code",
   "execution_count": null,
   "metadata": {},
   "outputs": [],
   "source": [
    "puzzle = Puzzle(year=2023, day=5)\n",
    "input_data = \"\"\"\n",
    "seeds: 79 14 55 13\n",
    "\n",
    "seed-to-soil map:\n",
    "50 98 2\n",
    "52 50 48\n",
    "\n",
    "soil-to-fertilizer map:\n",
    "0 15 37\n",
    "37 52 2\n",
    "39 0 15\n",
    "\n",
    "fertilizer-to-water map:\n",
    "49 53 8\n",
    "0 11 42\n",
    "42 0 7\n",
    "57 7 4\n",
    "\n",
    "water-to-light map:\n",
    "88 18 7\n",
    "18 25 70\n",
    "\n",
    "light-to-temperature map:\n",
    "45 77 23\n",
    "81 45 19\n",
    "68 64 13\n",
    "\n",
    "temperature-to-humidity map:\n",
    "0 69 1\n",
    "1 0 69\n",
    "\n",
    "humidity-to-location map:\n",
    "60 56 37\n",
    "56 93 4\"\"\""
   ]
  },
  {
   "cell_type": "code",
   "execution_count": null,
   "metadata": {},
   "outputs": [],
   "source": [
    "seeds = []\n",
    "mappings = []\n",
    "next_mapping = None\n",
    "\n",
    "for line in puzzle.input_data.splitlines():\n",
    "    if line.startswith(\"seeds\"):\n",
    "        seeds = [int(x) for x in line.lstrip(\"seeds: \").split()]\n",
    "        \n",
    "    elif \"map\" in line:\n",
    "        next_mapping = []\n",
    "        \n",
    "    elif not line:\n",
    "        if next_mapping:\n",
    "            next_mapping = sorted(next_mapping, key=lambda m: m[\"source\"])\n",
    "            mappings.append(next_mapping)\n",
    "    \n",
    "    else:\n",
    "        dest_start, source_start, size = [int(x) for x in line.split()]\n",
    "        next_mapping.append({\"source\": source_start, \"size\": size, \"dest\": dest_start})\n",
    "        \n",
    "# no empty line at the end\n",
    "next_mapping = sorted(next_mapping, key=lambda m: m[\"source\"])\n",
    "mappings.append(next_mapping)"
   ]
  },
  {
   "cell_type": "code",
   "execution_count": null,
   "metadata": {},
   "outputs": [],
   "source": [
    "def process(value_ranges: list) -> int:\n",
    "    \"\"\"Do the full process for problem 5\"\"\"\n",
    "\n",
    "    for mapping in mappings:\n",
    "        # print()\n",
    "        # print(value_ranges)\n",
    "        # pprint(mapping)\n",
    "        # print()\n",
    "\n",
    "        next_values = []\n",
    "\n",
    "        for v_range in value_ranges:\n",
    "            first_value, range_size = v_range\n",
    "\n",
    "            for range_def in mapping:\n",
    "\n",
    "                if range_def[\"source\"] <= first_value <= range_def[\"source\"] + range_def[\"size\"] - 1:\n",
    "                    delta = first_value - range_def[\"source\"]\n",
    "                    next_first_val = range_def[\"dest\"] + delta\n",
    "                    next_size = min(range_def[\"size\"] - delta, range_size)\n",
    "\n",
    "                    next_values.append((next_first_val, next_size))\n",
    "                    # print(f\"Values {first_value}->{next_first_val}+{next_size} due to mapping {range_def}.\")\n",
    "\n",
    "                    range_size -= next_size\n",
    "                    first_value += next_size\n",
    "\n",
    "                if range_size == 0:\n",
    "                    break\n",
    "\n",
    "            else:\n",
    "                next_values.append((first_value, range_size))\n",
    "                # print(f\"No mapping found for values {first_value}+{range_size}.\")\n",
    "\n",
    "        value_ranges = sorted(next_values, key=lambda x: x[0])\n",
    "\n",
    "    return value_ranges[0][0]"
   ]
  },
  {
   "cell_type": "markdown",
   "metadata": {},
   "source": [
    "### Part 1"
   ]
  },
  {
   "cell_type": "code",
   "execution_count": null,
   "metadata": {},
   "outputs": [],
   "source": [
    "puzzle.answer_a = process(sorted([(s, 1) for s in seeds], key=lambda x: x[0]))"
   ]
  },
  {
   "cell_type": "markdown",
   "metadata": {},
   "source": [
    "### Part 2"
   ]
  },
  {
   "cell_type": "code",
   "execution_count": null,
   "metadata": {},
   "outputs": [],
   "source": [
    "puzzle.answer_b = process(sorted(zip(seeds[0::2], seeds[1::2]), key=lambda x: x[0]))"
   ]
  },
  {
   "cell_type": "markdown",
   "metadata": {},
   "source": [
    "## Day 4\n",
    "\n",
    "_TBD_\n",
    "\n",
    "https://adventofcode.com/2023/day/4"
   ]
  },
  {
   "cell_type": "code",
   "execution_count": null,
   "metadata": {},
   "outputs": [],
   "source": [
    "puzzle = Puzzle(year=2023, day=4)\n",
    "input_data = \"\"\"Card 1: 41 48 83 86 17 | 83 86  6 31 17  9 48 53\n",
    "Card 2: 13 32 20 16 61 | 61 30 68 82 17 32 24 19\n",
    "Card 3:  1 21 53 59 44 | 69 82 63 72 16 21 14  1\n",
    "Card 4: 41 92 73 84 69 | 59 84 76 51 58  5 54 83\n",
    "Card 5: 87 83 26 28 32 | 88 30 70 12 93 22 82 36\n",
    "Card 6: 31 18 13 56 72 | 74 77 10 23 35 67 36 11\"\"\""
   ]
  },
  {
   "cell_type": "markdown",
   "metadata": {},
   "source": [
    "### Part 1"
   ]
  },
  {
   "cell_type": "code",
   "execution_count": null,
   "metadata": {},
   "outputs": [],
   "source": [
    "cards_info = {}\n",
    "\n",
    "total_score = 0\n",
    "for line in puzzle.input_data.splitlines():\n",
    "    card_id_str, card_content = line.split(\": \")\n",
    "    card_id = int(card_id_str[5:])\n",
    "    winning_nbs, my_nbs = card_content.split(\" | \")\n",
    "    winning_nbs = set([int(x.strip()) for x in winning_nbs.split()])\n",
    "    my_nbs = set([int(x.strip()) for x in my_nbs.split()])\n",
    "    cards_info[card_id] = len(winning_nbs.intersection(my_nbs))\n",
    "    total_score += math.floor(2 ** (cards_info[card_id]-1))\n",
    "\n",
    "puzzle.answer_a = total_score"
   ]
  },
  {
   "cell_type": "markdown",
   "metadata": {},
   "source": [
    "### Part 2"
   ]
  },
  {
   "cell_type": "code",
   "execution_count": null,
   "metadata": {},
   "outputs": [],
   "source": [
    "cards_info\n",
    "\n",
    "copies = defaultdict(int)\n",
    "for card_id, wins in cards_info.items():\n",
    "    copies[card_id] += 1\n",
    "    for x in range(wins):\n",
    "        copies[card_id + x + 1] += copies[card_id]\n",
    "        \n",
    "puzzle.answer_b = sum(copies.values())"
   ]
  },
  {
   "cell_type": "markdown",
   "metadata": {},
   "source": [
    "## Day 3\n",
    "\n",
    "_text positioning, regexp_\n",
    "\n",
    "https://adventofcode.com/2023/day/3"
   ]
  },
  {
   "cell_type": "code",
   "execution_count": null,
   "metadata": {},
   "outputs": [],
   "source": [
    "puzzle = Puzzle(year=2023, day=3)"
   ]
  },
  {
   "cell_type": "markdown",
   "metadata": {},
   "source": [
    "### Part 1"
   ]
  },
  {
   "cell_type": "code",
   "execution_count": null,
   "metadata": {},
   "outputs": [],
   "source": [
    "storage = []\n",
    "\n",
    "for idx, engine_row in enumerate(puzzle.input_data.splitlines()):\n",
    "    symbols = [x for x in engine_row.split(\".\") if x]\n",
    "\n",
    "    from_idx = -1\n",
    "    for s in symbols:\n",
    "        from_idx = engine_row.index(s, from_idx + 1)\n",
    "        number = bool(re.fullmatch(\"\\d+\", s))\n",
    "        if number:\n",
    "            storage.append([s, idx, from_idx, True])\n",
    "        elif len(s) == 1:\n",
    "            storage.append([s, idx, from_idx, False])\n",
    "\n",
    "        else:\n",
    "            # sometimes numbers and symbols can be consecutive (by looking at the input, not more than number-symbol-number)\n",
    "            number_symbol_number = re.fullmatch(\"(\\d+)(\\W)(\\d+)\", s)\n",
    "            symbol_number = bool(re.search(\"\\d+\", s))\n",
    "            number_symbol = bool(re.match(\"\\d+\", s))\n",
    "\n",
    "            if number_symbol_number is not None:\n",
    "                n1, symb, n2 = number_symbol_number.groups()\n",
    "                storage.append([n1, idx, from_idx, True])\n",
    "                storage.append([symb, idx, from_idx + len(n1), False])\n",
    "                storage.append([n2, idx, from_idx + len(n1) + 1, True])\n",
    "            elif number_symbol:\n",
    "                storage.append([s[:-1], idx, from_idx, True])\n",
    "                storage.append([s[-1], idx, from_idx + len(s) - 1, False])\n",
    "            elif symbol_number:\n",
    "                storage.append([s[0], idx, from_idx, False])\n",
    "                storage.append([s[1:], idx, from_idx + 1, True])\n",
    "\n",
    "            # there is no ELSE\n",
    "\n",
    "            storage.append([s, idx, from_idx, number])\n",
    "        from_idx += len(s)\n",
    "\n",
    "numbers = [x for x in storage if x[3]]\n",
    "symbols = [x for x in storage if not x[3]]"
   ]
  },
  {
   "cell_type": "code",
   "execution_count": null,
   "metadata": {},
   "outputs": [],
   "source": [
    "total = 0\n",
    "\n",
    "numbers_adjacency = []\n",
    "\n",
    "for number in numbers:\n",
    "    x = number[1]\n",
    "    y_min = number[2]\n",
    "    y_max = y_min + len(number[0]) - 1\n",
    "\n",
    "    adj_symbols = []\n",
    "    for symbol in symbols:\n",
    "        if x - 1 <= symbol[1] <= x + 1 and y_min - 1 <= symbol[2] <= y_max + 1:\n",
    "            adj_symbols.append(symbol)\n",
    "\n",
    "        # they are ordered\n",
    "        if symbol[1] > x + 1:\n",
    "            break\n",
    "\n",
    "    numbers_adjacency.append([number, adj_symbols])\n",
    "\n",
    "puzzle.answer_a = sum([int(numb[0][0]) for numb in numbers_adjacency if numb[1]])"
   ]
  },
  {
   "cell_type": "markdown",
   "metadata": {},
   "source": [
    "### Part 2"
   ]
  },
  {
   "cell_type": "code",
   "execution_count": null,
   "metadata": {},
   "outputs": [],
   "source": [
    "gears = []\n",
    "\n",
    "for symbol in symbols:\n",
    "    if symbol[0] != \"*\":\n",
    "        continue\n",
    "\n",
    "    x = symbol[1]\n",
    "    y = symbol[2]\n",
    "\n",
    "    adj_numbers = []\n",
    "    for number in numbers:\n",
    "        if x - 1 <= number[1] <= x + 1 and any([y - 1 <= number[2] + y_numb <= y + 1 for y_numb in range(len(number[0]))]):\n",
    "            adj_numbers.append(number)\n",
    "\n",
    "        # they are ordered\n",
    "        if number[1] > x + 1:\n",
    "            break\n",
    "\n",
    "    if len(adj_numbers) == 2:\n",
    "        gears.append(int(adj_numbers[0][0]) * int(adj_numbers[1][0]))\n",
    "\n",
    "puzzle.answer_b = sum(gears)"
   ]
  },
  {
   "cell_type": "markdown",
   "metadata": {},
   "source": [
    "## Day 2\n",
    "\n",
    "_defaultdict, min, max_\n",
    "\n",
    "https://adventofcode.com/2023/day/2"
   ]
  },
  {
   "cell_type": "code",
   "execution_count": null,
   "metadata": {},
   "outputs": [],
   "source": [
    "puzzle = Puzzle(year=2023, day=2)"
   ]
  },
  {
   "cell_type": "code",
   "execution_count": null,
   "metadata": {},
   "outputs": [],
   "source": [
    "games = defaultdict(list)\n",
    "for game in puzzle.input_data.splitlines():\n",
    "    game_id_str, info = game.split(\": \")\n",
    "    game_id = int(game_id_str[5:])\n",
    "\n",
    "\n",
    "    for look in info.split(\"; \"):\n",
    "\n",
    "        look_dict = {}\n",
    "        for color_look in look.split(\", \"):\n",
    "            value, color = color_look.split(\" \")\n",
    "            look_dict[color] = int(value)\n",
    "\n",
    "        games[game_id].append(look_dict)"
   ]
  },
  {
   "cell_type": "markdown",
   "metadata": {},
   "source": [
    "### Part 1"
   ]
  },
  {
   "cell_type": "code",
   "execution_count": null,
   "metadata": {},
   "outputs": [],
   "source": [
    "hypothesis = {\"red\": 12, \"green\": 13, \"blue\": 14}\n",
    "\n",
    "valid_games = []\n",
    "for game_idx, game_content in games.items():\n",
    "    valid_game = True\n",
    "    for game_look in game_content:\n",
    "        if not valid_game:\n",
    "            break\n",
    "        for color, value in game_look.items():\n",
    "            if value > hypothesis[color]:\n",
    "                valid_game = False\n",
    "                break\n",
    "    if valid_game:\n",
    "        valid_games.append(game_idx)\n",
    "\n",
    "puzzle.answer_a = sum(valid_games)"
   ]
  },
  {
   "cell_type": "markdown",
   "metadata": {},
   "source": [
    "### Part 2"
   ]
  },
  {
   "cell_type": "code",
   "execution_count": null,
   "metadata": {},
   "outputs": [],
   "source": [
    "total = 0\n",
    "\n",
    "for game_idx, game_content in games.items():\n",
    "    hypothesis = {\"red\": 0, \"green\": 0, \"blue\": 0}\n",
    "    for game_look in game_content:\n",
    "        for color, value in game_look.items():\n",
    "            if value > hypothesis[color]:\n",
    "                hypothesis[color] = value\n",
    "\n",
    "    total += functools.reduce(lambda x, y: x*y, hypothesis.values(), 1)\n",
    "\n",
    "puzzle.answer_b = total"
   ]
  },
  {
   "cell_type": "markdown",
   "metadata": {},
   "source": [
    "## Day 1\n",
    "\n",
    "_pandas, regexp_\n",
    "\n",
    "https://adventofcode.com/2023/day/1"
   ]
  },
  {
   "cell_type": "code",
   "execution_count": null,
   "metadata": {},
   "outputs": [],
   "source": [
    "puzzle = Puzzle(year=2023, day=1)"
   ]
  },
  {
   "cell_type": "markdown",
   "metadata": {},
   "source": [
    "\n",
    "\n",
    "### Part 1"
   ]
  },
  {
   "cell_type": "code",
   "execution_count": null,
   "metadata": {},
   "outputs": [],
   "source": [
    "calibration = pd.DataFrame(puzzle.input_data.splitlines())"
   ]
  },
  {
   "cell_type": "code",
   "execution_count": null,
   "metadata": {},
   "outputs": [],
   "source": [
    "def get_calib_value(text: str) -> int:\n",
    "    \"\"\"Return the calibration: the integer formed by concatenating first and last digit.\"\"\"\n",
    "\n",
    "    digits = re.findall(\"\\d\", text)\n",
    "    return int(f\"{digits[0]}{digits[-1]}\")\n",
    "\n",
    "puzzle.answer_a = str(calibration.apply(lambda row: get_calib_value(row[0]), axis=1).sum())"
   ]
  },
  {
   "cell_type": "markdown",
   "metadata": {},
   "source": [
    "### Part 2"
   ]
  },
  {
   "cell_type": "code",
   "execution_count": null,
   "metadata": {},
   "outputs": [],
   "source": [
    "def numbers_text_to_int(text: str) -> str:\n",
    "    \"\"\"Transform text written in letters into digits, text can be overlapping.\"\"\"\n",
    "\n",
    "    # text before and after to be able to reuse characters (overlapping strings)\n",
    "    replacements = [\n",
    "        (\"zero\", \"zero0zero\"),\n",
    "        (\"one\", \"one1one\"),\n",
    "        (\"two\", \"two2two\"),\n",
    "        (\"three\", \"three3three\"),\n",
    "        (\"four\", \"four4four\"),\n",
    "        (\"five\", \"five5five\"),\n",
    "        (\"six\", \"six6six\"),\n",
    "        (\"seven\", \"seven7seven\"),\n",
    "        (\"eight\", \"eight8eight\"),\n",
    "        (\"nine\", \"nine9nine\"),\n",
    "    ]\n",
    "\n",
    "    for rep_str, rep_int in replacements:\n",
    "        text = text.replace(rep_str, rep_int)\n",
    "\n",
    "    return text\n",
    "\n",
    "puzzle.answer_b = str(calibration.apply(lambda row: get_calib_value(numbers_text_to_int(row[0])), axis=1).sum())"
   ]
  }
 ],
 "metadata": {
  "language_info": {
   "name": "python",
   "pygments_lexer": "ipython3"
  }
 },
 "nbformat": 4,
 "nbformat_minor": 2
}
