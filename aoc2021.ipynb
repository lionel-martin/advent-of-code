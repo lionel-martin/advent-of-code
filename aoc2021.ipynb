{
 "cells": [
  {
   "cell_type": "markdown",
   "metadata": {},
   "source": [
    "# AOC 2021\n",
    "\n",
    "Welcome to the Advent of Code 2021 !"
   ]
  },
  {
   "cell_type": "markdown",
   "metadata": {},
   "source": [
    "## Basic configuration\n",
    "\n"
   ]
  },
  {
   "cell_type": "code",
   "execution_count": null,
   "metadata": {},
   "outputs": [],
   "source": [
    "! pip install -U advent-of-code-data numpy pandas"
   ]
  },
  {
   "cell_type": "code",
   "execution_count": null,
   "metadata": {},
   "outputs": [],
   "source": [
    "import os\n",
    "\n",
    "os.environ['AOC_SESSION'] = open('session.txt').read().strip()"
   ]
  },
  {
   "cell_type": "code",
   "execution_count": null,
   "metadata": {},
   "outputs": [],
   "source": [
    "from aocd.models import Puzzle\n",
    "from collections import Counter, defaultdict\n",
    "from itertools import chain, product\n",
    "from numpy.typing import ArrayLike\n",
    "from pprint import pprint\n",
    "from queue import PriorityQueue\n",
    "from statistics import median\n",
    "from typing import Callable, Dict, Iterator, Mapping, Tuple\n",
    "import math\n",
    "import numpy as np\n",
    "import pandas as pd\n",
    "import sys"
   ]
  },
  {
   "cell_type": "code",
   "execution_count": null,
   "metadata": {},
   "outputs": [],
   "source": [
    "def import_ints(input_data:str, as_nparray:bool=False) -> Iterator[int]:\n",
    "    \"\"\"Transform the input string into a list of integers.\"\"\"\n",
    "    if \"\\n\" in input_data:\n",
    "        if as_nparray:\n",
    "            return np.array([list(x) for x in input_data.splitlines()], dtype=int)\n",
    "        else:\n",
    "            return [int(x) for x in input_data.splitlines()]\n",
    "    \n",
    "    else:\n",
    "        return [int(x) for x in input_data.split(\",\")]"
   ]
  },
  {
   "cell_type": "markdown",
   "metadata": {},
   "source": [
    "## Day 24\n",
    "https://adventofcode.com/2021/day/24"
   ]
  },
  {
   "cell_type": "code",
   "execution_count": null,
   "metadata": {},
   "outputs": [],
   "source": [
    "puzzle = Puzzle(year=2021, day=24)"
   ]
  },
  {
   "cell_type": "markdown",
   "metadata": {},
   "source": [
    "### Part 1"
   ]
  },
  {
   "cell_type": "markdown",
   "metadata": {},
   "source": [
    "### Part 2"
   ]
  },
  {
   "cell_type": "markdown",
   "metadata": {},
   "source": [
    "## Day 23\n",
    "https://adventofcode.com/2021/day/23"
   ]
  },
  {
   "cell_type": "code",
   "execution_count": null,
   "metadata": {},
   "outputs": [],
   "source": [
    "puzzle = Puzzle(year=2021, day=23)"
   ]
  },
  {
   "cell_type": "markdown",
   "metadata": {},
   "source": [
    "### Part 1"
   ]
  },
  {
   "cell_type": "markdown",
   "metadata": {},
   "source": [
    "### Part 2"
   ]
  },
  {
   "cell_type": "markdown",
   "metadata": {},
   "source": [
    "## Day 22\n",
    "https://adventofcode.com/2021/day/22"
   ]
  },
  {
   "cell_type": "code",
   "execution_count": null,
   "metadata": {},
   "outputs": [],
   "source": [
    "puzzle = Puzzle(year=2021, day=22)"
   ]
  },
  {
   "cell_type": "markdown",
   "metadata": {},
   "source": [
    "### Part 1"
   ]
  },
  {
   "cell_type": "markdown",
   "metadata": {},
   "source": [
    "### Part 2"
   ]
  },
  {
   "cell_type": "markdown",
   "metadata": {},
   "source": [
    "## Day 21\n",
    "https://adventofcode.com/2021/day/21"
   ]
  },
  {
   "cell_type": "code",
   "execution_count": null,
   "metadata": {},
   "outputs": [],
   "source": [
    "puzzle = Puzzle(year=2021, day=21)"
   ]
  },
  {
   "cell_type": "markdown",
   "metadata": {},
   "source": [
    "### Part 1"
   ]
  },
  {
   "cell_type": "markdown",
   "metadata": {},
   "source": [
    "### Part 2"
   ]
  },
  {
   "cell_type": "markdown",
   "metadata": {},
   "source": [
    "## Day 20\n",
    "https://adventofcode.com/2021/day/20"
   ]
  },
  {
   "cell_type": "code",
   "execution_count": null,
   "metadata": {},
   "outputs": [],
   "source": [
    "puzzle = Puzzle(year=2021, day=20)"
   ]
  },
  {
   "cell_type": "markdown",
   "metadata": {},
   "source": [
    "### Part 1"
   ]
  },
  {
   "cell_type": "markdown",
   "metadata": {},
   "source": [
    "### Part 2"
   ]
  },
  {
   "cell_type": "markdown",
   "metadata": {},
   "source": [
    "## Day 19\n",
    "https://adventofcode.com/2021/day/19"
   ]
  },
  {
   "cell_type": "code",
   "execution_count": null,
   "metadata": {},
   "outputs": [],
   "source": [
    "puzzle = Puzzle(year=2021, day=19)"
   ]
  },
  {
   "cell_type": "markdown",
   "metadata": {},
   "source": [
    "### Part 1"
   ]
  },
  {
   "cell_type": "markdown",
   "metadata": {},
   "source": [
    "### Part 2"
   ]
  },
  {
   "cell_type": "markdown",
   "metadata": {},
   "source": [
    "## Day 18\n",
    "https://adventofcode.com/2021/day/18"
   ]
  },
  {
   "cell_type": "code",
   "execution_count": null,
   "metadata": {},
   "outputs": [],
   "source": [
    "puzzle = Puzzle(year=2021, day=18)"
   ]
  },
  {
   "cell_type": "markdown",
   "metadata": {},
   "source": [
    "### Part 1"
   ]
  },
  {
   "cell_type": "markdown",
   "metadata": {},
   "source": [
    "### Part 2"
   ]
  },
  {
   "cell_type": "markdown",
   "metadata": {},
   "source": [
    "## Day 17\n",
    "https://adventofcode.com/2021/day/17"
   ]
  },
  {
   "cell_type": "code",
   "execution_count": null,
   "metadata": {},
   "outputs": [],
   "source": [
    "puzzle = Puzzle(year=2021, day=17)"
   ]
  },
  {
   "cell_type": "markdown",
   "metadata": {},
   "source": [
    "### Part 1"
   ]
  },
  {
   "cell_type": "markdown",
   "metadata": {},
   "source": [
    "### Part 2"
   ]
  },
  {
   "cell_type": "markdown",
   "metadata": {},
   "source": [
    "## Day 16\n",
    "https://adventofcode.com/2021/day/16"
   ]
  },
  {
   "cell_type": "code",
   "execution_count": null,
   "metadata": {},
   "outputs": [],
   "source": [
    "puzzle = Puzzle(year=2021, day=16)"
   ]
  },
  {
   "cell_type": "markdown",
   "metadata": {},
   "source": [
    "### Part 1"
   ]
  },
  {
   "cell_type": "code",
   "execution_count": null,
   "metadata": {},
   "outputs": [],
   "source": [
    "def hex2bin(char: str) -> str:\n",
    "    \"\"\"Transform hexa value into binary value.\"\"\"\n",
    "    return bin(int(f\"0x{char}\", 16)).replace(\"b\", \"\").zfill(4)[-4:]\n",
    "\n",
    "bin_pointer = 0\n",
    "hexa_pointer = 0\n",
    "data = puzzle.input_data\n",
    "N = len(data)\n",
    "\n",
    "operations = []\n",
    "versions_total = 0\n",
    "\n",
    "while hexa_pointer < N:\n",
    "        hex2bin(data[hexa_pointer])\n"
   ]
  },
  {
   "cell_type": "markdown",
   "metadata": {},
   "source": [
    "### Part 2"
   ]
  },
  {
   "cell_type": "markdown",
   "metadata": {},
   "source": [
    "## Day 15\n",
    "https://adventofcode.com/2021/day/15"
   ]
  },
  {
   "cell_type": "code",
   "execution_count": null,
   "metadata": {},
   "outputs": [],
   "source": [
    "puzzle = Puzzle(year=2021, day=15)"
   ]
  },
  {
   "cell_type": "code",
   "execution_count": null,
   "metadata": {},
   "outputs": [],
   "source": [
    "class Vertex:\n",
    "    \n",
    "    # previous = None\n",
    "    visited = False\n",
    "    \n",
    "    def __init__(self, name, dist=sys.maxsize):\n",
    "        self.name = name\n",
    "        self.distance = dist\n",
    "        \n",
    "    def __repr__(self):\n",
    "        return f\"{self.name} (d: {self.distance})\"\n",
    "    \n",
    "    def __lt__(self, other):\n",
    "        return self.distance < other.distance"
   ]
  },
  {
   "cell_type": "markdown",
   "metadata": {},
   "source": [
    "### Part 1"
   ]
  },
  {
   "cell_type": "code",
   "execution_count": null,
   "metadata": {},
   "outputs": [],
   "source": [
    "cave = import_ints(puzzle.input_data, True)\n",
    "\n",
    "queued_nodes = []\n",
    "vertices = {}\n",
    "\n",
    "for i in range(N):\n",
    "    for j in range(M):\n",
    "        if i + j:\n",
    "            vertex = Vertex((i, j))\n",
    "        else:\n",
    "            vertex = Vertex((i, j), 0)\n",
    "            \n",
    "        queued_nodes.append(vertex)\n",
    "        vertices[(i, j)] = vertex"
   ]
  },
  {
   "cell_type": "code",
   "execution_count": null,
   "metadata": {},
   "outputs": [],
   "source": [
    "def insert(queue, index):\n",
    "    for i, elem in enumerate(queue.copy()):\n",
    "        if elem.distance > vertices[index].distance:\n",
    "            queue.insert(i, vertices[index])\n",
    "            return"
   ]
  },
  {
   "cell_type": "code",
   "execution_count": null,
   "metadata": {},
   "outputs": [],
   "source": [
    "def play(queued_nodes, vertices, cave):\n",
    "    N, M = cave.shape\n",
    "\n",
    "    while queued_nodes:\n",
    "\n",
    "        next_node = queued_nodes.pop(0)    \n",
    "        next_node.visited = True\n",
    "\n",
    "        if next_node.name == (N - 1, M - 1):\n",
    "            return next_node\n",
    "\n",
    "        for delta in [(-1, 0), (1, 0), (0, -1), (0, 1)]:\n",
    "            x = next_node.name[0] + delta[0]\n",
    "            y = next_node.name[1] + delta[1]\n",
    "\n",
    "            if 0 <= x < N and 0 <= y < M and not vertices[(x, y)].visited:\n",
    "                alt = next_node.distance + cave[x, y]            \n",
    "                if alt < vertices[(x, y)].distance:\n",
    "                    vertices[(x, y)].distance = alt\n",
    "                    insert(queued_nodes, (x, y))\n"
   ]
  },
  {
   "cell_type": "code",
   "execution_count": null,
   "metadata": {},
   "outputs": [],
   "source": [
    "target = play(queued_nodes, vertices, cave)\n",
    "puzzle.answer_a = target.distance"
   ]
  },
  {
   "cell_type": "markdown",
   "metadata": {},
   "source": [
    "### Part 2"
   ]
  },
  {
   "cell_type": "code",
   "execution_count": null,
   "metadata": {},
   "outputs": [],
   "source": [
    "big_cave = np.tile(cave, (5,5))\n",
    "N, M = big_cave.shape\n",
    "\n",
    "for i in range(N):\n",
    "    for j in range(M):\n",
    "        big_cave[i][j] += i // 100 + j // 100\n",
    "        big_cave[i][j] -= 9 if big_cave[i][j] > 9 else 0\n",
    "\n",
    "queued_nodes = []\n",
    "vertices = {}\n",
    "\n",
    "for i in range(N):\n",
    "    for j in range(M):\n",
    "        if i + j:\n",
    "            vertex = Vertex((i, j))\n",
    "        else:\n",
    "            vertex = Vertex((i, j), 0)\n",
    "            \n",
    "        queued_nodes.append(vertex)\n",
    "        vertices[(i, j)] = vertex"
   ]
  },
  {
   "cell_type": "code",
   "execution_count": null,
   "metadata": {},
   "outputs": [],
   "source": [
    "target = play(queued_nodes, vertices, big_cave)\n",
    "puzzle.answer_b = target.distance"
   ]
  },
  {
   "cell_type": "code",
   "execution_count": null,
   "metadata": {},
   "outputs": [],
   "source": [
    "big_cave = np.tile(cave, (5,5))\n",
    "N, M = big_cave.shape\n",
    "\n",
    "for i in range(N):\n",
    "    for j in range(M):\n",
    "        big_cave[i][j] += i // 100 + j // 100\n",
    "        big_cave[i][j] -= 9 if big_cave[i][j] > 9 else 0\n",
    "\n",
    "N, M = big_cave.shape\n",
    "\n",
    "scores = np.zeros(big_cave.shape)\n",
    "scores[N-1, M-1] = big_cave[N-1, M-1]\n",
    "\n",
    "changed = True\n",
    "\n",
    "while changed:\n",
    "    changed = False\n",
    "    \n",
    "    for i in range(N):\n",
    "        for j in range(M):\n",
    "            if scores[i, j]:\n",
    "                \n",
    "                if i > 0 and (scores[i-1, j] == 0 or scores[i-1, j] > scores[i, j] + big_cave[i-1, j]):\n",
    "                    changed = True\n",
    "                    scores[i-1, j] = scores[i, j] + big_cave[i-1, j]\n",
    "                    \n",
    "                if j > 0 and (scores[i, j-1] == 0 or scores[i, j-1] > scores[i, j] + big_cave[i, j-1]):\n",
    "                    changed = True\n",
    "                    scores[i, j-1] = scores[i, j] + big_cave[i, j-1]\n",
    "                 \n",
    "                if i< N-1 and (scores[i+1, j] == 0 or scores[i+1, j] > scores[i, j] + big_cave[i+1, j]):\n",
    "                    changed = True\n",
    "                    scores[i+1, j] = scores[i, j] + big_cave[i+1, j]\n",
    "                 \n",
    "                if j < M-1 and (scores[i, j+1] == 0 or scores[i, j+1] > scores[i, j] + big_cave[i, j+1]):\n",
    "                    changed = True\n",
    "                    scores[i, j+1] = scores[i, j] + big_cave[i, j+1]"
   ]
  },
  {
   "cell_type": "markdown",
   "metadata": {},
   "source": [
    "## Day 14\n",
    "https://adventofcode.com/2021/day/14"
   ]
  },
  {
   "cell_type": "code",
   "execution_count": null,
   "metadata": {},
   "outputs": [],
   "source": [
    "puzzle = Puzzle(year=2021, day=14)\n",
    "\n",
    "mode = 1\n",
    "additions = defaultdict(str)\n",
    "text = Counter()\n",
    "\n",
    "data = puzzle.input_data\n",
    "\n",
    "for line in data.splitlines():\n",
    "    if not line:\n",
    "        mode = 2\n",
    "        \n",
    "    elif mode == 1:\n",
    "        initial_text = Counter(zip(line[:-1], line[1:]))\n",
    "        \n",
    "    else:\n",
    "        spot, add = line.split(\" -> \")\n",
    "        additions[(spot[0], spot[1])] = add"
   ]
  },
  {
   "cell_type": "code",
   "execution_count": null,
   "metadata": {},
   "outputs": [],
   "source": [
    "def process(initial_text, steps):\n",
    "    text = initial_text\n",
    "    \n",
    "    for i in range(steps):\n",
    "        new_text = Counter()\n",
    "\n",
    "        for couple, value in text.most_common():\n",
    "            additional_letter = additions[couple]\n",
    "            new_text += {(couple[0], additional_letter) : value}\n",
    "            new_text += {(additional_letter, couple[1]) : value}\n",
    "\n",
    "        text = new_text\n",
    "        \n",
    "    return text\n",
    "\n",
    "\n",
    "def count(text):\n",
    "    letter_count = defaultdict(int)\n",
    "    \n",
    "    for couple, value in text.most_common():\n",
    "        letter_count[couple[0]] += value / 2\n",
    "        letter_count[couple[1]] += value / 2\n",
    "    \n",
    "    letter_count = sorted(letter_count.items(), key=lambda item: -item[1])\n",
    "    return math.ceil(letter_count[0][1]) - math.ceil(letter_count[-1][1])"
   ]
  },
  {
   "cell_type": "markdown",
   "metadata": {},
   "source": [
    "\n",
    "### Part 1"
   ]
  },
  {
   "cell_type": "code",
   "execution_count": null,
   "metadata": {},
   "outputs": [],
   "source": [
    "text = process(initial_text, 10)\n",
    "\n",
    "puzzle.answer_a = count(text)"
   ]
  },
  {
   "cell_type": "markdown",
   "metadata": {},
   "source": [
    "### Part 2"
   ]
  },
  {
   "cell_type": "code",
   "execution_count": null,
   "metadata": {},
   "outputs": [],
   "source": [
    "text = process(initial_text, 40)\n",
    "\n",
    "puzzle.answer_b = count(text)"
   ]
  },
  {
   "cell_type": "markdown",
   "metadata": {},
   "source": [
    "## Day 13\n",
    "https://adventofcode.com/2021/day/13"
   ]
  },
  {
   "cell_type": "code",
   "execution_count": null,
   "metadata": {},
   "outputs": [],
   "source": [
    "puzzle = Puzzle(year=2021, day=13)"
   ]
  },
  {
   "cell_type": "code",
   "execution_count": null,
   "metadata": {},
   "outputs": [],
   "source": [
    "grid, instruct = [], []\n",
    "mode = 1\n",
    "\n",
    "data = puzzle.input_data\n",
    "\n",
    "for line in data.splitlines():\n",
    "    if line:\n",
    "        if mode == 1:\n",
    "            grid.append([int(x) for x in line.split(\",\")])\n",
    "        else:\n",
    "            instruct.append(line.split(\"=\"))\n",
    "    else:\n",
    "        mode = 2\n",
    "        \n",
    "N, M = 0, 0  # N: nb cols, M: nb rows\n",
    "for coords in grid:\n",
    "    if coords[0] > N:\n",
    "        N = coords[0]\n",
    "    if coords[1] > M:\n",
    "        M = coords[1]\n",
    "        \n",
    "pattern = np.zeros((M + 1, N + 1), dtype=bool)\n",
    "\n",
    "for coords in grid:\n",
    "    pattern[coords[1], coords[0]] = True"
   ]
  },
  {
   "cell_type": "code",
   "execution_count": null,
   "metadata": {},
   "outputs": [],
   "source": [
    "def fold(array, instruction):\n",
    "    \"\"\"\"\"\"    \n",
    "    pivot_index = int(instruction[1])\n",
    "    \n",
    "    if \"x\" in instruction[0]:\n",
    "        new_array = array[:, :pivot_index] | np.fliplr(array[:, -pivot_index:])\n",
    "    else:\n",
    "        new_array = array[:pivot_index, :] | np.flipud(array[-pivot_index:, :])\n",
    "    \n",
    "    return new_array"
   ]
  },
  {
   "cell_type": "markdown",
   "metadata": {},
   "source": [
    "### Part 1"
   ]
  },
  {
   "cell_type": "code",
   "execution_count": null,
   "metadata": {},
   "outputs": [],
   "source": [
    "new_array = fold(pattern, instruct[0])\n",
    "\n",
    "puzzle.answer_a = len(np.where(new_array==True)[0])"
   ]
  },
  {
   "cell_type": "markdown",
   "metadata": {},
   "source": [
    "### Part 2"
   ]
  },
  {
   "cell_type": "code",
   "execution_count": null,
   "metadata": {},
   "outputs": [],
   "source": [
    "array = pattern\n",
    "\n",
    "for instruction in instruct:\n",
    "    array = fold(array, instruction)\n",
    "\n",
    "sol = np.zeros(array.shape, dtype=str)\n",
    "\n",
    "sol[array==True] = \"é\"\n",
    "sol[array==False] = \" \"\n",
    "\n",
    "for l in sol.tolist():\n",
    "    print(\"\".join(l))"
   ]
  },
  {
   "cell_type": "markdown",
   "metadata": {},
   "source": [
    "## Day 12\n",
    "https://adventofcode.com/2021/day/12"
   ]
  },
  {
   "cell_type": "code",
   "execution_count": null,
   "metadata": {},
   "outputs": [],
   "source": [
    "puzzle = Puzzle(year=2021, day=12)"
   ]
  },
  {
   "cell_type": "code",
   "execution_count": null,
   "metadata": {},
   "outputs": [],
   "source": [
    "movements = defaultdict(list)\n",
    "\n",
    "for line in puzzle.input_data.splitlines():\n",
    "    source, dest = line.split(\"-\")\n",
    "    movements[source].append(dest)\n",
    "    movements[dest].append(source)"
   ]
  },
  {
   "cell_type": "markdown",
   "metadata": {},
   "source": [
    "### Part 1"
   ]
  },
  {
   "cell_type": "code",
   "execution_count": null,
   "metadata": {},
   "outputs": [],
   "source": [
    "queue = [[\"start\"]]\n",
    "paths = set()\n",
    "\n",
    "# DFS ftw\n",
    "while queue:\n",
    "    path = queue.pop(0)\n",
    "    \n",
    "    for next_node in movements[path[-1]]:\n",
    "        cand_path = path + [next_node]\n",
    "\n",
    "        if next_node == \"end\":\n",
    "            paths |= {tuple(cand_path)}\n",
    "                \n",
    "        elif next_node.isupper() or next_node not in path:\n",
    "            queue.append(cand_path)\n",
    "        \n",
    "puzzle.answer_a = len(paths)"
   ]
  },
  {
   "cell_type": "markdown",
   "metadata": {},
   "source": [
    "### Part 2"
   ]
  },
  {
   "cell_type": "code",
   "execution_count": null,
   "metadata": {},
   "outputs": [],
   "source": [
    "queue = [[\"start\"]]\n",
    "paths = set()\n",
    "\n",
    "while queue:\n",
    "    path = queue.pop(0)\n",
    "    \n",
    "    for next_node in movements[path[-1]]:\n",
    "        cand_path = path + [next_node]\n",
    "\n",
    "        if next_node == \"end\":\n",
    "            paths |= {tuple(cand_path)}\n",
    "        \n",
    "        elif next_node.isupper() or next_node not in path:\n",
    "            queue.append(cand_path)\n",
    "            \n",
    "        # Exactly one lower_case twice if a lower case is already in path but all lower_case in paths are unique so far\n",
    "        elif next_node != \"start\":  # forbidden to go back to start\n",
    "            lower_caves = [p for p in path if p.islower()]\n",
    "            if len(lower_caves) == len({*lower_caves}):\n",
    "                queue.append(cand_path)\n",
    "        \n",
    "puzzle.answer_b = len(paths)"
   ]
  },
  {
   "cell_type": "markdown",
   "metadata": {},
   "source": [
    "## Day 11\n",
    "https://adventofcode.com/2021/day/11"
   ]
  },
  {
   "cell_type": "code",
   "execution_count": null,
   "metadata": {},
   "outputs": [],
   "source": [
    "puzzle = Puzzle(year=2021, day=11)"
   ]
  },
  {
   "cell_type": "code",
   "execution_count": null,
   "metadata": {},
   "outputs": [],
   "source": [
    "def neighboring_indices(position: Tuple[int, int], bounds: Tuple[int, int]=(10, 10)) -> Iterator[Tuple[int, int]]:\n",
    "    \"\"\"Get valid neighboring positions of a given position (including diagonals).\"\"\"\n",
    "    \n",
    "    neighbors = []\n",
    "    \n",
    "    for delta in product(range(-1, 2), range(-1, 2)):\n",
    "        \n",
    "        if (delta[0] or delta[1]):\n",
    "            pot_x = position[0] + delta[0]\n",
    "            pot_y = position[1] + delta[1]\n",
    "            \n",
    "            if 0 <= pot_x < bounds[0] and 0 <= pot_y < bounds[1]:\n",
    "                neighbors.append((pot_x, pot_y))\n",
    "    \n",
    "    return neighbors\n",
    "\n",
    "\n",
    "def squids_step(squids: ArrayLike) -> Tuple[ArrayLike, int]:\n",
    "    \"\"\"One step of the squid process.\"\"\"\n",
    "    \n",
    "    col_indices, row_indices = [], []    \n",
    "    flash_in_progress = True\n",
    "    \n",
    "    squids += 1\n",
    "    \n",
    "    while flash_in_progress:\n",
    "        # identify flashes\n",
    "        cols, rows = np.where(squids > 9)\n",
    "        squids[cols, rows] = 0\n",
    "        \n",
    "        col_indices += cols.tolist()\n",
    "        row_indices += rows.tolist()\n",
    "        \n",
    "        flash_in_progress = bool(len(cols))\n",
    "\n",
    "        if flash_in_progress:\n",
    "            # find neighbors of flashed spots (one squid might be the neighbor of several flashing squids)\n",
    "            neighbors = Counter(chain(*[neighboring_indices((c, r)) for (c, r) in zip(cols, rows)]))\n",
    "            couples, values = zip(*neighbors.items())\n",
    "\n",
    "            squids[tuple(zip(*couples))] += np.array(values)\n",
    "\n",
    "    # set all flashing squids to 0 (not possible to flash twice during the process by construction)\n",
    "    squids[col_indices, row_indices] = 0\n",
    "    flashes = len(col_indices)\n",
    "\n",
    "    return squids, flashes"
   ]
  },
  {
   "cell_type": "markdown",
   "metadata": {},
   "source": [
    "### Part 1"
   ]
  },
  {
   "cell_type": "code",
   "execution_count": null,
   "metadata": {},
   "outputs": [],
   "source": [
    "squids = import_ints(puzzle.input_data, True)\n",
    "\n",
    "total_flashes = 0\n",
    "for step in range(100):\n",
    "    squids, flashes = squids_step(squids)\n",
    "    \n",
    "    total_flashes += flashes\n",
    "\n",
    "puzzle.answer_a = total_flashes"
   ]
  },
  {
   "cell_type": "markdown",
   "metadata": {},
   "source": [
    "### Part 2"
   ]
  },
  {
   "cell_type": "code",
   "execution_count": null,
   "metadata": {},
   "outputs": [],
   "source": [
    "squids = import_ints(puzzle.input_data, True)\n",
    "\n",
    "step = 0\n",
    "while True:\n",
    "    squids, flashes = squids_step(squids)\n",
    "    step += 1\n",
    "    \n",
    "    if flashes == 100:\n",
    "        break\n",
    "\n",
    "puzzle.answer_b = step"
   ]
  },
  {
   "cell_type": "markdown",
   "metadata": {},
   "source": [
    "## Day 10\n",
    "https://adventofcode.com/2021/day/10"
   ]
  },
  {
   "cell_type": "code",
   "execution_count": null,
   "metadata": {},
   "outputs": [],
   "source": [
    "puzzle = Puzzle(year=2021, day=10)\n",
    "\n",
    "illegal_chars = defaultdict(int)\n",
    "incomplete_lines = []\n",
    "    \n",
    "ILLEGAL_SCORING = {\n",
    "    \")\": 3,\n",
    "    \"]\": 57,\n",
    "    \"}\": 1197,\n",
    "    \">\": 25137,\n",
    "}\n",
    "\n",
    "\n",
    "for line in puzzle.input_data.splitlines():\n",
    "    stack = []\n",
    "    for last_char in line:\n",
    "        if last_char in [\"{\", \"[\", \"(\", \"<\"]:\n",
    "            stack.append(last_char)\n",
    "            \n",
    "        else:\n",
    "            top_stack = stack.pop()\n",
    "            \n",
    "            if not ((last_char == \"]\" and top_stack == \"[\") or (last_char == \")\" and top_stack == \"(\") or (last_char == \">\" and top_stack == \"<\") or (last_char == \"}\" and top_stack == \"{\")):\n",
    "                illegal_chars[last_char] += 1\n",
    "                break\n",
    "    else:\n",
    "        incomplete_lines.append(stack)"
   ]
  },
  {
   "cell_type": "markdown",
   "metadata": {},
   "source": [
    "### Part 1"
   ]
  },
  {
   "cell_type": "code",
   "execution_count": null,
   "metadata": {},
   "outputs": [],
   "source": [
    "puzzle.answer_a = sum([illegal_chars[key] * val for key, val in ILLEGAL_SCORING.items()])"
   ]
  },
  {
   "cell_type": "markdown",
   "metadata": {},
   "source": [
    "### Part 2"
   ]
  },
  {
   "cell_type": "code",
   "execution_count": null,
   "metadata": {},
   "outputs": [],
   "source": [
    "INCOMPLETE_SCORING = {\n",
    "    \"(\": 1,\n",
    "    \"[\": 2,\n",
    "    \"{\": 3,\n",
    "    \"<\": 4,\n",
    "}\n",
    "\n",
    "incomplete_scores = []\n",
    "for stack in incomplete_lines:\n",
    "    score = sum([INCOMPLETE_SCORING[char] * math.pow(5, index) for index, char in enumerate(stack)])\n",
    "        \n",
    "    incomplete_scores.append(int(score))\n",
    "        \n",
    "puzzle.answer_b = median(incomplete_scores)"
   ]
  },
  {
   "cell_type": "markdown",
   "metadata": {},
   "source": [
    "## Day 9\n",
    "https://adventofcode.com/2021/day/9"
   ]
  },
  {
   "cell_type": "code",
   "execution_count": null,
   "metadata": {},
   "outputs": [],
   "source": [
    "puzzle = Puzzle(year=2021, day=9)\n",
    "heights = import_ints(puzzle.input_data, True)\n",
    "N, M = heights.shape"
   ]
  },
  {
   "cell_type": "markdown",
   "metadata": {},
   "source": [
    "## Part 1"
   ]
  },
  {
   "cell_type": "code",
   "execution_count": null,
   "metadata": {},
   "outputs": [],
   "source": [
    "risk = 0\n",
    "\n",
    "for i in range(N):  # row_id\n",
    "    for j in range(M):  # col_id\n",
    "        \n",
    "        local_minimum = True\n",
    "        try:\n",
    "            if heights[i, j] >= heights[(i - 1) % (N + 1), j]:\n",
    "                local_minimum = False    \n",
    "        except IndexError:\n",
    "            pass\n",
    "                \n",
    "        try:\n",
    "            if heights[i, j] >= heights[i, (j - 1) % (N + 1)]:\n",
    "                local_minimum = False    \n",
    "        except IndexError:\n",
    "            pass\n",
    "            \n",
    "        try:\n",
    "            if heights[i, j] >= heights[i + 1, j]:\n",
    "                local_minimum = False    \n",
    "        except IndexError:\n",
    "            pass\n",
    "            \n",
    "        try:\n",
    "            if heights[i, j] >= heights[i, j + 1]:\n",
    "                local_minimum = False    \n",
    "        except IndexError:\n",
    "            pass\n",
    "    \n",
    "        if local_minimum:\n",
    "            risk += heights[i, j] + 1\n",
    "            \n",
    "puzzle.answer_a = risk"
   ]
  },
  {
   "cell_type": "markdown",
   "metadata": {},
   "source": [
    "### Part 2"
   ]
  },
  {
   "cell_type": "code",
   "execution_count": null,
   "metadata": {},
   "outputs": [],
   "source": [
    "bassin_ids = np.zeros((N,M))\n",
    "largest_id = 0\n",
    "\n",
    "for i in range(N):  # row_id\n",
    "    for j in range(M):  # col_id\n",
    "        \n",
    "        left_id, top_id = 0, 0\n",
    "        \n",
    "        # 9's do not belong to any bassin\n",
    "        if heights[i, j] == 9:\n",
    "            continue\n",
    "        \n",
    "        try:\n",
    "            top_id = bassin_ids[(i - 1) % (N + 1), j]\n",
    "        except IndexError:\n",
    "            pass\n",
    "        \n",
    "        try:\n",
    "            left_id = bassin_ids[i, (j - 1) % (N + 1)]\n",
    "        except IndexError:\n",
    "            pass\n",
    "        \n",
    "        # if top or left neighbor already in a bassin, local value is in the same\n",
    "        # however, if they both belong to two bassins we must merge them\n",
    "        if top_id and left_id:\n",
    "            min_val, max_val = sorted([top_id, left_id])\n",
    "            \n",
    "            bassin_ids[i, j] = min_val\n",
    "            bassin_ids[bassin_ids == max_val] = min_val\n",
    "                \n",
    "        elif top_id or left_id:\n",
    "            bassin_ids[i, j] = top_id or left_id\n",
    "        \n",
    "        # otherwise, create a new bassin (might be merged later)\n",
    "        else:\n",
    "            largest_id += 1\n",
    "            bassin_ids[i, j] = largest_id\n",
    "                        \n",
    "bassin_sizes = Counter(bassin_ids.flatten().tolist())\n",
    "del bassin_sizes[0]  # 9's are stored in bassin_id 0\n",
    "\n",
    "puzzle.answer_b = math.prod([x[1] for x in bassin_sizes.most_common(3)])"
   ]
  },
  {
   "cell_type": "markdown",
   "metadata": {},
   "source": [
    "## Day 8\n",
    "https://adventofcode.com/2021/day/8\n"
   ]
  },
  {
   "cell_type": "code",
   "execution_count": null,
   "metadata": {},
   "outputs": [],
   "source": [
    "puzzle = Puzzle(year=2021, day=8)"
   ]
  },
  {
   "cell_type": "markdown",
   "metadata": {},
   "source": [
    "## Part 1"
   ]
  },
  {
   "cell_type": "code",
   "execution_count": null,
   "metadata": {},
   "outputs": [],
   "source": [
    "digits = Counter()\n",
    "\n",
    "for line in puzzle.input_data.splitlines():\n",
    "    _, outputs = line.split(\" | \")\n",
    "    digits.update([len(x) for x in outputs.split()])\n",
    "    \n",
    "puzzle.answer_a = sum([x[1] for x in filter(lambda x: x[0] in [2,3, 4, 7], digits.items())])"
   ]
  },
  {
   "cell_type": "markdown",
   "metadata": {},
   "source": [
    "### Part2"
   ]
  },
  {
   "cell_type": "code",
   "execution_count": null,
   "metadata": {},
   "outputs": [],
   "source": [
    "def determine(inputs: Iterator[str]) -> Dict[int, set]:\n",
    "    \"\"\"Map list of active segments to displayed digits.\"\"\"\n",
    "\n",
    "    inputs = sorted(inputs, key=len)\n",
    "\n",
    "    segment_mapping = {}  # digit : list of segments\n",
    "\n",
    "    for segments in inputs:\n",
    "        segments = \"\".join(sorted(segments))\n",
    "        nb_segments = len(segments)\n",
    "        segments_as_set = set(segments)\n",
    "\n",
    "        if nb_segments == 2:\n",
    "            segment_mapping[1] = segments\n",
    "\n",
    "        elif nb_segments == 3:\n",
    "            segment_mapping[7] = segments\n",
    "\n",
    "        elif nb_segments == 4:\n",
    "            segment_mapping[4] = segments\n",
    "\n",
    "        elif nb_segments == 5:\n",
    "            correspond4 = segments_as_set & set(segment_mapping[4])\n",
    "            correspond1 = segments_as_set & set(segment_mapping[1])\n",
    "\n",
    "            # If it has 2 segments identical to digit 4, it must be digit 2\n",
    "            if len(correspond4) == 2:\n",
    "                segment_mapping[2] = segments\n",
    "\n",
    "            # If it has 2 segments identical to digit 1, it must be digit 3\n",
    "            elif len(correspond1) == 2:\n",
    "                segment_mapping[3] = segments\n",
    "\n",
    "            # Otherwise it is digit 5\n",
    "            else:\n",
    "                segment_mapping[5] = segments\n",
    "\n",
    "        elif nb_segments == 6:\n",
    "            missing_seg = next(iter(set(list(\"abcdefg\")) - segments_as_set))\n",
    "\n",
    "            # If the missing segment is in digit 1, it must be digit 6 (top left segment)\n",
    "            if missing_seg in segment_mapping[1]:\n",
    "                segment_mapping[6] = segments\n",
    "\n",
    "            # If the missing segment is in digit 5, it must be digit 0 (middle segment)\n",
    "            elif missing_seg in segment_mapping[5]:\n",
    "                segment_mapping[0] = segments\n",
    "\n",
    "            # Otherwise it is digit 9\n",
    "            else:\n",
    "                segment_mapping[9] = segments\n",
    "\n",
    "        elif nb_segments == 7:\n",
    "            segment_mapping[8] = segments\n",
    "\n",
    "    return segment_mapping"
   ]
  },
  {
   "cell_type": "code",
   "execution_count": null,
   "metadata": {},
   "outputs": [],
   "source": [
    "total = 0\n",
    "\n",
    "for line in puzzle.input_data.splitlines():\n",
    "    inputs, outputs = line.split(\" | \")\n",
    "    segment_mapping = determine(inputs.split())\n",
    "    \n",
    "    reverse_map = {v: k for k, v in segment_mapping.items()}\n",
    "    \n",
    "    string = \"\"\n",
    "    for output in outputs.split():\n",
    "        string += str(reverse_map[\"\".join(sorted(output))])\n",
    "\n",
    "    total += int(string)\n",
    "    \n",
    "puzzle.answer_b = total"
   ]
  },
  {
   "cell_type": "markdown",
   "metadata": {},
   "source": [
    "### For fun"
   ]
  },
  {
   "cell_type": "code",
   "execution_count": null,
   "metadata": {},
   "outputs": [],
   "source": [
    "# NO NO NO. Don't determine which segment is called how... Even though, this can be done too actually !\n",
    "\n",
    "def determine_segments(inputs: Iterator[str]) -> Dict[str, str]:\n",
    "    \"\"\"Map active segments one by one.\"\"\"\n",
    "    \n",
    "    inputs = sorted(inputs, key=len)\n",
    "    \n",
    "    digit_mapping = {}  # digit : list of segments\n",
    "    b_and_d = None  # segments B and D are special, we need two checks to split them\n",
    "    c_and_f = None  # segments C and F are special, we need two checks to split them\n",
    "        \n",
    "    segment_mapping = {}  # official name of segment : name of segment in this input\n",
    "\n",
    "    for segments in inputs:\n",
    "        segments = \"\".join(sorted(segments))\n",
    "        nb_segments = len(segments)\n",
    "        segments_as_set = set(segments)\n",
    "        \n",
    "        if nb_segments == 2:\n",
    "            digit_mapping[1] = segments_as_set\n",
    "            c_and_f = segments_as_set\n",
    "            \n",
    "        elif nb_segments == 3:\n",
    "            digit_mapping[7] = segments_as_set\n",
    "            segment_mapping[\"A\"] = next(iter(segments_as_set - digit_mapping[1]))\n",
    "            \n",
    "        elif nb_segments == 4:\n",
    "            digit_mapping[4] = segments_as_set\n",
    "            b_and_d = segments_as_set - digit_mapping[1]\n",
    "            \n",
    "        elif nb_segments == 5:\n",
    "            correspond4 = segments_as_set & digit_mapping[4]\n",
    "            correspond1 = segments_as_set & digit_mapping[1]\n",
    "                \n",
    "            # If it has 2 segments identical to digit 4, it must be digit 2\n",
    "            if len(correspond4) == 2:\n",
    "                digit_mapping[2] = segments_as_set\n",
    "            \n",
    "            # If it has 2 segments identical to digit 1, it must be digit 3\n",
    "            elif len(correspond1) == 2:\n",
    "                digit_mapping[3] = segments_as_set\n",
    "                segment_mapping[\"G\"] = next(iter(segments_as_set - digit_mapping[4] - digit_mapping[7]))\n",
    "            \n",
    "            # Otherwise it is digit 5\n",
    "            else:\n",
    "                digit_mapping[5] = segments_as_set\n",
    "                segment_mapping[\"F\"] = next(iter(segments_as_set &  digit_mapping[1]))\n",
    "                segment_mapping[\"C\"] = next(iter(c_and_f - set(segment_mapping[\"F\"])))\n",
    "                \n",
    "        elif nb_segments == 6:\n",
    "            missing_seg = next(iter(set(list(\"abcdefg\")) - segments_as_set))\n",
    "            \n",
    "            # If the missing segment is in digit 1, it must be digit 6 (top left segment)\n",
    "            if missing_seg in digit_mapping[1]:\n",
    "                digit_mapping[6] = segments_as_set\n",
    "            \n",
    "            # If the missing segment is in digit 5, it must be digit 0 (middle segment)\n",
    "            elif missing_seg in digit_mapping[5]:\n",
    "                digit_mapping[0] = segments_as_set\n",
    "                segment_mapping[\"D\"] = missing_seg\n",
    "                segment_mapping[\"B\"] = next(iter(b_and_d - set(missing_seg)))\n",
    "            \n",
    "            # Otherwise it is digit 9\n",
    "            else:\n",
    "                digit_mapping[9] = segments_as_set\n",
    "                segment_mapping[\"E\"] = missing_seg\n",
    "\n",
    "        elif nb_segments == 7:\n",
    "            digit_mapping[8] = segments\n",
    "            \n",
    "    return segment_mapping"
   ]
  },
  {
   "cell_type": "code",
   "execution_count": null,
   "metadata": {},
   "outputs": [],
   "source": [
    "for line in puzzle.input_data.splitlines():\n",
    "    inputs, outputs = line.split(\" | \")\n",
    "    segment_mapping = determine_segments(inputs.split())\n",
    "    \n",
    "    pprint(segment_mapping)"
   ]
  },
  {
   "cell_type": "markdown",
   "metadata": {},
   "source": [
    "## Day 7\n",
    "https://adventofcode.com/2021/day/7"
   ]
  },
  {
   "cell_type": "code",
   "execution_count": null,
   "metadata": {},
   "outputs": [],
   "source": [
    "puzzle = Puzzle(year=2021, day=7)\n",
    "\n",
    "crabs = Counter(import_ints(puzzle.input_data))"
   ]
  },
  {
   "cell_type": "markdown",
   "metadata": {},
   "source": [
    "### Part 1"
   ]
  },
  {
   "cell_type": "code",
   "execution_count": null,
   "metadata": {},
   "outputs": [],
   "source": [
    "def count_movements(crabs: Counter, quadratic_count: bool=False) -> Dict[int, int]:\n",
    "    \"\"\"Count the quantity of movements required to align the crabs.\"\"\"\n",
    "    \n",
    "    scores = defaultdict(int)\n",
    "    min_x, max_x = min(crabs.keys()), max(crabs.keys())\n",
    "    \n",
    "    for x_val in range(min_x, max_x + 1):\n",
    "        for k, v in crabs.items():\n",
    "            if quadratic_count:\n",
    "                movement = abs(k - x_val)\n",
    "                scores[x_val] += v * movement * (movement + 1) // 2\n",
    "\n",
    "            else:\n",
    "                scores[x_val] += v * abs(k - x_val)\n",
    "                \n",
    "    return scores"
   ]
  },
  {
   "cell_type": "code",
   "execution_count": null,
   "metadata": {},
   "outputs": [],
   "source": [
    "scores = count_movements(crabs)\n",
    "puzzle.answer_a = min(scores.values())"
   ]
  },
  {
   "cell_type": "markdown",
   "metadata": {},
   "source": [
    "### Part 2"
   ]
  },
  {
   "cell_type": "code",
   "execution_count": null,
   "metadata": {},
   "outputs": [],
   "source": [
    "scores = count_movements(crabs, quadratic_count=True)\n",
    "puzzle.answer_b = min(scores.values())"
   ]
  },
  {
   "cell_type": "markdown",
   "metadata": {},
   "source": [
    "## Day 6\n",
    "https://adventofcode.com/2021/day/6"
   ]
  },
  {
   "cell_type": "code",
   "execution_count": null,
   "metadata": {},
   "outputs": [],
   "source": [
    "puzzle = Puzzle(year=2021, day=6)"
   ]
  },
  {
   "cell_type": "markdown",
   "metadata": {},
   "source": [
    "### Part 1"
   ]
  },
  {
   "cell_type": "code",
   "execution_count": null,
   "metadata": {},
   "outputs": [],
   "source": [
    "def reproduce(lanternfishes: Counter, steps: int) -> Counter:\n",
    "    \"\"\"Execute the reproduction process described in Day 6.\"\"\"\n",
    "    \n",
    "    for i in range(steps):\n",
    "        lanternfishes = Counter({k-1: v for k, v in lanternfishes.items()})\n",
    "\n",
    "        try:\n",
    "            # remove -1 from Counter\n",
    "            parents = lanternfishes.pop(-1)\n",
    "\n",
    "            # Add the same amount of 6's and 8's.\n",
    "            lanternfishes.update({6: parents, 8: parents})\n",
    "\n",
    "        except KeyError:\n",
    "            pass\n",
    "\n",
    "    return lanternfishes\n",
    "\n",
    "def count_fishes(lanternfishes: Counter) -> int:\n",
    "    \"\"\"Count the number of fishes in my logs.\"\"\"\n",
    "    \n",
    "    return sum(lanternfishes.values())\n",
    "\n",
    "lanternfishes = Counter(import_ints(puzzle.input_data))\n",
    "lanternfishes = reproduce(lanternfishes, 80)\n",
    "puzzle.answer_a = count_fishes(lanternfishes)"
   ]
  },
  {
   "cell_type": "markdown",
   "metadata": {},
   "source": [
    "### Part 2"
   ]
  },
  {
   "cell_type": "code",
   "execution_count": null,
   "metadata": {},
   "outputs": [],
   "source": [
    "lanternfishes = reproduce(lanternfishes, 256 - 80)\n",
    "puzzle.answer_a = count_fishes(lanternfishes)"
   ]
  },
  {
   "cell_type": "markdown",
   "metadata": {},
   "source": [
    "## Day 5\n",
    "https://adventofcode.com/2021/day/5"
   ]
  },
  {
   "cell_type": "code",
   "execution_count": null,
   "metadata": {},
   "outputs": [],
   "source": [
    "puzzle = Puzzle(year=2021, day=5)"
   ]
  },
  {
   "cell_type": "markdown",
   "metadata": {},
   "source": [
    "### Part 1"
   ]
  },
  {
   "cell_type": "code",
   "execution_count": null,
   "metadata": {},
   "outputs": [],
   "source": [
    "def count_clouds(diagonals: bool=False) -> Counter:\n",
    "    \"\"\"Count the number of clouds in space, with or without diagonal storms.\"\"\"\n",
    "    \n",
    "    area = Counter()\n",
    "\n",
    "    for cloud in puzzle.input_data.splitlines():\n",
    "        start, end = cloud.split(\" -> \")\n",
    "        x1, x2, y1, y2 = *[int(x) for x in start.split(\",\")], *[int(x) for x in end.split(\",\")]\n",
    "\n",
    "        if x1 == y1:\n",
    "            for i in range(min(x2, y2), max(x2, y2) + 1):\n",
    "                area[(x1, i)] += 1\n",
    "\n",
    "        elif x2 == y2:\n",
    "            for i in range(min(x1, y1), max(x1, y1) + 1):\n",
    "                area[(i, x2)] += 1\n",
    "\n",
    "        elif diagonals:\n",
    "            length_segment = abs(x1 - y1)\n",
    "            x_direction = (x1 - y1) // length_segment\n",
    "            y_direction = (x2 - y2) // length_segment\n",
    "\n",
    "            for i in range(length_segment + 1):\n",
    "                area[(y1 + i * x_direction, y2 + i * y_direction)] += 1\n",
    "\n",
    "    return area\n",
    "\n",
    "def nb_overlapping_clouds(clouds: Counter) -> int:\n",
    "    \"\"\"Count the number of spaces where clouds overlap (counter > 1).\"\"\"\n",
    "    \n",
    "    return sum(1 for _ in filter(lambda x: x > 1, clouds.values()))"
   ]
  },
  {
   "cell_type": "code",
   "execution_count": null,
   "metadata": {},
   "outputs": [],
   "source": [
    "clouds = count_clouds()\n",
    "puzzle.answer_a = nb_overlapping_clouds(clouds)"
   ]
  },
  {
   "cell_type": "markdown",
   "metadata": {},
   "source": [
    "### Part 2"
   ]
  },
  {
   "cell_type": "code",
   "execution_count": null,
   "metadata": {},
   "outputs": [],
   "source": [
    "clouds = count_clouds(True)\n",
    "puzzle.answer_b = nb_overlapping_clouds(clouds)"
   ]
  },
  {
   "cell_type": "markdown",
   "metadata": {},
   "source": [
    "## Day 4\n",
    "https://adventofcode.com/2021/day/4"
   ]
  },
  {
   "cell_type": "code",
   "execution_count": null,
   "metadata": {},
   "outputs": [],
   "source": [
    "puzzle = Puzzle(year=2021, day=4)\n",
    "input_data = puzzle.input_data.splitlines()\n",
    "\n",
    "calls = [int(x) for x in input_data[0].split(\",\")]\n",
    "boards = {}\n",
    "for i in range(2, len(input_data), 6):\n",
    "    boards[i] = np.array([x.replace(\"  \", \" \").split() for x in input_data[i:i+5]], dtype=int)"
   ]
  },
  {
   "cell_type": "markdown",
   "metadata": {},
   "source": [
    "### Part 1"
   ]
  },
  {
   "cell_type": "code",
   "execution_count": null,
   "metadata": {},
   "outputs": [],
   "source": [
    "def board_is_winning(board: np.ndarray) -> bool:\n",
    "    \"\"\"Check whether a row of a column contains only True values.\"\"\"\n",
    "    \n",
    "    N, M = board.shape\n",
    "    \n",
    "    for i in range(N):\n",
    "        if np.all(board[i, :]):\n",
    "            return True\n",
    "        \n",
    "    for i in range(M):\n",
    "        if np.all(board[:, i]):\n",
    "            return True\n",
    "        \n",
    "    return False"
   ]
  },
  {
   "cell_type": "code",
   "execution_count": null,
   "metadata": {},
   "outputs": [],
   "source": [
    "def score_of_winner(calls: Iterator[int], start_call_idx: int, boards: np.ndarray) -> int:\n",
    "    \"\"\"Identify the first winning board among the boards and return its score.\"\"\"\n",
    "    \n",
    "    for i in range(start_call_idx, len(calls)):\n",
    "        for board in boards.values():\n",
    "            if board_is_winning(np.isin(board, calls[:i], True)):\n",
    "                break\n",
    "        else:\n",
    "            continue\n",
    "        break\n",
    "        \n",
    "    return np.sum(board[np.isin(board, calls[:i], True) == False]) * calls[i - 1]\n",
    "\n",
    "puzzle.answer_a = score_of_winner(calls, 5, boards)"
   ]
  },
  {
   "cell_type": "markdown",
   "metadata": {},
   "source": [
    "### Part 2"
   ]
  },
  {
   "cell_type": "code",
   "execution_count": null,
   "metadata": {},
   "outputs": [],
   "source": [
    "# Warning, alters boards when run, rerun first cell of today to reinitiate.\n",
    "\n",
    "for i in range(5, len(calls)):\n",
    "    if len(boards) == 1:\n",
    "        break\n",
    "        \n",
    "    for idx, board in boards.copy().items():\n",
    "        if board_is_winning(np.isin(board, calls[:i], True)):\n",
    "            del boards[idx]\n",
    "            \n",
    "puzzle.answer_b = score_of_winner(calls, i, boards)"
   ]
  },
  {
   "cell_type": "markdown",
   "metadata": {},
   "source": [
    "## Day 3\n",
    "https://adventofcode.com/2021/day/3"
   ]
  },
  {
   "cell_type": "code",
   "execution_count": null,
   "metadata": {},
   "outputs": [],
   "source": [
    "puzzle = Puzzle(year=2021, day=3)\n",
    "\n",
    "# 2-d array with entries in rows\n",
    "input_data = np.array([list(x) for x in puzzle.input_data.splitlines()], dtype=int)\n",
    "N, M = input_data.shape"
   ]
  },
  {
   "cell_type": "markdown",
   "metadata": {},
   "source": [
    "### Part 1"
   ]
  },
  {
   "cell_type": "code",
   "execution_count": null,
   "metadata": {},
   "outputs": [],
   "source": [
    "def binary_to_int(array: np.ndarray) -> int:\n",
    "    \"\"\"Transform a np array of integers representing a binary number into its integer decimal representation.\"\"\"\n",
    "    \n",
    "    return int(\"\".join(array.astype(str).tolist()), 2)\n",
    "    \n",
    "gamma_array = np.median(input_data, axis=0)\n",
    "gamma = binary_to_int(gamma_array.astype(int))\n",
    "\n",
    "epsilon = 2**M - 1 - gamma  # Two's complement of gamma\n",
    "\n",
    "puzzle.answer_a = gamma * epsilon"
   ]
  },
  {
   "cell_type": "markdown",
   "metadata": {},
   "source": [
    "### Part 2"
   ]
  },
  {
   "cell_type": "code",
   "execution_count": null,
   "metadata": {},
   "outputs": [],
   "source": [
    "def discriminate(candidates: np.ndarray, rule: Callable[[float], int]) -> int:\n",
    "    \"\"\"Execute the discriminant method described to solve day 3 part 2.\"\"\"\n",
    "    \n",
    "    M = candidates.shape[1]\n",
    "    \n",
    "    for i in range(M):\n",
    "        if candidates.shape[0] == 1:\n",
    "            break\n",
    "\n",
    "        med = np.median(candidates[:, i])\n",
    "        candidates = candidates[candidates[:, i] == rule(med)]\n",
    "        \n",
    "    return binary_to_int(candidates[0])\n",
    "\n",
    "o2 = discriminate(input_data.copy(), lambda med: 0 if med == 0 else 1)\n",
    "co2 = discriminate(input_data.copy(), lambda med: 1 if med == 0 else 0)\n",
    "\n",
    "puzzle.answer_b = o2 * co2"
   ]
  },
  {
   "cell_type": "markdown",
   "metadata": {},
   "source": [
    "## Day 2\n",
    "https://adventofcode.com/2021/day/2"
   ]
  },
  {
   "cell_type": "code",
   "execution_count": null,
   "metadata": {},
   "outputs": [],
   "source": [
    "puzzle = Puzzle(year=2021, day=2)"
   ]
  },
  {
   "cell_type": "code",
   "execution_count": null,
   "metadata": {},
   "outputs": [],
   "source": [
    "class Submarine:\n",
    "    \n",
    "    x_pos: int = 0\n",
    "    y_pos: int = 0  # depth\n",
    "    aim: int = 0\n",
    "        \n",
    "    def move_a(self, instruction: str) -> None:\n",
    "        \"\"\"Execute a movement command.\"\"\"\n",
    "        \n",
    "        verb, value = instruction.split(\" \", 1)\n",
    "        \n",
    "        if verb == \"forward\":\n",
    "            self.x_pos += int(value)\n",
    "            \n",
    "        elif verb == \"up\":\n",
    "            self.y_pos -= int(value)\n",
    "            \n",
    "        elif verb == \"down\":\n",
    "            self.y_pos += int(value)\n",
    "            \n",
    "        else:\n",
    "            raise ValueError(verb)\n",
    "            \n",
    "    def move_b(self, instruction: str) -> None:\n",
    "        \"\"\"Execute a movement command.\"\"\"\n",
    "\n",
    "        verb, value = instruction.split(\" \", 1)\n",
    "        \n",
    "        if verb == \"forward\":\n",
    "            self.x_pos += int(value)\n",
    "            self.y_pos += self.aim * int(value)\n",
    "            \n",
    "        elif verb == \"up\":\n",
    "            self.aim -= int(value)\n",
    "            \n",
    "        elif verb == \"down\":\n",
    "            self.aim += int(value)\n",
    "            \n",
    "        else:\n",
    "            raise ValueError(verb)\n",
    "            \n",
    "    def product(self) -> int:\n",
    "        \"\"\"Compute the product of x and y positions.\"\"\"\n",
    "        \n",
    "        return self.x_pos * self.y_pos"
   ]
  },
  {
   "cell_type": "markdown",
   "metadata": {},
   "source": [
    "### Part 1"
   ]
  },
  {
   "cell_type": "code",
   "execution_count": null,
   "metadata": {},
   "outputs": [],
   "source": [
    "submarine = Submarine()\n",
    "\n",
    "for command in puzzle.input_data.splitlines():\n",
    "    submarine.move_a(command)\n",
    "    \n",
    "puzzle.answer_a = submarine.product()"
   ]
  },
  {
   "cell_type": "markdown",
   "metadata": {},
   "source": [
    "### Part 2"
   ]
  },
  {
   "cell_type": "code",
   "execution_count": null,
   "metadata": {},
   "outputs": [],
   "source": [
    "submarine = Submarine()\n",
    "\n",
    "for command in puzzle.input_data.splitlines():\n",
    "    submarine.move_b(command)\n",
    "    \n",
    "puzzle.answer_b = submarine.product()"
   ]
  },
  {
   "cell_type": "markdown",
   "metadata": {},
   "source": [
    "## Day 1\n",
    "https://adventofcode.com/2021/day/1"
   ]
  },
  {
   "cell_type": "code",
   "execution_count": null,
   "metadata": {},
   "outputs": [],
   "source": [
    "puzzle = Puzzle(year=2021, day=1)"
   ]
  },
  {
   "cell_type": "markdown",
   "metadata": {},
   "source": [
    "### Part 1"
   ]
  },
  {
   "cell_type": "code",
   "execution_count": null,
   "metadata": {},
   "outputs": [],
   "source": [
    "# Troll\n",
    "\n",
    "entries = puzzle.input_data.splitlines()\n",
    "puzzle.answer_a = sum(1 for _ in filter(lambda x: x < 0, map(lambda x: x[0] - x[1], zip(map(int, entries[:-1]), map(int, entries[1:])))))"
   ]
  },
  {
   "cell_type": "code",
   "execution_count": null,
   "metadata": {},
   "outputs": [],
   "source": [
    "def count_increasing(array: Iterator[int]) -> int:\n",
    "    \"\"\"Count the number of times consecutive values of an array are increasing.\"\"\"\n",
    "    \n",
    "    temp = None\n",
    "    counter = 0\n",
    "\n",
    "    for elem in array:\n",
    "        counter += 1 if temp and elem > temp else 0\n",
    "        temp = elem\n",
    "        \n",
    "    return counter\n",
    "\n",
    "int_list = [int(x) for x in puzzle.input_data.splitlines()]\n",
    "\n",
    "puzzle.answer_a = count_increasing(int_list)"
   ]
  },
  {
   "cell_type": "markdown",
   "metadata": {},
   "source": [
    "### Part 2"
   ]
  },
  {
   "cell_type": "code",
   "execution_count": null,
   "metadata": {},
   "outputs": [],
   "source": [
    "triples = zip(int_list[:-2], int_list[1:-1], int_list[2:])\n",
    "\n",
    "puzzle.answer_b = count_increasing(map(sum, triples))"
   ]
  }
 ],
 "metadata": {
  "language_info": {
   "name": "python",
   "pygments_lexer": "ipython3"
  }
 },
 "nbformat": 4,
 "nbformat_minor": 2
}
