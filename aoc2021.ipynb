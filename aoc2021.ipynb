{
 "cells": [
  {
   "cell_type": "markdown",
   "metadata": {},
   "source": [
    "# AOC 2021\n",
    "\n",
    "Welcome to the Advent of Code 2021 !"
   ]
  },
  {
   "cell_type": "markdown",
   "metadata": {},
   "source": [
    "## Basic configuration\n",
    "\n"
   ]
  },
  {
   "cell_type": "code",
   "execution_count": null,
   "metadata": {},
   "outputs": [],
   "source": [
    "!pip install advent-of-code-data"
   ]
  },
  {
   "cell_type": "code",
   "execution_count": null,
   "metadata": {},
   "outputs": [],
   "source": [
    "import os\n",
    "\n",
    "os.environ['AOC_SESSION'] = open('session.txt').read().strip()"
   ]
  },
  {
   "cell_type": "code",
   "execution_count": null,
   "metadata": {},
   "outputs": [],
   "source": [
    "from aocd.models import Puzzle\n",
    "from numpy.typing import ArrayLike\n",
    "from typing import Callable, Iterator\n",
    "import numpy as np"
   ]
  },
  {
   "cell_type": "markdown",
   "metadata": {},
   "source": [
    "## Day 24\n",
    "https://adventofcode.com/2021/day/24\n",
    "### Part 1"
   ]
  },
  {
   "cell_type": "markdown",
   "metadata": {},
   "source": [
    "### Part 2"
   ]
  },
  {
   "cell_type": "markdown",
   "metadata": {},
   "source": [
    "## Day 23\n",
    "https://adventofcode.com/2021/day/23\n",
    "### Part 1"
   ]
  },
  {
   "cell_type": "markdown",
   "metadata": {},
   "source": [
    "### Part 2"
   ]
  },
  {
   "cell_type": "markdown",
   "metadata": {},
   "source": [
    "## Day 22\n",
    "https://adventofcode.com/2021/day/22\n",
    "### Part 1"
   ]
  },
  {
   "cell_type": "markdown",
   "metadata": {},
   "source": [
    "### Part 2"
   ]
  },
  {
   "cell_type": "markdown",
   "metadata": {},
   "source": [
    "## Day 21\n",
    "https://adventofcode.com/2021/day/21\n",
    "### Part 1"
   ]
  },
  {
   "cell_type": "markdown",
   "metadata": {},
   "source": [
    "### Part 2"
   ]
  },
  {
   "cell_type": "markdown",
   "metadata": {},
   "source": [
    "## Day 20\n",
    "https://adventofcode.com/2021/day/20\n",
    "### Part 1"
   ]
  },
  {
   "cell_type": "markdown",
   "metadata": {},
   "source": [
    "### Part 2"
   ]
  },
  {
   "cell_type": "markdown",
   "metadata": {},
   "source": [
    "## Day 19\n",
    "https://adventofcode.com/2021/day/19\n",
    "### Part 1"
   ]
  },
  {
   "cell_type": "markdown",
   "metadata": {},
   "source": [
    "### Part 2"
   ]
  },
  {
   "cell_type": "markdown",
   "metadata": {},
   "source": [
    "## Day 18\n",
    "https://adventofcode.com/2021/day/18\n",
    "### Part 1"
   ]
  },
  {
   "cell_type": "markdown",
   "metadata": {},
   "source": [
    "### Part 2"
   ]
  },
  {
   "cell_type": "markdown",
   "metadata": {},
   "source": [
    "## Day 17\n",
    "https://adventofcode.com/2021/day/17\n",
    "### Part 1"
   ]
  },
  {
   "cell_type": "markdown",
   "metadata": {},
   "source": [
    "### Part 2"
   ]
  },
  {
   "cell_type": "markdown",
   "metadata": {},
   "source": [
    "## Day 16\n",
    "https://adventofcode.com/2021/day/16\n",
    "### Part 1"
   ]
  },
  {
   "cell_type": "markdown",
   "metadata": {},
   "source": [
    "### Part 2"
   ]
  },
  {
   "cell_type": "markdown",
   "metadata": {},
   "source": [
    "## Day 15\n",
    "https://adventofcode.com/2021/day/15"
   ]
  },
  {
   "cell_type": "markdown",
   "metadata": {},
   "source": [
    "### Part 1"
   ]
  },
  {
   "cell_type": "markdown",
   "metadata": {},
   "source": [
    "### Part 2"
   ]
  },
  {
   "cell_type": "markdown",
   "metadata": {},
   "source": [
    "## Day 14\n",
    "https://adventofcode.com/2021/day/14\n",
    "### Part 1"
   ]
  },
  {
   "cell_type": "markdown",
   "metadata": {},
   "source": [
    "### Part 2"
   ]
  },
  {
   "cell_type": "markdown",
   "metadata": {},
   "source": [
    "## Day 13\n",
    "https://adventofcode.com/2021/day/13\n",
    "### Part 1"
   ]
  },
  {
   "cell_type": "markdown",
   "metadata": {},
   "source": [
    "### Part 2"
   ]
  },
  {
   "cell_type": "markdown",
   "metadata": {},
   "source": [
    "## Day 12\n",
    "https://adventofcode.com/2021/day/12\n",
    "### Part 1"
   ]
  },
  {
   "cell_type": "markdown",
   "metadata": {},
   "source": [
    "### Part2"
   ]
  },
  {
   "cell_type": "markdown",
   "metadata": {},
   "source": [
    "## Day 11\n",
    "https://adventofcode.com/2021/day/11\n",
    "### Part 1"
   ]
  },
  {
   "cell_type": "markdown",
   "metadata": {},
   "source": [
    "### Part 2"
   ]
  },
  {
   "cell_type": "markdown",
   "metadata": {},
   "source": [
    "## Day 10\n",
    "https://adventofcode.com/2021/day/10\n",
    "### Part 1"
   ]
  },
  {
   "cell_type": "markdown",
   "metadata": {},
   "source": [
    "### Part 2"
   ]
  },
  {
   "cell_type": "markdown",
   "metadata": {},
   "source": [
    "## Day 9\n",
    "https://adventofcode.com/2021/day/9\n",
    "### Part 1"
   ]
  },
  {
   "cell_type": "markdown",
   "metadata": {},
   "source": [
    "### Part 2"
   ]
  },
  {
   "cell_type": "markdown",
   "metadata": {},
   "source": [
    "## Day 8\n",
    "https://adventofcode.com/2021/day/8\n",
    "### Part 1"
   ]
  },
  {
   "cell_type": "markdown",
   "metadata": {},
   "source": [
    "### Part2"
   ]
  },
  {
   "cell_type": "markdown",
   "metadata": {},
   "source": [
    "## Day 7\n",
    "https://adventofcode.com/2021/day/7\n",
    "### Part 1"
   ]
  },
  {
   "cell_type": "markdown",
   "metadata": {},
   "source": [
    "### Part 2"
   ]
  },
  {
   "cell_type": "markdown",
   "metadata": {},
   "source": [
    "## Day 6\n",
    "https://adventofcode.com/2021/day/6\n",
    "### Part 1"
   ]
  },
  {
   "cell_type": "markdown",
   "metadata": {},
   "source": [
    "### Part 2"
   ]
  },
  {
   "cell_type": "markdown",
   "metadata": {},
   "source": [
    "## Day 5\n",
    "https://adventofcode.com/2021/day/5\n",
    "### Part 1"
   ]
  },
  {
   "cell_type": "markdown",
   "metadata": {},
   "source": [
    "### Part 2"
   ]
  },
  {
   "cell_type": "markdown",
   "metadata": {},
   "source": [
    "## Day 4\n",
    "https://adventofcode.com/2021/day/4"
   ]
  },
  {
   "cell_type": "code",
   "execution_count": null,
   "metadata": {},
   "outputs": [],
   "source": [
    "puzzle = Puzzle(year=2021, day=4)\n",
    "input_data = puzzle.input_data.splitlines()\n",
    "\n",
    "calls = [int(x) for x in input_data[0].split(\",\")]\n",
    "boards = {}\n",
    "for i in range(2, len(input_data), 6):\n",
    "    boards[i] = np.array([x.replace(\"  \", \" \").split() for x in input_data[i:i+5]], dtype=int)"
   ]
  },
  {
   "cell_type": "markdown",
   "metadata": {},
   "source": [
    "### Part 1"
   ]
  },
  {
   "cell_type": "code",
   "execution_count": null,
   "metadata": {},
   "outputs": [],
   "source": [
    "def board_is_winning(board: np.ndarray) -> bool:\n",
    "    \"\"\"Check whether a row of a column contains only True values.\"\"\"\n",
    "    \n",
    "    N, M = board.shape\n",
    "    \n",
    "    for i in range(N):\n",
    "        if np.all(board[i, :]):\n",
    "            return True\n",
    "        \n",
    "    for i in range(M):\n",
    "        if np.all(board[:, i]):\n",
    "            return True\n",
    "        \n",
    "    return False"
   ]
  },
  {
   "cell_type": "code",
   "execution_count": null,
   "metadata": {},
   "outputs": [],
   "source": [
    "def score_of_winner(calls: Iterator[int], start_call_idx: int, boards: np.ndarray) -> int:\n",
    "    \"\"\"Identify the first winning board among the boards and return its score.\"\"\"\n",
    "    \n",
    "    for i in range(start_call_idx, len(calls)):\n",
    "        for board in boards.values():\n",
    "            if board_is_winning(np.isin(board, calls[:i], True)):\n",
    "                break\n",
    "        else:\n",
    "            continue\n",
    "        break\n",
    "        \n",
    "    return np.sum(board[np.isin(board, calls[:i], True) == False]) * calls[i - 1]\n",
    "\n",
    "puzzle.answer_a = score_of_winner(calls, 5, boards)"
   ]
  },
  {
   "cell_type": "markdown",
   "metadata": {},
   "source": [
    "### Part 2"
   ]
  },
  {
   "cell_type": "code",
   "execution_count": null,
   "metadata": {},
   "outputs": [],
   "source": [
    "# Warning, alters boards when run, rerun first cell of today to reinitiate.\n",
    "\n",
    "for i in range(5, len(calls)):\n",
    "    if len(boards) == 1:\n",
    "        break\n",
    "        \n",
    "    for idx, board in boards.copy().items():\n",
    "        if board_is_winning(np.isin(board, calls[:i], True)):\n",
    "            del boards[idx]\n",
    "            \n",
    "puzzle.answer_b = score_of_winner(calls, i, boards)"
   ]
  },
  {
   "cell_type": "markdown",
   "metadata": {},
   "source": [
    "## Day 3\n",
    "https://adventofcode.com/2021/day/3"
   ]
  },
  {
   "cell_type": "code",
   "execution_count": null,
   "metadata": {},
   "outputs": [],
   "source": [
    "puzzle = Puzzle(year=2021, day=3)\n",
    "\n",
    "# 2-d array with entries in rows\n",
    "input_data = np.array([list(x) for x in puzzle.input_data.splitlines()], dtype=int)\n",
    "N, M = input_data.shape"
   ]
  },
  {
   "cell_type": "markdown",
   "metadata": {},
   "source": [
    "### Part 1"
   ]
  },
  {
   "cell_type": "code",
   "execution_count": null,
   "metadata": {},
   "outputs": [],
   "source": [
    "def binary_to_int(array: np.ndarray) -> int:\n",
    "    \"\"\"Transform a np array of integers representing a binary number into its integer decimal representation.\"\"\"\n",
    "    \n",
    "    return int(\"\".join(array.astype(str).tolist()), 2)\n",
    "    \n",
    "gamma_array = np.median(input_data, axis=0)\n",
    "gamma = binary_to_int(gamma_array.astype(int))\n",
    "\n",
    "epsilon = 2**M - 1 - gamma  # Two's complement of gamma\n",
    "\n",
    "puzzle.answer_a = gamma * epsilon"
   ]
  },
  {
   "cell_type": "markdown",
   "metadata": {},
   "source": [
    "### Part 2"
   ]
  },
  {
   "cell_type": "code",
   "execution_count": null,
   "metadata": {},
   "outputs": [],
   "source": [
    "def discriminate(candidates: np.ndarray, rule: Callable[[float], int]) -> int:\n",
    "    \"\"\"Execute the discriminant method described to solve day 3 part 2.\"\"\"\n",
    "    \n",
    "    M = candidates.shape[1]\n",
    "    \n",
    "    for i in range(M):\n",
    "        if candidates.shape[0] == 1:\n",
    "            break\n",
    "\n",
    "        med = np.median(candidates[:, i])\n",
    "        candidates = candidates[candidates[:, i] == rule(med)]\n",
    "        \n",
    "    return binary_to_int(candidates[0])\n",
    "\n",
    "o2 = discriminate(input_data.copy(), lambda med: 0 if med == 0 else 1)\n",
    "co2 = discriminate(input_data.copy(), lambda med: 1 if med == 0 else 0)\n",
    "\n",
    "puzzle.answer_b = o2 * co2"
   ]
  },
  {
   "cell_type": "markdown",
   "metadata": {},
   "source": [
    "## Day 2\n",
    "https://adventofcode.com/2021/day/2"
   ]
  },
  {
   "cell_type": "code",
   "execution_count": null,
   "metadata": {},
   "outputs": [],
   "source": [
    "puzzle = Puzzle(year=2021, day=2)"
   ]
  },
  {
   "cell_type": "code",
   "execution_count": null,
   "metadata": {},
   "outputs": [],
   "source": [
    "class Submarine:\n",
    "    \n",
    "    x_pos: int = 0\n",
    "    y_pos: int = 0  # depth\n",
    "    aim: int = 0\n",
    "        \n",
    "    def move_a(self, instruction: str) -> None:\n",
    "        \"\"\"Execute a movement command.\"\"\"\n",
    "        \n",
    "        verb, value = instruction.split(\" \", 1)\n",
    "        \n",
    "        if verb == \"forward\":\n",
    "            self.x_pos += int(value)\n",
    "            \n",
    "        elif verb == \"up\":\n",
    "            self.y_pos -= int(value)\n",
    "            \n",
    "        elif verb == \"down\":\n",
    "            self.y_pos += int(value)\n",
    "            \n",
    "        else:\n",
    "            raise ValueError(verb)\n",
    "            \n",
    "    def move_b(self, instruction: str) -> None:\n",
    "        \"\"\"Execute a movement command.\"\"\"\n",
    "\n",
    "        verb, value = instruction.split(\" \", 1)\n",
    "        \n",
    "        if verb == \"forward\":\n",
    "            self.x_pos += int(value)\n",
    "            self.y_pos += self.aim * int(value)\n",
    "            \n",
    "        elif verb == \"up\":\n",
    "            self.aim -= int(value)\n",
    "            \n",
    "        elif verb == \"down\":\n",
    "            self.aim += int(value)\n",
    "            \n",
    "        else:\n",
    "            raise ValueError(verb)\n",
    "            \n",
    "    def product(self) -> int:\n",
    "        \"\"\"Compute the product of x and y positions.\"\"\"\n",
    "        \n",
    "        return self.x_pos * self.y_pos"
   ]
  },
  {
   "cell_type": "markdown",
   "metadata": {},
   "source": [
    "### Part 1"
   ]
  },
  {
   "cell_type": "code",
   "execution_count": null,
   "metadata": {},
   "outputs": [],
   "source": [
    "submarine = Submarine()\n",
    "\n",
    "for command in puzzle.input_data.splitlines():\n",
    "    submarine.move_a(command)\n",
    "    \n",
    "puzzle.answer_a = submarine.product()"
   ]
  },
  {
   "cell_type": "markdown",
   "metadata": {},
   "source": [
    "### Part 2"
   ]
  },
  {
   "cell_type": "code",
   "execution_count": null,
   "metadata": {},
   "outputs": [],
   "source": [
    "submarine = Submarine()\n",
    "\n",
    "for command in puzzle.input_data.splitlines():\n",
    "    submarine.move_b(command)\n",
    "    \n",
    "puzzle.answer_b = submarine.product()"
   ]
  },
  {
   "cell_type": "markdown",
   "metadata": {},
   "source": [
    "## Day 1\n",
    "https://adventofcode.com/2021/day/1"
   ]
  },
  {
   "cell_type": "code",
   "execution_count": null,
   "metadata": {},
   "outputs": [],
   "source": [
    "puzzle = Puzzle(year=2021, day=1)"
   ]
  },
  {
   "cell_type": "markdown",
   "metadata": {},
   "source": [
    "### Part 1"
   ]
  },
  {
   "cell_type": "code",
   "execution_count": null,
   "metadata": {},
   "outputs": [],
   "source": [
    "# Troll\n",
    "\n",
    "entries = puzzle.input_data.splitlines()\n",
    "puzzle.answer_a = sum(1 for _ in filter(lambda x: x < 0, map(lambda x: x[0] - x[1], zip(map(int, entries[:-1]), map(int, entries[1:])))))"
   ]
  },
  {
   "cell_type": "code",
   "execution_count": null,
   "metadata": {},
   "outputs": [],
   "source": [
    "def count_increasing(array: Iterator[int]) -> int:\n",
    "    \"\"\"Count the number of times consecutive values of an array are increasing.\"\"\"\n",
    "    \n",
    "    temp = None\n",
    "    counter = 0\n",
    "\n",
    "    for elem in array:\n",
    "        counter += 1 if temp and elem > temp else 0\n",
    "        temp = elem\n",
    "        \n",
    "    return counter\n",
    "\n",
    "int_list = [int(x) for x in puzzle.input_data.splitlines()]\n",
    "\n",
    "puzzle.answer_a = count_increasing(int_list)"
   ]
  },
  {
   "cell_type": "markdown",
   "metadata": {},
   "source": [
    "### Part 2"
   ]
  },
  {
   "cell_type": "code",
   "execution_count": null,
   "metadata": {},
   "outputs": [],
   "source": [
    "triples = zip(int_list[:-2], int_list[1:-1], int_list[2:])\n",
    "\n",
    "puzzle.answer_b = count_increasing(map(sum, triples))"
   ]
  }
 ],
 "metadata": {
  "language_info": {
   "name": "python",
   "pygments_lexer": "ipython3"
  }
 },
 "nbformat": 4,
 "nbformat_minor": 2
}
