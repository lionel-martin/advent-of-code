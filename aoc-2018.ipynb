{
 "cells": [
  {
   "cell_type": "markdown",
   "metadata": {},
   "source": [
    "# AOC 2018\n",
    "\n",
    "Welcome to the Advent of Code 2018 !"
   ]
  },
  {
   "cell_type": "markdown",
   "metadata": {},
   "source": [
    "## Basic configuration\n",
    "\n"
   ]
  },
  {
   "cell_type": "code",
   "execution_count": null,
   "metadata": {},
   "outputs": [],
   "source": [
    "! pip install -U advent-of-code-data numpy pandas"
   ]
  },
  {
   "cell_type": "code",
   "execution_count": null,
   "metadata": {},
   "outputs": [],
   "source": [
    "import os\n",
    "\n",
    "os.environ['AOC_SESSION'] = open('session.txt').read().strip()"
   ]
  },
  {
   "cell_type": "code",
   "execution_count": null,
   "metadata": {},
   "outputs": [],
   "source": [
    "from aocd.models import Puzzle\n",
    "from collections import Counter, defaultdict\n",
    "from itertools import chain, product\n",
    "from numpy.typing import ArrayLike\n",
    "from pprint import pprint\n",
    "from queue import PriorityQueue\n",
    "from statistics import median\n",
    "from typing import Callable, Dict, Iterator, Mapping, Tuple\n",
    "import copy\n",
    "import functools\n",
    "import math\n",
    "import numpy as np\n",
    "import pandas as pd\n",
    "import operator\n",
    "import re\n",
    "import sys"
   ]
  },
  {
   "cell_type": "code",
   "execution_count": null,
   "metadata": {},
   "outputs": [],
   "source": [
    "def import_ints(input_data:str, as_nparray:bool=False) -> Iterator[int]:\n",
    "    \"\"\"Transform the input string into a list of integers.\"\"\"\n",
    "    if \"\\n\" in input_data:\n",
    "        if as_nparray:\n",
    "            return np.array([list(x) for x in input_data.splitlines()], dtype=int)\n",
    "        else:\n",
    "            return [int(x) for x in input_data.splitlines()]\n",
    "    \n",
    "    else:\n",
    "        return [int(x) for x in input_data.split(\",\")]"
   ]
  },
  {
   "cell_type": "markdown",
   "metadata": {},
   "source": [
    "# Problems"
   ]
  },
  {
   "cell_type": "markdown",
   "metadata": {},
   "source": [
    "## Day 1\n",
    "\n",
    "http://adventofcode.com/2018/day/1"
   ]
  },
  {
   "cell_type": "code",
   "execution_count": null,
   "metadata": {},
   "outputs": [],
   "source": [
    "puzzle = Puzzle(year=2018, day=1)"
   ]
  },
  {
   "cell_type": "markdown",
   "metadata": {},
   "source": [
    "__Part 1__"
   ]
  },
  {
   "cell_type": "code",
   "execution_count": null,
   "metadata": {},
   "outputs": [],
   "source": [
    "problem = puzzle.input_data.replace(\"\\n\", \"\")\n",
    "eval(f\"0{problem}\")\n",
    "# puzzle.anwser_a = eval(f\"0{problem}\")"
   ]
  },
  {
   "cell_type": "markdown",
   "metadata": {},
   "source": [
    "__Part 2__"
   ]
  },
  {
   "cell_type": "code",
   "execution_count": null,
   "metadata": {},
   "outputs": [],
   "source": [
    "inputs = puzzle.input_data.splitlines()\n",
    "cont, value, values = True, 0, {0}\n",
    "\n",
    "while cont:\n",
    "    for op in inputs:\n",
    "        if op[0] == \"+\":\n",
    "            value += int(op[1:])\n",
    "        else:\n",
    "            value -= int(op[1:])\n",
    "\n",
    "        if value in values:\n",
    "            puzzle.anwser_b = value\n",
    "            cont = False\n",
    "            break\n",
    "        else:\n",
    "            values.add(value)\n",
    "pprint(value)"
   ]
  },
  {
   "cell_type": "markdown",
   "metadata": {},
   "source": [
    "## Day 2\n",
    "\n",
    "http://adventofcode.com/2018/day/2"
   ]
  },
  {
   "cell_type": "code",
   "execution_count": null,
   "metadata": {},
   "outputs": [],
   "source": [
    "puzzle = Puzzle(year=2018, day=2)"
   ]
  },
  {
   "cell_type": "markdown",
   "metadata": {},
   "source": [
    "__Part 1__"
   ]
  },
  {
   "cell_type": "code",
   "execution_count": null,
   "metadata": {},
   "outputs": [],
   "source": [
    "count2, count3 = 0, 0\n",
    "\n",
    "for line in puzzle.input_data.splitlines():\n",
    "    count2 += int(any(map(lambda x: x == 2, Counter(line).values())))\n",
    "    count3 += int(any(map(lambda x: x == 3, Counter(line).values())))\n",
    "\n",
    "puzzle.answer_a = count2 * count3\n",
    "pprint(count2 * count3)"
   ]
  },
  {
   "cell_type": "markdown",
   "metadata": {},
   "source": [
    "__Part 2__"
   ]
  },
  {
   "cell_type": "code",
   "execution_count": null,
   "metadata": {},
   "outputs": [],
   "source": [
    "box_ids, common = [], \"\"\n",
    "\n",
    "for line in puzzle.input_data.splitlines():    \n",
    "    for old_box in box_ids:        \n",
    "        diff = sum(map(lambda x: int(x[0] != x[1]), zip(line, old_box)))\n",
    "        \n",
    "        if diff == 1:\n",
    "            common = \"\".join([x[0] for x in filter(lambda x: x[0] == x[1], zip(line, old_box))])\n",
    "            break\n",
    "                   \n",
    "    if common:\n",
    "        break\n",
    "            \n",
    "        \n",
    "    box_ids.append(line)\n",
    "\n",
    "# puzzle.answer_b = common\n",
    "pprint(common)"
   ]
  },
  {
   "cell_type": "markdown",
   "metadata": {},
   "source": [
    "## Day 3\n",
    "\n",
    "http://adventofcode.com/2018/day/3"
   ]
  },
  {
   "cell_type": "code",
   "execution_count": null,
   "metadata": {},
   "outputs": [],
   "source": [
    "puzzle = Puzzle(year=2018, day=3)"
   ]
  },
  {
   "cell_type": "markdown",
   "metadata": {},
   "source": [
    "__Part 1__"
   ]
  },
  {
   "cell_type": "code",
   "execution_count": null,
   "metadata": {},
   "outputs": [],
   "source": [
    "interpreter = re.compile(\"#(\\d+)\\s@\\s(\\d+),(\\d+):\\s(\\d+)x(\\d+)\")\n",
    "patch = Counter()\n",
    "\n",
    "for line in puzzle.input_data.splitlines():\n",
    "    claim_id, col_idx, row_idx, width, height = map(int, interpreter.search(line).groups())\n",
    "    for x in range(row_idx, row_idx + height):\n",
    "        for y in range(col_idx, col_idx + width):\n",
    "            patch[(x, y)] += 1"
   ]
  },
  {
   "cell_type": "code",
   "execution_count": null,
   "metadata": {},
   "outputs": [],
   "source": [
    "patch_values = pd.DataFrame(patch.values())\n",
    "puzzle.answer_a = int(patch_values[patch_values > 1].count())"
   ]
  },
  {
   "cell_type": "markdown",
   "metadata": {},
   "source": [
    "__Part 2__"
   ]
  },
  {
   "cell_type": "code",
   "execution_count": null,
   "metadata": {},
   "outputs": [],
   "source": [
    "for line in puzzle.input_data.splitlines():\n",
    "    overlap = len(patch) == 0  # says True for the first line \n",
    "\n",
    "    claim_id, col_idx, row_idx, width, height = map(int, interpreter.search(line).groups())\n",
    "    for x in range(row_idx, row_idx + height):\n",
    "        for y in range(col_idx, col_idx + width):\n",
    "            if not overlap and patch[(x, y)] > 1:\n",
    "                overlap = True\n",
    "    if not overlap:\n",
    "        puzzle.answer_b = claim_id\n",
    "        pprint(claim_id)\n",
    "        break"
   ]
  },
  {
   "cell_type": "markdown",
   "metadata": {},
   "source": [
    "## Day 4\n",
    "\n",
    "http://adventofcode.com/2018/day/4"
   ]
  },
  {
   "cell_type": "code",
   "execution_count": null,
   "metadata": {},
   "outputs": [],
   "source": [
    "puzzle = Puzzle(year=2018, day=4)"
   ]
  },
  {
   "cell_type": "code",
   "execution_count": null,
   "metadata": {},
   "outputs": [],
   "source": [
    "re_moment = re.compile(\"\\[\\d+-(\\d+)-(\\d+)\\s(\\d+):(\\d+)\\]\")\n",
    "\n",
    "logs = sorted(puzzle.input_data.splitlines())\n",
    "for log in logs:\n",
    "    moment, action = log.split(\" \", 1)\n",
    "    \n",
    "    if \"Guard\" in action:"
   ]
  },
  {
   "cell_type": "markdown",
   "metadata": {},
   "source": [
    "__Part 1__"
   ]
  },
  {
   "cell_type": "markdown",
   "metadata": {},
   "source": [
    "__Part 2__"
   ]
  },
  {
   "cell_type": "markdown",
   "metadata": {},
   "source": [
    "## Day 5\n",
    "\n",
    "http://adventofcode.com/2018/day/5"
   ]
  },
  {
   "cell_type": "code",
   "execution_count": null,
   "metadata": {},
   "outputs": [],
   "source": [
    "puzzle = Puzzle(year=2018, day=5)"
   ]
  },
  {
   "cell_type": "markdown",
   "metadata": {},
   "source": [
    "__Part 1__"
   ]
  },
  {
   "cell_type": "markdown",
   "metadata": {},
   "source": [
    "__Part 2__"
   ]
  },
  {
   "cell_type": "markdown",
   "metadata": {},
   "source": [
    "## Day 6\n",
    "\n",
    "http://adventofcode.com/2018/day/6"
   ]
  },
  {
   "cell_type": "code",
   "execution_count": null,
   "metadata": {},
   "outputs": [],
   "source": [
    "puzzle = Puzzle(year=2018, day=6)"
   ]
  },
  {
   "cell_type": "code",
   "execution_count": null,
   "metadata": {},
   "outputs": [],
   "source": [
    "points = list(map(lambda line: list(map(int, line.split(','))), puzzle.input_data.splitlines()))\n",
    "# points = [[1, 1], [1, 6], [8, 3], [3, 4], [5, 5], [8, 9]]  # Example\n",
    "\n",
    "min_x = min(map(lambda p: p[0], points))\n",
    "min_y = min(map(lambda p: p[1], points))\n",
    "max_x = max(map(lambda p: p[0], points))\n",
    "max_y = max(map(lambda p: p[1], points))\n",
    "\n",
    "nb_points = len(points)\n",
    "\n",
    "# points = list(map(lambda p: [p[0] - min_x, p[1] - min_y], points))\n",
    "# max_x -= min_x\n",
    "# max_y -= min_y\n",
    "# min_x = min_y = 0"
   ]
  },
  {
   "cell_type": "markdown",
   "metadata": {},
   "source": [
    "__Part 1__"
   ]
  },
  {
   "cell_type": "code",
   "execution_count": null,
   "metadata": {},
   "outputs": [],
   "source": [
    "def distance(from_point, to_point):\n",
    "    return abs(from_point[0] - to_point[0]) + abs(from_point[1] - to_point[1])"
   ]
  },
  {
   "cell_type": "code",
   "execution_count": null,
   "metadata": {},
   "outputs": [],
   "source": [
    "def store_grid():\n",
    "    grid_lines = []\n",
    "    for x_idx in range(min_x, max_x + 1):\n",
    "        line = \"\"\n",
    "        for y_idx in range(min_y, max_y + 1):\n",
    "            if len(attribution[x_idx - min_x][y_idx - min_y][1]) == 1:\n",
    "                ref = \"A\" if attribution[x_idx - min_x][y_idx - min_y][0] == 0 else \"a\"\n",
    "                line += chr(ord(ref) + attribution[x_idx - min_x][y_idx - min_y][1][0])\n",
    "            else:\n",
    "                line += '.'\n",
    "        grid_lines += [line]\n",
    "    return grid_lines\n",
    "\n",
    "def display_grid(lines=None):\n",
    "    if lines is None:\n",
    "        lines = store_grid()\n",
    "\n",
    "    for line in lines:\n",
    "        print(line)"
   ]
  },
  {
   "cell_type": "code",
   "execution_count": null,
   "metadata": {},
   "outputs": [],
   "source": [
    "# Version 1\n",
    "attribution = []\n",
    "\n",
    "for x_idx in range(min_x, max_x + 1):\n",
    "    row = []\n",
    "    for y_idx in range(min_y, max_y + 1):\n",
    "        elem = []\n",
    "        for p_idx in range(nb_points):\n",
    "            d = distance(points[p_idx], [x_idx, y_idx])\n",
    "            if not elem or d < elem[0]:\n",
    "                elem = [d, [p_idx]]\n",
    "            elif d == elem[0]:\n",
    "                elem = [d, elem[1] + [p_idx]]\n",
    "        row += [elem]\n",
    "    attribution += [row]\n",
    "\n",
    "grid_lines = store_grid()\n",
    "borders = grid_lines[0] + grid_lines[-1] + ''.join(map(lambda x: x[0], grid_lines)) + ''.join(map(lambda x: x[-1], grid_lines))\n",
    "excluded_candidates = set(x for x in borders.lower())\n",
    "\n",
    "counter = Counter([y.lower() for x in grid_lines for y in x])\n",
    "\n",
    "for candidate in excluded_candidates:\n",
    "    del counter[candidate]\n",
    "\n",
    "print(f\"Answer 1: {counter.most_common(1)}\")\n",
    "puzzle.answer_a = counter.most_common(1)[0][1]\n",
    "\n",
    "# display_grid(lines=grid_lines)"
   ]
  },
  {
   "cell_type": "code",
   "execution_count": null,
   "metadata": {},
   "outputs": [],
   "source": [
    "# Version 2\n",
    "counter = Counter()\n",
    "excluded_candidates = set()\n",
    "\n",
    "for x_idx in range(min_x, max_x + 1):\n",
    "    for y_idx in range(min_y, max_y + 1):\n",
    "        scores = []\n",
    "        for p_idx in range(nb_points):\n",
    "            scores += [distance(points[p_idx], [x_idx, y_idx])]\n",
    "\n",
    "        scores = np.array(scores)\n",
    "        candidates = np.argwhere(scores == scores.min())\n",
    "        \n",
    "        if candidates.size == 1:\n",
    "            counter[candidates[0][0]] += 1\n",
    "\n",
    "            if x_idx in [min_x, max_x] or y_idx in [min_y, max_y]:\n",
    "                excluded_candidates.add(candidates[0][0])\n",
    "        \n",
    "for cand in excluded_candidates:\n",
    "    del counter[cand]\n",
    "\n",
    "print(f\"Answer 1: {counter.most_common(1)}\")\n",
    "puzzle.answer_a = counter.most_common(1)[0][1]"
   ]
  },
  {
   "cell_type": "markdown",
   "metadata": {},
   "source": [
    "__Part 2__"
   ]
  },
  {
   "cell_type": "code",
   "execution_count": null,
   "metadata": {},
   "outputs": [],
   "source": [
    "region_size = 0\n",
    "\n",
    "for x_idx in range(min_x, max_x + 1):\n",
    "    for y_idx in range(min_y, max_y + 1):\n",
    "        score = 0\n",
    "        for p_idx in range(nb_points):\n",
    "            score += distance(points[p_idx], [x_idx, y_idx])\n",
    "            \n",
    "        if score < 10000:\n",
    "            region_size += 1\n",
    "\n",
    "print(f\"Answer 2: {region_size}\")\n",
    "puzzle.answer_b = region_size"
   ]
  },
  {
   "cell_type": "markdown",
   "metadata": {},
   "source": [
    "## Day 7\n",
    "\n",
    "http://adventofcode.com/2018/day/7"
   ]
  },
  {
   "cell_type": "code",
   "execution_count": null,
   "metadata": {},
   "outputs": [],
   "source": [
    "puzzle = Puzzle(year=2018, day=7)"
   ]
  },
  {
   "cell_type": "markdown",
   "metadata": {},
   "source": [
    "__Part 1__"
   ]
  },
  {
   "cell_type": "markdown",
   "metadata": {},
   "source": [
    "__Part 2__"
   ]
  },
  {
   "cell_type": "markdown",
   "metadata": {},
   "source": [
    "## Day 8\n",
    "\n",
    "http://adventofcode.com/2019/day/8"
   ]
  },
  {
   "cell_type": "code",
   "execution_count": null,
   "metadata": {},
   "outputs": [],
   "source": [
    "puzzle = Puzzle(year=2018, day=8)"
   ]
  },
  {
   "cell_type": "markdown",
   "metadata": {},
   "source": [
    "__Part 1__"
   ]
  },
  {
   "cell_type": "markdown",
   "metadata": {},
   "source": [
    "__Part 2__"
   ]
  },
  {
   "cell_type": "markdown",
   "metadata": {},
   "source": [
    "## Day 9\n",
    "\n",
    "http://adventofcode.com/2018/day/9"
   ]
  },
  {
   "cell_type": "code",
   "execution_count": null,
   "metadata": {},
   "outputs": [],
   "source": [
    "puzzle = Puzzle(year=2018, day=9)"
   ]
  },
  {
   "cell_type": "markdown",
   "metadata": {},
   "source": [
    "__Part 1__"
   ]
  },
  {
   "cell_type": "markdown",
   "metadata": {},
   "source": [
    "__Part 2__"
   ]
  },
  {
   "cell_type": "markdown",
   "metadata": {},
   "source": [
    "## Day 10\n",
    "\n",
    "http://adventofcode.com/2018/day/10"
   ]
  },
  {
   "cell_type": "code",
   "execution_count": null,
   "metadata": {},
   "outputs": [],
   "source": [
    "puzzle = Puzzle(year=2018, day=10)"
   ]
  },
  {
   "cell_type": "markdown",
   "metadata": {},
   "source": [
    "__Part 1__"
   ]
  },
  {
   "cell_type": "markdown",
   "metadata": {},
   "source": [
    "__Part 2__"
   ]
  },
  {
   "cell_type": "markdown",
   "metadata": {},
   "source": [
    "## Day 11\n",
    "\n",
    "http://adventofcode.com/2018/day/11"
   ]
  },
  {
   "cell_type": "code",
   "execution_count": null,
   "metadata": {},
   "outputs": [],
   "source": [
    "puzzle = Puzzle(year=2018, day=11)"
   ]
  },
  {
   "cell_type": "markdown",
   "metadata": {},
   "source": [
    "__Part 1__"
   ]
  },
  {
   "cell_type": "markdown",
   "metadata": {},
   "source": [
    "__Part 2__"
   ]
  },
  {
   "cell_type": "markdown",
   "metadata": {},
   "source": [
    "## Day 12\n",
    "\n",
    "http://adventofcode.com/2018/day/12"
   ]
  },
  {
   "cell_type": "code",
   "execution_count": null,
   "metadata": {},
   "outputs": [],
   "source": [
    "puzzle = Puzzle(year=2018, day=12)"
   ]
  },
  {
   "cell_type": "markdown",
   "metadata": {},
   "source": [
    "__Part 1__"
   ]
  },
  {
   "cell_type": "markdown",
   "metadata": {},
   "source": [
    "__Part 2__"
   ]
  },
  {
   "cell_type": "markdown",
   "metadata": {},
   "source": [
    "## Day 13\n",
    "\n",
    "http://adventofcode.com/2018/day/13"
   ]
  },
  {
   "cell_type": "code",
   "execution_count": null,
   "metadata": {},
   "outputs": [],
   "source": [
    "puzzle = Puzzle(year=2018, day=13)"
   ]
  },
  {
   "cell_type": "markdown",
   "metadata": {},
   "source": [
    "__Part 1__"
   ]
  },
  {
   "cell_type": "markdown",
   "metadata": {},
   "source": [
    "__Part 2__"
   ]
  },
  {
   "cell_type": "markdown",
   "metadata": {},
   "source": [
    "## Day 14\n",
    "\n",
    "http://adventofcode.com/2018/day/14"
   ]
  },
  {
   "cell_type": "code",
   "execution_count": null,
   "metadata": {},
   "outputs": [],
   "source": [
    "puzzle = Puzzle(year=2018, day=14)"
   ]
  },
  {
   "cell_type": "markdown",
   "metadata": {},
   "source": [
    "__Part 1__"
   ]
  },
  {
   "cell_type": "markdown",
   "metadata": {},
   "source": [
    "__Part 2__"
   ]
  },
  {
   "cell_type": "markdown",
   "metadata": {},
   "source": [
    "## Day 15\n",
    "\n",
    "http://adventofcode.com/2018/day/15"
   ]
  },
  {
   "cell_type": "code",
   "execution_count": null,
   "metadata": {},
   "outputs": [],
   "source": [
    "puzzle = Puzzle(year=2018, day=15)"
   ]
  },
  {
   "cell_type": "markdown",
   "metadata": {},
   "source": [
    "__Part 1__"
   ]
  },
  {
   "cell_type": "markdown",
   "metadata": {},
   "source": [
    "__Part 2__"
   ]
  },
  {
   "cell_type": "markdown",
   "metadata": {},
   "source": [
    "## Day 16\n",
    "\n",
    "http://adventofcode.com/2018/day/16"
   ]
  },
  {
   "cell_type": "code",
   "execution_count": null,
   "metadata": {},
   "outputs": [],
   "source": [
    "puzzle = Puzzle(year=2018, day=16)"
   ]
  },
  {
   "cell_type": "markdown",
   "metadata": {},
   "source": [
    "__Part 1__"
   ]
  },
  {
   "cell_type": "markdown",
   "metadata": {},
   "source": [
    "__Part 2__"
   ]
  },
  {
   "cell_type": "markdown",
   "metadata": {},
   "source": [
    "## Day 17\n",
    "\n",
    "http://adventofcode.com/2018/day/17"
   ]
  },
  {
   "cell_type": "code",
   "execution_count": null,
   "metadata": {},
   "outputs": [],
   "source": [
    "puzzle = Puzzle(year=2018, day=17)"
   ]
  },
  {
   "cell_type": "markdown",
   "metadata": {},
   "source": [
    "__Part 1__"
   ]
  },
  {
   "cell_type": "markdown",
   "metadata": {},
   "source": [
    "__Part 2__"
   ]
  },
  {
   "cell_type": "markdown",
   "metadata": {},
   "source": [
    "## Day 18\n",
    "\n",
    "http://adventofcode.com/2018/day/18"
   ]
  },
  {
   "cell_type": "code",
   "execution_count": null,
   "metadata": {},
   "outputs": [],
   "source": [
    "puzzle = Puzzle(year=2018, day=18)"
   ]
  },
  {
   "cell_type": "markdown",
   "metadata": {},
   "source": [
    "__Part 1__"
   ]
  },
  {
   "cell_type": "markdown",
   "metadata": {},
   "source": [
    "__Part 2__"
   ]
  },
  {
   "cell_type": "markdown",
   "metadata": {},
   "source": [
    "## Day 19\n",
    "\n",
    "http://adventofcode.com/2018/day/19"
   ]
  },
  {
   "cell_type": "code",
   "execution_count": null,
   "metadata": {},
   "outputs": [],
   "source": [
    "puzzle = Puzzle(year=2018, day=19)"
   ]
  },
  {
   "cell_type": "markdown",
   "metadata": {},
   "source": [
    "__Part 1__"
   ]
  },
  {
   "cell_type": "markdown",
   "metadata": {},
   "source": [
    "__Part 2__"
   ]
  },
  {
   "cell_type": "markdown",
   "metadata": {},
   "source": [
    "## Day 20\n",
    "\n",
    "http://adventofcode.com/2018/day/20"
   ]
  },
  {
   "cell_type": "code",
   "execution_count": null,
   "metadata": {},
   "outputs": [],
   "source": [
    "puzzle = Puzzle(year=2018, day=20)"
   ]
  },
  {
   "cell_type": "markdown",
   "metadata": {},
   "source": [
    "__Part 1__"
   ]
  },
  {
   "cell_type": "markdown",
   "metadata": {},
   "source": [
    "__Part 2__"
   ]
  },
  {
   "cell_type": "markdown",
   "metadata": {},
   "source": [
    "## Day 21\n",
    "\n",
    "http://adventofcode.com/2018/day/21"
   ]
  },
  {
   "cell_type": "code",
   "execution_count": null,
   "metadata": {},
   "outputs": [],
   "source": [
    "puzzle = Puzzle(year=2018, day=21)"
   ]
  },
  {
   "cell_type": "markdown",
   "metadata": {},
   "source": [
    "__Part 1__"
   ]
  },
  {
   "cell_type": "markdown",
   "metadata": {},
   "source": [
    "__Part 2__"
   ]
  },
  {
   "cell_type": "markdown",
   "metadata": {},
   "source": [
    "## Day 22\n",
    "\n",
    "http://adventofcode.com/2018/day/22"
   ]
  },
  {
   "cell_type": "code",
   "execution_count": null,
   "metadata": {},
   "outputs": [],
   "source": [
    "puzzle = Puzzle(year=2018, day=22)"
   ]
  },
  {
   "cell_type": "markdown",
   "metadata": {},
   "source": [
    "__Part 1__"
   ]
  },
  {
   "cell_type": "markdown",
   "metadata": {},
   "source": [
    "__Part 2__"
   ]
  },
  {
   "cell_type": "markdown",
   "metadata": {},
   "source": [
    "## Day 23\n",
    "\n",
    "http://adventofcode.com/2018/day/23"
   ]
  },
  {
   "cell_type": "code",
   "execution_count": null,
   "metadata": {},
   "outputs": [],
   "source": [
    "puzzle = Puzzle(year=2018, day=23)"
   ]
  },
  {
   "cell_type": "markdown",
   "metadata": {},
   "source": [
    "__Part 1__"
   ]
  },
  {
   "cell_type": "markdown",
   "metadata": {},
   "source": [
    "__Part 2__"
   ]
  },
  {
   "cell_type": "markdown",
   "metadata": {},
   "source": [
    "## Day 24\n",
    "\n",
    "http://adventofcode.com/2018/day/24"
   ]
  },
  {
   "cell_type": "code",
   "execution_count": null,
   "metadata": {},
   "outputs": [],
   "source": [
    "puzzle = Puzzle(year=2018, day=24)"
   ]
  },
  {
   "cell_type": "markdown",
   "metadata": {},
   "source": [
    "__Part 1__"
   ]
  },
  {
   "cell_type": "markdown",
   "metadata": {},
   "source": [
    "__Part 2__"
   ]
  },
  {
   "cell_type": "markdown",
   "metadata": {},
   "source": [
    "## Day 25\n",
    "\n",
    "http://adventofcode.com/2018/day/25"
   ]
  },
  {
   "cell_type": "code",
   "execution_count": null,
   "metadata": {},
   "outputs": [],
   "source": [
    "puzzle = Puzzle(year=2018, day=25)"
   ]
  },
  {
   "cell_type": "markdown",
   "metadata": {},
   "source": [
    "__Part 1__"
   ]
  },
  {
   "cell_type": "markdown",
   "metadata": {},
   "source": [
    "__Part 2__"
   ]
  }
 ],
 "metadata": {
  "language_info": {
   "name": "python",
   "pygments_lexer": "ipython3"
  }
 },
 "nbformat": 4,
 "nbformat_minor": 2
}
