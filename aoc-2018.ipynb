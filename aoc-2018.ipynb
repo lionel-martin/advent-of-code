{
 "cells": [
  {
   "cell_type": "code",
   "execution_count": null,
   "metadata": {},
   "outputs": [],
   "source": [
    "import copy\n",
    "import itertools\n",
    "import functools\n",
    "import collections\n",
    "import operator\n",
    "import sys\n",
    "import re\n",
    "import numpy as np\n",
    "import math"
   ]
  },
  {
   "cell_type": "code",
   "execution_count": null,
   "metadata": {},
   "outputs": [],
   "source": [
    "from helpers.functions import *"
   ]
  },
  {
   "cell_type": "markdown",
   "metadata": {},
   "source": [
    "Configuration"
   ]
  },
  {
   "cell_type": "code",
   "execution_count": null,
   "metadata": {},
   "outputs": [],
   "source": [
    "DIR = \"data/2018/\"\n",
    "load_day = functools.partial(load, DIR)"
   ]
  },
  {
   "cell_type": "markdown",
   "metadata": {},
   "source": [
    "# Problems"
   ]
  },
  {
   "cell_type": "markdown",
   "metadata": {},
   "source": [
    "## Day 6\n",
    "\n",
    "http://adventofcode.com/2018/day/6"
   ]
  },
  {
   "cell_type": "code",
   "execution_count": null,
   "metadata": {},
   "outputs": [],
   "source": [
    "content = load_day(6)\n",
    "\n",
    "points = list(map(lambda line: list(map(int, line.split(','))), content))\n",
    "# points = [[1, 1], [1, 6], [8, 3], [3, 4], [5, 5], [8, 9]]  # Example\n",
    "\n",
    "min_x = min(map(lambda p: p[0], points))\n",
    "min_y = min(map(lambda p: p[1], points))\n",
    "max_x = max(map(lambda p: p[0], points))\n",
    "max_y = max(map(lambda p: p[1], points))\n",
    "\n",
    "nb_points = len(points)\n",
    "\n",
    "# points = list(map(lambda p: [p[0] - min_x, p[1] - min_y], points))\n",
    "# max_x -= min_x\n",
    "# max_y -= min_y\n",
    "# min_x = min_y = 0"
   ]
  },
  {
   "cell_type": "markdown",
   "metadata": {},
   "source": [
    "__Part 1__"
   ]
  },
  {
   "cell_type": "code",
   "execution_count": null,
   "metadata": {},
   "outputs": [],
   "source": [
    "def distance(from_point, to_point):\n",
    "    return abs(from_point[0] - to_point[0]) + abs(from_point[1] - to_point[1])"
   ]
  },
  {
   "cell_type": "code",
   "execution_count": null,
   "metadata": {},
   "outputs": [],
   "source": [
    "def store_grid():\n",
    "    grid_lines = []\n",
    "    for x_idx in range(min_x, max_x + 1):\n",
    "        line = \"\"\n",
    "        for y_idx in range(min_y, max_y + 1):\n",
    "            if len(attribution[x_idx - min_x][y_idx - min_y][1]) == 1:\n",
    "                ref = \"A\" if attribution[x_idx - min_x][y_idx - min_y][0] == 0 else \"a\"\n",
    "                line += chr(ord(ref) + attribution[x_idx - min_x][y_idx - min_y][1][0])\n",
    "            else:\n",
    "                line += '.'\n",
    "        grid_lines += [line]\n",
    "    return grid_lines\n",
    "\n",
    "def display_grid(lines=None):\n",
    "    if lines is None:\n",
    "        lines = store_grid()\n",
    "\n",
    "    for line in lines:\n",
    "        print(line)"
   ]
  },
  {
   "cell_type": "code",
   "execution_count": null,
   "metadata": {},
   "outputs": [],
   "source": [
    "# Version 1\n",
    "attribution = []\n",
    "\n",
    "for x_idx in range(min_x, max_x + 1):\n",
    "    row = []\n",
    "    for y_idx in range(min_y, max_y + 1):\n",
    "        elem = []\n",
    "        for p_idx in range(nb_points):\n",
    "            d = distance(points[p_idx], [x_idx, y_idx])\n",
    "            if not elem or d < elem[0]:\n",
    "                elem = [d, [p_idx]]\n",
    "            elif d == elem[0]:\n",
    "                elem = [d, elem[1] + [p_idx]]\n",
    "        row += [elem]\n",
    "    attribution += [row]\n",
    "\n",
    "grid_lines = store_grid()\n",
    "borders = grid_lines[0] + grid_lines[-1] + ''.join(map(lambda x: x[0], grid_lines)) + ''.join(map(lambda x: x[-1], grid_lines))\n",
    "excluded_candidates = set(x for x in borders.lower())\n",
    "\n",
    "counter = collections.Counter([y.lower() for x in grid_lines for y in x])\n",
    "\n",
    "for candidate in excluded_candidates:\n",
    "    del counter[candidate]\n",
    "\n",
    "print(f\"Answer 1: {counter.most_common(1)}\")\n",
    "\n",
    "# display_grid(lines=grid_lines)"
   ]
  },
  {
   "cell_type": "code",
   "execution_count": null,
   "metadata": {},
   "outputs": [],
   "source": [
    "# Version 2\n",
    "counter = collections.Counter()\n",
    "excluded_candidates = set()\n",
    "\n",
    "for x_idx in range(min_x, max_x + 1):\n",
    "    for y_idx in range(min_y, max_y + 1):\n",
    "        scores = []\n",
    "        for p_idx in range(nb_points):\n",
    "            scores += [distance(points[p_idx], [x_idx, y_idx])]\n",
    "\n",
    "        scores = np.array(scores)\n",
    "        candidates = np.argwhere(scores == scores.min())\n",
    "        \n",
    "        if candidates.size == 1:\n",
    "            counter[candidates[0][0]] += 1\n",
    "\n",
    "            if x_idx in [min_x, max_x] or y_idx in [min_y, max_y]:\n",
    "                excluded_candidates.add(candidates[0][0])\n",
    "        \n",
    "for cand in excluded_candidates:\n",
    "    del counter[cand]\n",
    "\n",
    "print(f\"Answer 1: {counter.most_common(1)}\")"
   ]
  },
  {
   "cell_type": "markdown",
   "metadata": {},
   "source": [
    "__Part 2__"
   ]
  },
  {
   "cell_type": "code",
   "execution_count": null,
   "metadata": {},
   "outputs": [],
   "source": [
    "region_size = 0\n",
    "\n",
    "for x_idx in range(min_x, max_x + 1):\n",
    "    for y_idx in range(min_y, max_y + 1):\n",
    "        score = 0\n",
    "        for p_idx in range(nb_points):\n",
    "            score += distance(points[p_idx], [x_idx, y_idx])\n",
    "            \n",
    "        if score < 10000:\n",
    "            region_size += 1\n",
    "\n",
    "print(f\"Answer 2: {region_size}\")"
   ]
  },
  {
   "cell_type": "markdown",
   "metadata": {},
   "source": [
    "## Day 7\n",
    "\n",
    "http://adventofcode.com/2018/day/7"
   ]
  },
  {
   "cell_type": "code",
   "execution_count": null,
   "metadata": {},
   "outputs": [],
   "source": [
    "content = load_day(7)"
   ]
  },
  {
   "cell_type": "markdown",
   "metadata": {},
   "source": [
    "__Part 1__"
   ]
  },
  {
   "cell_type": "markdown",
   "metadata": {},
   "source": [
    "__Part 2__"
   ]
  },
  {
   "cell_type": "markdown",
   "metadata": {},
   "source": [
    "## Day 8\n",
    "\n",
    "http://adventofcode.com/2019/day/8"
   ]
  },
  {
   "cell_type": "code",
   "execution_count": null,
   "metadata": {},
   "outputs": [],
   "source": [
    "content = load_day(8)"
   ]
  },
  {
   "cell_type": "markdown",
   "metadata": {},
   "source": [
    "__Part 1__"
   ]
  },
  {
   "cell_type": "markdown",
   "metadata": {},
   "source": [
    "__Part 2__"
   ]
  }
 ],
 "metadata": {
  "language_info": {
   "name": "python",
   "pygments_lexer": "ipython3"
  }
 },
 "nbformat": 4,
 "nbformat_minor": 2
}
